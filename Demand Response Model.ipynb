{
 "cells": [
  {
   "cell_type": "code",
   "execution_count": 3,
   "metadata": {},
   "outputs": [
    {
     "name": "stderr",
     "output_type": "stream",
     "text": [
      "\u001b[32m\u001b[1m  Activating\u001b[22m\u001b[39m project at `~/Documents/GitHub/AMO-Single-Project`\n"
     ]
    }
   ],
   "source": [
    "using Pkg\n",
    "Pkg.activate(\".\"); Pkg.instantiate()"
   ]
  },
  {
   "cell_type": "code",
   "execution_count": 4,
   "metadata": {},
   "outputs": [
    {
     "name": "stderr",
     "output_type": "stream",
     "text": [
      "\u001b[32m\u001b[1m    Updating\u001b[22m\u001b[39m registry at `~/.julia/registries/General.toml`\n",
      "\u001b[32m\u001b[1m   Resolving\u001b[22m\u001b[39m package versions...\n",
      "\u001b[32m\u001b[1m  No Changes\u001b[22m\u001b[39m to `~/Documents/GitHub/AMO-Single-Project/Project.toml`\n",
      "\u001b[32m\u001b[1m  No Changes\u001b[22m\u001b[39m to `~/Documents/GitHub/AMO-Single-Project/Manifest.toml`\n",
      "\u001b[32m\u001b[1m   Resolving\u001b[22m\u001b[39m package versions...\n",
      "\u001b[32m\u001b[1m  No Changes\u001b[22m\u001b[39m to `~/Documents/GitHub/AMO-Single-Project/Project.toml`\n",
      "\u001b[32m\u001b[1m  No Changes\u001b[22m\u001b[39m to `~/Documents/GitHub/AMO-Single-Project/Manifest.toml`\n",
      "\u001b[32m\u001b[1m   Resolving\u001b[22m\u001b[39m package versions...\n",
      "\u001b[32m\u001b[1m  No Changes\u001b[22m\u001b[39m to `~/Documents/GitHub/AMO-Single-Project/Project.toml`\n",
      "\u001b[32m\u001b[1m  No Changes\u001b[22m\u001b[39m to `~/Documents/GitHub/AMO-Single-Project/Manifest.toml`\n",
      "\u001b[32m\u001b[1m   Resolving\u001b[22m\u001b[39m package versions...\n",
      "\u001b[32m\u001b[1m  No Changes\u001b[22m\u001b[39m to `~/Documents/GitHub/AMO-Single-Project/Project.toml`\n",
      "\u001b[32m\u001b[1m  No Changes\u001b[22m\u001b[39m to `~/Documents/GitHub/AMO-Single-Project/Manifest.toml`\n",
      "\u001b[32m\u001b[1m   Resolving\u001b[22m\u001b[39m package versions...\n",
      "\u001b[32m\u001b[1m  No Changes\u001b[22m\u001b[39m to `~/Documents/GitHub/AMO-Single-Project/Project.toml`\n",
      "\u001b[32m\u001b[1m  No Changes\u001b[22m\u001b[39m to `~/Documents/GitHub/AMO-Single-Project/Manifest.toml`\n",
      "\u001b[32m\u001b[1m   Resolving\u001b[22m\u001b[39m package versions...\n",
      "\u001b[32m\u001b[1m  No Changes\u001b[22m\u001b[39m to `~/Documents/GitHub/AMO-Single-Project/Project.toml`\n",
      "\u001b[32m\u001b[1m  No Changes\u001b[22m\u001b[39m to `~/Documents/GitHub/AMO-Single-Project/Manifest.toml`\n",
      "\u001b[32m\u001b[1m   Resolving\u001b[22m\u001b[39m package versions...\n",
      "\u001b[32m\u001b[1m  No Changes\u001b[22m\u001b[39m to `~/Documents/GitHub/AMO-Single-Project/Project.toml`\n",
      "\u001b[32m\u001b[1m  No Changes\u001b[22m\u001b[39m to `~/Documents/GitHub/AMO-Single-Project/Manifest.toml`\n",
      "\u001b[32m\u001b[1m   Resolving\u001b[22m\u001b[39m package versions...\n",
      "\u001b[32m\u001b[1m  No Changes\u001b[22m\u001b[39m to `~/Documents/GitHub/AMO-Single-Project/Project.toml`\n",
      "\u001b[32m\u001b[1m  No Changes\u001b[22m\u001b[39m to `~/Documents/GitHub/AMO-Single-Project/Manifest.toml`\n",
      "\u001b[32m\u001b[1m   Resolving\u001b[22m\u001b[39m package versions...\n",
      "\u001b[32m\u001b[1m  No Changes\u001b[22m\u001b[39m to `~/Documents/GitHub/AMO-Single-Project/Project.toml`\n",
      "\u001b[32m\u001b[1m  No Changes\u001b[22m\u001b[39m to `~/Documents/GitHub/AMO-Single-Project/Manifest.toml`\n",
      "\u001b[32m\u001b[1m   Resolving\u001b[22m\u001b[39m package versions...\n",
      "\u001b[32m\u001b[1m  No Changes\u001b[22m\u001b[39m to `~/Documents/GitHub/AMO-Single-Project/Project.toml`\n",
      "\u001b[32m\u001b[1m  No Changes\u001b[22m\u001b[39m to `~/Documents/GitHub/AMO-Single-Project/Manifest.toml`\n"
     ]
    }
   ],
   "source": [
    "#import Pkg\n",
    "Pkg.add(\"AxisArrays\")\n",
    "Pkg.add(\"JuMP\")\n",
    "Pkg.add(\"XLSX\")\n",
    "Pkg.add(\"DataFrames\")\n",
    "Pkg.add(\"Plots\")\n",
    "Pkg.add(\"AxisArrays\")\n",
    "Pkg.add(\"Statistics\")\n",
    "Pkg.add(\"PGFPlotsX\")\n",
    "Pkg.add(\"AxisArrays\")\n",
    "Pkg.add(\"CPLEX\")"
   ]
  },
  {
   "cell_type": "code",
   "execution_count": 5,
   "metadata": {},
   "outputs": [
    {
     "name": "stderr",
     "output_type": "stream",
     "text": [
      "\u001b[36m\u001b[1m[ \u001b[22m\u001b[39m\u001b[36m\u001b[1mInfo: \u001b[22m\u001b[39mPrecompiling Plots [91a5bcdd-55d7-5caf-9e0b-520d859cae80]\n"
     ]
    }
   ],
   "source": [
    "using JuMP, XLSX, DataFrames, Plots, AxisArrays, Statistics, PGFPlotsX, CPLEX"
   ]
  },
  {
   "cell_type": "markdown",
   "metadata": {},
   "source": []
  },
  {
   "cell_type": "code",
   "execution_count": 6,
   "metadata": {},
   "outputs": [
    {
     "data": {
      "text/plain": [
       "Plots.PGFPlotsXBackend()"
      ]
     },
     "execution_count": 6,
     "metadata": {},
     "output_type": "execute_result"
    }
   ],
   "source": [
    "pgfplotsx()"
   ]
  },
  {
   "attachments": {},
   "cell_type": "markdown",
   "metadata": {},
   "source": [
    "# Data\n",
    "Read in data."
   ]
  },
  {
   "cell_type": "markdown",
   "metadata": {},
   "source": [
    "xl = XLSX.readxlsx(\"C2_Bilevel_Demand_Response.xlsx\") \n",
    "data = Dict()\n",
    "\n",
    "for s in XLSX.sheetnames(xl)\n",
    "    data[s] = DataFrame(XLSX.gettable(xl[s]; infer_eltypes=true))\n",
    "end"
   ]
  },
  {
   "cell_type": "markdown",
   "metadata": {},
   "source": [
    "Define sets and cardinalities from data."
   ]
  },
  {
   "cell_type": "markdown",
   "metadata": {},
   "source": [
    "G = data[\"unitinfo\"][:, :ID]\n",
    "L = data[\"lineinfo\"][:, :ID]\n",
    "T = data[\"load\"][:, :t]\n",
    "N = data[\"nodeinfo\"][:, :ID]\n",
    "S = unique(data[\"scenarios\"][:, :major])\n",
    "K = unique(data[\"DRCinfo\"][:, :k])\n",
    "\n",
    "NG = length(G)\n",
    "NL = length(L)\n",
    "NT = length(T)\n",
    "NN = length(N)\n",
    "NS = length(S)\n",
    "NK = length(K)"
   ]
  },
  {
   "attachments": {},
   "cell_type": "markdown",
   "metadata": {},
   "source": [
    "# Workshop Test"
   ]
  },
  {
   "cell_type": "markdown",
   "metadata": {},
   "source": [
    "#Generator (unit) data.\n",
    "gd = Dict(c => AxisArray(data[\"unitinfo\"][:, c], g=G) for c in names(data[\"unitinfo\"]));\n",
    "\n",
    "#Line data\n",
    "ld = Dict(c => AxisArray(data[\"lineinfo\"][:, c], l=L) for c in names(data[\"lineinfo\"]));\n",
    "\n",
    "B = AxisArray(zeros(NL, NN), l=L, n=N)\n",
    "for l in L \n",
    "    for (idn, n) in enumerate(N)\n",
    "        if ld[\"from\"][l] == idn\n",
    "            B[l, n] = -1/ld[\"X\"][l]\n",
    "        elseif ld[\"to\"][l] == idn\n",
    "            B[l, n] = 1/ld[\"X\"][l]\n",
    "        end\n",
    "    end\n",
    "end\n",
    "\n",
    "#Load data \n",
    "load = AxisArray(Matrix(data[\"load\"][:, Not(:t)]), t=T, n=N);\n",
    "cost_ls = 100.0\n",
    "\n",
    "#Wind Scenarios.\n",
    "wind_cap = AxisArray(zeros(NN), n=N)\n",
    "wind_cap[\"n6\"] = 20.0\n",
    "\n",
    "pi = AxisArray(ones(NS)/NS, s=S)\n",
    "\n",
    "wind = AxisArray(zeros(NS, NN, NT), s=S, n=N, t=T)\n",
    "for r in eachrow(data[\"scenarios\"])\n",
    "    for t in T\n",
    "        wind[r[:major], r[:minor], t] = r[t]*wind_cap[r[:minor]]\n",
    "    end\n",
    "end\n",
    "\n",
    "ewind = mean(wind, dims=1)[1, :, :]\n",
    "stdwind = std(wind, dims=1)[1, :, :]\n",
    "cost_ws = 20.0\n",
    "\n",
    "#DRCinfo\n",
    "cols = names(data[\"DRCinfo\"][:, Not([\"t\", \"n\", \"k\"])])\n",
    "\n",
    "DRCd = Dict(c => AxisArray(zeros(NT, NN, NK), t=T, n=N, k=K) for c in cols)\n",
    "\n",
    "for r in eachrow(data[\"DRCinfo\"])\n",
    "    for c in cols\n",
    "        DRCd[c][r[:t], r[:n], r[:k]] = r[c]\n",
    "    end\n",
    "end\n",
    "\n",
    "#DRSinfo\n",
    "cols = names(data[\"DRSinfo\"][:, Not([\"t\", \"n\", \"k\"])])\n",
    "\n",
    "DRSd = Dict(c => AxisArray(zeros(NT, NN, NK), t=T, n=N, k=K) for c in cols)\n",
    "\n",
    "for r in eachrow(data[\"DRSinfo\"])\n",
    "    for c in cols\n",
    "        DRSd[c][r[:t], r[:n], r[:k]] = r[c]\n",
    "    end\n",
    "end\n",
    "\n",
    "max_rec = 2.0\n",
    "\n",
    "#Node info\n",
    "ng = AxisArray(\n",
    "    [[g for g in G if gd[\"origin\"][g] == idn] for (idn, n) in enumerate(N)],\n",
    "    n = N\n",
    ")\n",
    "\n",
    "nl = AxisArray(zeros(Int, NN, NL), n=N, l=L)\n",
    "for l in L\n",
    "    nl[N[ld[\"from\"][l]], l] = 1\n",
    "    nl[N[ld[\"to\"][l]], l] = -1\n",
    "end\n"
   ]
  },
  {
   "attachments": {},
   "cell_type": "markdown",
   "metadata": {},
   "source": [
    "# Read In And Prepare Data "
   ]
  },
  {
   "cell_type": "code",
   "execution_count": 7,
   "metadata": {},
   "outputs": [
    {
     "name": "stdout",
     "output_type": "stream",
     "text": [
      "data read in ready"
     ]
    }
   ],
   "source": [
    "xl = XLSX.readxlsx(\"data/curtailmentinfo.xlsx\")\n",
    "data_lina = Dict{String, DataFrame}()\n",
    "data_lina[\"curtailmentinfo\"] = DataFrame(XLSX.gettable(xl[\"curtailmentinfo\"]; infer_eltypes=true))\n",
    "\n",
    "xl = XLSX.readxlsx(\"data/generatorinfo.xlsx\")\n",
    "#generatorinfo = XLSX.sheetnames(xl)\n",
    "data_lina[\"generatorinfo\"] = DataFrame(XLSX.gettable(xl[\"generatorinfo\"]; infer_eltypes=true))\n",
    "\n",
    "xl = XLSX.readxlsx(\"data/initdemand.xlsx\")\n",
    "initdemand = XLSX.sheetnames(xl)\n",
    "data_lina[\"initdemand\"] = DataFrame(XLSX.gettable(xl[\"initdemand\"]; infer_eltypes=true))\n",
    "\n",
    "xl = XLSX.readxlsx(\"data/lineconstraints.xlsx\")\n",
    "#linecontraints = XLSX.sheetnames(xl)\n",
    "data_lina[\"lineconstraints\"] = DataFrame(XLSX.gettable(xl[\"lineconstraints\"]; infer_eltypes=true))\n",
    "\n",
    "xl = XLSX.readxlsx(\"data/nodeinfo.xlsx\")\n",
    "nodeinfo = XLSX.sheetnames(xl)\n",
    "data_lina[\"nodeinfo\"] = DataFrame(XLSX.gettable(xl[\"nodeinfo\"]; infer_eltypes=true))\n",
    "\n",
    "xl = XLSX.readxlsx(\"data/shiftinginfo.xlsx\")\n",
    "shiftinginfo = XLSX.sheetnames(xl)\n",
    "data_lina[\"shiftinginfo\"] = DataFrame(XLSX.gettable(xl[\"shiftinginfo\"]; infer_eltypes=true))\n",
    "\n",
    "xl = XLSX.readxlsx(\"data/windfarminfo.xlsx\")\n",
    "windfarminfo = XLSX.sheetnames(xl)\n",
    "data_lina[\"windfarminfo\"] = DataFrame(XLSX.gettable(xl[\"windfarminfo\"]; infer_eltypes=true))\n",
    "\n",
    "xl = XLSX.readxlsx(\"data/windscenarios.xlsx\")\n",
    "windscenarios = XLSX.sheetnames(xl)\n",
    "data_lina[\"windscenarios\"] = DataFrame(XLSX.gettable(xl[\"windscenarios\"]; infer_eltypes=true))\n",
    "print(\"data read in ready\")"
   ]
  },
  {
   "attachments": {},
   "cell_type": "markdown",
   "metadata": {},
   "source": [
    "### Set generation"
   ]
  },
  {
   "cell_type": "code",
   "execution_count": 8,
   "metadata": {},
   "outputs": [
    {
     "data": {
      "text/plain": [
       "3"
      ]
     },
     "execution_count": 8,
     "metadata": {},
     "output_type": "execute_result"
    }
   ],
   "source": [
    "G = data_lina[\"generatorinfo\"][:, :ID]\n",
    "L = data_lina[\"lineconstraints\"][:, :ID]\n",
    "T = data_lina[\"initdemand\"][:, :t]          #times\n",
    "N = data_lina[\"nodeinfo\"][:, :ID]\n",
    "S = unique(data_lina[\"windscenarios\"][:, :node])\n",
    "K = unique(data_lina[\"curtailmentinfo\"][:, :k])\n",
    "\n",
    "NG = length(G)\n",
    "NL = length(L)\n",
    "NT = length(T)\n",
    "NN = length(N)\n",
    "NS = length(S)\n",
    "NK = length(K)"
   ]
  },
  {
   "cell_type": "code",
   "execution_count": 9,
   "metadata": {},
   "outputs": [],
   "source": [
    "#generatorinfo\n",
    "gd = Dict()\n",
    "for c in names(data_lina[\"generatorinfo\"])\n",
    "    arr = AxisArray(data_lina[\"generatorinfo\"][:, c], g=G)\n",
    "    gd[c] = arr\n",
    "end\n",
    "\n",
    "#lineconstraints\n",
    "ld = Dict(c => AxisArray(data_lina[\"lineconstraints\"][:, c], l=L) for c in names(data_lina[\"lineconstraints\"]));\n",
    "\n",
    "B = AxisArray(zeros(NL, NN), l=L, n=N)\n",
    "for l in L\n",
    "    from_node = ld[\"from\"][l]\n",
    "    to_node = ld[\"to \"][l]\n",
    "    X = ld[\"X\"][l]\n",
    "    for (idn, node) in enumerate(N)\n",
    "        if node == from_node\n",
    "            B[l, idn] = -1/X\n",
    "        elseif node == to_node\n",
    "            B[l, idn] = 1/X\n",
    "        end\n",
    "    end\n",
    "end \n",
    "\n",
    "#initdemand\n",
    "load = AxisArray(Matrix(data_lina[\"initdemand\"][:, Not(:t)]), t=T, n=N);\n",
    "cost_ls = 100.0\n",
    "\n",
    "#shiftinginfo\n",
    "cols = names(data_lina[\"shiftinginfo\"][:, Not([\"t\", \"n\", \"k\"])])\n",
    "\n",
    "DRCd = Dict(c => AxisArray(zeros(NT, NN, NK), t=T, n=N, k=K) for c in cols)\n",
    "\n",
    "for r in eachrow(data_lina[\"shiftinginfo\"])\n",
    "    for c in cols\n",
    "        DRCd[c][r[:t], r[:n], r[:k]] = r[c]\n",
    "    end\n",
    "end\n",
    "max_rec = 2.0\n",
    "\n",
    "#curtailmentinfo\n",
    "cols = names(data_lina[\"curtailmentinfo\"][:, Not([\"t\", \"n\", \"k\"])])\n",
    "\n",
    "DRSd = Dict(c => AxisArray(zeros(NT, NN, NK), t=T, n=N, k=K) for c in cols)\n",
    "\n",
    "for r in eachrow(data_lina[\"curtailmentinfo\"])\n",
    "    for c in cols\n",
    "        DRSd[c][r[:t], r[:n], r[:k]] = r[c]\n",
    "    end\n",
    "end\n",
    "\n",
    "#location\n",
    "ng = AxisArray(\n",
    "    [[g for g in G if gd[\"location\"][g] == idn] for (idn, n) in enumerate(N)],\n",
    "    n = N\n",
    ")\n",
    "\n",
    "#node\n",
    "nl = AxisArray(zeros(Int, NN, NL), n=N, l=L)\n",
    "for l in L\n",
    "    nl[N[ld[\"from\"][l]], l] = 1\n",
    "    nl[N[ld[\"to \"][l]], l] = -1\n",
    "end"
   ]
  },
  {
   "cell_type": "markdown",
   "metadata": {},
   "source": [
    "# Model"
   ]
  },
  {
   "cell_type": "code",
   "execution_count": 19,
   "metadata": {
    "scrolled": false
   },
   "outputs": [
    {
     "ename": "UndefVarError",
     "evalue": "UndefVarError: CPLEX not defined",
     "output_type": "error",
     "traceback": [
      "UndefVarError: CPLEX not defined\n",
      "\n",
      "Stacktrace:\n",
      " [1] top-level scope\n",
      "   @ ~/Documents/Uni/AMO-Solo-Project/C2_Bilevel_Demand_Response copy.ipynb:1"
     ]
    }
   ],
   "source": [
    "bdr = Model(CPLEX.Optimizer)\n",
    "\n",
    "@variables(bdr, begin\n",
    "    pgen[G, T] >= 0 # scheduled gen. output\n",
    "    u[G, T], Bin # state of generator\n",
    "    θ0[N, T] # phase angles in scheduling phase\n",
    "    θ1[N, S, T] # phase angles in balancing phase\n",
    "    Wsc[N, T] >= 0# scheduled wind power\n",
    "    r_up[G, T] >= 0 # up regulation\n",
    "    r_down[G, T] >= 0 # down regulation\n",
    "    r_ups[S, G, T] >= 0 # actual up regulation\n",
    "    r_downs[S, G, T] >= 0 # actual down regulation \n",
    "    Lshed[S, N, T] >= 0 # load shedding\n",
    "    Wspill[S, N, T] >= 0 # wind spillage\n",
    "    suc[1:NT, G] >= 0 # generator start-up/shut-down cost\n",
    "    # DR agg <> ISO contract parameters\n",
    "    DRCK[T, N, K] >= 0 # DR curtailment blocks\n",
    "    DRSK[T, N, K] >= 0 # DR shifting blocks\n",
    "    DRC_SU[T, N, K] >= 0 # DRC startup cost\n",
    "    DRSRK[T, N, K] >= 0 # DR recovery blocks\n",
    "    uDRC[T, N, K], Bin # DR curtailment active\n",
    "    uDRS[T, N, K], Bin # DR shifting activate\n",
    "    yDR[T, N, K], Bin # DRC activated\n",
    "    zDR[T, N, K], Bin # DRC de-activated\n",
    "    uDRSR[T, N, K], Bin # DRS recovery active\n",
    "    # same for DR agg <> cust. contracts\n",
    "    DBCK[T, N, K] >= 0\n",
    "    DBSK[T, N, K] >= 0\n",
    "    DBC_SU[T, N, K] >= 0 \n",
    "    DBSRK[T, N, K] >= 0\n",
    "    uDBC[T, N, K], Bin\n",
    "    uDBS[T, N, K], Bin\n",
    "    yDB[T, N, K], Bin\n",
    "    zDB[T, N, K], Bin\n",
    "    uDBSR[T, N, K], Bin\n",
    "    # Dual multipliers/linearization variables for KKT formulation\n",
    "    A1[T,N,K] >= 0 \n",
    "    B1[T,N,K] >= 0\n",
    "    D1[T,N,K] >= 0\n",
    "    E1[T,N,K] >= 0\n",
    "    F1[T,N,K] >= 0\n",
    "    H1[T,N,K] >= 0\n",
    "    I1[T,N,K] >= 0\n",
    "    K1[T,N,K] >= 0\n",
    "    L1[T,N,K] >= 0\n",
    "    M1[T,N,K] >= 0\n",
    "end)\n",
    "\n",
    "# fix slack bus\n",
    "fix.(θ0[\"n1\", :], 0);\n",
    "fix.(θ1[\"n1\", :, :], 0);\n",
    "\n",
    "@expressions(bdr, begin\n",
    "    # DR costs/profits\n",
    "    DRC[t in T, n in N], sum(DRCd[\"cost\"][t,n,k]*DRCK[t, n, k]+DRC_SU[t,n,k] for k in K)\n",
    "    DRS[t in T, n in N], sum(DRSd[\"cost\"][t,n,k]*DRSK[t, n, k] for k in K)\n",
    "    DBC[t in T, n in N], sum(DRCd[\"costb\"][t,n,k]*DBCK[t, n, k] for k in K)\n",
    "    DBS[t in T, n in N], sum(DRSd[\"costb\"][t,n,k]*DBSK[t, n, k] for k in K)\n",
    "    pflow0[l in L, t in T], sum(B[l,n]*θ0[n,t] for n in N)\n",
    "    pflow1[l in L, s in S, t in T], sum(B[l,n]*θ1[n,s,t] for n in N)\n",
    "    totalcost, \n",
    "        sum(\n",
    "            sum(\n",
    "                pgen[g,t] * gd[\"cost\"][g] +\n",
    "                r_up[g,t] * gd[\"reserupcost\"][g] +\n",
    "                r_down[g,t] * gd[\"reserdncost\"][g] +\n",
    "                suc[findfirst(isequal(t), T),g]\n",
    "            for g in G) +\n",
    "            sum(DRC[t, n] + DRS[t, n] for n in N) +\n",
    "            sum(\n",
    "                pi[s] * (\n",
    "                    sum(gd[\"cost\"][g] * (r_ups[s,g,t]-r_downs[s,g,t]) for g in G) +\n",
    "                    sum(cost_ws * Wspill[s,n,t] + cost_ls * Lshed[s,n,t] for n in N)\n",
    "                    )\n",
    "            for s in S)\n",
    "        for t in T)\n",
    "end)\n",
    "\n",
    "@constraints(bdr, begin\n",
    "    # generator limits\n",
    "    pup[g in G, t in T], pgen[g, t] + r_up[g, t] <= gd[\"maxcap\"][g] * u[g,t]\n",
    "    pdn[g in G, t in T], pgen[g, t] - r_down[g, t] >= gd[\"mincap\"][g] * u[g,t]\n",
    "    res_up[g in G, t in T], r_up[g, t] <= gd[\"reserup\"][g]\n",
    "    res_dn[g in G, t in T], r_down[g, t] <= gd[\"reserdn\"][g]\n",
    "    startcost[g in G, τ in 1:NT], suc[τ,g] >= gd[\"startup\"][g] * (u[g,T[τ]] - u[g,T[max(τ-1,1)]]) \n",
    "    shutcost[g in G, τ in 1:NT], suc[τ,g] >= gd[\"shutdown\"][g] * (u[g,T[max(τ-1,1)]] - u[g,T[τ]])\n",
    "    rampup[g in G, τ in 2:NT], pgen[g, T[τ]] - pgen[g, T[τ-1]] <= gd[\"ramp\"][g]    \n",
    "    rampdn[g in G, τ in 2:NT], pgen[g, T[τ-1]] - pgen[g, T[τ]] <= gd[\"ramp\"][g]\n",
    "    # network flows and balance\n",
    "    bal0[n in N, t in T], \n",
    "        sum(pgen[g,t] for g in ng[n]) + \n",
    "        Wsc[n,t] + \n",
    "        sum(DRCK[t,n,k] + DRSK[t,n,k] - DRSRK[t,n,k] for k in K) == \n",
    "        load[t,n] + sum(pflow0[l, t]*nl[n,l] for l in L)\n",
    "    pfmax0[l in L, t in T], pflow0[l, t] <= ld[\"flowcap\"][l]\n",
    "    pfmin0[l in L, t in T], pflow0[l, t] >= -ld[\"flowcap\"][l]\n",
    "    # limit on wind scheduling\n",
    "    windcap[n in N, t in T], Wsc[n, t] <= ewind[n, t]\n",
    "    # DR curtailment constraints (ISO <> DR agg.)\n",
    "    drcmax[t in T, n in N, k in K], DRCK[t,n,k] <= uDRC[t,n,k] * DRCd[\"max\"][t,n,k]\n",
    "    drcmin[t in T, n in N, k in K], DRCK[t,n,k] >= uDRC[t,n,k] * DRCd[\"min\"][t,n,k]\n",
    "    drcst1[τ in 2:NT, n in N, k in K], yDR[T[τ],n,k] - zDR[T[τ],n,k] == uDRC[T[τ],n,k] - uDRC[T[τ-1],n,k]\n",
    "    drcst2[t in T, n in N, k in K], yDR[t,n,k] + zDR[t,n,k] <= 1\n",
    "    drcst3[t in T, n in N, k in K], DRC_SU[t,n,k] >= DRCd[\"SUC\"][t,n,k] * yDR[t,n,k]\n",
    "    # DR shifting constraints (ISO <> DR agg.)\n",
    "    drsmax[t in T, n in N, k in K], DRSK[t,n,k] <= uDRS[t,n,k] * DRSd[\"max\"][t,n,k]\n",
    "    drsmin[t in T, n in N, k in K], DRSK[t,n,k] >= uDRS[t,n,k] * DRSd[\"min\"][t,n,k]\n",
    "    drsmxr[t in T, n in N, k in K], DRSRK[t,n,k] <= max_rec*uDRSR[t,n,k]\n",
    "    drsorr[t in T, n in N, k in K], uDRS[t,n,k] + uDRSR[t,n,k] <= 1\n",
    "    drbbal[n in N, k in K], sum(DRSRK[t,n,k] for t in T) == sum(DRSK[t,n,k] for t in T)\n",
    "    # DR curt. cons (DR agg. <> cust.)\n",
    "    dbcmax[t in T, n in N, k in K], DBCK[t,n,k] <= uDRC[t,n,k] * DRCd[\"max\"][t,n,k]\n",
    "    dbcmin[t in T, n in N, k in K], DBCK[t,n,k] >= uDRC[t,n,k] * DRCd[\"min\"][t,n,k]\n",
    "    dbcst1[τ in 2:NT, n in N, k in K], yDB[T[τ],n,k] - zDB[T[τ],n,k] == uDBC[T[τ],n,k] - uDBC[T[τ-1],n,k]\n",
    "    dbcst2[t in T, n in N, k in K], yDB[t,n,k] + zDB[t,n,k] <= 1\n",
    "    dbcst3[t in T, n in N, k in K], DBC_SU[t,n,k] >= DRCd[\"SUCb\"][t,n,k] * yDB[t,n,k]\n",
    "    # DR shift. cons (DR agg. <> cust.)\n",
    "    dbsmax[t in T, n in N, k in K], DBSK[t,n,k] <= uDBS[t,n,k] * DRSd[\"max\"][t,n,k]\n",
    "    dbsmin[t in T, n in N, k in K], DBSK[t,n,k] >= uDBS[t,n,k] * DRSd[\"min\"][t,n,k]\n",
    "    dbsmxr[t in T, n in N, k in K], DBSRK[t,n,k] <= max_rec*uDBSR[t,n,k]\n",
    "    dbsorr[t in T, n in N, k in K], uDBS[t,n,k] + uDBSR[t,n,k] <= 1\n",
    "    dbbbal[n in N, k in K], sum(DBSRK[t,n,k] for t in T) == sum(DBSK[t,n,k] for t in T)\n",
    "    # Dual multipliers/linearization constraints\n",
    "    conAB[t in T, n in N, k in K], A1[t,n,k]-B1[t,n,k] >= DRCd[\"cost\"][t,n,k]\n",
    "    conDE[t in T, n in N, k in K], D1[t,n,k]-E1[t,n,k] >= DRSd[\"cost\"][t,n,k]\n",
    "    conHI[t in T, n in N, k in K], H1[t,n,k]-I1[t,n,k] >= -DRCd[\"costb\"][t,n,k]\n",
    "    conKL[t in T, n in N, k in K], K1[t,n,k]-L1[t,n,k] >= -DRSd[\"costb\"][t,n,k]\n",
    "    strong_duality, \n",
    "        sum(\n",
    "            A1[t,n,k]*DRCd[\"max\"][t,n,k] - B1[t,n,k]*DRCd[\"min\"][t,n,k] +\n",
    "            D1[t,n,k]*DRSd[\"max\"][t,n,k] - E1[t,n,k]*DRSd[\"min\"][t,n,k] +\n",
    "            F1[t,n,k]*max_rec +\n",
    "            H1[t,n,k]*DRCd[\"max\"][t,n,k] - I1[t,n,k]*DRCd[\"min\"][t,n,k] +\n",
    "            K1[t,n,k]*DRSd[\"max\"][t,n,k] - L1[t,n,k]*DRSd[\"min\"][t,n,k] +\n",
    "            M1[t,n,k]*max_rec\n",
    "        for t in T for n in N for k in K) ==\n",
    "        sum(\n",
    "            DRCd[\"cost\"][t,n,k] * DRCK[t,n,k] +\n",
    "            DRSd[\"cost\"][t,n,k] * DRSK[t,n,k] - \n",
    "            DRCd[\"costb\"][t,n,k] * DBCK[t,n,k] - \n",
    "            DRSd[\"costb\"][t,n,k] * DBSK[t,n,k]    \n",
    "        for t in T for n in N for k in K)\n",
    "    # second stage (after wind realizes)\n",
    "    resup[s in S, g in G, t in T], r_ups[s,g,t] <= r_up[g,t]\n",
    "    resdn[s in S, g in G, t in T], r_downs[s,g,t] <= r_down[g,t]\n",
    "    bals[s in S, n in N, t in T], \n",
    "        sum(r_ups[s,g,t]-r_downs[s,g,t] for g in ng[n]) + \n",
    "        wind[s,n,t] - Wsc[n,t] - Wspill[s,n,t] + Lshed[s,n,t] == \n",
    "        -sum((pflow1[l,s,t] - pflow0[l,t])*nl[n,l] for l in L)\n",
    "    windspill[s in S, n in N, t in T], Wspill[s,n,t] <= wind[s,n,t]\n",
    "    pfmax1[l in L, s in S, t in T], pflow1[l,s,t] <= ld[\"flowcap\"][l]\n",
    "    pfmin1[l in L, s in S, t in T], pflow1[l,s,t] >= -ld[\"flowcap\"][l]\n",
    "end)\n",
    "    \n",
    "@objective(bdr, Min, totalcost)\n",
    "\n",
    "bdr"
   ]
  },
  {
   "cell_type": "code",
   "execution_count": 20,
   "metadata": {
    "scrolled": false
   },
   "outputs": [
    {
     "ename": "UndefVarError",
     "evalue": "UndefVarError: bdr not defined",
     "output_type": "error",
     "traceback": [
      "UndefVarError: bdr not defined\n",
      "\n",
      "Stacktrace:\n",
      " [1] top-level scope\n",
      "   @ ~/Documents/Uni/AMO-Solo-Project/C2_Bilevel_Demand_Response copy.ipynb:1"
     ]
    }
   ],
   "source": [
    "optimize!(bdr)"
   ]
  },
  {
   "cell_type": "code",
   "execution_count": 21,
   "metadata": {},
   "outputs": [
    {
     "ename": "UndefVarError",
     "evalue": "UndefVarError: bdr not defined",
     "output_type": "error",
     "traceback": [
      "UndefVarError: bdr not defined\n",
      "\n",
      "Stacktrace:\n",
      " [1] top-level scope\n",
      "   @ ~/Documents/Uni/AMO-Solo-Project/C2_Bilevel_Demand_Response copy.ipynb:1"
     ]
    }
   ],
   "source": [
    "termination_status(bdr)"
   ]
  },
  {
   "cell_type": "code",
   "execution_count": 22,
   "metadata": {},
   "outputs": [
    {
     "ename": "UndefVarError",
     "evalue": "UndefVarError: bdr not defined",
     "output_type": "error",
     "traceback": [
      "UndefVarError: bdr not defined\n",
      "\n",
      "Stacktrace:\n",
      " [1] top-level scope\n",
      "   @ ~/Documents/Uni/AMO-Solo-Project/C2_Bilevel_Demand_Response copy.ipynb:1"
     ]
    }
   ],
   "source": [
    "objective_value(bdr)"
   ]
  },
  {
   "cell_type": "code",
   "execution_count": 23,
   "metadata": {},
   "outputs": [
    {
     "ename": "UndefVarError",
     "evalue": "UndefVarError: pgen not defined",
     "output_type": "error",
     "traceback": [
      "UndefVarError: pgen not defined\n",
      "\n",
      "Stacktrace:\n",
      " [1] top-level scope\n",
      "   @ ~/Documents/Uni/AMO-Solo-Project/C2_Bilevel_Demand_Response copy.ipynb:1"
     ]
    }
   ],
   "source": [
    "value.(pgen)"
   ]
  },
  {
   "cell_type": "code",
   "execution_count": 24,
   "metadata": {},
   "outputs": [
    {
     "ename": "UndefVarError",
     "evalue": "UndefVarError: u not defined",
     "output_type": "error",
     "traceback": [
      "UndefVarError: u not defined\n",
      "\n",
      "Stacktrace:\n",
      " [1] top-level scope\n",
      "   @ ~/Documents/Uni/AMO-Solo-Project/C2_Bilevel_Demand_Response copy.ipynb:1"
     ]
    }
   ],
   "source": [
    "value.(u)"
   ]
  },
  {
   "cell_type": "code",
   "execution_count": 25,
   "metadata": {},
   "outputs": [
    {
     "ename": "UndefVarError",
     "evalue": "UndefVarError: load not defined",
     "output_type": "error",
     "traceback": [
      "UndefVarError: load not defined\n",
      "\n",
      "Stacktrace:\n",
      " [1] top-level scope\n",
      "   @ ~/Documents/Uni/AMO-Solo-Project/C2_Bilevel_Demand_Response copy.ipynb:1"
     ]
    }
   ],
   "source": [
    "plot(\n",
    "    sum(load, dims=2)[:, 1], \n",
    "    label=\"Load before DR\",\n",
    "    xlims=(1,24),\n",
    "    xticks=6:6:24,\n",
    "    )\n",
    "\n",
    "plot!(\n",
    "    [sum(load[t,:]) - sum(value.(DRCK[t,:,:]) .+ value.(DRSK[t,:,:]) .- value.(DRSRK[t,:,:])) for t in T], \n",
    "    label=\"Load after DR\"\n",
    "    )"
   ]
  },
  {
   "cell_type": "code",
   "execution_count": 26,
   "metadata": {},
   "outputs": [
    {
     "ename": "UndefVarError",
     "evalue": "UndefVarError: ewind not defined",
     "output_type": "error",
     "traceback": [
      "UndefVarError: ewind not defined\n",
      "\n",
      "Stacktrace:\n",
      " [1] top-level scope\n",
      "   @ ~/Documents/Uni/AMO-Solo-Project/C2_Bilevel_Demand_Response copy.ipynb:1"
     ]
    }
   ],
   "source": [
    "plot(\n",
    "    ewind[\"n6\", :], \n",
    "    ribbon = stdwind[\"n6\", :],\n",
    "    label=\"μw +- σw\",\n",
    "    xlims=(1,24),\n",
    "    xticks=6:6:24,\n",
    "    )"
   ]
  }
 ],
 "metadata": {
  "kernelspec": {
   "display_name": "Julia 1.8.5",
   "language": "julia",
   "name": "julia-1.8"
  },
  "language_info": {
   "file_extension": ".jl",
   "mimetype": "application/julia",
   "name": "julia",
   "version": "1.8.5"
  }
 },
 "nbformat": 4,
 "nbformat_minor": 4
}
