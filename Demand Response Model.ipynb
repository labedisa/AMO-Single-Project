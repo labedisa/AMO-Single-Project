{
 "cells": [
  {
   "cell_type": "code",
   "execution_count": null,
   "metadata": {},
   "outputs": [],
   "source": [
    "using Pkg\n",
    "Pkg.activate(\".\"); Pkg.instantiate()"
   ]
  },
  {
   "cell_type": "code",
   "execution_count": null,
   "metadata": {},
   "outputs": [],
   "source": [
    "using Pkg\n",
    "Pkg.update()\n"
   ]
  },
  {
   "cell_type": "code",
   "execution_count": null,
   "metadata": {},
   "outputs": [],
   "source": [
    "#import Pkg\n",
    "Pkg.add(\"AxisArrays\")\n",
    "Pkg.add(\"JuMP\")\n",
    "Pkg.add(\"XLSX\")\n",
    "Pkg.add(\"DataFrames\")\n",
    "Pkg.add(\"Plots\")\n",
    "Pkg.add(\"AxisArrays\")\n",
    "Pkg.add(\"Statistics\")\n",
    "Pkg.add(\"PGFPlotsX\")\n",
    "Pkg.add(\"AxisArrays\")\n",
    "Pkg.add(\"CPLEX\")\n",
    "Pkg.add(\"HiGHS\")\n",
    "Pkg.add(\"CSV\")\n",
    "Pkg.add(\"Tables\")"
   ]
  },
  {
   "cell_type": "code",
   "execution_count": null,
   "metadata": {},
   "outputs": [],
   "source": [
    "using JuMP, XLSX, DataFrames, Plots, AxisArrays, Statistics, PGFPlotsX, CPLEX, HiGHS, CSV, Tables"
   ]
  },
  {
   "cell_type": "code",
   "execution_count": null,
   "metadata": {},
   "outputs": [],
   "source": [
    "pgfplotsx()"
   ]
  },
  {
   "attachments": {},
   "cell_type": "markdown",
   "metadata": {},
   "source": [
    "# Read In And Prepare Data "
   ]
  },
  {
   "cell_type": "code",
   "execution_count": null,
   "metadata": {},
   "outputs": [],
   "source": [
    "mydata = Dict{String, DataFrame}()"
   ]
  },
  {
   "cell_type": "code",
   "execution_count": null,
   "metadata": {},
   "outputs": [],
   "source": [
    "xl = XLSX.readxlsx(\"data/curtailmentinfonew.xlsx\")\n",
    "mydata[\"curtailmentinfo\"] = DataFrame(XLSX.gettable(xl[\"curtailmentinfo\"]; infer_eltypes=true))\n",
    "print(\"curtailment data read in successfully\")"
   ]
  },
  {
   "cell_type": "code",
   "execution_count": null,
   "metadata": {},
   "outputs": [],
   "source": [
    "mydata[\"curtailmentinfo\"]"
   ]
  },
  {
   "cell_type": "code",
   "execution_count": null,
   "metadata": {},
   "outputs": [],
   "source": [
    "xl = XLSX.readxlsx(\"data/generatorinfo.xlsx\")\n",
    "generatorinfo = XLSX.sheetnames(xl)\n",
    "mydata[\"generatorinfo\"] = DataFrame(XLSX.gettable(xl[\"generatorinfo\"]; infer_eltypes=true))\n",
    "print(\"generator data read in successfully\")"
   ]
  },
  {
   "cell_type": "code",
   "execution_count": null,
   "metadata": {},
   "outputs": [],
   "source": [
    "mydata[\"generatorinfo\"]"
   ]
  },
  {
   "cell_type": "code",
   "execution_count": null,
   "metadata": {},
   "outputs": [],
   "source": [
    "xl = XLSX.readxlsx(\"data/initdemand.xlsx\")\n",
    "initdemand = XLSX.sheetnames(xl)\n",
    "mydata[\"initdemand\"] = DataFrame(XLSX.gettable(xl[\"initdemand\"]; infer_eltypes=true))\n",
    "print(\"demand data read in successfully\")"
   ]
  },
  {
   "cell_type": "code",
   "execution_count": null,
   "metadata": {},
   "outputs": [],
   "source": [
    "mydata[\"initdemand\"]"
   ]
  },
  {
   "cell_type": "code",
   "execution_count": null,
   "metadata": {},
   "outputs": [],
   "source": [
    "xl = XLSX.readxlsx(\"data/lineconstraints.xlsx\")\n",
    "linecontraints = XLSX.sheetnames(xl)\n",
    "mydata[\"lineconstraints\"] = DataFrame(XLSX.gettable(xl[\"lineconstraints\"]; infer_eltypes=true))\n",
    "print(\"line constraint data read in successfully\")"
   ]
  },
  {
   "cell_type": "code",
   "execution_count": null,
   "metadata": {},
   "outputs": [],
   "source": [
    "mydata[\"lineconstraints\"]"
   ]
  },
  {
   "cell_type": "code",
   "execution_count": null,
   "metadata": {},
   "outputs": [],
   "source": [
    "xl = XLSX.readxlsx(\"data/nodeinfo.xlsx\")\n",
    "nodeinfo = XLSX.sheetnames(xl)\n",
    "mydata[\"nodeinfo\"] = DataFrame(XLSX.gettable(xl[\"nodeinfo\"]; infer_eltypes=true))\n",
    "print(\"node data read in successfully\")"
   ]
  },
  {
   "cell_type": "code",
   "execution_count": null,
   "metadata": {},
   "outputs": [],
   "source": [
    "mydata[\"nodeinfo\"]"
   ]
  },
  {
   "cell_type": "code",
   "execution_count": null,
   "metadata": {},
   "outputs": [],
   "source": [
    "xl = XLSX.readxlsx(\"data/shiftinginfonew.xlsx\")\n",
    "shiftinginfo = XLSX.sheetnames(xl)\n",
    "mydata[\"shiftinginfo\"] = DataFrame(XLSX.gettable(xl[\"shiftinginfo\"]; infer_eltypes=true))\n",
    "print(\"shifting information read in successfully\")"
   ]
  },
  {
   "cell_type": "code",
   "execution_count": null,
   "metadata": {},
   "outputs": [],
   "source": [
    "mydata[\"shiftinginfo\"]"
   ]
  },
  {
   "cell_type": "code",
   "execution_count": null,
   "metadata": {},
   "outputs": [],
   "source": [
    "xl = XLSX.readxlsx(\"data/windfarminfo.xlsx\")\n",
    "windfarminfo = XLSX.sheetnames(xl)\n",
    "mydata[\"windfarminfo\"] = DataFrame(XLSX.gettable(xl[\"windfarminfo\"]; infer_eltypes=true))\n",
    "print(\"windfarm data read in successfully\")"
   ]
  },
  {
   "cell_type": "code",
   "execution_count": null,
   "metadata": {},
   "outputs": [],
   "source": [
    "mydata[\"windfarminfo\"]"
   ]
  },
  {
   "cell_type": "code",
   "execution_count": null,
   "metadata": {},
   "outputs": [],
   "source": [
    "xl = XLSX.readxlsx(\"data/windscenarios.xlsx\")\n",
    "windscenarios = XLSX.sheetnames(xl)\n",
    "mydata[\"windscenarios\"] = DataFrame(XLSX.gettable(xl[\"windscenarios\"]; infer_eltypes=true))\n",
    "print(\"wind scenario data read in successfully\")\n"
   ]
  },
  {
   "cell_type": "code",
   "execution_count": null,
   "metadata": {},
   "outputs": [],
   "source": [
    "mydata[\"windscenarios\"]"
   ]
  },
  {
   "attachments": {},
   "cell_type": "markdown",
   "metadata": {},
   "source": [
    "### Set generation"
   ]
  },
  {
   "cell_type": "code",
   "execution_count": null,
   "metadata": {},
   "outputs": [],
   "source": [
    "G = mydata[\"generatorinfo\"][:, :ID]\n",
    "L = mydata[\"lineconstraints\"][:, :ID]\n",
    "T = mydata[\"initdemand\"][:, :t]          #times\n",
    "N = mydata[\"nodeinfo\"][:, :ID]\n",
    "S = unique(mydata[\"windscenarios\"][:, :scenario])\n",
    "K = unique(mydata[\"curtailmentinfo\"][:, :k])\n",
    "\n",
    "NG = length(G)\n",
    "NL = length(L)\n",
    "NT = length(T)\n",
    "NN = length(N)\n",
    "NS = length(S)\n",
    "NK = length(K)"
   ]
  },
  {
   "attachments": {},
   "cell_type": "markdown",
   "metadata": {},
   "source": [
    "# Prepare data"
   ]
  },
  {
   "attachments": {},
   "cell_type": "markdown",
   "metadata": {},
   "source": [
    "Prepare the generator information"
   ]
  },
  {
   "cell_type": "code",
   "execution_count": null,
   "metadata": {},
   "outputs": [],
   "source": [
    "#generatorinfo\n",
    "generators = Dict{String, AxisArray}()\n",
    "for c in names(mydata[\"generatorinfo\"])\n",
    "    help_array1 = AxisArray(mydata[\"generatorinfo\"][:, c], g=G)\n",
    "    # Assign the 'help_array1' AxisArray to the 'c' key in the 'generators' dictionary\n",
    "    generators[c] = help_array1\n",
    "end"
   ]
  },
  {
   "attachments": {},
   "cell_type": "markdown",
   "metadata": {},
   "source": [
    "Prepare all of the line constraints"
   ]
  },
  {
   "cell_type": "code",
   "execution_count": null,
   "metadata": {},
   "outputs": [],
   "source": [
    "#lineconstraints\n",
    "#lines = Dict(c => AxisArray(mydata[\"lineconstraints\"][:, c], l=L) for c in names(mydata[\"lineconstraints\"]));\n",
    "lines = Dict{String, AxisArray}()\n",
    "for c in names(mydata[\"lineconstraints\"])\n",
    "    help_array2 = AxisArray(mydata[\"lineconstraints\"][:, c], l=L)\n",
    "    lines[c] = help_array2\n",
    "end\n",
    "B = AxisArray(zeros(NL, NN), l=L, n=N)\n",
    "for l in L\n",
    "    from_node = lines[\"from\"][l]\n",
    "    to_node = lines[\"to \"][l]\n",
    "    X = lines[\"X\"][l]\n",
    "    # Loop through each node.\n",
    "    for (idn, node) in enumerate(N)\n",
    "        if node == from_node\n",
    "            B[l, idn] = -1/X\n",
    "        elseif node == to_node\n",
    "            B[l, idn] = 1/X\n",
    "        end\n",
    "    end\n",
    "end \n"
   ]
  },
  {
   "attachments": {},
   "cell_type": "markdown",
   "metadata": {},
   "source": [
    "Prepare the data of the initial demand (demand before DR)"
   ]
  },
  {
   "cell_type": "code",
   "execution_count": null,
   "metadata": {},
   "outputs": [],
   "source": [
    "#initdemand\n",
    "load = AxisArray(Matrix(mydata[\"initdemand\"][:, Not(:t)]), t=T, n=N)\n",
    "cost_ls = 100.0"
   ]
  },
  {
   "cell_type": "code",
   "execution_count": null,
   "metadata": {},
   "outputs": [],
   "source": []
  },
  {
   "cell_type": "markdown",
   "metadata": {},
   "source": [
    "Prepare the load shifiting information"
   ]
  },
  {
   "cell_type": "code",
   "execution_count": null,
   "metadata": {},
   "outputs": [],
   "source": [
    "#shiftinginfo\n",
    "cols = names(mydata[\"shiftinginfo\"][:, Not([\"t\", \"n\", \"k\"])])\n",
    "#DRSd = Dict(c => AxisArray(zeros(NT, NN, NK), t=T, n=N, k=K) for c in cols)\n",
    "\n",
    "DRSd = Dict{String, AxisArray}()\n",
    "for c in cols\n",
    "# Loop through the column names and create a new AxisArray for each column\n",
    "    help_array3 = AxisArray(zeros(NT, NN, NK), t=T, n=N, k=K)\n",
    "    DRSd[c] = help_array3\n",
    "end\n",
    "# Loop through each row in \"shiftinginfo\" and assign the values to the corresponding AxisArray in DRSd\n",
    "for r in eachrow(mydata[\"shiftinginfo\"])\n",
    "    for c in cols\n",
    "        DRSd[c][r[:t], r[:n], r[:k]] = r[c]\n",
    "    end\n",
    "end"
   ]
  },
  {
   "cell_type": "code",
   "execution_count": null,
   "metadata": {},
   "outputs": [],
   "source": []
  },
  {
   "attachments": {},
   "cell_type": "markdown",
   "metadata": {},
   "source": [
    "Prepare the load curtailment information"
   ]
  },
  {
   "cell_type": "code",
   "execution_count": null,
   "metadata": {},
   "outputs": [],
   "source": [
    "#curtailmentinfo\n",
    "cols = names(mydata[\"curtailmentinfo\"][:, Not([\"t\", \"n\", \"k\"])])\n",
    "\n",
    "#DRCd = Dict(c => AxisArray(zeros(NT, NN, NK), t=T, n=N, k=K) for c in cols)\n",
    "DRCd = Dict{String, AxisArray}()\n",
    "for c in cols\n",
    "    help_array4 = AxisArray(zeros(NT, NN, NK), t=T, n=N, k=K)\n",
    "    DRCd[c] = help_array4\n",
    "end\n",
    "# Iterate over each row in the curtailmentinfo data\n",
    "for r in eachrow(mydata[\"curtailmentinfo\"])\n",
    "    for c in cols\n",
    "        DRCd[c][r[:t], r[:n], r[:k]] = r[c]\n",
    "    end\n",
    "end\n"
   ]
  },
  {
   "cell_type": "code",
   "execution_count": null,
   "metadata": {},
   "outputs": [],
   "source": []
  },
  {
   "cell_type": "code",
   "execution_count": null,
   "metadata": {},
   "outputs": [],
   "source": [
    "DRCd"
   ]
  },
  {
   "attachments": {},
   "cell_type": "markdown",
   "metadata": {},
   "source": [
    "Prepare the information of the location of the nodes and generators"
   ]
  },
  {
   "cell_type": "code",
   "execution_count": null,
   "metadata": {},
   "outputs": [],
   "source": [
    "#location\n",
    "\n",
    "# Create an AxisArray where ng[n,g] = 1 if generator g is located at node n, and 0 otherwise\n",
    "ng = AxisArray(\n",
    "    [[g for g in G if generators[\"location\"][g] == idn] for (idn, n) in enumerate(N)],\n",
    "    n = N\n",
    ")\n",
    "#node\n",
    "\n",
    "# Create an AxisArray where nl[n,l] = 1 if line l originates at node n, -1 if it terminates at node n, and 0 otherwise\n",
    "nl = AxisArray(zeros(Int, NN, NL), n=N, l=L)\n",
    "for l in L\n",
    "    nl[N[lines[\"from\"][l]], l] = 1\n",
    "    nl[N[lines[\"to \"][l]], l] = -1\n",
    "end"
   ]
  },
  {
   "cell_type": "code",
   "execution_count": null,
   "metadata": {},
   "outputs": [],
   "source": [
    "windCap = AxisArray(zeros(NN), n=N)\n",
    "windCapDict = Dict(\"n3\" => 500.0, \"n5\" => 500.0, \"n16\" => 300.0, \"n21\" => 300.0)\n",
    "\n",
    "# populate the windCap AxisArray with the capacities \n",
    "windCap[\"n3\"] = 500.0\n",
    "windCap[\"n5\"] = 500.0\n",
    "windCap[\"n16\"] = 300.0\n",
    "windCap[\"n21\"] = 300.0\n",
    "\n",
    "pi = AxisArray(ones(NS)/NS, s=S)\n",
    "\n",
    "wind = AxisArray(zeros(NS, NN, NT), s=S, n=N, t=T)\n",
    "# populate the wind array with the wind power generation data from the input data, scale\n",
    "for r in eachrow(mydata[\"windscenarios\"])\n",
    "    for t in T\n",
    "        wind[r[:scenario], r[:node], t] = r[t]*windCap[r[:node]]\n",
    "    end\n",
    "end\n",
    "\n",
    "estwind = mean(wind, dims=1)[1, :, :]\n",
    "stdwind = std(wind, dims=1)[1, :, :]\n",
    "cost_ws = 20.0\n"
   ]
  },
  {
   "cell_type": "code",
   "execution_count": null,
   "metadata": {},
   "outputs": [],
   "source": [
    "pi"
   ]
  },
  {
   "cell_type": "code",
   "execution_count": null,
   "metadata": {},
   "outputs": [],
   "source": [
    "# total_cost = 0.0\n",
    "# for t in T\n",
    "#     generator_cost = 0.0\n",
    "#     reserve_cost = 0.0\n",
    "#     start_cost = 0.0\n",
    "    \n",
    "#     # Generator cost\n",
    "#     for g in G\n",
    "#         generator_cost += PGen[g,t] * generators[\"cost\"][g] +\n",
    "#                             r_up[g,t] * generators[\"upresercost\"][g] +\n",
    "#                             r_down[g,t] * generators[\"dnresercost\"][g] +\n",
    "#                             suc[findfirst(isequal(t), T),g]\n",
    "#     end\n",
    "    \n",
    "#     # Reserve cost\n",
    "#     for n in N\n",
    "#         reserve_cost += DRC[t, n] + DRS[t, n]\n",
    "#     end\n",
    "    \n",
    "#     # Startup cost\n",
    "#     for s in S\n",
    "#         startup_cost = 0.0\n",
    "#         for g in G\n",
    "#             startup_cost += generators[\"cost\"][g] * (r_ups[s,g,t]-r_downs[s,g,t])\n",
    "#         end\n",
    "#         start_cost += pi[s] * (startup_cost + sum(cost_ws * Wspill[s,n,t] + cost_ls * Lshed[s,n,t] for n in N))\n",
    "#     end\n",
    "    \n",
    "#     # Total cost\n",
    "#     total_cost += generator_cost + reserve_cost + start_cost\n",
    "# end\n"
   ]
  },
  {
   "cell_type": "markdown",
   "metadata": {},
   "source": [
    "# Model"
   ]
  },
  {
   "attachments": {},
   "cell_type": "markdown",
   "metadata": {},
   "source": [
    "Variables: \n",
    "\n",
    "pgen: the scheduled generation output for each generator g at each time t\n",
    "\n",
    "u: the state of each generator g (on or off) at each time t\n",
    "\n",
    "θ0: the phase angles for each node n in the power network during the scheduling phase\n",
    "\n",
    "θ1: the phase angles for each node n during the balancing phase and each scenario s\n",
    "\n",
    "Wsc: the scheduled wind power for each node n at each time t\n",
    "\n",
    "r_up and r_down: the up and down regulation reserves for each generator g at each time t\n",
    "\n",
    "r_ups and r_downs: the actual up and down regulation provided by each generator g at each time t\n",
    "\n",
    "Lshed: the amount of load shedding at each node n during each scenario s and time t\n",
    "\n",
    "Wspill: the amount of wind spillage at each node n during each scenario s and time t\n",
    "\n",
    "suc: the start-up/shut-down costs for each generator g at each time t\n",
    "\n",
    "\n",
    "Expressions: \n",
    "DRC, DRS, DBC, DBS: the costs/profits associated with demand response contracts\n",
    "pflow0: the power flow on each transmission line during the scheduling phase\n",
    "pflow1: the power flow on each transmission line during the balancing phase and each scenario s\n",
    "\n",
    "\n",
    "Objective is to minimize totalcost\n",
    "totalcost: the total cost of the system, including the cost of generation, reserves, start-up/shut-down, load shedding, wind spillage, and demand response"
   ]
  },
  {
   "attachments": {},
   "cell_type": "markdown",
   "metadata": {},
   "source": [
    "The model is intended to represent an electric power system with wind power and demand response (DR) programs.\n",
    "\n"
   ]
  },
  {
   "attachments": {},
   "cell_type": "markdown",
   "metadata": {},
   "source": [
    "Generator Limits:\n",
    "a. The power generated by a generator at time t, plus any upward regulation, should be less than or equal to the generator's capacity times its availability.\n",
    "b. The upward regulation should be less than or equal to the generator's maximum upward reserve capacity.\n",
    "c. The downward regulation should be less than or equal to the generator's maximum downward reserve capacity.\n",
    "\n",
    "Reserve Limits:\n",
    "The net power generation from all generators connected to a node, plus the power injection from any energy storage system connected to the node, plus the scheduled curtailment of any DR resource, should be equal to the total demand at that node plus any power flow into the node from transmission lines.\n",
    "\n",
    "Transmission Line Limits:\n",
    "The power flow through a transmission line at time t should be less than or equal to the line's capacity, and greater than or equal to the negative of the line's capacity.\n",
    "\n"
   ]
  },
  {
   "attachments": {},
   "cell_type": "markdown",
   "metadata": {},
   "source": [
    "DR Curtailment Constraints (between ISO and DR aggregator):\n",
    "a. The scheduled curtailment of a DR resource at time t should be less than or equal to the maximum curtailment allowed for that resource multiplied by its availability.\n",
    "b. The scheduled curtailment of a DR resource at time t should be greater than or equal to the minimum curtailment allowed for that resource multiplied by its availability.\n",
    "\n",
    "\n",
    "DR Shifting Constraints (between ISO and DR aggregator):\n",
    "a. The scheduled shifting of a DR resource at time t should be less than or equal to the maximum shifting allowed for that resource multiplied by its availability.\n",
    "b. The scheduled shifting of a DR resource at time t should be greater than or equal to the minimum shifting allowed for that resource multiplied by its availability.\n",
    "c. The scheduled reverse shifting of a DR resource at time t should be less than or equal to the maximum reverse shifting allowed for that resource multiplied by its availability.\n",
    "\n",
    "\n",
    "DR Curtailment Constraints (between DR aggregator and customer):\n",
    "a. The scheduled curtailment of a DR resource at time t should be less than or equal to the maximum curtailment allowed for that resource multiplied by its availability.\n",
    "b. The scheduled curtailment of a DR resource at time t should be greater than or equal to the minimum curtailment allowed for that resource multiplied by its availability.\n",
    "\n",
    "\n",
    "DR Shifting Constraints (between DR aggregator and customer):\n",
    "a. The scheduled shifting of a DR resource at time t should be less than or equal to the maximum shifting allowed for that resource multiplied by its availability.\n",
    "b. The scheduled shifting of a DR resource at time t should be greater than or equal to the minimum shifting allowed for that resource multiplied by"
   ]
  },
  {
   "cell_type": "code",
   "execution_count": null,
   "metadata": {
    "scrolled": false
   },
   "outputs": [],
   "source": [
    "bdr = Model(CPLEX.Optimizer)\n",
    "set_silent(bdr)\n",
    "\n",
    "@variable(bdr, PGen[G, T] >= 0) # scheduled generator output for each generator g at each time t\n",
    "@variable(bdr, u[G, T], Bin) # state of each generator g (on or off) at each time \n",
    "@variable(bdr, θ0[N, T]) # the phase angles for each node n in the power network during the scheduling phase\n",
    "@variable(bdr, θ1[N, S, T]) # the phase angles for each node n in the power network during the balancing phase and each scenario s\n",
    "@variable(bdr, Wsc[N, T] >= 0)# the scheduled wind power for each node n at each time t \n",
    "@variable(bdr, r_up[G, T] >= 0) # up regulation reserves for each generator g at each time t\n",
    "@variable(bdr, r_down[G, T] >= 0) # down regulation reserves for each generator g at each time t\n",
    "@variable(bdr, r_ups[S, G, T] >= 0) # actual up regulation provided by each generator g at each time t\n",
    "@variable(bdr, r_downs[S, G, T] >= 0) # actual down regulation provided by each generator g at each time t\n",
    "@variable(bdr, Lshed[S, N, T] >= 0) # amount of load shedding at each node n at each time t\n",
    "@variable(bdr, Wspill[S, N, T] >= 0) # the amount of wind power spilled at each node n at each time t\n",
    "@variable(bdr, suc[1:NT, G] >= 0) # start-up/shut-down cost for each generator g at each time t\n",
    "\n",
    "    # DR contracts\n",
    "    # DR agg <> ISO contract parameters\n",
    "@variable(bdr, DRCK[T, N, K] >= 0) # DR curtailment blocks\n",
    "@variable(bdr, DRSK[T, N, K] >= 0) # DR shifting blocks\n",
    "@variable(bdr, DRC_SU[T, N, K] >= 0) # DRC startup cost\n",
    "@variable(bdr, DRSRK[T, N, K] >= 0) # DR recovery blocks\n",
    "@variable(bdr, uDRC[T, N, K], Bin) # DR curtailment active\n",
    "@variable(bdr, uDRS[T, N, K], Bin) # DR shifting activate\n",
    "@variable(bdr, yDR[T, N, K], Bin) # DRC activated\n",
    "@variable(bdr, zDR[T, N, K], Bin) # DRC de-activated\n",
    "@variable(bdr, uDRSR[T, N, K], Bin) # DRS recovery active\n",
    "    # same for DR agg <> cust. contracts\n",
    "@variable(bdr, DBCK[T, N, K] >= 0)\n",
    "@variable(bdr, DBSK[T, N, K] >= 0)\n",
    "@variable(bdr, DBC_SU[T, N, K] >= 0) \n",
    "@variable(bdr, DBSRK[T, N, K] >= 0)\n",
    "@variable(bdr, uDBC[T, N, K], Bin)\n",
    "@variable(bdr, uDBS[T, N, K], Bin)\n",
    "@variable(bdr, yDB[T, N, K], Bin)\n",
    "@variable(bdr, zDB[T, N, K], Bin)\n",
    "@variable(bdr, uDBSR[T, N, K], Bin)\n",
    "    # Dual multipliers/linearization variables for the Karush-Kuhn-Tucker conditions\n",
    "@variable(bdr, Α[T,N,K] >= 0)\n",
    "@variable(bdr, Β[T,N,K] >= 0)\n",
    "@variable(bdr, Δ[T,N,K] >= 0)\n",
    "@variable(bdr, Ε[T,N,K] >= 0)\n",
    "@variable(bdr, Ζ[T,N,K] >= 0)\n",
    "@variable(bdr, Η[T,N,K] >= 0)\n",
    "@variable(bdr, Ι[T,N,K] >= 0)\n",
    "@variable(bdr, Κ[T,N,K] >= 0)\n",
    "@variable(bdr, Λ[T,N,K] >= 0)\n",
    "@variable(bdr, Μ[T,N,K] >= 0)\n",
    "\n",
    "\n",
    "# fix slack bus\n",
    "fix.(θ0[\"n1\", :], 0);\n",
    "fix.(θ1[\"n1\", :, :], 0);\n",
    "\n",
    "\n",
    "@expression(bdr, DRC[t in T, n in N], sum(DRCd[\"cost\"][t,n,k]*DRCK[t, n, k]+DRC_SU[t,n,k] for k in K))\n",
    "@expression(bdr, DRS[t in T, n in N], sum(DRSd[\"cost\"][t,n,k]*DRSK[t, n, k] for k in K))\n",
    "@expression(bdr, DBC[t in T, n in N], sum(DRCd[\"costb\"][t,n,k]*DBCK[t, n, k] for k in K))\n",
    "@expression(bdr, DBS[t in T, n in N], sum(DRSd[\"costb\"][t,n,k]*DBSK[t, n, k] for k in K))\n",
    "@expression(bdr, pflow0[l in L, t in T], sum(B[l,n]*θ0[n,t] for n in N))\n",
    "@expression(bdr, pflow1[l in L, s in S, t in T], sum(B[l,n]*θ1[n,s,t] for n in N))\n",
    "\n",
    "# Generator Limits \n",
    "\n",
    "@constraint(bdr, pup[g in G, t in T], PGen[g, t] + r_up[g, t] <= generators[\"cap\"][g] * u[g,t])\n",
    "\n",
    "@constraint(bdr, res_up[g in G, t in T], r_up[g, t] <= generators[\"maxupresercap\"][g])\n",
    "\n",
    "@constraint(bdr, res_dn[g in G, t in T], r_down[g, t] <= generators[\"maxdnresercap\"][g])\n",
    "\n",
    "# Equality constraint\n",
    "\n",
    "@constraint(bdr, bal0[n in N, t in T], sum(PGen[g,t] for g in ng[n]) + Wsc[n,t] + sum(DRCK[t,n,k] + DRSK[t,n,k] - DRSRK[t,n,k] for k in K) == load[t,n] + sum(pflow0[l, t]*nl[n,l] for l in L))\n",
    "\n",
    "# Transmission Line Limits\n",
    "\n",
    "@constraint(bdr, pfmax0[l in L, t in T], pflow0[l, t] <= lines[\"flowcap\"][l])\n",
    "\n",
    "@constraint(bdr, pfmin0[l in L, t in T], pflow0[l, t] >= -lines[\"flowcap\"][l])\n",
    "\n",
    "# DR curtailment constraints between ISO and Aggregator\n",
    "\n",
    "@constraint(bdr, drcmax[t in T, n in N, k in K], DRCK[t,n,k] <= uDRC[t,n,k] * DRCd[\"max\"][t,n,k]  )\n",
    "\n",
    "@constraint(bdr, drcmin[t in T, n in N, k in K], DRCK[t,n,k] >= uDRC[t,n,k] * DRCd[\"min\"][t,n,k])\n",
    "\n",
    "@constraint(bdr, drcst1[τ in 2:NT, n in N, k in K], yDR[T[τ],n,k] - zDR[T[τ],n,k] == uDRC[T[τ],n,k] - uDRC[T[τ-1],n,k])\n",
    "\n",
    "@constraint(bdr, drcst2[t in T, n in N, k in K], yDR[t,n,k] + zDR[t,n,k] <= 1)\n",
    "\n",
    "@constraint(bdr, drcst3[t in T, n in N, k in K], DRC_SU[t,n,k] >= DRCd[\"SUC\"][t,n,k] * yDR[t,n,k])\n",
    "\n",
    "# DR shifting constraints between ISO and Aggregator\n",
    "\n",
    "@constraint(bdr, drsmax[t in T, n in N, k in K], DRSK[t,n,k] <= uDRS[t,n,k] * DRSd[\"max\"][t,n,k])\n",
    "\n",
    "@constraint(bdr, drsmin[t in T, n in N, k in K], DRSK[t,n,k] >= uDRS[t,n,k] * DRSd[\"min\"][t,n,k])\n",
    "\n",
    "@constraint(bdr, drsmxr[t in T, n in N, k in K], DRSRK[t,n,k] <= 2*uDRSR[t,n,k])\n",
    "\n",
    "@constraint(bdr, drsorr[t in T, n in N, k in K], uDRS[t,n,k] + uDRSR[t,n,k] <= 1)\n",
    "\n",
    "@constraint(bdr, drbbal[n in N, k in K], sum(DRSRK[t,n,k] for t in T) == sum(DRSK[t,n,k] for t in T))\n",
    "\n",
    "# DR curtailment constraints between Aggregator and Customer\n",
    "\n",
    "@constraint(bdr, dbcmax[t in T, n in N, k in K], DBCK[t,n,k] <= uDRC[t,n,k] * DRCd[\"max\"][t,n,k])\n",
    "\n",
    "@constraint(bdr, dbcmin[t in T, n in N, k in K], DBCK[t,n,k] >= uDRC[t,n,k] * DRCd[\"min\"][t,n,k])\n",
    "\n",
    "@constraint(bdr, dbcst1[τ in 2:NT, n in N, k in K], yDB[T[τ],n,k] - zDB[T[τ],n,k] == uDBC[T[τ],n,k] - uDBC[T[τ-1],n,k])\n",
    "\n",
    "@constraint(bdr, dbcst2[t in T, n in N, k in K], yDB[t,n,k] + zDB[t,n,k] <= 1)\n",
    "\n",
    "@constraint(bdr, dbcst3[t in T, n in N, k in K], DBC_SU[t,n,k] >= DRCd[\"SUCb\"][t,n,k] * yDB[t,n,k])\n",
    "\n",
    "# DR shifting constraints between Aggregator and Customer\n",
    "\n",
    "@constraint(bdr, dbsmax[t in T, n in N, k in K], DBSK[t,n,k] <= uDBS[t,n,k] * DRSd[\"max\"][t,n,k])\n",
    "\n",
    "@constraint(bdr, dbsmin[t in T, n in N, k in K], DBSK[t,n,k] >= uDBS[t,n,k] * DRSd[\"min\"][t,n,k])\n",
    "\n",
    "@constraint(bdr, dbsmxr[t in T, n in N, k in K], DBSRK[t,n,k] <= 2*uDBSR[t,n,k])\n",
    "\n",
    "@constraint(bdr, dbsorr[t in T, n in N, k in K], uDBS[t,n,k] + uDBSR[t,n,k] <= 1)\n",
    "\n",
    "@constraint(bdr, dbbbal[n in N, k in K], sum(DBSRK[t,n,k] for t in T) == sum(DBSK[t,n,k] for t in T))\n",
    "\n",
    "# linearization constraints\n",
    "\n",
    "@constraint(bdr, conAB[t in T, n in N, k in K], Α[t,n,k]-Β[t,n,k] >= DRCd[\"cost\"][t,n,k])\n",
    "\n",
    "@constraint(bdr, conDE[t in T, n in N, k in K], Δ[t,n,k]-Ε[t,n,k] >= DRSd[\"cost\"][t,n,k])\n",
    "\n",
    "@constraint(bdr, conHI[t in T, n in N, k in K], Η[t,n,k]-Ι[t,n,k] >= -DRCd[\"costb\"][t,n,k])\n",
    "\n",
    "@constraint(bdr, conKL[t in T, n in N, k in K], Κ[t,n,k]-Λ[t,n,k] >= -DRSd[\"costb\"][t,n,k])\n",
    "\n",
    "@constraint(bdr, strong_duality, \n",
    "    sum(\n",
    "        Α[t,n,k]*DRCd[\"max\"][t,n,k] - Β[t,n,k]*DRCd[\"min\"][t,n,k] +\n",
    "        Δ[t,n,k]*DRSd[\"max\"][t,n,k] - Ε[t,n,k]*DRSd[\"min\"][t,n,k] +\n",
    "        Ζ[t,n,k]*2 +\n",
    "        Η[t,n,k]*DRCd[\"max\"][t,n,k] - Ι[t,n,k]*DRCd[\"min\"][t,n,k] +\n",
    "        Κ[t,n,k]*DRSd[\"max\"][t,n,k] - Λ[t,n,k]*DRSd[\"min\"][t,n,k] +\n",
    "        Μ[t,n,k]*2\n",
    "    for t in T for n in N for k in K) ==\n",
    "    sum(\n",
    "        DRCd[\"cost\"][t,n,k] * DRCK[t,n,k] +\n",
    "        DRSd[\"cost\"][t,n,k] * DRSK[t,n,k] - \n",
    "        DRCd[\"costb\"][t,n,k] * DBCK[t,n,k] - \n",
    "        DRSd[\"costb\"][t,n,k] * DBSK[t,n,k]    \n",
    "    for t in T for n in N for k in K))\n",
    "\n",
    "# wind \n",
    "\n",
    "@constraint(bdr, resup[s in S, g in G, t in T], r_ups[s,g,t] <= r_up[g,t])\n",
    "\n",
    "@constraint(bdr, resdn[s in S, g in G, t in T], r_downs[s,g,t] <= r_down[g,t])\n",
    "\n",
    "@constraint(bdr, bals[s in S, n in N, t in T], \n",
    "    sum(r_ups[s,g,t]-r_downs[s,g,t] for g in ng[n]) + \n",
    "    wind[s,n,t] - Wsc[n,t] - Wspill[s,n,t] + Lshed[s,n,t] == \n",
    "    -sum((pflow1[l,s,t] - pflow0[l,t])*nl[n,l] for l in L))\n",
    "\n",
    "@constraint(bdr, windspill[s in S, n in N, t in T], Wspill[s,n,t] <= wind[s,n,t])\n",
    "\n",
    "@constraint(bdr, pfmax1[l in L, s in S, t in T], pflow1[l,s,t] <= lines[\"flowcap\"][l])\n",
    "\n",
    "@constraint(bdr, pfmin1[l in L, s in S, t in T], pflow1[l,s,t] >= -lines[\"flowcap\"][l])\n",
    "\n",
    "\n",
    "    \n",
    "@objective(bdr, Min, \n",
    "sum(\n",
    "    sum(\n",
    "        PGen[g,t] * generators[\"cost\"][g] +\n",
    "        r_up[g,t] * generators[\"upresercost\"][g] +\n",
    "        r_down[g,t] * generators[\"dnresercost\"][g] +\n",
    "        suc[findfirst(isequal(t), T),g]\n",
    "    for g in G) +\n",
    "    sum(DRC[t, n] + DRS[t, n] for n in N) +\n",
    "    sum(\n",
    "        pi[s] * (\n",
    "            sum(generators[\"cost\"][g] * (r_ups[s,g,t]-r_downs[s,g,t]) for g in G) +\n",
    "            sum(cost_ws * Wspill[s,n,t] + cost_ls * Lshed[s,n,t] for n in N)\n",
    "            )\n",
    "    for s in S)\n",
    "for t in T)\n",
    ")\n",
    "\n",
    "bdr"
   ]
  },
  {
   "cell_type": "code",
   "execution_count": null,
   "metadata": {},
   "outputs": [],
   "source": [
    "display(\"image/png\", read(\"data/Objective Function.png\"))"
   ]
  },
  {
   "cell_type": "markdown",
   "metadata": {},
   "source": []
  },
  {
   "attachments": {},
   "cell_type": "markdown",
   "metadata": {},
   "source": [
    "# Model"
   ]
  },
  {
   "cell_type": "code",
   "execution_count": null,
   "metadata": {
    "scrolled": false
   },
   "outputs": [],
   "source": [
    "optimize!(bdr)"
   ]
  },
  {
   "cell_type": "code",
   "execution_count": null,
   "metadata": {},
   "outputs": [],
   "source": [
    "termination_status(bdr)"
   ]
  },
  {
   "cell_type": "code",
   "execution_count": null,
   "metadata": {},
   "outputs": [],
   "source": [
    "objective_value(bdr)"
   ]
  },
  {
   "cell_type": "code",
   "execution_count": null,
   "metadata": {},
   "outputs": [],
   "source": [
    "LoadBeforeDR = sum(load, dims=2)[:, 1]\n",
    "for i=1:size(LoadBeforeDR,1)            \n",
    "    println(LoadBeforeDR[i,:])        \n",
    "end"
   ]
  },
  {
   "cell_type": "code",
   "execution_count": null,
   "metadata": {},
   "outputs": [],
   "source": [
    "LoadAfterDR = [sum(load[t,:]) - sum(value.(DRCK[t,:,:]) .+ value.(DRSK[t,:,:]) .- value.(DRSRK[t,:,:])) for t in T]\n",
    "LoadAfterDR\n",
    "for i=1:size(LoadAfterDR,1)            \n",
    "    println(LoadAfterDR[i,:])        \n",
    "end"
   ]
  },
  {
   "cell_type": "code",
   "execution_count": 164,
   "metadata": {},
   "outputs": [],
   "source": [
    "plot(\n",
    "    LoadBeforeDR,\n",
    "    label = \"Load Before DR\",\n",
    "    xlabel = \"Time\",\n",
    "    ylabel = \"Load\",\n",
    "    xlims = (1, 24),\n",
    "    xticks = 1:24,\n",
    ")\n",
    "\n",
    "plot!(\n",
    "    LoadAfterDR,\n",
    "    label = \"Load After DR\",\n",
    "    xlabel = \"Time\",\n",
    "    ylabel = \"Load\",\n",
    "    xlims = (1, 24),\n",
    "    xticks = 1:24,\n",
    ")"
   ]
  },
  {
   "cell_type": "code",
   "execution_count": null,
   "metadata": {},
   "outputs": [],
   "source": []
  }
 ],
 "metadata": {
  "kernelspec": {
   "display_name": "Julia 1.8.5",
   "language": "julia",
   "name": "julia-1.8"
  },
  "language_info": {
   "file_extension": ".jl",
   "mimetype": "application/julia",
   "name": "julia",
   "version": "1.8.5"
  }
 },
 "nbformat": 4,
 "nbformat_minor": 4
}
