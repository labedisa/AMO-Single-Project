{
 "cells": [
  {
   "cell_type": "code",
   "execution_count": 3,
   "metadata": {},
   "outputs": [
    {
     "name": "stderr",
     "output_type": "stream",
     "text": [
      "\u001b[32m\u001b[1m  Activating\u001b[22m\u001b[39m project at `~/Documents/GitHub/AMO-Single-Project`\n"
     ]
    },
    {
     "name": "stderr",
     "output_type": "stream",
     "text": [
      "┌ Warning: The project dependencies or compat requirements have changed since the manifest was last resolved.\n",
      "│ It is recommended to `Pkg.resolve()` or consider `Pkg.update()` if necessary.\n",
      "└ @ Pkg.API /Users/julia/.julia/scratchspaces/a66863c6-20e8-4ff4-8a62-49f30b1f605e/agent-cache/default-macmini-x64-5.0/build/default-macmini-x64-5-0/julialang/julia-release-1-dot-8/usr/share/julia/stdlib/v1.8/Pkg/src/API.jl:1535\n"
     ]
    }
   ],
   "source": [
    "using Pkg\n",
    "Pkg.activate(\".\"); Pkg.instantiate()"
   ]
  },
  {
   "cell_type": "code",
   "execution_count": 4,
   "metadata": {},
   "outputs": [
    {
     "name": "stderr",
     "output_type": "stream",
     "text": [
      "\u001b[32m\u001b[1m    Updating\u001b[22m\u001b[39m registry at `~/.julia/registries/General.toml`\n"
     ]
    },
    {
     "name": "stderr",
     "output_type": "stream",
     "text": [
      "\u001b[32m\u001b[1m   Resolving\u001b[22m\u001b[39m package versions...\n"
     ]
    },
    {
     "name": "stderr",
     "output_type": "stream",
     "text": [
      "\u001b[32m\u001b[1m  No Changes\u001b[22m\u001b[39m to `~/Documents/GitHub/AMO-Single-Project/Project.toml`\n",
      "\u001b[32m\u001b[1m    Updating\u001b[22m\u001b[39m `~/Documents/GitHub/AMO-Single-Project/Manifest.toml`\n"
     ]
    },
    {
     "name": "stderr",
     "output_type": "stream",
     "text": [
      " \u001b[90m [621f4979] \u001b[39m\u001b[91m- AbstractFFTs v1.3.1\u001b[39m\n",
      " \u001b[90m [79e6a3ab] \u001b[39m\u001b[91m- Adapt v3.6.1\u001b[39m\n",
      " \u001b[90m [ec485272] \u001b[39m\u001b[91m- ArnoldiMethod v0.2.0\u001b[39m\n",
      " \u001b[90m [13072b0f] \u001b[39m\u001b[91m- AxisAlgorithms v1.0.1\u001b[39m\n",
      " \u001b[90m [aafaddc9] \u001b[39m\u001b[91m- CatIndices v0.2.2\u001b[39m\n",
      " \u001b[90m [aaaa29a8] \u001b[39m\u001b[91m- Clustering v0.14.4\u001b[39m\n",
      " \u001b[90m [a2cac450] \u001b[39m\u001b[91m- ColorBrewer v0.4.0\u001b[39m\n",
      " \u001b[90m [ed09eef8] \u001b[39m\u001b[91m- ComputationalResources v0.3.2\u001b[39m\n",
      " \u001b[90m [150eb455] \u001b[39m\u001b[91m- CoordinateTransformations v0.6.2\u001b[39m\n",
      " \u001b[90m [dc8bdbbb] \u001b[39m\u001b[91m- CustomUnitRanges v1.0.2\u001b[39m\n",
      " \u001b[90m [6e83dbb3] \u001b[39m\u001b[91m- Discretizers v3.2.2\u001b[39m\n",
      " \u001b[90m [b4f34e82] \u001b[39m\u001b[91m- Distances v0.10.8\u001b[39m\n",
      " \u001b[90m [4f61f5a4] \u001b[39m\u001b[91m- FFTViews v0.3.2\u001b[39m\n",
      " \u001b[90m [7a1cc6ca] \u001b[39m\u001b[91m- FFTW v1.6.0\u001b[39m\n",
      " \u001b[90m [5789e2e9] \u001b[39m\u001b[91m- FileIO v1.16.0\u001b[39m\n",
      " \u001b[90m [a2bd30eb] \u001b[39m\u001b[91m- Graphics v1.1.2\u001b[39m\n",
      " \u001b[90m [86223c79] \u001b[39m\u001b[91m- Graphs v1.8.0\u001b[39m\n",
      " \u001b[90m [2803e5a7] \u001b[39m\u001b[91m- ImageAxes v0.6.10\u001b[39m\n",
      " \u001b[90m [c817782e] \u001b[39m\u001b[91m- ImageBase v0.1.5\u001b[39m\n",
      " \u001b[90m [f332f351] \u001b[39m\u001b[91m- ImageContrastAdjustment v0.3.10\u001b[39m\n",
      " \u001b[90m [a09fc81d] \u001b[39m\u001b[91m- ImageCore v0.9.4\u001b[39m\n",
      " \u001b[90m [51556ac3] \u001b[39m\u001b[91m- ImageDistances v0.2.16\u001b[39m\n",
      " \u001b[90m [6a3955dd] \u001b[39m\u001b[91m- ImageFiltering v0.7.3\u001b[39m\n",
      " \u001b[90m [82e4d734] \u001b[39m\u001b[91m- ImageIO v0.6.6\u001b[39m\n",
      " \u001b[90m [6218d12a] \u001b[39m\u001b[91m- ImageMagick v1.2.2\u001b[39m\n",
      " \u001b[90m [bc367c6b] \u001b[39m\u001b[91m- ImageMetadata v0.9.8\u001b[39m\n",
      " \u001b[90m [787d08f9] \u001b[39m\u001b[91m- ImageMorphology v0.3.2\u001b[39m\n",
      " \u001b[90m [2996bd0c] \u001b[39m\u001b[91m- ImageQualityIndexes v0.3.4\u001b[39m\n",
      " \u001b[90m [80713f31] \u001b[39m\u001b[91m- ImageSegmentation v1.8.0\u001b[39m\n",
      " \u001b[90m [4e3cecfd] \u001b[39m\u001b[91m- ImageShow v0.3.7\u001b[39m\n",
      " \u001b[90m [02fcd773] \u001b[39m\u001b[91m- ImageTransformations v0.9.5\u001b[39m\n",
      " \u001b[90m [916415d5] \u001b[39m\u001b[91m- Images v0.25.2\u001b[39m\n",
      " \u001b[90m [9b13fd28] \u001b[39m\u001b[91m- IndirectArrays v1.0.0\u001b[39m\n",
      " \u001b[90m [d25df0c9] \u001b[39m\u001b[91m- Inflate v0.1.3\u001b[39m\n",
      " \u001b[90m [1d092043] \u001b[39m\u001b[91m- IntegralArrays v0.1.5\u001b[39m\n",
      " \u001b[90m [a98d9a8b] \u001b[39m\u001b[91m- Interpolations v0.14.7\u001b[39m\n",
      " \u001b[90m [033835bb] \u001b[39m\u001b[91m- JLD2 v0.4.31\u001b[39m\n",
      " \u001b[90m [b835a17e] \u001b[39m\u001b[91m- JpegTurbo v0.1.2\u001b[39m\n",
      " \u001b[90m [8cdb02fc] \u001b[39m\u001b[91m- LazyModules v0.3.1\u001b[39m\n",
      " \u001b[90m [dbb5928d] \u001b[39m\u001b[91m- MappedArrays v0.4.1\u001b[39m\n",
      " \u001b[90m [626554b9] \u001b[39m\u001b[91m- MetaGraphs v0.7.2\u001b[39m\n",
      " \u001b[90m [e94cdb99] \u001b[39m\u001b[91m- MosaicViews v0.3.4\u001b[39m\n",
      " \u001b[90m [b8a86587] \u001b[39m\u001b[91m- NearestNeighbors v0.4.13\u001b[39m\n",
      " \u001b[90m [f09324ee] \u001b[39m\u001b[91m- Netpbm v1.1.0\u001b[39m\n",
      " \u001b[90m [6fe1bfb0] \u001b[39m\u001b[91m- OffsetArrays v1.12.9\u001b[39m\n",
      " \u001b[90m [52e1d378] \u001b[39m\u001b[91m- OpenEXR v0.3.2\u001b[39m\n",
      " \u001b[90m [3b7a836e] \u001b[39m\u001b[91m- PGFPlots v3.4.2\u001b[39m\n",
      " \u001b[90m [f57f5aa1] \u001b[39m\u001b[91m- PNGFiles v0.3.17\u001b[39m\n",
      " \u001b[90m [5432bcbf] \u001b[39m\u001b[91m- PaddedViews v0.5.11\u001b[39m\n",
      " \u001b[90m [eebad327] \u001b[39m\u001b[91m- PkgVersion v0.3.2\u001b[39m\n",
      " \u001b[90m [92933f4c] \u001b[39m\u001b[91m- ProgressMeter v1.7.2\u001b[39m\n",
      " \u001b[90m [4b34888f] \u001b[39m\u001b[91m- QOI v1.0.0\u001b[39m\n",
      " \u001b[90m [94ee1d12] \u001b[39m\u001b[91m- Quaternions v0.7.4\u001b[39m\n",
      " \u001b[90m [c84ed2f1] \u001b[39m\u001b[91m- Ratios v0.4.3\u001b[39m\n",
      " \u001b[90m [c1ae055f] \u001b[39m\u001b[91m- RealDot v0.1.0\u001b[39m\n"
     ]
    },
    {
     "name": "stderr",
     "output_type": "stream",
     "text": [
      " \u001b[90m [dee08c22] \u001b[39m\u001b[91m- RegionTrees v0.3.2\u001b[39m\n",
      " \u001b[90m [6038ab10] \u001b[39m\u001b[91m- Rotations v1.4.0\u001b[39m\n",
      " \u001b[90m [699a6c99] \u001b[39m\u001b[91m- SimpleTraits v0.9.4\u001b[39m\n",
      " \u001b[90m [47aef6b3] \u001b[39m\u001b[91m- SimpleWeightedGraphs v1.3.0\u001b[39m\n",
      " \u001b[90m [45858cf5] \u001b[39m\u001b[91m- Sixel v0.1.2\u001b[39m\n",
      " \u001b[90m [cae243ae] \u001b[39m\u001b[91m- StackViews v0.1.1\u001b[39m\n",
      " \u001b[90m [9ac5f52a] \u001b[39m\u001b[91m- Tectonic v0.8.0\u001b[39m\n",
      " \u001b[90m [731e570b] \u001b[39m\u001b[91m- TiffImages v0.6.4\u001b[39m\n",
      " \u001b[90m [37f6aa50] \u001b[39m\u001b[91m- TikzPictures v3.4.2\u001b[39m\n",
      " \u001b[90m [06e1c1a7] \u001b[39m\u001b[91m- TiledIteration v0.3.1\u001b[39m\n",
      " \u001b[90m [efce3f68] \u001b[39m\u001b[91m- WoodburyMatrices v0.5.5\u001b[39m\n",
      " \u001b[90m [f5851436] \u001b[39m\u001b[91m- FFTW_jll v3.3.10+0\u001b[39m\n",
      " \u001b[90m [c73af94c] \u001b[39m\u001b[91m- ImageMagick_jll v6.9.10-12+3\u001b[39m\n",
      " \u001b[90m [905a6f67] \u001b[39m\u001b[91m- Imath_jll v3.1.7+0\u001b[39m\n",
      " \u001b[90m [1d5cc7b8] \u001b[39m\u001b[91m- IntelOpenMP_jll v2018.0.3+2\u001b[39m\n",
      " \u001b[90m [d3a379c0] \u001b[39m\u001b[91m- LittleCMS_jll v2.12.0+0\u001b[39m\n",
      " \u001b[90m [856f044c] \u001b[39m\u001b[91m- MKL_jll v2022.2.0+0\u001b[39m\n",
      " \u001b[90m [18a262bb] \u001b[39m\u001b[91m- OpenEXR_jll v3.1.4+0\u001b[39m\n",
      " \u001b[90m [643b3616] \u001b[39m\u001b[91m- OpenJpeg_jll v2.4.0+0\u001b[39m\n",
      " \u001b[90m [9c32591e] \u001b[39m\u001b[91m- Poppler_jll v0.87.0+2\u001b[39m\n",
      " \u001b[90m [075b6546] \u001b[39m\u001b[91m- libsixel_jll v1.10.3+0\u001b[39m\n",
      " \u001b[90m [8ba89e20] \u001b[39m\u001b[91m- Distributed\u001b[39m\n",
      " \u001b[90m [4af54fe1] \u001b[39m\u001b[91m- LazyArtifacts\u001b[39m\n",
      " \u001b[90m [1a1011a3] \u001b[39m\u001b[91m- SharedArrays\u001b[39m\n"
     ]
    },
    {
     "name": "stderr",
     "output_type": "stream",
     "text": [
      "\u001b[32m\u001b[1m   Resolving\u001b[22m\u001b[39m package versions...\n"
     ]
    },
    {
     "name": "stderr",
     "output_type": "stream",
     "text": [
      "\u001b[32m\u001b[1m  No Changes\u001b[22m\u001b[39m to `~/Documents/GitHub/AMO-Single-Project/Project.toml`\n",
      "\u001b[32m\u001b[1m  No Changes\u001b[22m\u001b[39m to `~/Documents/GitHub/AMO-Single-Project/Manifest.toml`\n"
     ]
    },
    {
     "name": "stderr",
     "output_type": "stream",
     "text": [
      "\u001b[32m\u001b[1m   Resolving\u001b[22m\u001b[39m package versions...\n"
     ]
    },
    {
     "name": "stderr",
     "output_type": "stream",
     "text": [
      "\u001b[32m\u001b[1m  No Changes\u001b[22m\u001b[39m to `~/Documents/GitHub/AMO-Single-Project/Project.toml`\n",
      "\u001b[32m\u001b[1m  No Changes\u001b[22m\u001b[39m to `~/Documents/GitHub/AMO-Single-Project/Manifest.toml`\n"
     ]
    },
    {
     "name": "stderr",
     "output_type": "stream",
     "text": [
      "\u001b[32m\u001b[1m   Resolving\u001b[22m\u001b[39m package versions...\n"
     ]
    },
    {
     "name": "stderr",
     "output_type": "stream",
     "text": [
      "\u001b[32m\u001b[1m  No Changes\u001b[22m\u001b[39m to `~/Documents/GitHub/AMO-Single-Project/Project.toml`\n",
      "\u001b[32m\u001b[1m  No Changes\u001b[22m\u001b[39m to `~/Documents/GitHub/AMO-Single-Project/Manifest.toml`\n"
     ]
    },
    {
     "name": "stderr",
     "output_type": "stream",
     "text": [
      "\u001b[32m\u001b[1m   Resolving\u001b[22m\u001b[39m package versions...\n"
     ]
    },
    {
     "name": "stderr",
     "output_type": "stream",
     "text": [
      "\u001b[32m\u001b[1m  No Changes\u001b[22m\u001b[39m to `~/Documents/GitHub/AMO-Single-Project/Project.toml`\n",
      "\u001b[32m\u001b[1m  No Changes\u001b[22m\u001b[39m to `~/Documents/GitHub/AMO-Single-Project/Manifest.toml`\n"
     ]
    },
    {
     "name": "stderr",
     "output_type": "stream",
     "text": [
      "\u001b[32m\u001b[1m   Resolving\u001b[22m\u001b[39m package versions...\n"
     ]
    },
    {
     "name": "stderr",
     "output_type": "stream",
     "text": [
      "\u001b[32m\u001b[1m  No Changes\u001b[22m\u001b[39m to `~/Documents/GitHub/AMO-Single-Project/Project.toml`\n",
      "\u001b[32m\u001b[1m  No Changes\u001b[22m\u001b[39m to `~/Documents/GitHub/AMO-Single-Project/Manifest.toml`\n"
     ]
    },
    {
     "name": "stderr",
     "output_type": "stream",
     "text": [
      "\u001b[32m\u001b[1m   Resolving\u001b[22m\u001b[39m package versions...\n"
     ]
    },
    {
     "name": "stderr",
     "output_type": "stream",
     "text": [
      "\u001b[32m\u001b[1m  No Changes\u001b[22m\u001b[39m to `~/Documents/GitHub/AMO-Single-Project/Project.toml`\n"
     ]
    },
    {
     "name": "stderr",
     "output_type": "stream",
     "text": [
      "\u001b[32m\u001b[1m  No Changes\u001b[22m\u001b[39m to `~/Documents/GitHub/AMO-Single-Project/Manifest.toml`\n"
     ]
    },
    {
     "name": "stderr",
     "output_type": "stream",
     "text": [
      "\u001b[32m\u001b[1m   Resolving\u001b[22m\u001b[39m package versions...\n"
     ]
    },
    {
     "name": "stderr",
     "output_type": "stream",
     "text": [
      "\u001b[32m\u001b[1m  No Changes\u001b[22m\u001b[39m to `~/Documents/GitHub/AMO-Single-Project/Project.toml`\n",
      "\u001b[32m\u001b[1m  No Changes\u001b[22m\u001b[39m to `~/Documents/GitHub/AMO-Single-Project/Manifest.toml`\n"
     ]
    },
    {
     "name": "stderr",
     "output_type": "stream",
     "text": [
      "\u001b[32m\u001b[1m   Resolving\u001b[22m\u001b[39m package versions...\n"
     ]
    },
    {
     "name": "stderr",
     "output_type": "stream",
     "text": [
      "\u001b[32m\u001b[1m  No Changes\u001b[22m\u001b[39m to `~/Documents/GitHub/AMO-Single-Project/Project.toml`\n",
      "\u001b[32m\u001b[1m  No Changes\u001b[22m\u001b[39m to `~/Documents/GitHub/AMO-Single-Project/Manifest.toml`\n"
     ]
    },
    {
     "name": "stderr",
     "output_type": "stream",
     "text": [
      "\u001b[32m\u001b[1m   Resolving\u001b[22m\u001b[39m package versions...\n"
     ]
    },
    {
     "name": "stderr",
     "output_type": "stream",
     "text": [
      "\u001b[32m\u001b[1m  No Changes\u001b[22m\u001b[39m to `~/Documents/GitHub/AMO-Single-Project/Project.toml`\n",
      "\u001b[32m\u001b[1m  No Changes\u001b[22m\u001b[39m to `~/Documents/GitHub/AMO-Single-Project/Manifest.toml`\n"
     ]
    },
    {
     "name": "stderr",
     "output_type": "stream",
     "text": [
      "\u001b[32m\u001b[1m   Resolving\u001b[22m\u001b[39m package versions...\n"
     ]
    },
    {
     "name": "stderr",
     "output_type": "stream",
     "text": [
      "\u001b[32m\u001b[1m  No Changes\u001b[22m\u001b[39m to `~/Documents/GitHub/AMO-Single-Project/Project.toml`\n",
      "\u001b[32m\u001b[1m  No Changes\u001b[22m\u001b[39m to `~/Documents/GitHub/AMO-Single-Project/Manifest.toml`\n"
     ]
    }
   ],
   "source": [
    "#import Pkg\n",
    "Pkg.add(\"AxisArrays\")\n",
    "Pkg.add(\"JuMP\")\n",
    "Pkg.add(\"XLSX\")\n",
    "Pkg.add(\"DataFrames\")\n",
    "Pkg.add(\"Plots\")\n",
    "Pkg.add(\"AxisArrays\")\n",
    "Pkg.add(\"Statistics\")\n",
    "Pkg.add(\"PGFPlotsX\")\n",
    "Pkg.add(\"AxisArrays\")\n",
    "Pkg.add(\"CPLEX\")\n",
    "Pkg.add(\"HiGHS\")"
   ]
  },
  {
   "cell_type": "code",
   "execution_count": 5,
   "metadata": {},
   "outputs": [],
   "source": [
    "using JuMP, XLSX, DataFrames, Plots, AxisArrays, Statistics, PGFPlotsX, CPLEX, HiGHS"
   ]
  },
  {
   "cell_type": "code",
   "execution_count": 6,
   "metadata": {},
   "outputs": [
    {
     "data": {
      "text/plain": [
       "Plots.PGFPlotsXBackend()"
      ]
     },
     "metadata": {},
     "output_type": "display_data"
    }
   ],
   "source": [
    "pgfplotsx()"
   ]
  },
  {
   "attachments": {},
   "cell_type": "markdown",
   "metadata": {},
   "source": [
    "# Data\n",
    "Read in data."
   ]
  },
  {
   "cell_type": "markdown",
   "metadata": {},
   "source": [
    "xl = XLSX.readxlsx(\"C2_Bilevel_Demand_Response.xlsx\") \n",
    "data = Dict()\n",
    "\n",
    "for s in XLSX.sheetnames(xl)\n",
    "    data[s] = DataFrame(XLSX.gettable(xl[s]; infer_eltypes=true))\n",
    "end"
   ]
  },
  {
   "cell_type": "markdown",
   "metadata": {},
   "source": [
    "Define sets and cardinalities from data."
   ]
  },
  {
   "cell_type": "markdown",
   "metadata": {},
   "source": [
    "G = data[\"unitinfo\"][:, :ID]\n",
    "L = data[\"lineinfo\"][:, :ID]\n",
    "T = data[\"load\"][:, :t]\n",
    "N = data[\"nodeinfo\"][:, :ID]\n",
    "S = unique(data[\"scenarios\"][:, :major])\n",
    "K = unique(data[\"DRCinfo\"][:, :k])\n",
    "\n",
    "NG = length(G)\n",
    "NL = length(L)\n",
    "NT = length(T)\n",
    "NN = length(N)\n",
    "NS = length(S)\n",
    "NK = length(K)"
   ]
  },
  {
   "attachments": {},
   "cell_type": "markdown",
   "metadata": {},
   "source": [
    "# Workshop Test"
   ]
  },
  {
   "cell_type": "markdown",
   "metadata": {},
   "source": [
    "#Generator (unit) data.\n",
    "gd = Dict(c => AxisArray(data[\"unitinfo\"][:, c], g=G) for c in names(data[\"unitinfo\"]));\n",
    "\n",
    "#Line data\n",
    "ld = Dict(c => AxisArray(data[\"lineinfo\"][:, c], l=L) for c in names(data[\"lineinfo\"]));\n",
    "\n",
    "B = AxisArray(zeros(NL, NN), l=L, n=N)\n",
    "for l in L \n",
    "    for (idn, n) in enumerate(N)\n",
    "        if ld[\"from\"][l] == idn\n",
    "            B[l, n] = -1/ld[\"X\"][l]\n",
    "        elseif ld[\"to\"][l] == idn\n",
    "            B[l, n] = 1/ld[\"X\"][l]\n",
    "        end\n",
    "    end\n",
    "end\n",
    "\n",
    "#Load data \n",
    "load = AxisArray(Matrix(data[\"load\"][:, Not(:t)]), t=T, n=N);\n",
    "cost_ls = 100.0\n",
    "\n",
    "#Wind Scenarios.\n",
    "wind_cap = AxisArray(zeros(NN), n=N)\n",
    "wind_cap[\"n6\"] = 20.0\n",
    "\n",
    "pi = AxisArray(ones(NS)/NS, s=S)\n",
    "\n",
    "wind = AxisArray(zeros(NS, NN, NT), s=S, n=N, t=T)\n",
    "for r in eachrow(data[\"scenarios\"])\n",
    "    for t in T\n",
    "        wind[r[:major], r[:minor], t] = r[t]*wind_cap[r[:minor]]\n",
    "    end\n",
    "end\n",
    "\n",
    "ewind = mean(wind, dims=1)[1, :, :]\n",
    "stdwind = std(wind, dims=1)[1, :, :]\n",
    "cost_ws = 20.0\n",
    "\n",
    "#DRCinfo\n",
    "cols = names(data[\"DRCinfo\"][:, Not([\"t\", \"n\", \"k\"])])\n",
    "\n",
    "DRCd = Dict(c => AxisArray(zeros(NT, NN, NK), t=T, n=N, k=K) for c in cols)\n",
    "\n",
    "for r in eachrow(data[\"DRCinfo\"])\n",
    "    for c in cols\n",
    "        DRCd[c][r[:t], r[:n], r[:k]] = r[c]\n",
    "    end\n",
    "end\n",
    "\n",
    "#DRSinfo\n",
    "cols = names(data[\"DRSinfo\"][:, Not([\"t\", \"n\", \"k\"])])\n",
    "\n",
    "DRSd = Dict(c => AxisArray(zeros(NT, NN, NK), t=T, n=N, k=K) for c in cols)\n",
    "\n",
    "for r in eachrow(data[\"DRSinfo\"])\n",
    "    for c in cols\n",
    "        DRSd[c][r[:t], r[:n], r[:k]] = r[c]\n",
    "    end\n",
    "end\n",
    "\n",
    "max_rec = 2.0\n",
    "\n",
    "#Node info\n",
    "ng = AxisArray(\n",
    "    [[g for g in G if gd[\"origin\"][g] == idn] for (idn, n) in enumerate(N)],\n",
    "    n = N\n",
    ")\n",
    "\n",
    "nl = AxisArray(zeros(Int, NN, NL), n=N, l=L)\n",
    "for l in L\n",
    "    nl[N[ld[\"from\"][l]], l] = 1\n",
    "    nl[N[ld[\"to\"][l]], l] = -1\n",
    "end\n"
   ]
  },
  {
   "attachments": {},
   "cell_type": "markdown",
   "metadata": {},
   "source": [
    "# Read In And Prepare Data "
   ]
  },
  {
   "cell_type": "code",
   "execution_count": 13,
   "metadata": {},
   "outputs": [
    {
     "data": {
      "text/plain": [
       "Dict{String, DataFrame}()"
      ]
     },
     "metadata": {},
     "output_type": "display_data"
    }
   ],
   "source": [
    "mydata = Dict{String, DataFrame}()"
   ]
  },
  {
   "cell_type": "code",
   "execution_count": 61,
   "metadata": {},
   "outputs": [
    {
     "name": "stdout",
     "output_type": "stream",
     "text": [
      "curtailment data read in successfully"
     ]
    }
   ],
   "source": [
    "xl = XLSX.readxlsx(\"data/curtailmentinfo.xlsx\")\n",
    "mydata[\"curtailmentinfo\"] = DataFrame(XLSX.gettable(xl[\"curtailmentinfo\"]; infer_eltypes=true))\n",
    "print(\"curtailment data read in successfully\")"
   ]
  },
  {
   "cell_type": "code",
   "execution_count": 62,
   "metadata": {},
   "outputs": [
    {
     "data": {
      "text/html": [
       "<div><div style = \"float: left;\"><span>459×9 DataFrame</span></div><div style = \"float: right;\"><span style = \"font-style: italic;\">434 rows omitted</span></div><div style = \"clear: both;\"></div></div><div class = \"data-frame\" style = \"overflow-x: scroll;\"><table class = \"data-frame\" style = \"margin-bottom: 6px;\"><thead><tr class = \"header\"><th class = \"rowNumber\" style = \"font-weight: bold; text-align: right;\">Row</th><th style = \"text-align: left;\">t</th><th style = \"text-align: left;\">n</th><th style = \"text-align: left;\">k</th><th style = \"text-align: left;\">cost</th><th style = \"text-align: left;\">min</th><th style = \"text-align: left;\">max</th><th style = \"text-align: left;\">SUC</th><th style = \"text-align: left;\">costb</th><th style = \"text-align: left;\">SUCb</th></tr><tr class = \"subheader headerLastRow\"><th class = \"rowNumber\" style = \"font-weight: bold; text-align: right;\"></th><th title = \"String\" style = \"text-align: left;\">String</th><th title = \"String\" style = \"text-align: left;\">String</th><th title = \"String\" style = \"text-align: left;\">String</th><th title = \"Float64\" style = \"text-align: left;\">Float64</th><th title = \"Float64\" style = \"text-align: left;\">Float64</th><th title = \"Float64\" style = \"text-align: left;\">Float64</th><th title = \"Float64\" style = \"text-align: left;\">Float64</th><th title = \"Float64\" style = \"text-align: left;\">Float64</th><th title = \"Float64\" style = \"text-align: left;\">Float64</th></tr></thead><tbody><tr><td class = \"rowNumber\" style = \"font-weight: bold; text-align: right;\">1</td><td style = \"text-align: left;\">t12</td><td style = \"text-align: left;\">n1</td><td style = \"text-align: left;\">k1</td><td style = \"text-align: right;\">15.0</td><td style = \"text-align: right;\">0.51</td><td style = \"text-align: right;\">0.56</td><td style = \"text-align: right;\">20.0</td><td style = \"text-align: right;\">10.0</td><td style = \"text-align: right;\">15.0</td></tr><tr><td class = \"rowNumber\" style = \"font-weight: bold; text-align: right;\">2</td><td style = \"text-align: left;\">t12</td><td style = \"text-align: left;\">n1</td><td style = \"text-align: left;\">k2</td><td style = \"text-align: right;\">17.0</td><td style = \"text-align: right;\">0.51</td><td style = \"text-align: right;\">0.56</td><td style = \"text-align: right;\">20.0</td><td style = \"text-align: right;\">12.0</td><td style = \"text-align: right;\">15.0</td></tr><tr><td class = \"rowNumber\" style = \"font-weight: bold; text-align: right;\">3</td><td style = \"text-align: left;\">t12</td><td style = \"text-align: left;\">n1</td><td style = \"text-align: left;\">k3</td><td style = \"text-align: right;\">19.0</td><td style = \"text-align: right;\">0.51</td><td style = \"text-align: right;\">0.56</td><td style = \"text-align: right;\">20.0</td><td style = \"text-align: right;\">14.0</td><td style = \"text-align: right;\">15.0</td></tr><tr><td class = \"rowNumber\" style = \"font-weight: bold; text-align: right;\">4</td><td style = \"text-align: left;\">t12</td><td style = \"text-align: left;\">n2</td><td style = \"text-align: left;\">k1</td><td style = \"text-align: right;\">15.0</td><td style = \"text-align: right;\">0.51</td><td style = \"text-align: right;\">0.56</td><td style = \"text-align: right;\">20.0</td><td style = \"text-align: right;\">10.0</td><td style = \"text-align: right;\">15.0</td></tr><tr><td class = \"rowNumber\" style = \"font-weight: bold; text-align: right;\">5</td><td style = \"text-align: left;\">t12</td><td style = \"text-align: left;\">n2</td><td style = \"text-align: left;\">k2</td><td style = \"text-align: right;\">17.0</td><td style = \"text-align: right;\">0.51</td><td style = \"text-align: right;\">0.56</td><td style = \"text-align: right;\">20.0</td><td style = \"text-align: right;\">12.0</td><td style = \"text-align: right;\">15.0</td></tr><tr><td class = \"rowNumber\" style = \"font-weight: bold; text-align: right;\">6</td><td style = \"text-align: left;\">t12</td><td style = \"text-align: left;\">n2</td><td style = \"text-align: left;\">k3</td><td style = \"text-align: right;\">19.0</td><td style = \"text-align: right;\">0.51</td><td style = \"text-align: right;\">0.56</td><td style = \"text-align: right;\">20.0</td><td style = \"text-align: right;\">14.0</td><td style = \"text-align: right;\">15.0</td></tr><tr><td class = \"rowNumber\" style = \"font-weight: bold; text-align: right;\">7</td><td style = \"text-align: left;\">t12</td><td style = \"text-align: left;\">n3</td><td style = \"text-align: left;\">k1</td><td style = \"text-align: right;\">15.0</td><td style = \"text-align: right;\">0.51</td><td style = \"text-align: right;\">0.56</td><td style = \"text-align: right;\">20.0</td><td style = \"text-align: right;\">10.0</td><td style = \"text-align: right;\">15.0</td></tr><tr><td class = \"rowNumber\" style = \"font-weight: bold; text-align: right;\">8</td><td style = \"text-align: left;\">t12</td><td style = \"text-align: left;\">n3</td><td style = \"text-align: left;\">k2</td><td style = \"text-align: right;\">17.0</td><td style = \"text-align: right;\">0.51</td><td style = \"text-align: right;\">0.56</td><td style = \"text-align: right;\">20.0</td><td style = \"text-align: right;\">12.0</td><td style = \"text-align: right;\">15.0</td></tr><tr><td class = \"rowNumber\" style = \"font-weight: bold; text-align: right;\">9</td><td style = \"text-align: left;\">t12</td><td style = \"text-align: left;\">n3</td><td style = \"text-align: left;\">k3</td><td style = \"text-align: right;\">19.0</td><td style = \"text-align: right;\">0.51</td><td style = \"text-align: right;\">0.56</td><td style = \"text-align: right;\">20.0</td><td style = \"text-align: right;\">14.0</td><td style = \"text-align: right;\">15.0</td></tr><tr><td class = \"rowNumber\" style = \"font-weight: bold; text-align: right;\">10</td><td style = \"text-align: left;\">t12</td><td style = \"text-align: left;\">n4</td><td style = \"text-align: left;\">k1</td><td style = \"text-align: right;\">15.0</td><td style = \"text-align: right;\">0.51</td><td style = \"text-align: right;\">0.56</td><td style = \"text-align: right;\">20.0</td><td style = \"text-align: right;\">10.0</td><td style = \"text-align: right;\">15.0</td></tr><tr><td class = \"rowNumber\" style = \"font-weight: bold; text-align: right;\">11</td><td style = \"text-align: left;\">t12</td><td style = \"text-align: left;\">n4</td><td style = \"text-align: left;\">k2</td><td style = \"text-align: right;\">17.0</td><td style = \"text-align: right;\">0.51</td><td style = \"text-align: right;\">0.56</td><td style = \"text-align: right;\">20.0</td><td style = \"text-align: right;\">12.0</td><td style = \"text-align: right;\">15.0</td></tr><tr><td class = \"rowNumber\" style = \"font-weight: bold; text-align: right;\">12</td><td style = \"text-align: left;\">t12</td><td style = \"text-align: left;\">n4</td><td style = \"text-align: left;\">k3</td><td style = \"text-align: right;\">19.0</td><td style = \"text-align: right;\">0.51</td><td style = \"text-align: right;\">0.56</td><td style = \"text-align: right;\">20.0</td><td style = \"text-align: right;\">14.0</td><td style = \"text-align: right;\">15.0</td></tr><tr><td class = \"rowNumber\" style = \"font-weight: bold; text-align: right;\">13</td><td style = \"text-align: left;\">t12</td><td style = \"text-align: left;\">n5</td><td style = \"text-align: left;\">k1</td><td style = \"text-align: right;\">15.0</td><td style = \"text-align: right;\">0.51</td><td style = \"text-align: right;\">0.56</td><td style = \"text-align: right;\">20.0</td><td style = \"text-align: right;\">10.0</td><td style = \"text-align: right;\">15.0</td></tr><tr><td style = \"text-align: right;\">&vellip;</td><td style = \"text-align: right;\">&vellip;</td><td style = \"text-align: right;\">&vellip;</td><td style = \"text-align: right;\">&vellip;</td><td style = \"text-align: right;\">&vellip;</td><td style = \"text-align: right;\">&vellip;</td><td style = \"text-align: right;\">&vellip;</td><td style = \"text-align: right;\">&vellip;</td><td style = \"text-align: right;\">&vellip;</td><td style = \"text-align: right;\">&vellip;</td></tr><tr><td class = \"rowNumber\" style = \"font-weight: bold; text-align: right;\">448</td><td style = \"text-align: left;\">t20</td><td style = \"text-align: left;\">n16</td><td style = \"text-align: left;\">k1</td><td style = \"text-align: right;\">15.0</td><td style = \"text-align: right;\">1.05</td><td style = \"text-align: right;\">1.11</td><td style = \"text-align: right;\">20.0</td><td style = \"text-align: right;\">10.0</td><td style = \"text-align: right;\">15.0</td></tr><tr><td class = \"rowNumber\" style = \"font-weight: bold; text-align: right;\">449</td><td style = \"text-align: left;\">t20</td><td style = \"text-align: left;\">n16</td><td style = \"text-align: left;\">k2</td><td style = \"text-align: right;\">17.0</td><td style = \"text-align: right;\">1.05</td><td style = \"text-align: right;\">1.11</td><td style = \"text-align: right;\">20.0</td><td style = \"text-align: right;\">12.0</td><td style = \"text-align: right;\">15.0</td></tr><tr><td class = \"rowNumber\" style = \"font-weight: bold; text-align: right;\">450</td><td style = \"text-align: left;\">t20</td><td style = \"text-align: left;\">n16</td><td style = \"text-align: left;\">k3</td><td style = \"text-align: right;\">19.0</td><td style = \"text-align: right;\">1.05</td><td style = \"text-align: right;\">1.11</td><td style = \"text-align: right;\">20.0</td><td style = \"text-align: right;\">14.0</td><td style = \"text-align: right;\">15.0</td></tr><tr><td class = \"rowNumber\" style = \"font-weight: bold; text-align: right;\">451</td><td style = \"text-align: left;\">t20</td><td style = \"text-align: left;\">n18</td><td style = \"text-align: left;\">k1</td><td style = \"text-align: right;\">15.0</td><td style = \"text-align: right;\">1.05</td><td style = \"text-align: right;\">1.11</td><td style = \"text-align: right;\">20.0</td><td style = \"text-align: right;\">10.0</td><td style = \"text-align: right;\">15.0</td></tr><tr><td class = \"rowNumber\" style = \"font-weight: bold; text-align: right;\">452</td><td style = \"text-align: left;\">t20</td><td style = \"text-align: left;\">n18</td><td style = \"text-align: left;\">k2</td><td style = \"text-align: right;\">17.0</td><td style = \"text-align: right;\">1.05</td><td style = \"text-align: right;\">1.11</td><td style = \"text-align: right;\">20.0</td><td style = \"text-align: right;\">12.0</td><td style = \"text-align: right;\">15.0</td></tr><tr><td class = \"rowNumber\" style = \"font-weight: bold; text-align: right;\">453</td><td style = \"text-align: left;\">t20</td><td style = \"text-align: left;\">n18</td><td style = \"text-align: left;\">k3</td><td style = \"text-align: right;\">19.0</td><td style = \"text-align: right;\">1.05</td><td style = \"text-align: right;\">1.11</td><td style = \"text-align: right;\">20.0</td><td style = \"text-align: right;\">14.0</td><td style = \"text-align: right;\">15.0</td></tr><tr><td class = \"rowNumber\" style = \"font-weight: bold; text-align: right;\">454</td><td style = \"text-align: left;\">t20</td><td style = \"text-align: left;\">n19</td><td style = \"text-align: left;\">k1</td><td style = \"text-align: right;\">15.0</td><td style = \"text-align: right;\">1.05</td><td style = \"text-align: right;\">1.11</td><td style = \"text-align: right;\">20.0</td><td style = \"text-align: right;\">10.0</td><td style = \"text-align: right;\">15.0</td></tr><tr><td class = \"rowNumber\" style = \"font-weight: bold; text-align: right;\">455</td><td style = \"text-align: left;\">t20</td><td style = \"text-align: left;\">n19</td><td style = \"text-align: left;\">k2</td><td style = \"text-align: right;\">17.0</td><td style = \"text-align: right;\">1.05</td><td style = \"text-align: right;\">1.11</td><td style = \"text-align: right;\">20.0</td><td style = \"text-align: right;\">12.0</td><td style = \"text-align: right;\">15.0</td></tr><tr><td class = \"rowNumber\" style = \"font-weight: bold; text-align: right;\">456</td><td style = \"text-align: left;\">t20</td><td style = \"text-align: left;\">n19</td><td style = \"text-align: left;\">k3</td><td style = \"text-align: right;\">19.0</td><td style = \"text-align: right;\">1.05</td><td style = \"text-align: right;\">1.11</td><td style = \"text-align: right;\">20.0</td><td style = \"text-align: right;\">14.0</td><td style = \"text-align: right;\">15.0</td></tr><tr><td class = \"rowNumber\" style = \"font-weight: bold; text-align: right;\">457</td><td style = \"text-align: left;\">t20</td><td style = \"text-align: left;\">n20</td><td style = \"text-align: left;\">k1</td><td style = \"text-align: right;\">15.0</td><td style = \"text-align: right;\">1.05</td><td style = \"text-align: right;\">1.11</td><td style = \"text-align: right;\">20.0</td><td style = \"text-align: right;\">10.0</td><td style = \"text-align: right;\">15.0</td></tr><tr><td class = \"rowNumber\" style = \"font-weight: bold; text-align: right;\">458</td><td style = \"text-align: left;\">t20</td><td style = \"text-align: left;\">n20</td><td style = \"text-align: left;\">k2</td><td style = \"text-align: right;\">17.0</td><td style = \"text-align: right;\">1.05</td><td style = \"text-align: right;\">1.11</td><td style = \"text-align: right;\">20.0</td><td style = \"text-align: right;\">12.0</td><td style = \"text-align: right;\">15.0</td></tr><tr><td class = \"rowNumber\" style = \"font-weight: bold; text-align: right;\">459</td><td style = \"text-align: left;\">t20</td><td style = \"text-align: left;\">n20</td><td style = \"text-align: left;\">k3</td><td style = \"text-align: right;\">19.0</td><td style = \"text-align: right;\">1.05</td><td style = \"text-align: right;\">1.11</td><td style = \"text-align: right;\">20.0</td><td style = \"text-align: right;\">14.0</td><td style = \"text-align: right;\">15.0</td></tr></tbody></table></div>"
      ],
      "text/latex": [
       "\\begin{tabular}{r|ccccccccc}\n",
       "\t& t & n & k & cost & min & max & SUC & costb & SUCb\\\\\n",
       "\t\\hline\n",
       "\t& String & String & String & Float64 & Float64 & Float64 & Float64 & Float64 & Float64\\\\\n",
       "\t\\hline\n",
       "\t1 & t12 & n1 & k1 & 15.0 & 0.51 & 0.56 & 20.0 & 10.0 & 15.0 \\\\\n",
       "\t2 & t12 & n1 & k2 & 17.0 & 0.51 & 0.56 & 20.0 & 12.0 & 15.0 \\\\\n",
       "\t3 & t12 & n1 & k3 & 19.0 & 0.51 & 0.56 & 20.0 & 14.0 & 15.0 \\\\\n",
       "\t4 & t12 & n2 & k1 & 15.0 & 0.51 & 0.56 & 20.0 & 10.0 & 15.0 \\\\\n",
       "\t5 & t12 & n2 & k2 & 17.0 & 0.51 & 0.56 & 20.0 & 12.0 & 15.0 \\\\\n",
       "\t6 & t12 & n2 & k3 & 19.0 & 0.51 & 0.56 & 20.0 & 14.0 & 15.0 \\\\\n",
       "\t7 & t12 & n3 & k1 & 15.0 & 0.51 & 0.56 & 20.0 & 10.0 & 15.0 \\\\\n",
       "\t8 & t12 & n3 & k2 & 17.0 & 0.51 & 0.56 & 20.0 & 12.0 & 15.0 \\\\\n",
       "\t9 & t12 & n3 & k3 & 19.0 & 0.51 & 0.56 & 20.0 & 14.0 & 15.0 \\\\\n",
       "\t10 & t12 & n4 & k1 & 15.0 & 0.51 & 0.56 & 20.0 & 10.0 & 15.0 \\\\\n",
       "\t11 & t12 & n4 & k2 & 17.0 & 0.51 & 0.56 & 20.0 & 12.0 & 15.0 \\\\\n",
       "\t12 & t12 & n4 & k3 & 19.0 & 0.51 & 0.56 & 20.0 & 14.0 & 15.0 \\\\\n",
       "\t13 & t12 & n5 & k1 & 15.0 & 0.51 & 0.56 & 20.0 & 10.0 & 15.0 \\\\\n",
       "\t14 & t12 & n5 & k2 & 17.0 & 0.51 & 0.56 & 20.0 & 12.0 & 15.0 \\\\\n",
       "\t15 & t12 & n5 & k3 & 19.0 & 0.51 & 0.56 & 20.0 & 14.0 & 15.0 \\\\\n",
       "\t16 & t12 & n6 & k1 & 15.0 & 0.51 & 0.56 & 20.0 & 10.0 & 15.0 \\\\\n",
       "\t17 & t12 & n6 & k2 & 17.0 & 0.51 & 0.56 & 20.0 & 12.0 & 15.0 \\\\\n",
       "\t18 & t12 & n6 & k3 & 19.0 & 0.51 & 0.56 & 20.0 & 14.0 & 15.0 \\\\\n",
       "\t19 & t12 & n7 & k1 & 15.0 & 1.07 & 1.12 & 20.0 & 10.0 & 15.0 \\\\\n",
       "\t20 & t12 & n7 & k2 & 17.0 & 1.07 & 1.12 & 20.0 & 12.0 & 15.0 \\\\\n",
       "\t21 & t12 & n7 & k3 & 19.0 & 1.07 & 1.12 & 20.0 & 14.0 & 15.0 \\\\\n",
       "\t22 & t12 & n8 & k1 & 15.0 & 1.07 & 1.12 & 20.0 & 10.0 & 15.0 \\\\\n",
       "\t23 & t12 & n8 & k2 & 17.0 & 1.07 & 1.12 & 20.0 & 12.0 & 15.0 \\\\\n",
       "\t24 & t12 & n8 & k3 & 19.0 & 1.07 & 1.12 & 20.0 & 14.0 & 15.0 \\\\\n",
       "\t$\\dots$ & $\\dots$ & $\\dots$ & $\\dots$ & $\\dots$ & $\\dots$ & $\\dots$ & $\\dots$ & $\\dots$ & $\\dots$ \\\\\n",
       "\\end{tabular}\n"
      ],
      "text/plain": [
       "\u001b[1m459×9 DataFrame\u001b[0m\n",
       "\u001b[1m Row \u001b[0m│\u001b[1m t      \u001b[0m\u001b[1m n      \u001b[0m\u001b[1m k      \u001b[0m\u001b[1m cost    \u001b[0m\u001b[1m min     \u001b[0m\u001b[1m max     \u001b[0m\u001b[1m SUC     \u001b[0m\u001b[1m costb   \u001b[0m\u001b[1m SU\u001b[0m ⋯\n",
       "     │\u001b[90m String \u001b[0m\u001b[90m String \u001b[0m\u001b[90m String \u001b[0m\u001b[90m Float64 \u001b[0m\u001b[90m Float64 \u001b[0m\u001b[90m Float64 \u001b[0m\u001b[90m Float64 \u001b[0m\u001b[90m Float64 \u001b[0m\u001b[90m Fl\u001b[0m ⋯\n",
       "─────┼──────────────────────────────────────────────────────────────────────────\n",
       "   1 │ t12     n1      k1         15.0     0.51     0.56     20.0     10.0     ⋯\n",
       "   2 │ t12     n1      k2         17.0     0.51     0.56     20.0     12.0\n",
       "   3 │ t12     n1      k3         19.0     0.51     0.56     20.0     14.0\n",
       "   4 │ t12     n2      k1         15.0     0.51     0.56     20.0     10.0\n",
       "   5 │ t12     n2      k2         17.0     0.51     0.56     20.0     12.0     ⋯\n",
       "   6 │ t12     n2      k3         19.0     0.51     0.56     20.0     14.0\n",
       "   7 │ t12     n3      k1         15.0     0.51     0.56     20.0     10.0\n",
       "   8 │ t12     n3      k2         17.0     0.51     0.56     20.0     12.0\n",
       "  ⋮  │   ⋮       ⋮       ⋮        ⋮        ⋮        ⋮        ⋮        ⋮        ⋱\n",
       " 453 │ t20     n18     k3         19.0     1.05     1.11     20.0     14.0     ⋯\n",
       " 454 │ t20     n19     k1         15.0     1.05     1.11     20.0     10.0\n",
       " 455 │ t20     n19     k2         17.0     1.05     1.11     20.0     12.0\n",
       " 456 │ t20     n19     k3         19.0     1.05     1.11     20.0     14.0\n",
       " 457 │ t20     n20     k1         15.0     1.05     1.11     20.0     10.0     ⋯\n",
       " 458 │ t20     n20     k2         17.0     1.05     1.11     20.0     12.0\n",
       " 459 │ t20     n20     k3         19.0     1.05     1.11     20.0     14.0\n",
       "\u001b[36m                                                   1 column and 444 rows omitted\u001b[0m"
      ]
     },
     "metadata": {},
     "output_type": "display_data"
    }
   ],
   "source": [
    "mydata[\"curtailmentinfo\"]"
   ]
  },
  {
   "cell_type": "code",
   "execution_count": 43,
   "metadata": {},
   "outputs": [
    {
     "name": "stdout",
     "output_type": "stream",
     "text": [
      "generator data read in successfully"
     ]
    }
   ],
   "source": [
    "xl = XLSX.readxlsx(\"data/generatorinfo.xlsx\")\n",
    "generatorinfo = XLSX.sheetnames(xl)\n",
    "mydata[\"generatorinfo\"] = DataFrame(XLSX.gettable(xl[\"generatorinfo\"]; infer_eltypes=true))\n",
    "print(\"generator data read in successfully\")"
   ]
  },
  {
   "cell_type": "code",
   "execution_count": 44,
   "metadata": {},
   "outputs": [
    {
     "data": {
      "text/html": [
       "<div><div style = \"float: left;\"><span>12×8 DataFrame</span></div><div style = \"clear: both;\"></div></div><div class = \"data-frame\" style = \"overflow-x: scroll;\"><table class = \"data-frame\" style = \"margin-bottom: 6px;\"><thead><tr class = \"header\"><th class = \"rowNumber\" style = \"font-weight: bold; text-align: right;\">Row</th><th style = \"text-align: left;\">ID</th><th style = \"text-align: left;\">location</th><th style = \"text-align: left;\">cost</th><th style = \"text-align: left;\">upresercost</th><th style = \"text-align: left;\">dnresercost</th><th style = \"text-align: left;\">cap</th><th style = \"text-align: left;\">maxupresercap</th><th style = \"text-align: left;\">maxdnresercap</th></tr><tr class = \"subheader headerLastRow\"><th class = \"rowNumber\" style = \"font-weight: bold; text-align: right;\"></th><th title = \"String\" style = \"text-align: left;\">String</th><th title = \"Int64\" style = \"text-align: left;\">Int64</th><th title = \"Float64\" style = \"text-align: left;\">Float64</th><th title = \"Float64\" style = \"text-align: left;\">Float64</th><th title = \"Float64\" style = \"text-align: left;\">Float64</th><th title = \"Float64\" style = \"text-align: left;\">Float64</th><th title = \"Float64\" style = \"text-align: left;\">Float64</th><th title = \"Float64\" style = \"text-align: left;\">Float64</th></tr></thead><tbody><tr><td class = \"rowNumber\" style = \"font-weight: bold; text-align: right;\">1</td><td style = \"text-align: left;\">g1</td><td style = \"text-align: right;\">1</td><td style = \"text-align: right;\">13.32</td><td style = \"text-align: right;\">1.68</td><td style = \"text-align: right;\">2.32</td><td style = \"text-align: right;\">106.4</td><td style = \"text-align: right;\">48.0</td><td style = \"text-align: right;\">48.0</td></tr><tr><td class = \"rowNumber\" style = \"font-weight: bold; text-align: right;\">2</td><td style = \"text-align: left;\">g2</td><td style = \"text-align: right;\">2</td><td style = \"text-align: right;\">13.32</td><td style = \"text-align: right;\">1.68</td><td style = \"text-align: right;\">2.32</td><td style = \"text-align: right;\">106.4</td><td style = \"text-align: right;\">48.0</td><td style = \"text-align: right;\">48.0</td></tr><tr><td class = \"rowNumber\" style = \"font-weight: bold; text-align: right;\">3</td><td style = \"text-align: left;\">g3</td><td style = \"text-align: right;\">7</td><td style = \"text-align: right;\">20.7</td><td style = \"text-align: right;\">3.3</td><td style = \"text-align: right;\">4.67</td><td style = \"text-align: right;\">245.0</td><td style = \"text-align: right;\">84.0</td><td style = \"text-align: right;\">84.0</td></tr><tr><td class = \"rowNumber\" style = \"font-weight: bold; text-align: right;\">4</td><td style = \"text-align: left;\">g4</td><td style = \"text-align: right;\">13</td><td style = \"text-align: right;\">20.93</td><td style = \"text-align: right;\">4.07</td><td style = \"text-align: right;\">3.93</td><td style = \"text-align: right;\">413.7</td><td style = \"text-align: right;\">216.0</td><td style = \"text-align: right;\">216.0</td></tr><tr><td class = \"rowNumber\" style = \"font-weight: bold; text-align: right;\">5</td><td style = \"text-align: left;\">g5</td><td style = \"text-align: right;\">15</td><td style = \"text-align: right;\">26.11</td><td style = \"text-align: right;\">1.89</td><td style = \"text-align: right;\">3.11</td><td style = \"text-align: right;\">42.0</td><td style = \"text-align: right;\">42.0</td><td style = \"text-align: right;\">42.0</td></tr><tr><td class = \"rowNumber\" style = \"font-weight: bold; text-align: right;\">6</td><td style = \"text-align: left;\">g6</td><td style = \"text-align: right;\">15</td><td style = \"text-align: right;\">10.52</td><td style = \"text-align: right;\">5.48</td><td style = \"text-align: right;\">3.52</td><td style = \"text-align: right;\">108.5</td><td style = \"text-align: right;\">36.0</td><td style = \"text-align: right;\">36.0</td></tr><tr><td class = \"rowNumber\" style = \"font-weight: bold; text-align: right;\">7</td><td style = \"text-align: left;\">g7</td><td style = \"text-align: right;\">16</td><td style = \"text-align: right;\">10.52</td><td style = \"text-align: right;\">5.48</td><td style = \"text-align: right;\">3.52</td><td style = \"text-align: right;\">108.5</td><td style = \"text-align: right;\">36.0</td><td style = \"text-align: right;\">36.0</td></tr><tr><td class = \"rowNumber\" style = \"font-weight: bold; text-align: right;\">8</td><td style = \"text-align: left;\">g8</td><td style = \"text-align: right;\">18</td><td style = \"text-align: right;\">6.02</td><td style = \"text-align: right;\">4.98</td><td style = \"text-align: right;\">5.02</td><td style = \"text-align: right;\">280.0</td><td style = \"text-align: right;\">60.0</td><td style = \"text-align: right;\">60.0</td></tr><tr><td class = \"rowNumber\" style = \"font-weight: bold; text-align: right;\">9</td><td style = \"text-align: left;\">g9</td><td style = \"text-align: right;\">21</td><td style = \"text-align: right;\">5.47</td><td style = \"text-align: right;\">5.53</td><td style = \"text-align: right;\">4.97</td><td style = \"text-align: right;\">280.0</td><td style = \"text-align: right;\">60.0</td><td style = \"text-align: right;\">60.0</td></tr><tr><td class = \"rowNumber\" style = \"font-weight: bold; text-align: right;\">10</td><td style = \"text-align: left;\">g10</td><td style = \"text-align: right;\">22</td><td style = \"text-align: right;\">7.0</td><td style = \"text-align: right;\">8.0</td><td style = \"text-align: right;\">6.0</td><td style = \"text-align: right;\">210.0</td><td style = \"text-align: right;\">48.0</td><td style = \"text-align: right;\">48.0</td></tr><tr><td class = \"rowNumber\" style = \"font-weight: bold; text-align: right;\">11</td><td style = \"text-align: left;\">g11</td><td style = \"text-align: right;\">23</td><td style = \"text-align: right;\">10.52</td><td style = \"text-align: right;\">3.45</td><td style = \"text-align: right;\">2.52</td><td style = \"text-align: right;\">217.0</td><td style = \"text-align: right;\">72.0</td><td style = \"text-align: right;\">72.0</td></tr><tr><td class = \"rowNumber\" style = \"font-weight: bold; text-align: right;\">12</td><td style = \"text-align: left;\">g12</td><td style = \"text-align: right;\">23</td><td style = \"text-align: right;\">10.89</td><td style = \"text-align: right;\">5.11</td><td style = \"text-align: right;\">2.89</td><td style = \"text-align: right;\">245.0</td><td style = \"text-align: right;\">48.0</td><td style = \"text-align: right;\">48.0</td></tr></tbody></table></div>"
      ],
      "text/latex": [
       "\\begin{tabular}{r|cccccccc}\n",
       "\t& ID & location & cost & upresercost & dnresercost & cap & maxupresercap & maxdnresercap\\\\\n",
       "\t\\hline\n",
       "\t& String & Int64 & Float64 & Float64 & Float64 & Float64 & Float64 & Float64\\\\\n",
       "\t\\hline\n",
       "\t1 & g1 & 1 & 13.32 & 1.68 & 2.32 & 106.4 & 48.0 & 48.0 \\\\\n",
       "\t2 & g2 & 2 & 13.32 & 1.68 & 2.32 & 106.4 & 48.0 & 48.0 \\\\\n",
       "\t3 & g3 & 7 & 20.7 & 3.3 & 4.67 & 245.0 & 84.0 & 84.0 \\\\\n",
       "\t4 & g4 & 13 & 20.93 & 4.07 & 3.93 & 413.7 & 216.0 & 216.0 \\\\\n",
       "\t5 & g5 & 15 & 26.11 & 1.89 & 3.11 & 42.0 & 42.0 & 42.0 \\\\\n",
       "\t6 & g6 & 15 & 10.52 & 5.48 & 3.52 & 108.5 & 36.0 & 36.0 \\\\\n",
       "\t7 & g7 & 16 & 10.52 & 5.48 & 3.52 & 108.5 & 36.0 & 36.0 \\\\\n",
       "\t8 & g8 & 18 & 6.02 & 4.98 & 5.02 & 280.0 & 60.0 & 60.0 \\\\\n",
       "\t9 & g9 & 21 & 5.47 & 5.53 & 4.97 & 280.0 & 60.0 & 60.0 \\\\\n",
       "\t10 & g10 & 22 & 7.0 & 8.0 & 6.0 & 210.0 & 48.0 & 48.0 \\\\\n",
       "\t11 & g11 & 23 & 10.52 & 3.45 & 2.52 & 217.0 & 72.0 & 72.0 \\\\\n",
       "\t12 & g12 & 23 & 10.89 & 5.11 & 2.89 & 245.0 & 48.0 & 48.0 \\\\\n",
       "\\end{tabular}\n"
      ],
      "text/plain": [
       "\u001b[1m12×8 DataFrame\u001b[0m\n",
       "\u001b[1m Row \u001b[0m│\u001b[1m ID     \u001b[0m\u001b[1m location \u001b[0m\u001b[1m cost    \u001b[0m\u001b[1m upresercost \u001b[0m\u001b[1m dnresercost \u001b[0m\u001b[1m cap     \u001b[0m\u001b[1m maxuprese\u001b[0m ⋯\n",
       "     │\u001b[90m String \u001b[0m\u001b[90m Int64    \u001b[0m\u001b[90m Float64 \u001b[0m\u001b[90m Float64     \u001b[0m\u001b[90m Float64     \u001b[0m\u001b[90m Float64 \u001b[0m\u001b[90m Float64  \u001b[0m ⋯\n",
       "─────┼──────────────────────────────────────────────────────────────────────────\n",
       "   1 │ g1             1    13.32         1.68         2.32    106.4            ⋯\n",
       "   2 │ g2             2    13.32         1.68         2.32    106.4\n",
       "   3 │ g3             7    20.7          3.3          4.67    245.0\n",
       "   4 │ g4            13    20.93         4.07         3.93    413.7          2\n",
       "   5 │ g5            15    26.11         1.89         3.11     42.0            ⋯\n",
       "   6 │ g6            15    10.52         5.48         3.52    108.5\n",
       "   7 │ g7            16    10.52         5.48         3.52    108.5\n",
       "   8 │ g8            18     6.02         4.98         5.02    280.0\n",
       "   9 │ g9            21     5.47         5.53         4.97    280.0            ⋯\n",
       "  10 │ g10           22     7.0          8.0          6.0     210.0\n",
       "  11 │ g11           23    10.52         3.45         2.52    217.0\n",
       "  12 │ g12           23    10.89         5.11         2.89    245.0\n",
       "\u001b[36m                                                               2 columns omitted\u001b[0m"
      ]
     },
     "metadata": {},
     "output_type": "display_data"
    }
   ],
   "source": [
    "mydata[\"generatorinfo\"]"
   ]
  },
  {
   "cell_type": "code",
   "execution_count": 45,
   "metadata": {},
   "outputs": [
    {
     "name": "stdout",
     "output_type": "stream",
     "text": [
      "demand data read in successfully"
     ]
    }
   ],
   "source": [
    "xl = XLSX.readxlsx(\"data/initdemand.xlsx\")\n",
    "initdemand = XLSX.sheetnames(xl)\n",
    "mydata[\"initdemand\"] = DataFrame(XLSX.gettable(xl[\"initdemand\"]; infer_eltypes=true))\n",
    "print(\"demand data read in successfully\")"
   ]
  },
  {
   "cell_type": "code",
   "execution_count": 46,
   "metadata": {},
   "outputs": [
    {
     "data": {
      "text/html": [
       "<div><div style = \"float: left;\"><span>24×25 DataFrame</span></div><div style = \"clear: both;\"></div></div><div class = \"data-frame\" style = \"overflow-x: scroll;\"><table class = \"data-frame\" style = \"margin-bottom: 6px;\"><thead><tr class = \"header\"><th class = \"rowNumber\" style = \"font-weight: bold; text-align: right;\">Row</th><th style = \"text-align: left;\">t</th><th style = \"text-align: left;\">n1</th><th style = \"text-align: left;\">n2</th><th style = \"text-align: left;\">n3</th><th style = \"text-align: left;\">n4</th><th style = \"text-align: left;\">n5</th><th style = \"text-align: left;\">n6</th><th style = \"text-align: left;\">n7</th><th style = \"text-align: left;\">n8</th><th style = \"text-align: left;\">n9</th><th style = \"text-align: left;\">n10</th><th style = \"text-align: left;\">n11</th><th style = \"text-align: left;\">n12</th><th style = \"text-align: left;\">n13</th><th style = \"text-align: left;\">n14</th><th style = \"text-align: left;\">n15</th><th style = \"text-align: left;\">n16</th><th style = \"text-align: left;\">n17</th><th style = \"text-align: left;\">n18</th><th style = \"text-align: left;\">n19</th><th style = \"text-align: left;\">n20</th><th style = \"text-align: left;\">n21</th><th style = \"text-align: left;\">n22</th><th style = \"text-align: left;\">n23</th><th style = \"text-align: left;\">n24</th></tr><tr class = \"subheader headerLastRow\"><th class = \"rowNumber\" style = \"font-weight: bold; text-align: right;\"></th><th title = \"String\" style = \"text-align: left;\">String</th><th title = \"Float64\" style = \"text-align: left;\">Float64</th><th title = \"Float64\" style = \"text-align: left;\">Float64</th><th title = \"Float64\" style = \"text-align: left;\">Float64</th><th title = \"Float64\" style = \"text-align: left;\">Float64</th><th title = \"Float64\" style = \"text-align: left;\">Float64</th><th title = \"Float64\" style = \"text-align: left;\">Float64</th><th title = \"Float64\" style = \"text-align: left;\">Float64</th><th title = \"Float64\" style = \"text-align: left;\">Float64</th><th title = \"Float64\" style = \"text-align: left;\">Float64</th><th title = \"Float64\" style = \"text-align: left;\">Float64</th><th title = \"Float64\" style = \"text-align: left;\">Float64</th><th title = \"Float64\" style = \"text-align: left;\">Float64</th><th title = \"Float64\" style = \"text-align: left;\">Float64</th><th title = \"Float64\" style = \"text-align: left;\">Float64</th><th title = \"Float64\" style = \"text-align: left;\">Float64</th><th title = \"Float64\" style = \"text-align: left;\">Float64</th><th title = \"Float64\" style = \"text-align: left;\">Float64</th><th title = \"Float64\" style = \"text-align: left;\">Float64</th><th title = \"Float64\" style = \"text-align: left;\">Float64</th><th title = \"Float64\" style = \"text-align: left;\">Float64</th><th title = \"Float64\" style = \"text-align: left;\">Float64</th><th title = \"Float64\" style = \"text-align: left;\">Float64</th><th title = \"Float64\" style = \"text-align: left;\">Float64</th><th title = \"Float64\" style = \"text-align: left;\">Float64</th></tr></thead><tbody><tr><td class = \"rowNumber\" style = \"font-weight: bold; text-align: right;\">1</td><td style = \"text-align: left;\">t1</td><td style = \"text-align: right;\">54.768</td><td style = \"text-align: right;\">48.9</td><td style = \"text-align: right;\">90.628</td><td style = \"text-align: right;\">37.816</td><td style = \"text-align: right;\">35.86</td><td style = \"text-align: right;\">69.112</td><td style = \"text-align: right;\">63.244</td><td style = \"text-align: right;\">86.064</td><td style = \"text-align: right;\">88.02</td><td style = \"text-align: right;\">97.8</td><td style = \"text-align: right;\">0.0</td><td style = \"text-align: right;\">0.0</td><td style = \"text-align: right;\">133.66</td><td style = \"text-align: right;\">97.8</td><td style = \"text-align: right;\">159.74</td><td style = \"text-align: right;\">50.204</td><td style = \"text-align: right;\">0.0</td><td style = \"text-align: right;\">168.216</td><td style = \"text-align: right;\">91.932</td><td style = \"text-align: right;\">65.2</td><td style = \"text-align: right;\">0.0</td><td style = \"text-align: right;\">0.0</td><td style = \"text-align: right;\">0.0</td><td style = \"text-align: right;\">0.0</td></tr><tr><td class = \"rowNumber\" style = \"font-weight: bold; text-align: right;\">2</td><td style = \"text-align: left;\">t2</td><td style = \"text-align: right;\">52.332</td><td style = \"text-align: right;\">46.725</td><td style = \"text-align: right;\">86.597</td><td style = \"text-align: right;\">36.134</td><td style = \"text-align: right;\">34.265</td><td style = \"text-align: right;\">66.038</td><td style = \"text-align: right;\">60.431</td><td style = \"text-align: right;\">82.236</td><td style = \"text-align: right;\">84.105</td><td style = \"text-align: right;\">93.45</td><td style = \"text-align: right;\">0.0</td><td style = \"text-align: right;\">0.0</td><td style = \"text-align: right;\">127.715</td><td style = \"text-align: right;\">93.45</td><td style = \"text-align: right;\">152.635</td><td style = \"text-align: right;\">47.971</td><td style = \"text-align: right;\">0.0</td><td style = \"text-align: right;\">160.734</td><td style = \"text-align: right;\">87.843</td><td style = \"text-align: right;\">62.3</td><td style = \"text-align: right;\">0.0</td><td style = \"text-align: right;\">0.0</td><td style = \"text-align: right;\">0.0</td><td style = \"text-align: right;\">0.0</td></tr><tr><td class = \"rowNumber\" style = \"font-weight: bold; text-align: right;\">3</td><td style = \"text-align: left;\">t3</td><td style = \"text-align: right;\">52.92</td><td style = \"text-align: right;\">47.25</td><td style = \"text-align: right;\">87.57</td><td style = \"text-align: right;\">36.54</td><td style = \"text-align: right;\">34.65</td><td style = \"text-align: right;\">66.78</td><td style = \"text-align: right;\">61.11</td><td style = \"text-align: right;\">83.16</td><td style = \"text-align: right;\">85.05</td><td style = \"text-align: right;\">94.5</td><td style = \"text-align: right;\">0.0</td><td style = \"text-align: right;\">0.0</td><td style = \"text-align: right;\">129.15</td><td style = \"text-align: right;\">94.5</td><td style = \"text-align: right;\">154.35</td><td style = \"text-align: right;\">48.51</td><td style = \"text-align: right;\">0.0</td><td style = \"text-align: right;\">162.54</td><td style = \"text-align: right;\">88.83</td><td style = \"text-align: right;\">63.0</td><td style = \"text-align: right;\">0.0</td><td style = \"text-align: right;\">0.0</td><td style = \"text-align: right;\">0.0</td><td style = \"text-align: right;\">0.0</td></tr><tr><td class = \"rowNumber\" style = \"font-weight: bold; text-align: right;\">4</td><td style = \"text-align: left;\">t4</td><td style = \"text-align: right;\">48.72</td><td style = \"text-align: right;\">43.5</td><td style = \"text-align: right;\">80.62</td><td style = \"text-align: right;\">33.64</td><td style = \"text-align: right;\">31.9</td><td style = \"text-align: right;\">61.48</td><td style = \"text-align: right;\">56.26</td><td style = \"text-align: right;\">76.56</td><td style = \"text-align: right;\">78.3</td><td style = \"text-align: right;\">87.0</td><td style = \"text-align: right;\">0.0</td><td style = \"text-align: right;\">0.0</td><td style = \"text-align: right;\">118.9</td><td style = \"text-align: right;\">87.0</td><td style = \"text-align: right;\">142.1</td><td style = \"text-align: right;\">44.66</td><td style = \"text-align: right;\">0.0</td><td style = \"text-align: right;\">149.64</td><td style = \"text-align: right;\">81.78</td><td style = \"text-align: right;\">58.0</td><td style = \"text-align: right;\">0.0</td><td style = \"text-align: right;\">0.0</td><td style = \"text-align: right;\">0.0</td><td style = \"text-align: right;\">0.0</td></tr><tr><td class = \"rowNumber\" style = \"font-weight: bold; text-align: right;\">5</td><td style = \"text-align: left;\">t5</td><td style = \"text-align: right;\">46.2</td><td style = \"text-align: right;\">41.25</td><td style = \"text-align: right;\">76.45</td><td style = \"text-align: right;\">31.9</td><td style = \"text-align: right;\">30.25</td><td style = \"text-align: right;\">58.3</td><td style = \"text-align: right;\">53.35</td><td style = \"text-align: right;\">72.6</td><td style = \"text-align: right;\">74.25</td><td style = \"text-align: right;\">82.5</td><td style = \"text-align: right;\">0.0</td><td style = \"text-align: right;\">0.0</td><td style = \"text-align: right;\">112.75</td><td style = \"text-align: right;\">82.5</td><td style = \"text-align: right;\">134.75</td><td style = \"text-align: right;\">42.35</td><td style = \"text-align: right;\">0.0</td><td style = \"text-align: right;\">141.9</td><td style = \"text-align: right;\">77.55</td><td style = \"text-align: right;\">55.0</td><td style = \"text-align: right;\">0.0</td><td style = \"text-align: right;\">0.0</td><td style = \"text-align: right;\">0.0</td><td style = \"text-align: right;\">0.0</td></tr><tr><td class = \"rowNumber\" style = \"font-weight: bold; text-align: right;\">6</td><td style = \"text-align: left;\">t6</td><td style = \"text-align: right;\">46.2</td><td style = \"text-align: right;\">41.25</td><td style = \"text-align: right;\">76.45</td><td style = \"text-align: right;\">31.9</td><td style = \"text-align: right;\">30.25</td><td style = \"text-align: right;\">58.3</td><td style = \"text-align: right;\">53.35</td><td style = \"text-align: right;\">72.6</td><td style = \"text-align: right;\">74.25</td><td style = \"text-align: right;\">82.5</td><td style = \"text-align: right;\">0.0</td><td style = \"text-align: right;\">0.0</td><td style = \"text-align: right;\">112.75</td><td style = \"text-align: right;\">82.5</td><td style = \"text-align: right;\">134.75</td><td style = \"text-align: right;\">42.35</td><td style = \"text-align: right;\">0.0</td><td style = \"text-align: right;\">141.9</td><td style = \"text-align: right;\">77.55</td><td style = \"text-align: right;\">55.0</td><td style = \"text-align: right;\">0.0</td><td style = \"text-align: right;\">0.0</td><td style = \"text-align: right;\">0.0</td><td style = \"text-align: right;\">0.0</td></tr><tr><td class = \"rowNumber\" style = \"font-weight: bold; text-align: right;\">7</td><td style = \"text-align: left;\">t7</td><td style = \"text-align: right;\">50.4</td><td style = \"text-align: right;\">45.0</td><td style = \"text-align: right;\">83.4</td><td style = \"text-align: right;\">34.8</td><td style = \"text-align: right;\">33.0</td><td style = \"text-align: right;\">63.6</td><td style = \"text-align: right;\">58.2</td><td style = \"text-align: right;\">79.2</td><td style = \"text-align: right;\">81.0</td><td style = \"text-align: right;\">90.0</td><td style = \"text-align: right;\">0.0</td><td style = \"text-align: right;\">0.0</td><td style = \"text-align: right;\">123.0</td><td style = \"text-align: right;\">90.0</td><td style = \"text-align: right;\">147.0</td><td style = \"text-align: right;\">46.2</td><td style = \"text-align: right;\">0.0</td><td style = \"text-align: right;\">154.8</td><td style = \"text-align: right;\">84.6</td><td style = \"text-align: right;\">60.0</td><td style = \"text-align: right;\">0.0</td><td style = \"text-align: right;\">0.0</td><td style = \"text-align: right;\">0.0</td><td style = \"text-align: right;\">0.0</td></tr><tr><td class = \"rowNumber\" style = \"font-weight: bold; text-align: right;\">8</td><td style = \"text-align: left;\">t8</td><td style = \"text-align: right;\">53.76</td><td style = \"text-align: right;\">48.0</td><td style = \"text-align: right;\">88.96</td><td style = \"text-align: right;\">37.12</td><td style = \"text-align: right;\">35.2</td><td style = \"text-align: right;\">67.84</td><td style = \"text-align: right;\">62.08</td><td style = \"text-align: right;\">84.48</td><td style = \"text-align: right;\">86.4</td><td style = \"text-align: right;\">96.0</td><td style = \"text-align: right;\">0.0</td><td style = \"text-align: right;\">0.0</td><td style = \"text-align: right;\">131.2</td><td style = \"text-align: right;\">96.0</td><td style = \"text-align: right;\">156.8</td><td style = \"text-align: right;\">49.28</td><td style = \"text-align: right;\">0.0</td><td style = \"text-align: right;\">165.12</td><td style = \"text-align: right;\">90.24</td><td style = \"text-align: right;\">64.0</td><td style = \"text-align: right;\">0.0</td><td style = \"text-align: right;\">0.0</td><td style = \"text-align: right;\">0.0</td><td style = \"text-align: right;\">0.0</td></tr><tr><td class = \"rowNumber\" style = \"font-weight: bold; text-align: right;\">9</td><td style = \"text-align: left;\">t9</td><td style = \"text-align: right;\">59.64</td><td style = \"text-align: right;\">53.25</td><td style = \"text-align: right;\">98.69</td><td style = \"text-align: right;\">41.18</td><td style = \"text-align: right;\">39.05</td><td style = \"text-align: right;\">75.26</td><td style = \"text-align: right;\">68.87</td><td style = \"text-align: right;\">93.72</td><td style = \"text-align: right;\">95.85</td><td style = \"text-align: right;\">106.5</td><td style = \"text-align: right;\">0.0</td><td style = \"text-align: right;\">0.0</td><td style = \"text-align: right;\">145.55</td><td style = \"text-align: right;\">106.5</td><td style = \"text-align: right;\">173.95</td><td style = \"text-align: right;\">54.67</td><td style = \"text-align: right;\">0.0</td><td style = \"text-align: right;\">183.18</td><td style = \"text-align: right;\">100.11</td><td style = \"text-align: right;\">71.0</td><td style = \"text-align: right;\">0.0</td><td style = \"text-align: right;\">0.0</td><td style = \"text-align: right;\">0.0</td><td style = \"text-align: right;\">0.0</td></tr><tr><td class = \"rowNumber\" style = \"font-weight: bold; text-align: right;\">10</td><td style = \"text-align: left;\">t10</td><td style = \"text-align: right;\">65.52</td><td style = \"text-align: right;\">58.5</td><td style = \"text-align: right;\">108.42</td><td style = \"text-align: right;\">45.24</td><td style = \"text-align: right;\">42.9</td><td style = \"text-align: right;\">82.68</td><td style = \"text-align: right;\">75.66</td><td style = \"text-align: right;\">102.96</td><td style = \"text-align: right;\">105.3</td><td style = \"text-align: right;\">117.0</td><td style = \"text-align: right;\">0.0</td><td style = \"text-align: right;\">0.0</td><td style = \"text-align: right;\">159.9</td><td style = \"text-align: right;\">117.0</td><td style = \"text-align: right;\">191.1</td><td style = \"text-align: right;\">60.06</td><td style = \"text-align: right;\">0.0</td><td style = \"text-align: right;\">201.24</td><td style = \"text-align: right;\">109.98</td><td style = \"text-align: right;\">78.0</td><td style = \"text-align: right;\">0.0</td><td style = \"text-align: right;\">0.0</td><td style = \"text-align: right;\">0.0</td><td style = \"text-align: right;\">0.0</td></tr><tr><td class = \"rowNumber\" style = \"font-weight: bold; text-align: right;\">11</td><td style = \"text-align: left;\">t11</td><td style = \"text-align: right;\">68.04</td><td style = \"text-align: right;\">60.75</td><td style = \"text-align: right;\">112.59</td><td style = \"text-align: right;\">46.98</td><td style = \"text-align: right;\">44.55</td><td style = \"text-align: right;\">85.86</td><td style = \"text-align: right;\">78.57</td><td style = \"text-align: right;\">106.92</td><td style = \"text-align: right;\">109.35</td><td style = \"text-align: right;\">121.5</td><td style = \"text-align: right;\">0.0</td><td style = \"text-align: right;\">0.0</td><td style = \"text-align: right;\">166.05</td><td style = \"text-align: right;\">121.5</td><td style = \"text-align: right;\">198.45</td><td style = \"text-align: right;\">62.37</td><td style = \"text-align: right;\">0.0</td><td style = \"text-align: right;\">208.98</td><td style = \"text-align: right;\">114.21</td><td style = \"text-align: right;\">81.0</td><td style = \"text-align: right;\">0.0</td><td style = \"text-align: right;\">0.0</td><td style = \"text-align: right;\">0.0</td><td style = \"text-align: right;\">0.0</td></tr><tr><td class = \"rowNumber\" style = \"font-weight: bold; text-align: right;\">12</td><td style = \"text-align: left;\">t12</td><td style = \"text-align: right;\">68.88</td><td style = \"text-align: right;\">61.5</td><td style = \"text-align: right;\">113.98</td><td style = \"text-align: right;\">47.56</td><td style = \"text-align: right;\">45.1</td><td style = \"text-align: right;\">86.92</td><td style = \"text-align: right;\">79.54</td><td style = \"text-align: right;\">108.24</td><td style = \"text-align: right;\">110.7</td><td style = \"text-align: right;\">123.0</td><td style = \"text-align: right;\">0.0</td><td style = \"text-align: right;\">0.0</td><td style = \"text-align: right;\">168.1</td><td style = \"text-align: right;\">123.0</td><td style = \"text-align: right;\">200.9</td><td style = \"text-align: right;\">63.14</td><td style = \"text-align: right;\">0.0</td><td style = \"text-align: right;\">211.56</td><td style = \"text-align: right;\">115.62</td><td style = \"text-align: right;\">82.0</td><td style = \"text-align: right;\">0.0</td><td style = \"text-align: right;\">0.0</td><td style = \"text-align: right;\">0.0</td><td style = \"text-align: right;\">0.0</td></tr><tr><td class = \"rowNumber\" style = \"font-weight: bold; text-align: right;\">13</td><td style = \"text-align: left;\">t13</td><td style = \"text-align: right;\">71.4</td><td style = \"text-align: right;\">63.75</td><td style = \"text-align: right;\">118.15</td><td style = \"text-align: right;\">49.3</td><td style = \"text-align: right;\">46.75</td><td style = \"text-align: right;\">90.1</td><td style = \"text-align: right;\">82.45</td><td style = \"text-align: right;\">112.2</td><td style = \"text-align: right;\">114.75</td><td style = \"text-align: right;\">127.5</td><td style = \"text-align: right;\">0.0</td><td style = \"text-align: right;\">0.0</td><td style = \"text-align: right;\">174.25</td><td style = \"text-align: right;\">127.5</td><td style = \"text-align: right;\">208.25</td><td style = \"text-align: right;\">65.45</td><td style = \"text-align: right;\">0.0</td><td style = \"text-align: right;\">219.3</td><td style = \"text-align: right;\">119.85</td><td style = \"text-align: right;\">85.0</td><td style = \"text-align: right;\">0.0</td><td style = \"text-align: right;\">0.0</td><td style = \"text-align: right;\">0.0</td><td style = \"text-align: right;\">0.0</td></tr><tr><td class = \"rowNumber\" style = \"font-weight: bold; text-align: right;\">14</td><td style = \"text-align: left;\">t14</td><td style = \"text-align: right;\">69.72</td><td style = \"text-align: right;\">62.25</td><td style = \"text-align: right;\">115.37</td><td style = \"text-align: right;\">48.14</td><td style = \"text-align: right;\">45.65</td><td style = \"text-align: right;\">87.98</td><td style = \"text-align: right;\">80.51</td><td style = \"text-align: right;\">109.56</td><td style = \"text-align: right;\">112.05</td><td style = \"text-align: right;\">124.5</td><td style = \"text-align: right;\">0.0</td><td style = \"text-align: right;\">0.0</td><td style = \"text-align: right;\">170.15</td><td style = \"text-align: right;\">124.5</td><td style = \"text-align: right;\">203.35</td><td style = \"text-align: right;\">63.91</td><td style = \"text-align: right;\">0.0</td><td style = \"text-align: right;\">214.14</td><td style = \"text-align: right;\">117.03</td><td style = \"text-align: right;\">83.0</td><td style = \"text-align: right;\">0.0</td><td style = \"text-align: right;\">0.0</td><td style = \"text-align: right;\">0.0</td><td style = \"text-align: right;\">0.0</td></tr><tr><td class = \"rowNumber\" style = \"font-weight: bold; text-align: right;\">15</td><td style = \"text-align: left;\">t15</td><td style = \"text-align: right;\">70.98</td><td style = \"text-align: right;\">63.375</td><td style = \"text-align: right;\">117.455</td><td style = \"text-align: right;\">49.01</td><td style = \"text-align: right;\">46.475</td><td style = \"text-align: right;\">89.57</td><td style = \"text-align: right;\">81.965</td><td style = \"text-align: right;\">111.54</td><td style = \"text-align: right;\">114.075</td><td style = \"text-align: right;\">126.75</td><td style = \"text-align: right;\">0.0</td><td style = \"text-align: right;\">0.0</td><td style = \"text-align: right;\">173.225</td><td style = \"text-align: right;\">126.75</td><td style = \"text-align: right;\">207.025</td><td style = \"text-align: right;\">65.065</td><td style = \"text-align: right;\">0.0</td><td style = \"text-align: right;\">218.01</td><td style = \"text-align: right;\">119.145</td><td style = \"text-align: right;\">84.5</td><td style = \"text-align: right;\">0.0</td><td style = \"text-align: right;\">0.0</td><td style = \"text-align: right;\">0.0</td><td style = \"text-align: right;\">0.0</td></tr><tr><td class = \"rowNumber\" style = \"font-weight: bold; text-align: right;\">16</td><td style = \"text-align: left;\">t16</td><td style = \"text-align: right;\">73.5</td><td style = \"text-align: right;\">65.625</td><td style = \"text-align: right;\">121.625</td><td style = \"text-align: right;\">50.75</td><td style = \"text-align: right;\">48.125</td><td style = \"text-align: right;\">92.75</td><td style = \"text-align: right;\">84.875</td><td style = \"text-align: right;\">115.5</td><td style = \"text-align: right;\">118.125</td><td style = \"text-align: right;\">131.25</td><td style = \"text-align: right;\">0.0</td><td style = \"text-align: right;\">0.0</td><td style = \"text-align: right;\">179.375</td><td style = \"text-align: right;\">131.25</td><td style = \"text-align: right;\">214.375</td><td style = \"text-align: right;\">67.375</td><td style = \"text-align: right;\">0.0</td><td style = \"text-align: right;\">225.75</td><td style = \"text-align: right;\">123.375</td><td style = \"text-align: right;\">87.5</td><td style = \"text-align: right;\">0.0</td><td style = \"text-align: right;\">0.0</td><td style = \"text-align: right;\">0.0</td><td style = \"text-align: right;\">0.0</td></tr><tr><td class = \"rowNumber\" style = \"font-weight: bold; text-align: right;\">17</td><td style = \"text-align: left;\">t17</td><td style = \"text-align: right;\">82.32</td><td style = \"text-align: right;\">73.5</td><td style = \"text-align: right;\">136.22</td><td style = \"text-align: right;\">56.84</td><td style = \"text-align: right;\">53.9</td><td style = \"text-align: right;\">103.88</td><td style = \"text-align: right;\">95.06</td><td style = \"text-align: right;\">129.36</td><td style = \"text-align: right;\">132.3</td><td style = \"text-align: right;\">147.0</td><td style = \"text-align: right;\">0.0</td><td style = \"text-align: right;\">0.0</td><td style = \"text-align: right;\">200.9</td><td style = \"text-align: right;\">147.0</td><td style = \"text-align: right;\">240.1</td><td style = \"text-align: right;\">75.46</td><td style = \"text-align: right;\">0.0</td><td style = \"text-align: right;\">252.84</td><td style = \"text-align: right;\">138.18</td><td style = \"text-align: right;\">98.0</td><td style = \"text-align: right;\">0.0</td><td style = \"text-align: right;\">0.0</td><td style = \"text-align: right;\">0.0</td><td style = \"text-align: right;\">0.0</td></tr><tr><td class = \"rowNumber\" style = \"font-weight: bold; text-align: right;\">18</td><td style = \"text-align: left;\">t18</td><td style = \"text-align: right;\">84.0</td><td style = \"text-align: right;\">75.0</td><td style = \"text-align: right;\">139.0</td><td style = \"text-align: right;\">58.0</td><td style = \"text-align: right;\">55.0</td><td style = \"text-align: right;\">106.0</td><td style = \"text-align: right;\">97.0</td><td style = \"text-align: right;\">132.0</td><td style = \"text-align: right;\">135.0</td><td style = \"text-align: right;\">150.0</td><td style = \"text-align: right;\">0.0</td><td style = \"text-align: right;\">0.0</td><td style = \"text-align: right;\">205.0</td><td style = \"text-align: right;\">150.0</td><td style = \"text-align: right;\">245.0</td><td style = \"text-align: right;\">77.0</td><td style = \"text-align: right;\">0.0</td><td style = \"text-align: right;\">258.0</td><td style = \"text-align: right;\">141.0</td><td style = \"text-align: right;\">100.0</td><td style = \"text-align: right;\">0.0</td><td style = \"text-align: right;\">0.0</td><td style = \"text-align: right;\">0.0</td><td style = \"text-align: right;\">0.0</td></tr><tr><td class = \"rowNumber\" style = \"font-weight: bold; text-align: right;\">19</td><td style = \"text-align: left;\">t19</td><td style = \"text-align: right;\">80.64</td><td style = \"text-align: right;\">72.0</td><td style = \"text-align: right;\">133.44</td><td style = \"text-align: right;\">55.68</td><td style = \"text-align: right;\">52.8</td><td style = \"text-align: right;\">101.76</td><td style = \"text-align: right;\">93.12</td><td style = \"text-align: right;\">126.72</td><td style = \"text-align: right;\">129.6</td><td style = \"text-align: right;\">144.0</td><td style = \"text-align: right;\">0.0</td><td style = \"text-align: right;\">0.0</td><td style = \"text-align: right;\">196.8</td><td style = \"text-align: right;\">144.0</td><td style = \"text-align: right;\">235.2</td><td style = \"text-align: right;\">73.92</td><td style = \"text-align: right;\">0.0</td><td style = \"text-align: right;\">247.68</td><td style = \"text-align: right;\">135.36</td><td style = \"text-align: right;\">96.0</td><td style = \"text-align: right;\">0.0</td><td style = \"text-align: right;\">0.0</td><td style = \"text-align: right;\">0.0</td><td style = \"text-align: right;\">0.0</td></tr><tr><td class = \"rowNumber\" style = \"font-weight: bold; text-align: right;\">20</td><td style = \"text-align: left;\">t20</td><td style = \"text-align: right;\">76.44</td><td style = \"text-align: right;\">68.25</td><td style = \"text-align: right;\">126.49</td><td style = \"text-align: right;\">52.78</td><td style = \"text-align: right;\">50.05</td><td style = \"text-align: right;\">96.46</td><td style = \"text-align: right;\">88.27</td><td style = \"text-align: right;\">120.12</td><td style = \"text-align: right;\">122.85</td><td style = \"text-align: right;\">136.5</td><td style = \"text-align: right;\">0.0</td><td style = \"text-align: right;\">0.0</td><td style = \"text-align: right;\">186.55</td><td style = \"text-align: right;\">136.5</td><td style = \"text-align: right;\">222.95</td><td style = \"text-align: right;\">70.07</td><td style = \"text-align: right;\">0.0</td><td style = \"text-align: right;\">234.78</td><td style = \"text-align: right;\">128.31</td><td style = \"text-align: right;\">91.0</td><td style = \"text-align: right;\">0.0</td><td style = \"text-align: right;\">0.0</td><td style = \"text-align: right;\">0.0</td><td style = \"text-align: right;\">0.0</td></tr><tr><td class = \"rowNumber\" style = \"font-weight: bold; text-align: right;\">21</td><td style = \"text-align: left;\">t21</td><td style = \"text-align: right;\">71.4</td><td style = \"text-align: right;\">63.75</td><td style = \"text-align: right;\">118.15</td><td style = \"text-align: right;\">49.3</td><td style = \"text-align: right;\">46.75</td><td style = \"text-align: right;\">90.1</td><td style = \"text-align: right;\">82.45</td><td style = \"text-align: right;\">112.2</td><td style = \"text-align: right;\">114.75</td><td style = \"text-align: right;\">127.5</td><td style = \"text-align: right;\">0.0</td><td style = \"text-align: right;\">0.0</td><td style = \"text-align: right;\">174.25</td><td style = \"text-align: right;\">127.5</td><td style = \"text-align: right;\">208.25</td><td style = \"text-align: right;\">65.45</td><td style = \"text-align: right;\">0.0</td><td style = \"text-align: right;\">219.3</td><td style = \"text-align: right;\">119.85</td><td style = \"text-align: right;\">85.0</td><td style = \"text-align: right;\">0.0</td><td style = \"text-align: right;\">0.0</td><td style = \"text-align: right;\">0.0</td><td style = \"text-align: right;\">0.0</td></tr><tr><td class = \"rowNumber\" style = \"font-weight: bold; text-align: right;\">22</td><td style = \"text-align: left;\">t22</td><td style = \"text-align: right;\">65.52</td><td style = \"text-align: right;\">58.5</td><td style = \"text-align: right;\">108.42</td><td style = \"text-align: right;\">45.24</td><td style = \"text-align: right;\">42.9</td><td style = \"text-align: right;\">82.68</td><td style = \"text-align: right;\">75.66</td><td style = \"text-align: right;\">102.96</td><td style = \"text-align: right;\">105.3</td><td style = \"text-align: right;\">117.0</td><td style = \"text-align: right;\">0.0</td><td style = \"text-align: right;\">0.0</td><td style = \"text-align: right;\">159.9</td><td style = \"text-align: right;\">117.0</td><td style = \"text-align: right;\">191.1</td><td style = \"text-align: right;\">60.06</td><td style = \"text-align: right;\">0.0</td><td style = \"text-align: right;\">201.24</td><td style = \"text-align: right;\">109.98</td><td style = \"text-align: right;\">78.0</td><td style = \"text-align: right;\">0.0</td><td style = \"text-align: right;\">0.0</td><td style = \"text-align: right;\">0.0</td><td style = \"text-align: right;\">0.0</td></tr><tr><td class = \"rowNumber\" style = \"font-weight: bold; text-align: right;\">23</td><td style = \"text-align: left;\">t23</td><td style = \"text-align: right;\">60.9</td><td style = \"text-align: right;\">54.375</td><td style = \"text-align: right;\">100.775</td><td style = \"text-align: right;\">42.05</td><td style = \"text-align: right;\">39.875</td><td style = \"text-align: right;\">76.85</td><td style = \"text-align: right;\">70.325</td><td style = \"text-align: right;\">95.7</td><td style = \"text-align: right;\">97.875</td><td style = \"text-align: right;\">108.75</td><td style = \"text-align: right;\">0.0</td><td style = \"text-align: right;\">0.0</td><td style = \"text-align: right;\">148.625</td><td style = \"text-align: right;\">108.75</td><td style = \"text-align: right;\">177.625</td><td style = \"text-align: right;\">55.825</td><td style = \"text-align: right;\">0.0</td><td style = \"text-align: right;\">187.05</td><td style = \"text-align: right;\">102.225</td><td style = \"text-align: right;\">72.5</td><td style = \"text-align: right;\">0.0</td><td style = \"text-align: right;\">0.0</td><td style = \"text-align: right;\">0.0</td><td style = \"text-align: right;\">0.0</td></tr><tr><td class = \"rowNumber\" style = \"font-weight: bold; text-align: right;\">24</td><td style = \"text-align: left;\">t24</td><td style = \"text-align: right;\">54.6</td><td style = \"text-align: right;\">48.75</td><td style = \"text-align: right;\">90.35</td><td style = \"text-align: right;\">37.7</td><td style = \"text-align: right;\">35.75</td><td style = \"text-align: right;\">68.9</td><td style = \"text-align: right;\">63.05</td><td style = \"text-align: right;\">85.8</td><td style = \"text-align: right;\">87.75</td><td style = \"text-align: right;\">97.5</td><td style = \"text-align: right;\">0.0</td><td style = \"text-align: right;\">0.0</td><td style = \"text-align: right;\">133.25</td><td style = \"text-align: right;\">97.5</td><td style = \"text-align: right;\">159.25</td><td style = \"text-align: right;\">50.05</td><td style = \"text-align: right;\">0.0</td><td style = \"text-align: right;\">167.7</td><td style = \"text-align: right;\">91.65</td><td style = \"text-align: right;\">65.0</td><td style = \"text-align: right;\">0.0</td><td style = \"text-align: right;\">0.0</td><td style = \"text-align: right;\">0.0</td><td style = \"text-align: right;\">0.0</td></tr></tbody></table></div>"
      ],
      "text/latex": [
       "\\begin{tabular}{r|cccccccccc}\n",
       "\t& t & n1 & n2 & n3 & n4 & n5 & n6 & n7 & n8 & \\\\\n",
       "\t\\hline\n",
       "\t& String & Float64 & Float64 & Float64 & Float64 & Float64 & Float64 & Float64 & Float64 & \\\\\n",
       "\t\\hline\n",
       "\t1 & t1 & 54.768 & 48.9 & 90.628 & 37.816 & 35.86 & 69.112 & 63.244 & 86.064 & $\\dots$ \\\\\n",
       "\t2 & t2 & 52.332 & 46.725 & 86.597 & 36.134 & 34.265 & 66.038 & 60.431 & 82.236 & $\\dots$ \\\\\n",
       "\t3 & t3 & 52.92 & 47.25 & 87.57 & 36.54 & 34.65 & 66.78 & 61.11 & 83.16 & $\\dots$ \\\\\n",
       "\t4 & t4 & 48.72 & 43.5 & 80.62 & 33.64 & 31.9 & 61.48 & 56.26 & 76.56 & $\\dots$ \\\\\n",
       "\t5 & t5 & 46.2 & 41.25 & 76.45 & 31.9 & 30.25 & 58.3 & 53.35 & 72.6 & $\\dots$ \\\\\n",
       "\t6 & t6 & 46.2 & 41.25 & 76.45 & 31.9 & 30.25 & 58.3 & 53.35 & 72.6 & $\\dots$ \\\\\n",
       "\t7 & t7 & 50.4 & 45.0 & 83.4 & 34.8 & 33.0 & 63.6 & 58.2 & 79.2 & $\\dots$ \\\\\n",
       "\t8 & t8 & 53.76 & 48.0 & 88.96 & 37.12 & 35.2 & 67.84 & 62.08 & 84.48 & $\\dots$ \\\\\n",
       "\t9 & t9 & 59.64 & 53.25 & 98.69 & 41.18 & 39.05 & 75.26 & 68.87 & 93.72 & $\\dots$ \\\\\n",
       "\t10 & t10 & 65.52 & 58.5 & 108.42 & 45.24 & 42.9 & 82.68 & 75.66 & 102.96 & $\\dots$ \\\\\n",
       "\t11 & t11 & 68.04 & 60.75 & 112.59 & 46.98 & 44.55 & 85.86 & 78.57 & 106.92 & $\\dots$ \\\\\n",
       "\t12 & t12 & 68.88 & 61.5 & 113.98 & 47.56 & 45.1 & 86.92 & 79.54 & 108.24 & $\\dots$ \\\\\n",
       "\t13 & t13 & 71.4 & 63.75 & 118.15 & 49.3 & 46.75 & 90.1 & 82.45 & 112.2 & $\\dots$ \\\\\n",
       "\t14 & t14 & 69.72 & 62.25 & 115.37 & 48.14 & 45.65 & 87.98 & 80.51 & 109.56 & $\\dots$ \\\\\n",
       "\t15 & t15 & 70.98 & 63.375 & 117.455 & 49.01 & 46.475 & 89.57 & 81.965 & 111.54 & $\\dots$ \\\\\n",
       "\t16 & t16 & 73.5 & 65.625 & 121.625 & 50.75 & 48.125 & 92.75 & 84.875 & 115.5 & $\\dots$ \\\\\n",
       "\t17 & t17 & 82.32 & 73.5 & 136.22 & 56.84 & 53.9 & 103.88 & 95.06 & 129.36 & $\\dots$ \\\\\n",
       "\t18 & t18 & 84.0 & 75.0 & 139.0 & 58.0 & 55.0 & 106.0 & 97.0 & 132.0 & $\\dots$ \\\\\n",
       "\t19 & t19 & 80.64 & 72.0 & 133.44 & 55.68 & 52.8 & 101.76 & 93.12 & 126.72 & $\\dots$ \\\\\n",
       "\t20 & t20 & 76.44 & 68.25 & 126.49 & 52.78 & 50.05 & 96.46 & 88.27 & 120.12 & $\\dots$ \\\\\n",
       "\t21 & t21 & 71.4 & 63.75 & 118.15 & 49.3 & 46.75 & 90.1 & 82.45 & 112.2 & $\\dots$ \\\\\n",
       "\t22 & t22 & 65.52 & 58.5 & 108.42 & 45.24 & 42.9 & 82.68 & 75.66 & 102.96 & $\\dots$ \\\\\n",
       "\t23 & t23 & 60.9 & 54.375 & 100.775 & 42.05 & 39.875 & 76.85 & 70.325 & 95.7 & $\\dots$ \\\\\n",
       "\t24 & t24 & 54.6 & 48.75 & 90.35 & 37.7 & 35.75 & 68.9 & 63.05 & 85.8 & $\\dots$ \\\\\n",
       "\\end{tabular}\n"
      ],
      "text/plain": [
       "\u001b[1m24×25 DataFrame\u001b[0m\n",
       "\u001b[1m Row \u001b[0m│\u001b[1m t      \u001b[0m\u001b[1m n1      \u001b[0m\u001b[1m n2      \u001b[0m\u001b[1m n3      \u001b[0m\u001b[1m n4      \u001b[0m\u001b[1m n5      \u001b[0m\u001b[1m n6      \u001b[0m\u001b[1m n7      \u001b[0m\u001b[1m \u001b[0m ⋯\n",
       "     │\u001b[90m String \u001b[0m\u001b[90m Float64 \u001b[0m\u001b[90m Float64 \u001b[0m\u001b[90m Float64 \u001b[0m\u001b[90m Float64 \u001b[0m\u001b[90m Float64 \u001b[0m\u001b[90m Float64 \u001b[0m\u001b[90m Float64 \u001b[0m\u001b[90m \u001b[0m ⋯\n",
       "─────┼──────────────────────────────────────────────────────────────────────────\n",
       "   1 │ t1       54.768   48.9     90.628   37.816   35.86    69.112   63.244   ⋯\n",
       "   2 │ t2       52.332   46.725   86.597   36.134   34.265   66.038   60.431\n",
       "   3 │ t3       52.92    47.25    87.57    36.54    34.65    66.78    61.11\n",
       "   4 │ t4       48.72    43.5     80.62    33.64    31.9     61.48    56.26\n",
       "   5 │ t5       46.2     41.25    76.45    31.9     30.25    58.3     53.35    ⋯\n",
       "   6 │ t6       46.2     41.25    76.45    31.9     30.25    58.3     53.35\n",
       "   7 │ t7       50.4     45.0     83.4     34.8     33.0     63.6     58.2\n",
       "   8 │ t8       53.76    48.0     88.96    37.12    35.2     67.84    62.08\n",
       "  ⋮  │   ⋮        ⋮        ⋮        ⋮        ⋮        ⋮        ⋮        ⋮      ⋱\n",
       "  18 │ t18      84.0     75.0    139.0     58.0     55.0    106.0     97.0     ⋯\n",
       "  19 │ t19      80.64    72.0    133.44    55.68    52.8    101.76    93.12\n",
       "  20 │ t20      76.44    68.25   126.49    52.78    50.05    96.46    88.27\n",
       "  21 │ t21      71.4     63.75   118.15    49.3     46.75    90.1     82.45\n",
       "  22 │ t22      65.52    58.5    108.42    45.24    42.9     82.68    75.66    ⋯\n",
       "  23 │ t23      60.9     54.375  100.775   42.05    39.875   76.85    70.325\n",
       "  24 │ t24      54.6     48.75    90.35    37.7     35.75    68.9     63.05\n",
       "\u001b[36m                                                   17 columns and 9 rows omitted\u001b[0m"
      ]
     },
     "metadata": {},
     "output_type": "display_data"
    }
   ],
   "source": [
    "mydata[\"initdemand\"]"
   ]
  },
  {
   "cell_type": "code",
   "execution_count": 76,
   "metadata": {},
   "outputs": [
    {
     "name": "stdout",
     "output_type": "stream",
     "text": [
      "line constraint data read in successfully"
     ]
    }
   ],
   "source": [
    "xl = XLSX.readxlsx(\"data/lineconstraints.xlsx\")\n",
    "linecontraints = XLSX.sheetnames(xl)\n",
    "mydata[\"lineconstraints\"] = DataFrame(XLSX.gettable(xl[\"lineconstraints\"]; infer_eltypes=true))\n",
    "print(\"line constraint data read in successfully\")"
   ]
  },
  {
   "cell_type": "code",
   "execution_count": 77,
   "metadata": {},
   "outputs": [
    {
     "data": {
      "text/html": [
       "<div><div style = \"float: left;\"><span>34×5 DataFrame</span></div><div style = \"float: right;\"><span style = \"font-style: italic;\">9 rows omitted</span></div><div style = \"clear: both;\"></div></div><div class = \"data-frame\" style = \"overflow-x: scroll;\"><table class = \"data-frame\" style = \"margin-bottom: 6px;\"><thead><tr class = \"header\"><th class = \"rowNumber\" style = \"font-weight: bold; text-align: right;\">Row</th><th style = \"text-align: left;\">ID</th><th style = \"text-align: left;\">from</th><th style = \"text-align: left;\">to </th><th style = \"text-align: left;\">X</th><th style = \"text-align: left;\">flowcap</th></tr><tr class = \"subheader headerLastRow\"><th class = \"rowNumber\" style = \"font-weight: bold; text-align: right;\"></th><th title = \"String\" style = \"text-align: left;\">String</th><th title = \"Int64\" style = \"text-align: left;\">Int64</th><th title = \"Int64\" style = \"text-align: left;\">Int64</th><th title = \"Float64\" style = \"text-align: left;\">Float64</th><th title = \"Int64\" style = \"text-align: left;\">Int64</th></tr></thead><tbody><tr><td class = \"rowNumber\" style = \"font-weight: bold; text-align: right;\">1</td><td style = \"text-align: left;\">l1</td><td style = \"text-align: right;\">1</td><td style = \"text-align: right;\">2</td><td style = \"text-align: right;\">0.0146</td><td style = \"text-align: right;\">175</td></tr><tr><td class = \"rowNumber\" style = \"font-weight: bold; text-align: right;\">2</td><td style = \"text-align: left;\">l2</td><td style = \"text-align: right;\">1</td><td style = \"text-align: right;\">3</td><td style = \"text-align: right;\">0.2253</td><td style = \"text-align: right;\">175</td></tr><tr><td class = \"rowNumber\" style = \"font-weight: bold; text-align: right;\">3</td><td style = \"text-align: left;\">l3</td><td style = \"text-align: right;\">1</td><td style = \"text-align: right;\">5</td><td style = \"text-align: right;\">0.907</td><td style = \"text-align: right;\">350</td></tr><tr><td class = \"rowNumber\" style = \"font-weight: bold; text-align: right;\">4</td><td style = \"text-align: left;\">l4</td><td style = \"text-align: right;\">2</td><td style = \"text-align: right;\">4</td><td style = \"text-align: right;\">0.1356</td><td style = \"text-align: right;\">175</td></tr><tr><td class = \"rowNumber\" style = \"font-weight: bold; text-align: right;\">5</td><td style = \"text-align: left;\">l5</td><td style = \"text-align: right;\">2</td><td style = \"text-align: right;\">6</td><td style = \"text-align: right;\">0.205</td><td style = \"text-align: right;\">175</td></tr><tr><td class = \"rowNumber\" style = \"font-weight: bold; text-align: right;\">6</td><td style = \"text-align: left;\">l6</td><td style = \"text-align: right;\">3</td><td style = \"text-align: right;\">9</td><td style = \"text-align: right;\">0.1271</td><td style = \"text-align: right;\">175</td></tr><tr><td class = \"rowNumber\" style = \"font-weight: bold; text-align: right;\">7</td><td style = \"text-align: left;\">l7</td><td style = \"text-align: right;\">3</td><td style = \"text-align: right;\">24</td><td style = \"text-align: right;\">0.084</td><td style = \"text-align: right;\">400</td></tr><tr><td class = \"rowNumber\" style = \"font-weight: bold; text-align: right;\">8</td><td style = \"text-align: left;\">l8</td><td style = \"text-align: right;\">4</td><td style = \"text-align: right;\">9</td><td style = \"text-align: right;\">0.111</td><td style = \"text-align: right;\">175</td></tr><tr><td class = \"rowNumber\" style = \"font-weight: bold; text-align: right;\">9</td><td style = \"text-align: left;\">l9</td><td style = \"text-align: right;\">5</td><td style = \"text-align: right;\">10</td><td style = \"text-align: right;\">0.094</td><td style = \"text-align: right;\">350</td></tr><tr><td class = \"rowNumber\" style = \"font-weight: bold; text-align: right;\">10</td><td style = \"text-align: left;\">l10</td><td style = \"text-align: right;\">6</td><td style = \"text-align: right;\">10</td><td style = \"text-align: right;\">0.0642</td><td style = \"text-align: right;\">175</td></tr><tr><td class = \"rowNumber\" style = \"font-weight: bold; text-align: right;\">11</td><td style = \"text-align: left;\">l11</td><td style = \"text-align: right;\">7</td><td style = \"text-align: right;\">8</td><td style = \"text-align: right;\">0.0652</td><td style = \"text-align: right;\">350</td></tr><tr><td class = \"rowNumber\" style = \"font-weight: bold; text-align: right;\">12</td><td style = \"text-align: left;\">l12</td><td style = \"text-align: right;\">8</td><td style = \"text-align: right;\">9</td><td style = \"text-align: right;\">0.1762</td><td style = \"text-align: right;\">175</td></tr><tr><td class = \"rowNumber\" style = \"font-weight: bold; text-align: right;\">13</td><td style = \"text-align: left;\">l13</td><td style = \"text-align: right;\">8</td><td style = \"text-align: right;\">10</td><td style = \"text-align: right;\">0.1762</td><td style = \"text-align: right;\">175</td></tr><tr><td style = \"text-align: right;\">&vellip;</td><td style = \"text-align: right;\">&vellip;</td><td style = \"text-align: right;\">&vellip;</td><td style = \"text-align: right;\">&vellip;</td><td style = \"text-align: right;\">&vellip;</td><td style = \"text-align: right;\">&vellip;</td></tr><tr><td class = \"rowNumber\" style = \"font-weight: bold; text-align: right;\">23</td><td style = \"text-align: left;\">l23</td><td style = \"text-align: right;\">14</td><td style = \"text-align: right;\">16</td><td style = \"text-align: right;\">0.0598</td><td style = \"text-align: right;\">250</td></tr><tr><td class = \"rowNumber\" style = \"font-weight: bold; text-align: right;\">24</td><td style = \"text-align: left;\">l24</td><td style = \"text-align: right;\">15</td><td style = \"text-align: right;\">16</td><td style = \"text-align: right;\">0.0172</td><td style = \"text-align: right;\">500</td></tr><tr><td class = \"rowNumber\" style = \"font-weight: bold; text-align: right;\">25</td><td style = \"text-align: left;\">l26</td><td style = \"text-align: right;\">15</td><td style = \"text-align: right;\">21</td><td style = \"text-align: right;\">0.0249</td><td style = \"text-align: right;\">400</td></tr><tr><td class = \"rowNumber\" style = \"font-weight: bold; text-align: right;\">26</td><td style = \"text-align: left;\">l27</td><td style = \"text-align: right;\">15</td><td style = \"text-align: right;\">24</td><td style = \"text-align: right;\">0.0529</td><td style = \"text-align: right;\">500</td></tr><tr><td class = \"rowNumber\" style = \"font-weight: bold; text-align: right;\">27</td><td style = \"text-align: left;\">l28</td><td style = \"text-align: right;\">16</td><td style = \"text-align: right;\">17</td><td style = \"text-align: right;\">0.0263</td><td style = \"text-align: right;\">500</td></tr><tr><td class = \"rowNumber\" style = \"font-weight: bold; text-align: right;\">28</td><td style = \"text-align: left;\">l29</td><td style = \"text-align: right;\">16</td><td style = \"text-align: right;\">19</td><td style = \"text-align: right;\">0.0234</td><td style = \"text-align: right;\">500</td></tr><tr><td class = \"rowNumber\" style = \"font-weight: bold; text-align: right;\">29</td><td style = \"text-align: left;\">l30</td><td style = \"text-align: right;\">17</td><td style = \"text-align: right;\">18</td><td style = \"text-align: right;\">0.0143</td><td style = \"text-align: right;\">500</td></tr><tr><td class = \"rowNumber\" style = \"font-weight: bold; text-align: right;\">30</td><td style = \"text-align: left;\">l31</td><td style = \"text-align: right;\">17</td><td style = \"text-align: right;\">22</td><td style = \"text-align: right;\">0.1096</td><td style = \"text-align: right;\">500</td></tr><tr><td class = \"rowNumber\" style = \"font-weight: bold; text-align: right;\">31</td><td style = \"text-align: left;\">l32</td><td style = \"text-align: right;\">18</td><td style = \"text-align: right;\">21</td><td style = \"text-align: right;\">0.0132</td><td style = \"text-align: right;\">1000</td></tr><tr><td class = \"rowNumber\" style = \"font-weight: bold; text-align: right;\">32</td><td style = \"text-align: left;\">l33</td><td style = \"text-align: right;\">19</td><td style = \"text-align: right;\">20</td><td style = \"text-align: right;\">0.0203</td><td style = \"text-align: right;\">1000</td></tr><tr><td class = \"rowNumber\" style = \"font-weight: bold; text-align: right;\">33</td><td style = \"text-align: left;\">l34</td><td style = \"text-align: right;\">20</td><td style = \"text-align: right;\">23</td><td style = \"text-align: right;\">0.0112</td><td style = \"text-align: right;\">1000</td></tr><tr><td class = \"rowNumber\" style = \"font-weight: bold; text-align: right;\">34</td><td style = \"text-align: left;\">l35</td><td style = \"text-align: right;\">21</td><td style = \"text-align: right;\">22</td><td style = \"text-align: right;\">0.0692</td><td style = \"text-align: right;\">500</td></tr></tbody></table></div>"
      ],
      "text/latex": [
       "\\begin{tabular}{r|ccccc}\n",
       "\t& ID & from & to  & X & flowcap\\\\\n",
       "\t\\hline\n",
       "\t& String & Int64 & Int64 & Float64 & Int64\\\\\n",
       "\t\\hline\n",
       "\t1 & l1 & 1 & 2 & 0.0146 & 175 \\\\\n",
       "\t2 & l2 & 1 & 3 & 0.2253 & 175 \\\\\n",
       "\t3 & l3 & 1 & 5 & 0.907 & 350 \\\\\n",
       "\t4 & l4 & 2 & 4 & 0.1356 & 175 \\\\\n",
       "\t5 & l5 & 2 & 6 & 0.205 & 175 \\\\\n",
       "\t6 & l6 & 3 & 9 & 0.1271 & 175 \\\\\n",
       "\t7 & l7 & 3 & 24 & 0.084 & 400 \\\\\n",
       "\t8 & l8 & 4 & 9 & 0.111 & 175 \\\\\n",
       "\t9 & l9 & 5 & 10 & 0.094 & 350 \\\\\n",
       "\t10 & l10 & 6 & 10 & 0.0642 & 175 \\\\\n",
       "\t11 & l11 & 7 & 8 & 0.0652 & 350 \\\\\n",
       "\t12 & l12 & 8 & 9 & 0.1762 & 175 \\\\\n",
       "\t13 & l13 & 8 & 10 & 0.1762 & 175 \\\\\n",
       "\t14 & l14 & 9 & 11 & 0.084 & 400 \\\\\n",
       "\t15 & l15 & 9 & 12 & 0.084 & 400 \\\\\n",
       "\t16 & l16 & 10 & 11 & 0.084 & 400 \\\\\n",
       "\t17 & l17 & 10 & 12 & 0.084 & 400 \\\\\n",
       "\t18 & l18 & 11 & 13 & 0.0488 & 500 \\\\\n",
       "\t19 & l19 & 11 & 14 & 0.0426 & 500 \\\\\n",
       "\t20 & l20 & 12 & 13 & 0.0488 & 500 \\\\\n",
       "\t21 & l21 & 12 & 23 & 0.0985 & 500 \\\\\n",
       "\t22 & l22 & 13 & 23 & 0.0884 & 250 \\\\\n",
       "\t23 & l23 & 14 & 16 & 0.0598 & 250 \\\\\n",
       "\t24 & l24 & 15 & 16 & 0.0172 & 500 \\\\\n",
       "\t$\\dots$ & $\\dots$ & $\\dots$ & $\\dots$ & $\\dots$ & $\\dots$ \\\\\n",
       "\\end{tabular}\n"
      ],
      "text/plain": [
       "\u001b[1m34×5 DataFrame\u001b[0m\n",
       "\u001b[1m Row \u001b[0m│\u001b[1m ID     \u001b[0m\u001b[1m from  \u001b[0m\u001b[1m to    \u001b[0m\u001b[1m X       \u001b[0m\u001b[1m flowcap \u001b[0m\n",
       "     │\u001b[90m String \u001b[0m\u001b[90m Int64 \u001b[0m\u001b[90m Int64 \u001b[0m\u001b[90m Float64 \u001b[0m\u001b[90m Int64   \u001b[0m\n",
       "─────┼────────────────────────────────────────\n",
       "   1 │ l1          1      2   0.0146      175\n",
       "   2 │ l2          1      3   0.2253      175\n",
       "   3 │ l3          1      5   0.907       350\n",
       "   4 │ l4          2      4   0.1356      175\n",
       "   5 │ l5          2      6   0.205       175\n",
       "   6 │ l6          3      9   0.1271      175\n",
       "   7 │ l7          3     24   0.084       400\n",
       "   8 │ l8          4      9   0.111       175\n",
       "  ⋮  │   ⋮       ⋮      ⋮       ⋮        ⋮\n",
       "  28 │ l29        16     19   0.0234      500\n",
       "  29 │ l30        17     18   0.0143      500\n",
       "  30 │ l31        17     22   0.1096      500\n",
       "  31 │ l32        18     21   0.0132     1000\n",
       "  32 │ l33        19     20   0.0203     1000\n",
       "  33 │ l34        20     23   0.0112     1000\n",
       "  34 │ l35        21     22   0.0692      500\n",
       "\u001b[36m                               19 rows omitted\u001b[0m"
      ]
     },
     "metadata": {},
     "output_type": "display_data"
    }
   ],
   "source": [
    "mydata[\"lineconstraints\"]"
   ]
  },
  {
   "cell_type": "code",
   "execution_count": 49,
   "metadata": {},
   "outputs": [
    {
     "name": "stdout",
     "output_type": "stream",
     "text": [
      "node data read in successfully"
     ]
    }
   ],
   "source": [
    "xl = XLSX.readxlsx(\"data/nodeinfo.xlsx\")\n",
    "nodeinfo = XLSX.sheetnames(xl)\n",
    "mydata[\"nodeinfo\"] = DataFrame(XLSX.gettable(xl[\"nodeinfo\"]; infer_eltypes=true))\n",
    "print(\"node data read in successfully\")"
   ]
  },
  {
   "cell_type": "code",
   "execution_count": 50,
   "metadata": {},
   "outputs": [
    {
     "data": {
      "text/html": [
       "<div><div style = \"float: left;\"><span>24×2 DataFrame</span></div><div style = \"clear: both;\"></div></div><div class = \"data-frame\" style = \"overflow-x: scroll;\"><table class = \"data-frame\" style = \"margin-bottom: 6px;\"><thead><tr class = \"header\"><th class = \"rowNumber\" style = \"font-weight: bold; text-align: right;\">Row</th><th style = \"text-align: left;\">ID</th><th style = \"text-align: left;\">Num</th></tr><tr class = \"subheader headerLastRow\"><th class = \"rowNumber\" style = \"font-weight: bold; text-align: right;\"></th><th title = \"String\" style = \"text-align: left;\">String</th><th title = \"Int64\" style = \"text-align: left;\">Int64</th></tr></thead><tbody><tr><td class = \"rowNumber\" style = \"font-weight: bold; text-align: right;\">1</td><td style = \"text-align: left;\">n1</td><td style = \"text-align: right;\">1</td></tr><tr><td class = \"rowNumber\" style = \"font-weight: bold; text-align: right;\">2</td><td style = \"text-align: left;\">n2</td><td style = \"text-align: right;\">2</td></tr><tr><td class = \"rowNumber\" style = \"font-weight: bold; text-align: right;\">3</td><td style = \"text-align: left;\">n3</td><td style = \"text-align: right;\">3</td></tr><tr><td class = \"rowNumber\" style = \"font-weight: bold; text-align: right;\">4</td><td style = \"text-align: left;\">n4</td><td style = \"text-align: right;\">4</td></tr><tr><td class = \"rowNumber\" style = \"font-weight: bold; text-align: right;\">5</td><td style = \"text-align: left;\">n5</td><td style = \"text-align: right;\">5</td></tr><tr><td class = \"rowNumber\" style = \"font-weight: bold; text-align: right;\">6</td><td style = \"text-align: left;\">n6</td><td style = \"text-align: right;\">6</td></tr><tr><td class = \"rowNumber\" style = \"font-weight: bold; text-align: right;\">7</td><td style = \"text-align: left;\">n7</td><td style = \"text-align: right;\">7</td></tr><tr><td class = \"rowNumber\" style = \"font-weight: bold; text-align: right;\">8</td><td style = \"text-align: left;\">n8</td><td style = \"text-align: right;\">8</td></tr><tr><td class = \"rowNumber\" style = \"font-weight: bold; text-align: right;\">9</td><td style = \"text-align: left;\">n9</td><td style = \"text-align: right;\">9</td></tr><tr><td class = \"rowNumber\" style = \"font-weight: bold; text-align: right;\">10</td><td style = \"text-align: left;\">n10</td><td style = \"text-align: right;\">10</td></tr><tr><td class = \"rowNumber\" style = \"font-weight: bold; text-align: right;\">11</td><td style = \"text-align: left;\">n11</td><td style = \"text-align: right;\">11</td></tr><tr><td class = \"rowNumber\" style = \"font-weight: bold; text-align: right;\">12</td><td style = \"text-align: left;\">n12</td><td style = \"text-align: right;\">12</td></tr><tr><td class = \"rowNumber\" style = \"font-weight: bold; text-align: right;\">13</td><td style = \"text-align: left;\">n13</td><td style = \"text-align: right;\">13</td></tr><tr><td class = \"rowNumber\" style = \"font-weight: bold; text-align: right;\">14</td><td style = \"text-align: left;\">n14</td><td style = \"text-align: right;\">14</td></tr><tr><td class = \"rowNumber\" style = \"font-weight: bold; text-align: right;\">15</td><td style = \"text-align: left;\">n15</td><td style = \"text-align: right;\">15</td></tr><tr><td class = \"rowNumber\" style = \"font-weight: bold; text-align: right;\">16</td><td style = \"text-align: left;\">n16</td><td style = \"text-align: right;\">16</td></tr><tr><td class = \"rowNumber\" style = \"font-weight: bold; text-align: right;\">17</td><td style = \"text-align: left;\">n17</td><td style = \"text-align: right;\">17</td></tr><tr><td class = \"rowNumber\" style = \"font-weight: bold; text-align: right;\">18</td><td style = \"text-align: left;\">n18</td><td style = \"text-align: right;\">18</td></tr><tr><td class = \"rowNumber\" style = \"font-weight: bold; text-align: right;\">19</td><td style = \"text-align: left;\">n19</td><td style = \"text-align: right;\">19</td></tr><tr><td class = \"rowNumber\" style = \"font-weight: bold; text-align: right;\">20</td><td style = \"text-align: left;\">n20</td><td style = \"text-align: right;\">20</td></tr><tr><td class = \"rowNumber\" style = \"font-weight: bold; text-align: right;\">21</td><td style = \"text-align: left;\">n21</td><td style = \"text-align: right;\">21</td></tr><tr><td class = \"rowNumber\" style = \"font-weight: bold; text-align: right;\">22</td><td style = \"text-align: left;\">n22</td><td style = \"text-align: right;\">22</td></tr><tr><td class = \"rowNumber\" style = \"font-weight: bold; text-align: right;\">23</td><td style = \"text-align: left;\">n23</td><td style = \"text-align: right;\">23</td></tr><tr><td class = \"rowNumber\" style = \"font-weight: bold; text-align: right;\">24</td><td style = \"text-align: left;\">n24</td><td style = \"text-align: right;\">24</td></tr></tbody></table></div>"
      ],
      "text/latex": [
       "\\begin{tabular}{r|cc}\n",
       "\t& ID & Num\\\\\n",
       "\t\\hline\n",
       "\t& String & Int64\\\\\n",
       "\t\\hline\n",
       "\t1 & n1 & 1 \\\\\n",
       "\t2 & n2 & 2 \\\\\n",
       "\t3 & n3 & 3 \\\\\n",
       "\t4 & n4 & 4 \\\\\n",
       "\t5 & n5 & 5 \\\\\n",
       "\t6 & n6 & 6 \\\\\n",
       "\t7 & n7 & 7 \\\\\n",
       "\t8 & n8 & 8 \\\\\n",
       "\t9 & n9 & 9 \\\\\n",
       "\t10 & n10 & 10 \\\\\n",
       "\t11 & n11 & 11 \\\\\n",
       "\t12 & n12 & 12 \\\\\n",
       "\t13 & n13 & 13 \\\\\n",
       "\t14 & n14 & 14 \\\\\n",
       "\t15 & n15 & 15 \\\\\n",
       "\t16 & n16 & 16 \\\\\n",
       "\t17 & n17 & 17 \\\\\n",
       "\t18 & n18 & 18 \\\\\n",
       "\t19 & n19 & 19 \\\\\n",
       "\t20 & n20 & 20 \\\\\n",
       "\t21 & n21 & 21 \\\\\n",
       "\t22 & n22 & 22 \\\\\n",
       "\t23 & n23 & 23 \\\\\n",
       "\t24 & n24 & 24 \\\\\n",
       "\\end{tabular}\n"
      ],
      "text/plain": [
       "\u001b[1m24×2 DataFrame\u001b[0m\n",
       "\u001b[1m Row \u001b[0m│\u001b[1m ID     \u001b[0m\u001b[1m Num   \u001b[0m\n",
       "     │\u001b[90m String \u001b[0m\u001b[90m Int64 \u001b[0m\n",
       "─────┼───────────────\n",
       "   1 │ n1          1\n",
       "   2 │ n2          2\n",
       "   3 │ n3          3\n",
       "   4 │ n4          4\n",
       "   5 │ n5          5\n",
       "   6 │ n6          6\n",
       "   7 │ n7          7\n",
       "   8 │ n8          8\n",
       "  ⋮  │   ⋮       ⋮\n",
       "  18 │ n18        18\n",
       "  19 │ n19        19\n",
       "  20 │ n20        20\n",
       "  21 │ n21        21\n",
       "  22 │ n22        22\n",
       "  23 │ n23        23\n",
       "  24 │ n24        24\n",
       "\u001b[36m       9 rows omitted\u001b[0m"
      ]
     },
     "metadata": {},
     "output_type": "display_data"
    }
   ],
   "source": [
    "mydata[\"nodeinfo\"]"
   ]
  },
  {
   "cell_type": "code",
   "execution_count": 51,
   "metadata": {},
   "outputs": [
    {
     "name": "stdout",
     "output_type": "stream",
     "text": [
      "shifting information read in successfully"
     ]
    }
   ],
   "source": [
    "xl = XLSX.readxlsx(\"data/shiftinginfo.xlsx\")\n",
    "shiftinginfo = XLSX.sheetnames(xl)\n",
    "mydata[\"shiftinginfo\"] = DataFrame(XLSX.gettable(xl[\"shiftinginfo\"]; infer_eltypes=true))\n",
    "print(\"shifting information read in successfully\")"
   ]
  },
  {
   "cell_type": "code",
   "execution_count": 52,
   "metadata": {},
   "outputs": [
    {
     "data": {
      "text/html": [
       "<div><div style = \"float: left;\"><span>459×7 DataFrame</span></div><div style = \"float: right;\"><span style = \"font-style: italic;\">434 rows omitted</span></div><div style = \"clear: both;\"></div></div><div class = \"data-frame\" style = \"overflow-x: scroll;\"><table class = \"data-frame\" style = \"margin-bottom: 6px;\"><thead><tr class = \"header\"><th class = \"rowNumber\" style = \"font-weight: bold; text-align: right;\">Row</th><th style = \"text-align: left;\">t</th><th style = \"text-align: left;\">n</th><th style = \"text-align: left;\">k</th><th style = \"text-align: left;\">cost</th><th style = \"text-align: left;\">min</th><th style = \"text-align: left;\">max</th><th style = \"text-align: left;\">costb</th></tr><tr class = \"subheader headerLastRow\"><th class = \"rowNumber\" style = \"font-weight: bold; text-align: right;\"></th><th title = \"String\" style = \"text-align: left;\">String</th><th title = \"String\" style = \"text-align: left;\">String</th><th title = \"String\" style = \"text-align: left;\">String</th><th title = \"Int64\" style = \"text-align: left;\">Int64</th><th title = \"Float64\" style = \"text-align: left;\">Float64</th><th title = \"Float64\" style = \"text-align: left;\">Float64</th><th title = \"Int64\" style = \"text-align: left;\">Int64</th></tr></thead><tbody><tr><td class = \"rowNumber\" style = \"font-weight: bold; text-align: right;\">1</td><td style = \"text-align: left;\">t12</td><td style = \"text-align: left;\">n1</td><td style = \"text-align: left;\">k1</td><td style = \"text-align: right;\">10</td><td style = \"text-align: right;\">0.51</td><td style = \"text-align: right;\">0.56</td><td style = \"text-align: right;\">8</td></tr><tr><td class = \"rowNumber\" style = \"font-weight: bold; text-align: right;\">2</td><td style = \"text-align: left;\">t12</td><td style = \"text-align: left;\">n1</td><td style = \"text-align: left;\">k2</td><td style = \"text-align: right;\">12</td><td style = \"text-align: right;\">0.51</td><td style = \"text-align: right;\">0.56</td><td style = \"text-align: right;\">10</td></tr><tr><td class = \"rowNumber\" style = \"font-weight: bold; text-align: right;\">3</td><td style = \"text-align: left;\">t12</td><td style = \"text-align: left;\">n1</td><td style = \"text-align: left;\">k3</td><td style = \"text-align: right;\">14</td><td style = \"text-align: right;\">0.51</td><td style = \"text-align: right;\">0.56</td><td style = \"text-align: right;\">12</td></tr><tr><td class = \"rowNumber\" style = \"font-weight: bold; text-align: right;\">4</td><td style = \"text-align: left;\">t12</td><td style = \"text-align: left;\">n2</td><td style = \"text-align: left;\">k1</td><td style = \"text-align: right;\">10</td><td style = \"text-align: right;\">0.51</td><td style = \"text-align: right;\">0.56</td><td style = \"text-align: right;\">8</td></tr><tr><td class = \"rowNumber\" style = \"font-weight: bold; text-align: right;\">5</td><td style = \"text-align: left;\">t12</td><td style = \"text-align: left;\">n2</td><td style = \"text-align: left;\">k2</td><td style = \"text-align: right;\">12</td><td style = \"text-align: right;\">0.51</td><td style = \"text-align: right;\">0.56</td><td style = \"text-align: right;\">10</td></tr><tr><td class = \"rowNumber\" style = \"font-weight: bold; text-align: right;\">6</td><td style = \"text-align: left;\">t12</td><td style = \"text-align: left;\">n2</td><td style = \"text-align: left;\">k3</td><td style = \"text-align: right;\">14</td><td style = \"text-align: right;\">0.51</td><td style = \"text-align: right;\">0.56</td><td style = \"text-align: right;\">12</td></tr><tr><td class = \"rowNumber\" style = \"font-weight: bold; text-align: right;\">7</td><td style = \"text-align: left;\">t12</td><td style = \"text-align: left;\">n3</td><td style = \"text-align: left;\">k1</td><td style = \"text-align: right;\">10</td><td style = \"text-align: right;\">0.51</td><td style = \"text-align: right;\">0.56</td><td style = \"text-align: right;\">8</td></tr><tr><td class = \"rowNumber\" style = \"font-weight: bold; text-align: right;\">8</td><td style = \"text-align: left;\">t12</td><td style = \"text-align: left;\">n3</td><td style = \"text-align: left;\">k2</td><td style = \"text-align: right;\">12</td><td style = \"text-align: right;\">0.51</td><td style = \"text-align: right;\">0.56</td><td style = \"text-align: right;\">10</td></tr><tr><td class = \"rowNumber\" style = \"font-weight: bold; text-align: right;\">9</td><td style = \"text-align: left;\">t12</td><td style = \"text-align: left;\">n3</td><td style = \"text-align: left;\">k3</td><td style = \"text-align: right;\">14</td><td style = \"text-align: right;\">0.51</td><td style = \"text-align: right;\">0.56</td><td style = \"text-align: right;\">12</td></tr><tr><td class = \"rowNumber\" style = \"font-weight: bold; text-align: right;\">10</td><td style = \"text-align: left;\">t12</td><td style = \"text-align: left;\">n4</td><td style = \"text-align: left;\">k1</td><td style = \"text-align: right;\">10</td><td style = \"text-align: right;\">0.51</td><td style = \"text-align: right;\">0.56</td><td style = \"text-align: right;\">8</td></tr><tr><td class = \"rowNumber\" style = \"font-weight: bold; text-align: right;\">11</td><td style = \"text-align: left;\">t12</td><td style = \"text-align: left;\">n4</td><td style = \"text-align: left;\">k2</td><td style = \"text-align: right;\">12</td><td style = \"text-align: right;\">0.51</td><td style = \"text-align: right;\">0.56</td><td style = \"text-align: right;\">10</td></tr><tr><td class = \"rowNumber\" style = \"font-weight: bold; text-align: right;\">12</td><td style = \"text-align: left;\">t12</td><td style = \"text-align: left;\">n4</td><td style = \"text-align: left;\">k3</td><td style = \"text-align: right;\">14</td><td style = \"text-align: right;\">0.51</td><td style = \"text-align: right;\">0.56</td><td style = \"text-align: right;\">12</td></tr><tr><td class = \"rowNumber\" style = \"font-weight: bold; text-align: right;\">13</td><td style = \"text-align: left;\">t12</td><td style = \"text-align: left;\">n5</td><td style = \"text-align: left;\">k1</td><td style = \"text-align: right;\">10</td><td style = \"text-align: right;\">0.51</td><td style = \"text-align: right;\">0.56</td><td style = \"text-align: right;\">8</td></tr><tr><td style = \"text-align: right;\">&vellip;</td><td style = \"text-align: right;\">&vellip;</td><td style = \"text-align: right;\">&vellip;</td><td style = \"text-align: right;\">&vellip;</td><td style = \"text-align: right;\">&vellip;</td><td style = \"text-align: right;\">&vellip;</td><td style = \"text-align: right;\">&vellip;</td><td style = \"text-align: right;\">&vellip;</td></tr><tr><td class = \"rowNumber\" style = \"font-weight: bold; text-align: right;\">448</td><td style = \"text-align: left;\">t20</td><td style = \"text-align: left;\">n16</td><td style = \"text-align: left;\">k1</td><td style = \"text-align: right;\">10</td><td style = \"text-align: right;\">1.05</td><td style = \"text-align: right;\">1.11</td><td style = \"text-align: right;\">8</td></tr><tr><td class = \"rowNumber\" style = \"font-weight: bold; text-align: right;\">449</td><td style = \"text-align: left;\">t20</td><td style = \"text-align: left;\">n16</td><td style = \"text-align: left;\">k2</td><td style = \"text-align: right;\">12</td><td style = \"text-align: right;\">1.05</td><td style = \"text-align: right;\">1.11</td><td style = \"text-align: right;\">10</td></tr><tr><td class = \"rowNumber\" style = \"font-weight: bold; text-align: right;\">450</td><td style = \"text-align: left;\">t20</td><td style = \"text-align: left;\">n16</td><td style = \"text-align: left;\">k3</td><td style = \"text-align: right;\">14</td><td style = \"text-align: right;\">1.05</td><td style = \"text-align: right;\">1.11</td><td style = \"text-align: right;\">12</td></tr><tr><td class = \"rowNumber\" style = \"font-weight: bold; text-align: right;\">451</td><td style = \"text-align: left;\">t20</td><td style = \"text-align: left;\">n18</td><td style = \"text-align: left;\">k1</td><td style = \"text-align: right;\">10</td><td style = \"text-align: right;\">1.05</td><td style = \"text-align: right;\">1.11</td><td style = \"text-align: right;\">8</td></tr><tr><td class = \"rowNumber\" style = \"font-weight: bold; text-align: right;\">452</td><td style = \"text-align: left;\">t20</td><td style = \"text-align: left;\">n18</td><td style = \"text-align: left;\">k2</td><td style = \"text-align: right;\">12</td><td style = \"text-align: right;\">1.05</td><td style = \"text-align: right;\">1.11</td><td style = \"text-align: right;\">10</td></tr><tr><td class = \"rowNumber\" style = \"font-weight: bold; text-align: right;\">453</td><td style = \"text-align: left;\">t20</td><td style = \"text-align: left;\">n18</td><td style = \"text-align: left;\">k3</td><td style = \"text-align: right;\">14</td><td style = \"text-align: right;\">1.05</td><td style = \"text-align: right;\">1.11</td><td style = \"text-align: right;\">12</td></tr><tr><td class = \"rowNumber\" style = \"font-weight: bold; text-align: right;\">454</td><td style = \"text-align: left;\">t20</td><td style = \"text-align: left;\">n19</td><td style = \"text-align: left;\">k1</td><td style = \"text-align: right;\">10</td><td style = \"text-align: right;\">1.05</td><td style = \"text-align: right;\">1.11</td><td style = \"text-align: right;\">8</td></tr><tr><td class = \"rowNumber\" style = \"font-weight: bold; text-align: right;\">455</td><td style = \"text-align: left;\">t20</td><td style = \"text-align: left;\">n19</td><td style = \"text-align: left;\">k2</td><td style = \"text-align: right;\">12</td><td style = \"text-align: right;\">1.05</td><td style = \"text-align: right;\">1.11</td><td style = \"text-align: right;\">10</td></tr><tr><td class = \"rowNumber\" style = \"font-weight: bold; text-align: right;\">456</td><td style = \"text-align: left;\">t20</td><td style = \"text-align: left;\">n19</td><td style = \"text-align: left;\">k3</td><td style = \"text-align: right;\">14</td><td style = \"text-align: right;\">1.05</td><td style = \"text-align: right;\">1.11</td><td style = \"text-align: right;\">12</td></tr><tr><td class = \"rowNumber\" style = \"font-weight: bold; text-align: right;\">457</td><td style = \"text-align: left;\">t20</td><td style = \"text-align: left;\">n20</td><td style = \"text-align: left;\">k1</td><td style = \"text-align: right;\">10</td><td style = \"text-align: right;\">1.05</td><td style = \"text-align: right;\">1.11</td><td style = \"text-align: right;\">8</td></tr><tr><td class = \"rowNumber\" style = \"font-weight: bold; text-align: right;\">458</td><td style = \"text-align: left;\">t20</td><td style = \"text-align: left;\">n20</td><td style = \"text-align: left;\">k2</td><td style = \"text-align: right;\">12</td><td style = \"text-align: right;\">1.05</td><td style = \"text-align: right;\">1.11</td><td style = \"text-align: right;\">10</td></tr><tr><td class = \"rowNumber\" style = \"font-weight: bold; text-align: right;\">459</td><td style = \"text-align: left;\">t20</td><td style = \"text-align: left;\">n20</td><td style = \"text-align: left;\">k3</td><td style = \"text-align: right;\">14</td><td style = \"text-align: right;\">1.05</td><td style = \"text-align: right;\">1.11</td><td style = \"text-align: right;\">12</td></tr></tbody></table></div>"
      ],
      "text/latex": [
       "\\begin{tabular}{r|ccccccc}\n",
       "\t& t & n & k & cost & min & max & costb\\\\\n",
       "\t\\hline\n",
       "\t& String & String & String & Int64 & Float64 & Float64 & Int64\\\\\n",
       "\t\\hline\n",
       "\t1 & t12 & n1 & k1 & 10 & 0.51 & 0.56 & 8 \\\\\n",
       "\t2 & t12 & n1 & k2 & 12 & 0.51 & 0.56 & 10 \\\\\n",
       "\t3 & t12 & n1 & k3 & 14 & 0.51 & 0.56 & 12 \\\\\n",
       "\t4 & t12 & n2 & k1 & 10 & 0.51 & 0.56 & 8 \\\\\n",
       "\t5 & t12 & n2 & k2 & 12 & 0.51 & 0.56 & 10 \\\\\n",
       "\t6 & t12 & n2 & k3 & 14 & 0.51 & 0.56 & 12 \\\\\n",
       "\t7 & t12 & n3 & k1 & 10 & 0.51 & 0.56 & 8 \\\\\n",
       "\t8 & t12 & n3 & k2 & 12 & 0.51 & 0.56 & 10 \\\\\n",
       "\t9 & t12 & n3 & k3 & 14 & 0.51 & 0.56 & 12 \\\\\n",
       "\t10 & t12 & n4 & k1 & 10 & 0.51 & 0.56 & 8 \\\\\n",
       "\t11 & t12 & n4 & k2 & 12 & 0.51 & 0.56 & 10 \\\\\n",
       "\t12 & t12 & n4 & k3 & 14 & 0.51 & 0.56 & 12 \\\\\n",
       "\t13 & t12 & n5 & k1 & 10 & 0.51 & 0.56 & 8 \\\\\n",
       "\t14 & t12 & n5 & k2 & 12 & 0.51 & 0.56 & 10 \\\\\n",
       "\t15 & t12 & n5 & k3 & 14 & 0.51 & 0.56 & 12 \\\\\n",
       "\t16 & t12 & n6 & k1 & 10 & 0.51 & 0.56 & 8 \\\\\n",
       "\t17 & t12 & n6 & k2 & 12 & 0.51 & 0.56 & 10 \\\\\n",
       "\t18 & t12 & n6 & k3 & 14 & 0.51 & 0.56 & 12 \\\\\n",
       "\t19 & t12 & n7 & k1 & 10 & 1.07 & 1.12 & 8 \\\\\n",
       "\t20 & t12 & n7 & k2 & 12 & 1.07 & 1.12 & 10 \\\\\n",
       "\t21 & t12 & n7 & k3 & 14 & 1.07 & 1.12 & 12 \\\\\n",
       "\t22 & t12 & n8 & k1 & 10 & 1.07 & 1.12 & 8 \\\\\n",
       "\t23 & t12 & n8 & k2 & 12 & 1.07 & 1.12 & 10 \\\\\n",
       "\t24 & t12 & n8 & k3 & 14 & 1.07 & 1.12 & 12 \\\\\n",
       "\t$\\dots$ & $\\dots$ & $\\dots$ & $\\dots$ & $\\dots$ & $\\dots$ & $\\dots$ & $\\dots$ \\\\\n",
       "\\end{tabular}\n"
      ],
      "text/plain": [
       "\u001b[1m459×7 DataFrame\u001b[0m\n",
       "\u001b[1m Row \u001b[0m│\u001b[1m t      \u001b[0m\u001b[1m n      \u001b[0m\u001b[1m k      \u001b[0m\u001b[1m cost  \u001b[0m\u001b[1m min     \u001b[0m\u001b[1m max     \u001b[0m\u001b[1m costb \u001b[0m\n",
       "     │\u001b[90m String \u001b[0m\u001b[90m String \u001b[0m\u001b[90m String \u001b[0m\u001b[90m Int64 \u001b[0m\u001b[90m Float64 \u001b[0m\u001b[90m Float64 \u001b[0m\u001b[90m Int64 \u001b[0m\n",
       "─────┼────────────────────────────────────────────────────────\n",
       "   1 │ t12     n1      k1         10     0.51     0.56      8\n",
       "   2 │ t12     n1      k2         12     0.51     0.56     10\n",
       "   3 │ t12     n1      k3         14     0.51     0.56     12\n",
       "   4 │ t12     n2      k1         10     0.51     0.56      8\n",
       "   5 │ t12     n2      k2         12     0.51     0.56     10\n",
       "   6 │ t12     n2      k3         14     0.51     0.56     12\n",
       "   7 │ t12     n3      k1         10     0.51     0.56      8\n",
       "   8 │ t12     n3      k2         12     0.51     0.56     10\n",
       "  ⋮  │   ⋮       ⋮       ⋮       ⋮       ⋮        ⋮       ⋮\n",
       " 453 │ t20     n18     k3         14     1.05     1.11     12\n",
       " 454 │ t20     n19     k1         10     1.05     1.11      8\n",
       " 455 │ t20     n19     k2         12     1.05     1.11     10\n",
       " 456 │ t20     n19     k3         14     1.05     1.11     12\n",
       " 457 │ t20     n20     k1         10     1.05     1.11      8\n",
       " 458 │ t20     n20     k2         12     1.05     1.11     10\n",
       " 459 │ t20     n20     k3         14     1.05     1.11     12\n",
       "\u001b[36m                                              444 rows omitted\u001b[0m"
      ]
     },
     "metadata": {},
     "output_type": "display_data"
    }
   ],
   "source": [
    "mydata[\"shiftinginfo\"]"
   ]
  },
  {
   "cell_type": "code",
   "execution_count": 59,
   "metadata": {},
   "outputs": [
    {
     "name": "stdout",
     "output_type": "stream",
     "text": [
      "windfarm data read in successfully"
     ]
    }
   ],
   "source": [
    "xl = XLSX.readxlsx(\"data/windfarminfo.xlsx\")\n",
    "windfarminfo = XLSX.sheetnames(xl)\n",
    "mydata[\"windfarminfo\"] = DataFrame(XLSX.gettable(xl[\"windfarminfo\"]; infer_eltypes=true))\n",
    "print(\"windfarm data read in successfully\")"
   ]
  },
  {
   "cell_type": "code",
   "execution_count": 60,
   "metadata": {},
   "outputs": [
    {
     "data": {
      "text/html": [
       "<div><div style = \"float: left;\"><span>4×4 DataFrame</span></div><div style = \"clear: both;\"></div></div><div class = \"data-frame\" style = \"overflow-x: scroll;\"><table class = \"data-frame\" style = \"margin-bottom: 6px;\"><thead><tr class = \"header\"><th class = \"rowNumber\" style = \"font-weight: bold; text-align: right;\">Row</th><th style = \"text-align: left;\">ID</th><th style = \"text-align: left;\">location</th><th style = \"text-align: left;\">cap</th><th style = \"text-align: left;\">forecast</th></tr><tr class = \"subheader headerLastRow\"><th class = \"rowNumber\" style = \"font-weight: bold; text-align: right;\"></th><th title = \"String\" style = \"text-align: left;\">String</th><th title = \"Int64\" style = \"text-align: left;\">Int64</th><th title = \"Int64\" style = \"text-align: left;\">Int64</th><th title = \"Float64\" style = \"text-align: left;\">Float64</th></tr></thead><tbody><tr><td class = \"rowNumber\" style = \"font-weight: bold; text-align: right;\">1</td><td style = \"text-align: left;\">wf1</td><td style = \"text-align: right;\">3</td><td style = \"text-align: right;\">500</td><td style = \"text-align: right;\">120.54</td></tr><tr><td class = \"rowNumber\" style = \"font-weight: bold; text-align: right;\">2</td><td style = \"text-align: left;\">wf2</td><td style = \"text-align: right;\">5</td><td style = \"text-align: right;\">500</td><td style = \"text-align: right;\">115.52</td></tr><tr><td class = \"rowNumber\" style = \"font-weight: bold; text-align: right;\">3</td><td style = \"text-align: left;\">wf3</td><td style = \"text-align: right;\">16</td><td style = \"text-align: right;\">300</td><td style = \"text-align: right;\">53.34</td></tr><tr><td class = \"rowNumber\" style = \"font-weight: bold; text-align: right;\">4</td><td style = \"text-align: left;\">wf4</td><td style = \"text-align: right;\">21</td><td style = \"text-align: right;\">300</td><td style = \"text-align: right;\">38.16</td></tr></tbody></table></div>"
      ],
      "text/latex": [
       "\\begin{tabular}{r|cccc}\n",
       "\t& ID & location & cap & forecast\\\\\n",
       "\t\\hline\n",
       "\t& String & Int64 & Int64 & Float64\\\\\n",
       "\t\\hline\n",
       "\t1 & wf1 & 3 & 500 & 120.54 \\\\\n",
       "\t2 & wf2 & 5 & 500 & 115.52 \\\\\n",
       "\t3 & wf3 & 16 & 300 & 53.34 \\\\\n",
       "\t4 & wf4 & 21 & 300 & 38.16 \\\\\n",
       "\\end{tabular}\n"
      ],
      "text/plain": [
       "\u001b[1m4×4 DataFrame\u001b[0m\n",
       "\u001b[1m Row \u001b[0m│\u001b[1m ID     \u001b[0m\u001b[1m location \u001b[0m\u001b[1m cap   \u001b[0m\u001b[1m forecast \u001b[0m\n",
       "     │\u001b[90m String \u001b[0m\u001b[90m Int64    \u001b[0m\u001b[90m Int64 \u001b[0m\u001b[90m Float64  \u001b[0m\n",
       "─────┼───────────────────────────────────\n",
       "   1 │ wf1            3    500    120.54\n",
       "   2 │ wf2            5    500    115.52\n",
       "   3 │ wf3           16    300     53.34\n",
       "   4 │ wf4           21    300     38.16"
      ]
     },
     "metadata": {},
     "output_type": "display_data"
    }
   ],
   "source": [
    "mydata[\"windfarminfo\"]"
   ]
  },
  {
   "cell_type": "code",
   "execution_count": 36,
   "metadata": {},
   "outputs": [
    {
     "name": "stdout",
     "output_type": "stream",
     "text": [
      "wind scenario data read in successfully"
     ]
    }
   ],
   "source": [
    "xl = XLSX.readxlsx(\"data/windscenarios.xlsx\")\n",
    "windscenarios = XLSX.sheetnames(xl)\n",
    "mydata[\"windscenarios\"] = DataFrame(XLSX.gettable(xl[\"windscenarios\"]; infer_eltypes=true))\n",
    "print(\"wind scenario data read in successfully\")\n"
   ]
  },
  {
   "cell_type": "code",
   "execution_count": 37,
   "metadata": {},
   "outputs": [
    {
     "data": {
      "text/html": [
       "<div><div style = \"float: left;\"><span>40×28 DataFrame</span></div><div style = \"float: right;\"><span style = \"font-style: italic;\">15 rows omitted</span></div><div style = \"clear: both;\"></div></div><div class = \"data-frame\" style = \"overflow-x: scroll;\"><table class = \"data-frame\" style = \"margin-bottom: 6px;\"><thead><tr class = \"header\"><th class = \"rowNumber\" style = \"font-weight: bold; text-align: right;\">Row</th><th style = \"text-align: left;\">scenario</th><th style = \"text-align: left;\">windfarm</th><th style = \"text-align: left;\">wflocation</th><th style = \"text-align: left;\">node</th><th style = \"text-align: left;\">t1</th><th style = \"text-align: left;\">t2</th><th style = \"text-align: left;\">t3</th><th style = \"text-align: left;\">t4</th><th style = \"text-align: left;\">t5</th><th style = \"text-align: left;\">t6</th><th style = \"text-align: left;\">t7</th><th style = \"text-align: left;\">t8</th><th style = \"text-align: left;\">t9</th><th style = \"text-align: left;\">t10</th><th style = \"text-align: left;\">t11</th><th style = \"text-align: left;\">t12</th><th style = \"text-align: left;\">t13</th><th style = \"text-align: left;\">t14</th><th style = \"text-align: left;\">t15</th><th style = \"text-align: left;\">t16</th><th style = \"text-align: left;\">t17</th><th style = \"text-align: left;\">t18</th><th style = \"text-align: left;\">t19</th><th style = \"text-align: left;\">t20</th><th style = \"text-align: left;\">t21</th><th style = \"text-align: left;\">t22</th><th style = \"text-align: left;\">t23</th><th style = \"text-align: left;\">t24</th></tr><tr class = \"subheader headerLastRow\"><th class = \"rowNumber\" style = \"font-weight: bold; text-align: right;\"></th><th title = \"String\" style = \"text-align: left;\">String</th><th title = \"String\" style = \"text-align: left;\">String</th><th title = \"Int64\" style = \"text-align: left;\">Int64</th><th title = \"String\" style = \"text-align: left;\">String</th><th title = \"Float64\" style = \"text-align: left;\">Float64</th><th title = \"Float64\" style = \"text-align: left;\">Float64</th><th title = \"Float64\" style = \"text-align: left;\">Float64</th><th title = \"Float64\" style = \"text-align: left;\">Float64</th><th title = \"Float64\" style = \"text-align: left;\">Float64</th><th title = \"Float64\" style = \"text-align: left;\">Float64</th><th title = \"Float64\" style = \"text-align: left;\">Float64</th><th title = \"Float64\" style = \"text-align: left;\">Float64</th><th title = \"Float64\" style = \"text-align: left;\">Float64</th><th title = \"Float64\" style = \"text-align: left;\">Float64</th><th title = \"Float64\" style = \"text-align: left;\">Float64</th><th title = \"Float64\" style = \"text-align: left;\">Float64</th><th title = \"Float64\" style = \"text-align: left;\">Float64</th><th title = \"Float64\" style = \"text-align: left;\">Float64</th><th title = \"Float64\" style = \"text-align: left;\">Float64</th><th title = \"Float64\" style = \"text-align: left;\">Float64</th><th title = \"Float64\" style = \"text-align: left;\">Float64</th><th title = \"Float64\" style = \"text-align: left;\">Float64</th><th title = \"Float64\" style = \"text-align: left;\">Float64</th><th title = \"Float64\" style = \"text-align: left;\">Float64</th><th title = \"Float64\" style = \"text-align: left;\">Float64</th><th title = \"Float64\" style = \"text-align: left;\">Float64</th><th title = \"Float64\" style = \"text-align: left;\">Float64</th><th title = \"Float64\" style = \"text-align: left;\">Float64</th></tr></thead><tbody><tr><td class = \"rowNumber\" style = \"font-weight: bold; text-align: right;\">1</td><td style = \"text-align: left;\">s0</td><td style = \"text-align: left;\">wf1</td><td style = \"text-align: right;\">3</td><td style = \"text-align: left;\">n3</td><td style = \"text-align: right;\">0.563373</td><td style = \"text-align: right;\">0.556427</td><td style = \"text-align: right;\">0.620064</td><td style = \"text-align: right;\">0.565905</td><td style = \"text-align: right;\">0.662963</td><td style = \"text-align: right;\">0.672048</td><td style = \"text-align: right;\">0.683556</td><td style = \"text-align: right;\">0.690681</td><td style = \"text-align: right;\">0.706195</td><td style = \"text-align: right;\">0.655941</td><td style = \"text-align: right;\">0.684012</td><td style = \"text-align: right;\">0.701909</td><td style = \"text-align: right;\">0.707423</td><td style = \"text-align: right;\">0.705134</td><td style = \"text-align: right;\">0.744796</td><td style = \"text-align: right;\">0.763055</td><td style = \"text-align: right;\">0.727549</td><td style = \"text-align: right;\">0.695863</td><td style = \"text-align: right;\">0.724753</td><td style = \"text-align: right;\">0.771747</td><td style = \"text-align: right;\">0.824357</td><td style = \"text-align: right;\">0.782885</td><td style = \"text-align: right;\">0.815081</td><td style = \"text-align: right;\">0.751977</td></tr><tr><td class = \"rowNumber\" style = \"font-weight: bold; text-align: right;\">2</td><td style = \"text-align: left;\">s0</td><td style = \"text-align: left;\">wf2</td><td style = \"text-align: right;\">5</td><td style = \"text-align: left;\">n5</td><td style = \"text-align: right;\">0.762555</td><td style = \"text-align: right;\">0.816471</td><td style = \"text-align: right;\">0.768671</td><td style = \"text-align: right;\">0.767531</td><td style = \"text-align: right;\">0.709601</td><td style = \"text-align: right;\">0.733432</td><td style = \"text-align: right;\">0.713545</td><td style = \"text-align: right;\">0.755083</td><td style = \"text-align: right;\">0.752244</td><td style = \"text-align: right;\">0.716899</td><td style = \"text-align: right;\">0.712946</td><td style = \"text-align: right;\">0.729969</td><td style = \"text-align: right;\">0.716462</td><td style = \"text-align: right;\">0.738711</td><td style = \"text-align: right;\">0.76327</td><td style = \"text-align: right;\">0.758781</td><td style = \"text-align: right;\">0.776659</td><td style = \"text-align: right;\">0.736785</td><td style = \"text-align: right;\">0.776178</td><td style = \"text-align: right;\">0.794342</td><td style = \"text-align: right;\">0.816367</td><td style = \"text-align: right;\">0.899832</td><td style = \"text-align: right;\">0.813165</td><td style = \"text-align: right;\">0.778895</td></tr><tr><td class = \"rowNumber\" style = \"font-weight: bold; text-align: right;\">3</td><td style = \"text-align: left;\">s0</td><td style = \"text-align: left;\">wf3</td><td style = \"text-align: right;\">16</td><td style = \"text-align: left;\">n16</td><td style = \"text-align: right;\">0.641406</td><td style = \"text-align: right;\">0.714133</td><td style = \"text-align: right;\">0.734266</td><td style = \"text-align: right;\">0.784352</td><td style = \"text-align: right;\">0.767632</td><td style = \"text-align: right;\">0.740445</td><td style = \"text-align: right;\">0.72134</td><td style = \"text-align: right;\">0.693765</td><td style = \"text-align: right;\">0.745427</td><td style = \"text-align: right;\">0.760809</td><td style = \"text-align: right;\">0.73836</td><td style = \"text-align: right;\">0.757315</td><td style = \"text-align: right;\">0.719177</td><td style = \"text-align: right;\">0.753422</td><td style = \"text-align: right;\">0.672017</td><td style = \"text-align: right;\">0.704182</td><td style = \"text-align: right;\">0.734911</td><td style = \"text-align: right;\">0.763352</td><td style = \"text-align: right;\">0.730289</td><td style = \"text-align: right;\">0.765579</td><td style = \"text-align: right;\">0.763751</td><td style = \"text-align: right;\">0.729876</td><td style = \"text-align: right;\">0.619155</td><td style = \"text-align: right;\">0.58149</td></tr><tr><td class = \"rowNumber\" style = \"font-weight: bold; text-align: right;\">4</td><td style = \"text-align: left;\">s0</td><td style = \"text-align: left;\">wf4</td><td style = \"text-align: right;\">21</td><td style = \"text-align: left;\">n21</td><td style = \"text-align: right;\">0.396813</td><td style = \"text-align: right;\">0.393274</td><td style = \"text-align: right;\">0.314061</td><td style = \"text-align: right;\">0.400584</td><td style = \"text-align: right;\">0.43328</td><td style = \"text-align: right;\">0.372218</td><td style = \"text-align: right;\">0.377994</td><td style = \"text-align: right;\">0.418362</td><td style = \"text-align: right;\">0.419582</td><td style = \"text-align: right;\">0.39794</td><td style = \"text-align: right;\">0.439299</td><td style = \"text-align: right;\">0.410468</td><td style = \"text-align: right;\">0.397242</td><td style = \"text-align: right;\">0.40059</td><td style = \"text-align: right;\">0.459773</td><td style = \"text-align: right;\">0.410965</td><td style = \"text-align: right;\">0.330264</td><td style = \"text-align: right;\">0.446894</td><td style = \"text-align: right;\">0.394118</td><td style = \"text-align: right;\">0.393985</td><td style = \"text-align: right;\">0.353184</td><td style = \"text-align: right;\">0.408784</td><td style = \"text-align: right;\">0.410033</td><td style = \"text-align: right;\">0.391545</td></tr><tr><td class = \"rowNumber\" style = \"font-weight: bold; text-align: right;\">5</td><td style = \"text-align: left;\">s0</td><td style = \"text-align: left;\">wf1</td><td style = \"text-align: right;\">3</td><td style = \"text-align: left;\">n3</td><td style = \"text-align: right;\">0.721771</td><td style = \"text-align: right;\">0.732247</td><td style = \"text-align: right;\">0.759537</td><td style = \"text-align: right;\">0.788805</td><td style = \"text-align: right;\">0.777572</td><td style = \"text-align: right;\">0.745138</td><td style = \"text-align: right;\">0.769833</td><td style = \"text-align: right;\">0.773408</td><td style = \"text-align: right;\">0.792901</td><td style = \"text-align: right;\">0.784215</td><td style = \"text-align: right;\">0.785262</td><td style = \"text-align: right;\">0.757621</td><td style = \"text-align: right;\">0.754372</td><td style = \"text-align: right;\">0.777557</td><td style = \"text-align: right;\">0.884843</td><td style = \"text-align: right;\">0.790911</td><td style = \"text-align: right;\">0.821157</td><td style = \"text-align: right;\">0.80645</td><td style = \"text-align: right;\">0.783256</td><td style = \"text-align: right;\">0.777365</td><td style = \"text-align: right;\">0.745908</td><td style = \"text-align: right;\">0.751001</td><td style = \"text-align: right;\">0.736325</td><td style = \"text-align: right;\">0.683659</td></tr><tr><td class = \"rowNumber\" style = \"font-weight: bold; text-align: right;\">6</td><td style = \"text-align: left;\">s1</td><td style = \"text-align: left;\">wf2</td><td style = \"text-align: right;\">5</td><td style = \"text-align: left;\">n5</td><td style = \"text-align: right;\">0.631953</td><td style = \"text-align: right;\">0.703686</td><td style = \"text-align: right;\">0.712237</td><td style = \"text-align: right;\">0.754201</td><td style = \"text-align: right;\">0.72398</td><td style = \"text-align: right;\">0.693296</td><td style = \"text-align: right;\">0.731701</td><td style = \"text-align: right;\">0.74784</td><td style = \"text-align: right;\">0.762398</td><td style = \"text-align: right;\">0.780623</td><td style = \"text-align: right;\">0.788395</td><td style = \"text-align: right;\">0.748318</td><td style = \"text-align: right;\">0.692081</td><td style = \"text-align: right;\">0.721727</td><td style = \"text-align: right;\">0.73404</td><td style = \"text-align: right;\">0.706162</td><td style = \"text-align: right;\">0.735412</td><td style = \"text-align: right;\">0.717774</td><td style = \"text-align: right;\">0.739614</td><td style = \"text-align: right;\">0.739728</td><td style = \"text-align: right;\">0.765892</td><td style = \"text-align: right;\">0.750332</td><td style = \"text-align: right;\">0.724517</td><td style = \"text-align: right;\">0.687544</td></tr><tr><td class = \"rowNumber\" style = \"font-weight: bold; text-align: right;\">7</td><td style = \"text-align: left;\">s1</td><td style = \"text-align: left;\">wf3</td><td style = \"text-align: right;\">16</td><td style = \"text-align: left;\">n16</td><td style = \"text-align: right;\">0.684535</td><td style = \"text-align: right;\">0.719795</td><td style = \"text-align: right;\">0.707353</td><td style = \"text-align: right;\">0.746384</td><td style = \"text-align: right;\">0.769346</td><td style = \"text-align: right;\">0.766678</td><td style = \"text-align: right;\">0.755131</td><td style = \"text-align: right;\">0.769916</td><td style = \"text-align: right;\">0.781495</td><td style = \"text-align: right;\">0.766914</td><td style = \"text-align: right;\">0.798253</td><td style = \"text-align: right;\">0.782118</td><td style = \"text-align: right;\">0.765404</td><td style = \"text-align: right;\">0.780281</td><td style = \"text-align: right;\">0.793258</td><td style = \"text-align: right;\">0.824724</td><td style = \"text-align: right;\">0.796428</td><td style = \"text-align: right;\">0.768123</td><td style = \"text-align: right;\">0.814361</td><td style = \"text-align: right;\">0.827403</td><td style = \"text-align: right;\">0.815508</td><td style = \"text-align: right;\">0.838825</td><td style = \"text-align: right;\">0.837876</td><td style = \"text-align: right;\">0.700156</td></tr><tr><td class = \"rowNumber\" style = \"font-weight: bold; text-align: right;\">8</td><td style = \"text-align: left;\">s1</td><td style = \"text-align: left;\">wf4</td><td style = \"text-align: right;\">21</td><td style = \"text-align: left;\">n21</td><td style = \"text-align: right;\">0.419462</td><td style = \"text-align: right;\">0.431244</td><td style = \"text-align: right;\">0.415342</td><td style = \"text-align: right;\">0.397957</td><td style = \"text-align: right;\">0.367345</td><td style = \"text-align: right;\">0.385439</td><td style = \"text-align: right;\">0.414496</td><td style = \"text-align: right;\">0.398673</td><td style = \"text-align: right;\">0.412223</td><td style = \"text-align: right;\">0.417866</td><td style = \"text-align: right;\">0.394065</td><td style = \"text-align: right;\">0.444695</td><td style = \"text-align: right;\">0.379643</td><td style = \"text-align: right;\">0.372682</td><td style = \"text-align: right;\">0.400285</td><td style = \"text-align: right;\">0.423048</td><td style = \"text-align: right;\">0.433025</td><td style = \"text-align: right;\">0.380977</td><td style = \"text-align: right;\">0.388475</td><td style = \"text-align: right;\">0.407569</td><td style = \"text-align: right;\">0.414777</td><td style = \"text-align: right;\">0.439608</td><td style = \"text-align: right;\">0.329721</td><td style = \"text-align: right;\">0.398004</td></tr><tr><td class = \"rowNumber\" style = \"font-weight: bold; text-align: right;\">9</td><td style = \"text-align: left;\">s2</td><td style = \"text-align: left;\">wf1</td><td style = \"text-align: right;\">3</td><td style = \"text-align: left;\">n3</td><td style = \"text-align: right;\">0.654747</td><td style = \"text-align: right;\">0.695253</td><td style = \"text-align: right;\">0.707639</td><td style = \"text-align: right;\">0.712095</td><td style = \"text-align: right;\">0.717151</td><td style = \"text-align: right;\">0.729282</td><td style = \"text-align: right;\">0.728227</td><td style = \"text-align: right;\">0.748557</td><td style = \"text-align: right;\">0.718312</td><td style = \"text-align: right;\">0.760617</td><td style = \"text-align: right;\">0.724435</td><td style = \"text-align: right;\">0.691638</td><td style = \"text-align: right;\">0.709339</td><td style = \"text-align: right;\">0.684289</td><td style = \"text-align: right;\">0.703084</td><td style = \"text-align: right;\">0.718626</td><td style = \"text-align: right;\">0.697616</td><td style = \"text-align: right;\">0.722929</td><td style = \"text-align: right;\">0.707437</td><td style = \"text-align: right;\">0.776908</td><td style = \"text-align: right;\">0.744131</td><td style = \"text-align: right;\">0.766961</td><td style = \"text-align: right;\">0.750614</td><td style = \"text-align: right;\">0.744668</td></tr><tr><td class = \"rowNumber\" style = \"font-weight: bold; text-align: right;\">10</td><td style = \"text-align: left;\">s2</td><td style = \"text-align: left;\">wf2</td><td style = \"text-align: right;\">5</td><td style = \"text-align: left;\">n5</td><td style = \"text-align: right;\">0.669501</td><td style = \"text-align: right;\">0.679998</td><td style = \"text-align: right;\">0.709508</td><td style = \"text-align: right;\">0.703933</td><td style = \"text-align: right;\">0.725911</td><td style = \"text-align: right;\">0.701759</td><td style = \"text-align: right;\">0.737025</td><td style = \"text-align: right;\">0.722396</td><td style = \"text-align: right;\">0.700948</td><td style = \"text-align: right;\">0.729702</td><td style = \"text-align: right;\">0.729827</td><td style = \"text-align: right;\">0.729833</td><td style = \"text-align: right;\">0.707072</td><td style = \"text-align: right;\">0.673238</td><td style = \"text-align: right;\">0.589951</td><td style = \"text-align: right;\">0.596286</td><td style = \"text-align: right;\">0.631222</td><td style = \"text-align: right;\">0.49795</td><td style = \"text-align: right;\">0.547815</td><td style = \"text-align: right;\">0.549881</td><td style = \"text-align: right;\">0.451177</td><td style = \"text-align: right;\">0.425566</td><td style = \"text-align: right;\">0.621963</td><td style = \"text-align: right;\">0.584625</td></tr><tr><td class = \"rowNumber\" style = \"font-weight: bold; text-align: right;\">11</td><td style = \"text-align: left;\">s2</td><td style = \"text-align: left;\">wf3</td><td style = \"text-align: right;\">16</td><td style = \"text-align: left;\">n16</td><td style = \"text-align: right;\">0.650979</td><td style = \"text-align: right;\">0.608782</td><td style = \"text-align: right;\">0.647574</td><td style = \"text-align: right;\">0.634247</td><td style = \"text-align: right;\">0.689003</td><td style = \"text-align: right;\">0.746928</td><td style = \"text-align: right;\">0.757703</td><td style = \"text-align: right;\">0.752354</td><td style = \"text-align: right;\">0.7987</td><td style = \"text-align: right;\">0.845968</td><td style = \"text-align: right;\">0.805062</td><td style = \"text-align: right;\">0.806153</td><td style = \"text-align: right;\">0.776453</td><td style = \"text-align: right;\">0.734395</td><td style = \"text-align: right;\">0.743173</td><td style = \"text-align: right;\">0.686695</td><td style = \"text-align: right;\">0.750975</td><td style = \"text-align: right;\">0.744485</td><td style = \"text-align: right;\">0.719201</td><td style = \"text-align: right;\">0.683216</td><td style = \"text-align: right;\">0.761718</td><td style = \"text-align: right;\">0.808736</td><td style = \"text-align: right;\">0.790275</td><td style = \"text-align: right;\">0.789693</td></tr><tr><td class = \"rowNumber\" style = \"font-weight: bold; text-align: right;\">12</td><td style = \"text-align: left;\">s2</td><td style = \"text-align: left;\">wf4</td><td style = \"text-align: right;\">21</td><td style = \"text-align: left;\">n21</td><td style = \"text-align: right;\">0.396892</td><td style = \"text-align: right;\">0.400184</td><td style = \"text-align: right;\">0.420849</td><td style = \"text-align: right;\">0.421209</td><td style = \"text-align: right;\">0.385594</td><td style = \"text-align: right;\">0.374872</td><td style = \"text-align: right;\">0.418734</td><td style = \"text-align: right;\">0.45897</td><td style = \"text-align: right;\">0.427673</td><td style = \"text-align: right;\">0.441798</td><td style = \"text-align: right;\">0.459594</td><td style = \"text-align: right;\">0.410313</td><td style = \"text-align: right;\">0.428063</td><td style = \"text-align: right;\">0.376404</td><td style = \"text-align: right;\">0.424571</td><td style = \"text-align: right;\">0.385441</td><td style = \"text-align: right;\">0.404911</td><td style = \"text-align: right;\">0.429235</td><td style = \"text-align: right;\">0.388961</td><td style = \"text-align: right;\">0.406339</td><td style = \"text-align: right;\">0.465755</td><td style = \"text-align: right;\">0.438376</td><td style = \"text-align: right;\">0.405073</td><td style = \"text-align: right;\">0.430494</td></tr><tr><td class = \"rowNumber\" style = \"font-weight: bold; text-align: right;\">13</td><td style = \"text-align: left;\">s3</td><td style = \"text-align: left;\">wf1</td><td style = \"text-align: right;\">3</td><td style = \"text-align: left;\">n3</td><td style = \"text-align: right;\">0.437419</td><td style = \"text-align: right;\">0.572467</td><td style = \"text-align: right;\">0.475922</td><td style = \"text-align: right;\">0.602778</td><td style = \"text-align: right;\">0.669969</td><td style = \"text-align: right;\">0.608807</td><td style = \"text-align: right;\">0.60291</td><td style = \"text-align: right;\">0.614329</td><td style = \"text-align: right;\">0.67411</td><td style = \"text-align: right;\">0.735031</td><td style = \"text-align: right;\">0.75724</td><td style = \"text-align: right;\">0.794126</td><td style = \"text-align: right;\">0.77345</td><td style = \"text-align: right;\">0.7869</td><td style = \"text-align: right;\">0.894519</td><td style = \"text-align: right;\">0.914621</td><td style = \"text-align: right;\">0.866489</td><td style = \"text-align: right;\">0.844222</td><td style = \"text-align: right;\">0.857532</td><td style = \"text-align: right;\">0.994223</td><td style = \"text-align: right;\">0.938597</td><td style = \"text-align: right;\">0.989301</td><td style = \"text-align: right;\">0.833348</td><td style = \"text-align: right;\">0.778343</td></tr><tr><td style = \"text-align: right;\">&vellip;</td><td style = \"text-align: right;\">&vellip;</td><td style = \"text-align: right;\">&vellip;</td><td style = \"text-align: right;\">&vellip;</td><td style = \"text-align: right;\">&vellip;</td><td style = \"text-align: right;\">&vellip;</td><td style = \"text-align: right;\">&vellip;</td><td style = \"text-align: right;\">&vellip;</td><td style = \"text-align: right;\">&vellip;</td><td style = \"text-align: right;\">&vellip;</td><td style = \"text-align: right;\">&vellip;</td><td style = \"text-align: right;\">&vellip;</td><td style = \"text-align: right;\">&vellip;</td><td style = \"text-align: right;\">&vellip;</td><td style = \"text-align: right;\">&vellip;</td><td style = \"text-align: right;\">&vellip;</td><td style = \"text-align: right;\">&vellip;</td><td style = \"text-align: right;\">&vellip;</td><td style = \"text-align: right;\">&vellip;</td><td style = \"text-align: right;\">&vellip;</td><td style = \"text-align: right;\">&vellip;</td><td style = \"text-align: right;\">&vellip;</td><td style = \"text-align: right;\">&vellip;</td><td style = \"text-align: right;\">&vellip;</td><td style = \"text-align: right;\">&vellip;</td><td style = \"text-align: right;\">&vellip;</td><td style = \"text-align: right;\">&vellip;</td><td style = \"text-align: right;\">&vellip;</td><td style = \"text-align: right;\">&vellip;</td></tr><tr><td class = \"rowNumber\" style = \"font-weight: bold; text-align: right;\">29</td><td style = \"text-align: left;\">s7</td><td style = \"text-align: left;\">wf1</td><td style = \"text-align: right;\">3</td><td style = \"text-align: left;\">n3</td><td style = \"text-align: right;\">0.763808</td><td style = \"text-align: right;\">0.749164</td><td style = \"text-align: right;\">0.773865</td><td style = \"text-align: right;\">0.751312</td><td style = \"text-align: right;\">0.718254</td><td style = \"text-align: right;\">0.715855</td><td style = \"text-align: right;\">0.75349</td><td style = \"text-align: right;\">0.748317</td><td style = \"text-align: right;\">0.682933</td><td style = \"text-align: right;\">0.706994</td><td style = \"text-align: right;\">0.725756</td><td style = \"text-align: right;\">0.743923</td><td style = \"text-align: right;\">0.738675</td><td style = \"text-align: right;\">0.712109</td><td style = \"text-align: right;\">0.744053</td><td style = \"text-align: right;\">0.746922</td><td style = \"text-align: right;\">0.743058</td><td style = \"text-align: right;\">0.751856</td><td style = \"text-align: right;\">0.787692</td><td style = \"text-align: right;\">0.786015</td><td style = \"text-align: right;\">0.765804</td><td style = \"text-align: right;\">0.806819</td><td style = \"text-align: right;\">0.668378</td><td style = \"text-align: right;\">0.659845</td></tr><tr><td class = \"rowNumber\" style = \"font-weight: bold; text-align: right;\">30</td><td style = \"text-align: left;\">s7</td><td style = \"text-align: left;\">wf2</td><td style = \"text-align: right;\">5</td><td style = \"text-align: left;\">n5</td><td style = \"text-align: right;\">0.771601</td><td style = \"text-align: right;\">0.774086</td><td style = \"text-align: right;\">0.774616</td><td style = \"text-align: right;\">0.76687</td><td style = \"text-align: right;\">0.761392</td><td style = \"text-align: right;\">0.792197</td><td style = \"text-align: right;\">0.76207</td><td style = \"text-align: right;\">0.762648</td><td style = \"text-align: right;\">0.730452</td><td style = \"text-align: right;\">0.706974</td><td style = \"text-align: right;\">0.704091</td><td style = \"text-align: right;\">0.662348</td><td style = \"text-align: right;\">0.645775</td><td style = \"text-align: right;\">0.682728</td><td style = \"text-align: right;\">0.630181</td><td style = \"text-align: right;\">0.60747</td><td style = \"text-align: right;\">0.598813</td><td style = \"text-align: right;\">0.635601</td><td style = \"text-align: right;\">0.441915</td><td style = \"text-align: right;\">0.397011</td><td style = \"text-align: right;\">0.445594</td><td style = \"text-align: right;\">0.587237</td><td style = \"text-align: right;\">0.468005</td><td style = \"text-align: right;\">0.406791</td></tr><tr><td class = \"rowNumber\" style = \"font-weight: bold; text-align: right;\">31</td><td style = \"text-align: left;\">s7</td><td style = \"text-align: left;\">wf3</td><td style = \"text-align: right;\">16</td><td style = \"text-align: left;\">n16</td><td style = \"text-align: right;\">0.41441</td><td style = \"text-align: right;\">0.613477</td><td style = \"text-align: right;\">0.706347</td><td style = \"text-align: right;\">0.677527</td><td style = \"text-align: right;\">0.722702</td><td style = \"text-align: right;\">0.688078</td><td style = \"text-align: right;\">0.610682</td><td style = \"text-align: right;\">0.641763</td><td style = \"text-align: right;\">0.527889</td><td style = \"text-align: right;\">0.531369</td><td style = \"text-align: right;\">0.61884</td><td style = \"text-align: right;\">0.65589</td><td style = \"text-align: right;\">0.646445</td><td style = \"text-align: right;\">0.677498</td><td style = \"text-align: right;\">0.520771</td><td style = \"text-align: right;\">0.624767</td><td style = \"text-align: right;\">0.671033</td><td style = \"text-align: right;\">0.682627</td><td style = \"text-align: right;\">0.637894</td><td style = \"text-align: right;\">0.692968</td><td style = \"text-align: right;\">0.762964</td><td style = \"text-align: right;\">0.759042</td><td style = \"text-align: right;\">0.720815</td><td style = \"text-align: right;\">0.687644</td></tr><tr><td class = \"rowNumber\" style = \"font-weight: bold; text-align: right;\">32</td><td style = \"text-align: left;\">s7</td><td style = \"text-align: left;\">wf4</td><td style = \"text-align: right;\">21</td><td style = \"text-align: left;\">n21</td><td style = \"text-align: right;\">0.297965</td><td style = \"text-align: right;\">0.313271</td><td style = \"text-align: right;\">0.397876</td><td style = \"text-align: right;\">0.359094</td><td style = \"text-align: right;\">0.365251</td><td style = \"text-align: right;\">0.302329</td><td style = \"text-align: right;\">0.387729</td><td style = \"text-align: right;\">0.330958</td><td style = \"text-align: right;\">0.264812</td><td style = \"text-align: right;\">0.175119</td><td style = \"text-align: right;\">0.348188</td><td style = \"text-align: right;\">0.440284</td><td style = \"text-align: right;\">0.360486</td><td style = \"text-align: right;\">0.33324</td><td style = \"text-align: right;\">0.385023</td><td style = \"text-align: right;\">0.328173</td><td style = \"text-align: right;\">0.35086</td><td style = \"text-align: right;\">0.287161</td><td style = \"text-align: right;\">0.135803</td><td style = \"text-align: right;\">0.355</td><td style = \"text-align: right;\">0.305812</td><td style = \"text-align: right;\">0.344194</td><td style = \"text-align: right;\">0.264298</td><td style = \"text-align: right;\">0.395497</td></tr><tr><td class = \"rowNumber\" style = \"font-weight: bold; text-align: right;\">33</td><td style = \"text-align: left;\">s8</td><td style = \"text-align: left;\">wf1</td><td style = \"text-align: right;\">3</td><td style = \"text-align: left;\">n3</td><td style = \"text-align: right;\">0.7149</td><td style = \"text-align: right;\">0.717698</td><td style = \"text-align: right;\">0.736736</td><td style = \"text-align: right;\">0.730213</td><td style = \"text-align: right;\">0.685445</td><td style = \"text-align: right;\">0.66206</td><td style = \"text-align: right;\">0.685709</td><td style = \"text-align: right;\">0.687185</td><td style = \"text-align: right;\">0.725352</td><td style = \"text-align: right;\">0.755098</td><td style = \"text-align: right;\">0.802191</td><td style = \"text-align: right;\">0.811332</td><td style = \"text-align: right;\">0.781775</td><td style = \"text-align: right;\">0.772843</td><td style = \"text-align: right;\">0.902238</td><td style = \"text-align: right;\">0.870489</td><td style = \"text-align: right;\">0.822757</td><td style = \"text-align: right;\">0.831346</td><td style = \"text-align: right;\">0.825488</td><td style = \"text-align: right;\">0.866338</td><td style = \"text-align: right;\">0.829212</td><td style = \"text-align: right;\">0.941128</td><td style = \"text-align: right;\">0.945614</td><td style = \"text-align: right;\">0.8564</td></tr><tr><td class = \"rowNumber\" style = \"font-weight: bold; text-align: right;\">34</td><td style = \"text-align: left;\">s8</td><td style = \"text-align: left;\">wf2</td><td style = \"text-align: right;\">5</td><td style = \"text-align: left;\">n5</td><td style = \"text-align: right;\">0.697012</td><td style = \"text-align: right;\">0.698228</td><td style = \"text-align: right;\">0.701996</td><td style = \"text-align: right;\">0.705913</td><td style = \"text-align: right;\">0.735304</td><td style = \"text-align: right;\">0.753633</td><td style = \"text-align: right;\">0.739492</td><td style = \"text-align: right;\">0.707495</td><td style = \"text-align: right;\">0.721559</td><td style = \"text-align: right;\">0.761217</td><td style = \"text-align: right;\">0.752349</td><td style = \"text-align: right;\">0.75701</td><td style = \"text-align: right;\">0.718455</td><td style = \"text-align: right;\">0.617524</td><td style = \"text-align: right;\">0.635195</td><td style = \"text-align: right;\">0.671883</td><td style = \"text-align: right;\">0.639819</td><td style = \"text-align: right;\">0.744779</td><td style = \"text-align: right;\">0.745151</td><td style = \"text-align: right;\">0.754303</td><td style = \"text-align: right;\">0.739979</td><td style = \"text-align: right;\">0.696505</td><td style = \"text-align: right;\">0.665348</td><td style = \"text-align: right;\">0.58405</td></tr><tr><td class = \"rowNumber\" style = \"font-weight: bold; text-align: right;\">35</td><td style = \"text-align: left;\">s8</td><td style = \"text-align: left;\">wf3</td><td style = \"text-align: right;\">16</td><td style = \"text-align: left;\">n16</td><td style = \"text-align: right;\">0.626779</td><td style = \"text-align: right;\">0.709826</td><td style = \"text-align: right;\">0.753671</td><td style = \"text-align: right;\">0.794651</td><td style = \"text-align: right;\">0.745755</td><td style = \"text-align: right;\">0.701268</td><td style = \"text-align: right;\">0.695186</td><td style = \"text-align: right;\">0.756005</td><td style = \"text-align: right;\">0.722318</td><td style = \"text-align: right;\">0.7036</td><td style = \"text-align: right;\">0.682804</td><td style = \"text-align: right;\">0.685067</td><td style = \"text-align: right;\">0.649565</td><td style = \"text-align: right;\">0.554908</td><td style = \"text-align: right;\">0.645369</td><td style = \"text-align: right;\">0.664053</td><td style = \"text-align: right;\">0.679811</td><td style = \"text-align: right;\">0.694704</td><td style = \"text-align: right;\">0.693752</td><td style = \"text-align: right;\">0.640096</td><td style = \"text-align: right;\">0.521112</td><td style = \"text-align: right;\">0.695668</td><td style = \"text-align: right;\">0.633936</td><td style = \"text-align: right;\">0.625749</td></tr><tr><td class = \"rowNumber\" style = \"font-weight: bold; text-align: right;\">36</td><td style = \"text-align: left;\">s8</td><td style = \"text-align: left;\">wf4</td><td style = \"text-align: right;\">21</td><td style = \"text-align: left;\">n21</td><td style = \"text-align: right;\">0.273598</td><td style = \"text-align: right;\">0.336493</td><td style = \"text-align: right;\">0.310517</td><td style = \"text-align: right;\">0.390193</td><td style = \"text-align: right;\">0.354214</td><td style = \"text-align: right;\">0.461026</td><td style = \"text-align: right;\">0.435612</td><td style = \"text-align: right;\">0.4087</td><td style = \"text-align: right;\">0.441654</td><td style = \"text-align: right;\">0.3818</td><td style = \"text-align: right;\">0.437474</td><td style = \"text-align: right;\">0.387153</td><td style = \"text-align: right;\">0.415722</td><td style = \"text-align: right;\">0.440853</td><td style = \"text-align: right;\">0.406561</td><td style = \"text-align: right;\">0.437256</td><td style = \"text-align: right;\">0.51056</td><td style = \"text-align: right;\">0.460461</td><td style = \"text-align: right;\">0.384219</td><td style = \"text-align: right;\">0.430062</td><td style = \"text-align: right;\">0.384435</td><td style = \"text-align: right;\">0.395736</td><td style = \"text-align: right;\">0.431777</td><td style = \"text-align: right;\">0.438023</td></tr><tr><td class = \"rowNumber\" style = \"font-weight: bold; text-align: right;\">37</td><td style = \"text-align: left;\">s9</td><td style = \"text-align: left;\">wf1</td><td style = \"text-align: right;\">3</td><td style = \"text-align: left;\">n3</td><td style = \"text-align: right;\">0.672679</td><td style = \"text-align: right;\">0.695848</td><td style = \"text-align: right;\">0.713614</td><td style = \"text-align: right;\">0.695983</td><td style = \"text-align: right;\">0.716372</td><td style = \"text-align: right;\">0.709934</td><td style = \"text-align: right;\">0.643194</td><td style = \"text-align: right;\">0.688681</td><td style = \"text-align: right;\">0.723001</td><td style = \"text-align: right;\">0.723322</td><td style = \"text-align: right;\">0.698692</td><td style = \"text-align: right;\">0.719021</td><td style = \"text-align: right;\">0.695347</td><td style = \"text-align: right;\">0.719044</td><td style = \"text-align: right;\">0.745751</td><td style = \"text-align: right;\">0.697552</td><td style = \"text-align: right;\">0.689862</td><td style = \"text-align: right;\">0.492614</td><td style = \"text-align: right;\">0.569206</td><td style = \"text-align: right;\">0.416492</td><td style = \"text-align: right;\">0.596366</td><td style = \"text-align: right;\">0.721616</td><td style = \"text-align: right;\">0.5657</td><td style = \"text-align: right;\">0.60945</td></tr><tr><td class = \"rowNumber\" style = \"font-weight: bold; text-align: right;\">38</td><td style = \"text-align: left;\">s9</td><td style = \"text-align: left;\">wf2</td><td style = \"text-align: right;\">5</td><td style = \"text-align: left;\">n5</td><td style = \"text-align: right;\">0.64115</td><td style = \"text-align: right;\">0.689363</td><td style = \"text-align: right;\">0.741996</td><td style = \"text-align: right;\">0.761919</td><td style = \"text-align: right;\">0.778571</td><td style = \"text-align: right;\">0.776006</td><td style = \"text-align: right;\">0.7875</td><td style = \"text-align: right;\">0.785385</td><td style = \"text-align: right;\">0.776949</td><td style = \"text-align: right;\">0.800884</td><td style = \"text-align: right;\">0.804957</td><td style = \"text-align: right;\">0.762482</td><td style = \"text-align: right;\">0.717285</td><td style = \"text-align: right;\">0.772738</td><td style = \"text-align: right;\">0.778488</td><td style = \"text-align: right;\">0.77363</td><td style = \"text-align: right;\">0.781399</td><td style = \"text-align: right;\">0.791125</td><td style = \"text-align: right;\">0.815152</td><td style = \"text-align: right;\">0.820081</td><td style = \"text-align: right;\">0.831663</td><td style = \"text-align: right;\">0.789445</td><td style = \"text-align: right;\">0.76749</td><td style = \"text-align: right;\">0.733613</td></tr><tr><td class = \"rowNumber\" style = \"font-weight: bold; text-align: right;\">39</td><td style = \"text-align: left;\">s9</td><td style = \"text-align: left;\">wf3</td><td style = \"text-align: right;\">16</td><td style = \"text-align: left;\">n16</td><td style = \"text-align: right;\">0.731051</td><td style = \"text-align: right;\">0.783566</td><td style = \"text-align: right;\">0.808027</td><td style = \"text-align: right;\">0.782682</td><td style = \"text-align: right;\">0.776292</td><td style = \"text-align: right;\">0.798347</td><td style = \"text-align: right;\">0.849155</td><td style = \"text-align: right;\">0.796759</td><td style = \"text-align: right;\">0.776354</td><td style = \"text-align: right;\">0.765797</td><td style = \"text-align: right;\">0.791527</td><td style = \"text-align: right;\">0.75986</td><td style = \"text-align: right;\">0.705375</td><td style = \"text-align: right;\">0.670298</td><td style = \"text-align: right;\">0.732962</td><td style = \"text-align: right;\">0.748511</td><td style = \"text-align: right;\">0.703346</td><td style = \"text-align: right;\">0.615591</td><td style = \"text-align: right;\">0.647895</td><td style = \"text-align: right;\">0.676571</td><td style = \"text-align: right;\">0.635606</td><td style = \"text-align: right;\">0.650445</td><td style = \"text-align: right;\">0.493316</td><td style = \"text-align: right;\">0.431065</td></tr><tr><td class = \"rowNumber\" style = \"font-weight: bold; text-align: right;\">40</td><td style = \"text-align: left;\">s9</td><td style = \"text-align: left;\">wf4</td><td style = \"text-align: right;\">21</td><td style = \"text-align: left;\">n21</td><td style = \"text-align: right;\">0.45714</td><td style = \"text-align: right;\">0.433878</td><td style = \"text-align: right;\">0.413726</td><td style = \"text-align: right;\">0.514829</td><td style = \"text-align: right;\">0.436098</td><td style = \"text-align: right;\">0.401694</td><td style = \"text-align: right;\">0.458032</td><td style = \"text-align: right;\">0.395088</td><td style = \"text-align: right;\">0.444971</td><td style = \"text-align: right;\">0.400833</td><td style = \"text-align: right;\">0.400595</td><td style = \"text-align: right;\">0.421291</td><td style = \"text-align: right;\">0.372585</td><td style = \"text-align: right;\">0.421331</td><td style = \"text-align: right;\">0.464967</td><td style = \"text-align: right;\">0.390398</td><td style = \"text-align: right;\">0.455128</td><td style = \"text-align: right;\">0.325386</td><td style = \"text-align: right;\">0.54601</td><td style = \"text-align: right;\">0.417286</td><td style = \"text-align: right;\">0.409826</td><td style = \"text-align: right;\">0.44635</td><td style = \"text-align: right;\">0.443103</td><td style = \"text-align: right;\">0.518875</td></tr></tbody></table></div>"
      ],
      "text/latex": [
       "\\begin{tabular}{r|ccccccccc}\n",
       "\t& scenario & windfarm & wflocation & node & t1 & t2 & t3 & t4 & \\\\\n",
       "\t\\hline\n",
       "\t& String & String & Int64 & String & Float64 & Float64 & Float64 & Float64 & \\\\\n",
       "\t\\hline\n",
       "\t1 & s0 & wf1 & 3 & n3 & 0.563373 & 0.556427 & 0.620064 & 0.565905 & $\\dots$ \\\\\n",
       "\t2 & s0 & wf2 & 5 & n5 & 0.762555 & 0.816471 & 0.768671 & 0.767531 & $\\dots$ \\\\\n",
       "\t3 & s0 & wf3 & 16 & n16 & 0.641406 & 0.714133 & 0.734266 & 0.784352 & $\\dots$ \\\\\n",
       "\t4 & s0 & wf4 & 21 & n21 & 0.396813 & 0.393274 & 0.314061 & 0.400584 & $\\dots$ \\\\\n",
       "\t5 & s0 & wf1 & 3 & n3 & 0.721771 & 0.732247 & 0.759537 & 0.788805 & $\\dots$ \\\\\n",
       "\t6 & s1 & wf2 & 5 & n5 & 0.631953 & 0.703686 & 0.712237 & 0.754201 & $\\dots$ \\\\\n",
       "\t7 & s1 & wf3 & 16 & n16 & 0.684535 & 0.719795 & 0.707353 & 0.746384 & $\\dots$ \\\\\n",
       "\t8 & s1 & wf4 & 21 & n21 & 0.419462 & 0.431244 & 0.415342 & 0.397957 & $\\dots$ \\\\\n",
       "\t9 & s2 & wf1 & 3 & n3 & 0.654747 & 0.695253 & 0.707639 & 0.712095 & $\\dots$ \\\\\n",
       "\t10 & s2 & wf2 & 5 & n5 & 0.669501 & 0.679998 & 0.709508 & 0.703933 & $\\dots$ \\\\\n",
       "\t11 & s2 & wf3 & 16 & n16 & 0.650979 & 0.608782 & 0.647574 & 0.634247 & $\\dots$ \\\\\n",
       "\t12 & s2 & wf4 & 21 & n21 & 0.396892 & 0.400184 & 0.420849 & 0.421209 & $\\dots$ \\\\\n",
       "\t13 & s3 & wf1 & 3 & n3 & 0.437419 & 0.572467 & 0.475922 & 0.602778 & $\\dots$ \\\\\n",
       "\t14 & s3 & wf2 & 5 & n5 & 0.59403 & 0.553256 & 0.585861 & 0.695725 & $\\dots$ \\\\\n",
       "\t15 & s3 & wf3 & 16 & n16 & 0.614708 & 0.656003 & 0.739733 & 0.730932 & $\\dots$ \\\\\n",
       "\t16 & s3 & wf4 & 21 & n21 & 0.38033 & 0.441975 & 0.430516 & 0.433046 & $\\dots$ \\\\\n",
       "\t17 & s4 & wf1 & 3 & n3 & 0.75643 & 0.81587 & 0.772151 & 0.776008 & $\\dots$ \\\\\n",
       "\t18 & s4 & wf2 & 5 & n5 & 0.552968 & 0.681915 & 0.730305 & 0.71739 & $\\dots$ \\\\\n",
       "\t19 & s4 & wf3 & 16 & n16 & 0.564107 & 0.568392 & 0.684018 & 0.702407 & $\\dots$ \\\\\n",
       "\t20 & s4 & wf4 & 21 & n21 & 0.348276 & 0.238661 & 0.354214 & 0.435968 & $\\dots$ \\\\\n",
       "\t21 & s5 & wf1 & 3 & n3 & 0.277299 & 0.511616 & 0.367242 & 0.591637 & $\\dots$ \\\\\n",
       "\t22 & s5 & wf2 & 5 & n5 & 0.564107 & 0.568392 & 0.684018 & 0.702407 & $\\dots$ \\\\\n",
       "\t23 & s5 & wf3 & 16 & n16 & 0.693192 & 0.71887 & 0.704807 & 0.761736 & $\\dots$ \\\\\n",
       "\t24 & s5 & wf4 & 21 & n21 & 0.448626 & 0.341372 & 0.396997 & 0.340075 & $\\dots$ \\\\\n",
       "\t$\\dots$ & $\\dots$ & $\\dots$ & $\\dots$ & $\\dots$ & $\\dots$ & $\\dots$ & $\\dots$ & $\\dots$ &  \\\\\n",
       "\\end{tabular}\n"
      ],
      "text/plain": [
       "\u001b[1m40×28 DataFrame\u001b[0m\n",
       "\u001b[1m Row \u001b[0m│\u001b[1m scenario \u001b[0m\u001b[1m windfarm \u001b[0m\u001b[1m wflocation \u001b[0m\u001b[1m node   \u001b[0m\u001b[1m t1       \u001b[0m\u001b[1m t2       \u001b[0m\u001b[1m t3       \u001b[0m\u001b[1m t\u001b[0m ⋯\n",
       "     │\u001b[90m String   \u001b[0m\u001b[90m String   \u001b[0m\u001b[90m Int64      \u001b[0m\u001b[90m String \u001b[0m\u001b[90m Float64  \u001b[0m\u001b[90m Float64  \u001b[0m\u001b[90m Float64  \u001b[0m\u001b[90m F\u001b[0m ⋯\n",
       "─────┼──────────────────────────────────────────────────────────────────────────\n",
       "   1 │ s0        wf1                3  n3      0.563373  0.556427  0.620064  0 ⋯\n",
       "   2 │ s0        wf2                5  n5      0.762555  0.816471  0.768671  0\n",
       "   3 │ s0        wf3               16  n16     0.641406  0.714133  0.734266  0\n",
       "   4 │ s0        wf4               21  n21     0.396813  0.393274  0.314061  0\n",
       "   5 │ s0        wf1                3  n3      0.721771  0.732247  0.759537  0 ⋯\n",
       "   6 │ s1        wf2                5  n5      0.631953  0.703686  0.712237  0\n",
       "   7 │ s1        wf3               16  n16     0.684535  0.719795  0.707353  0\n",
       "   8 │ s1        wf4               21  n21     0.419462  0.431244  0.415342  0\n",
       "  ⋮  │    ⋮         ⋮          ⋮         ⋮        ⋮         ⋮         ⋮        ⋱\n",
       "  34 │ s8        wf2                5  n5      0.697012  0.698228  0.701996  0 ⋯\n",
       "  35 │ s8        wf3               16  n16     0.626779  0.709826  0.753671  0\n",
       "  36 │ s8        wf4               21  n21     0.273598  0.336493  0.310517  0\n",
       "  37 │ s9        wf1                3  n3      0.672679  0.695848  0.713614  0\n",
       "  38 │ s9        wf2                5  n5      0.64115   0.689363  0.741996  0 ⋯\n",
       "  39 │ s9        wf3               16  n16     0.731051  0.783566  0.808027  0\n",
       "  40 │ s9        wf4               21  n21     0.45714   0.433878  0.413726  0\n",
       "\u001b[36m                                                  21 columns and 25 rows omitted\u001b[0m"
      ]
     },
     "metadata": {},
     "output_type": "display_data"
    }
   ],
   "source": [
    "mydata[\"windscenarios\"]"
   ]
  },
  {
   "attachments": {},
   "cell_type": "markdown",
   "metadata": {},
   "source": [
    "### Set generation"
   ]
  },
  {
   "cell_type": "code",
   "execution_count": 68,
   "metadata": {},
   "outputs": [
    {
     "data": {
      "text/plain": [
       "3"
      ]
     },
     "metadata": {},
     "output_type": "display_data"
    }
   ],
   "source": [
    "G = mydata[\"generatorinfo\"][:, :ID]\n",
    "L = mydata[\"lineconstraints\"][:, :ID]\n",
    "T = mydata[\"initdemand\"][:, :t]          #times\n",
    "N = mydata[\"nodeinfo\"][:, :ID]\n",
    "S = unique(mydata[\"windscenarios\"][:, :scenario])\n",
    "K = unique(mydata[\"curtailmentinfo\"][:, :k])\n",
    "\n",
    "NG = length(G)\n",
    "NL = length(L)\n",
    "NT = length(T)\n",
    "NN = length(N)\n",
    "NS = length(S)\n",
    "NK = length(K)"
   ]
  },
  {
   "cell_type": "code",
   "execution_count": 80,
   "metadata": {},
   "outputs": [],
   "source": [
    "#generatorinfo\n",
    "gd = Dict()\n",
    "for c in names(mydata[\"generatorinfo\"])\n",
    "    arr = AxisArray(mydata[\"generatorinfo\"][:, c], g=G)\n",
    "    gd[c] = arr\n",
    "end"
   ]
  },
  {
   "cell_type": "code",
   "execution_count": 81,
   "metadata": {},
   "outputs": [],
   "source": [
    "#lineconstraints\n",
    "ld = Dict(c => AxisArray(mydata[\"lineconstraints\"][:, c], l=L) for c in names(mydata[\"lineconstraints\"]));\n",
    "B = AxisArray(zeros(NL, NN), l=L, n=N)\n",
    "for l in L\n",
    "    from_node = ld[\"from\"][l]\n",
    "    to_node = ld[\"to \"][l]\n",
    "    X = ld[\"X\"][l]\n",
    "    for (idn, node) in enumerate(N)\n",
    "        if node == from_node\n",
    "            B[l, idn] = -1/X\n",
    "        elseif node == to_node\n",
    "            B[l, idn] = 1/X\n",
    "        end\n",
    "    end\n",
    "end "
   ]
  },
  {
   "cell_type": "code",
   "execution_count": 82,
   "metadata": {},
   "outputs": [
    {
     "data": {
      "text/plain": [
       "100.0"
      ]
     },
     "metadata": {},
     "output_type": "display_data"
    }
   ],
   "source": [
    "#initdemand\n",
    "load = AxisArray(Matrix(mydata[\"initdemand\"][:, Not(:t)]), t=T, n=N);\n",
    "cost_ls = 100.0"
   ]
  },
  {
   "cell_type": "code",
   "execution_count": 83,
   "metadata": {},
   "outputs": [
    {
     "data": {
      "text/plain": [
       "2.0"
      ]
     },
     "metadata": {},
     "output_type": "display_data"
    }
   ],
   "source": [
    "#shiftinginfo\n",
    "cols = names(mydata[\"shiftinginfo\"][:, Not([\"t\", \"n\", \"k\"])])\n",
    "DRSd = Dict(c => AxisArray(zeros(NT, NN, NK), t=T, n=N, k=K) for c in cols)\n",
    "\n",
    "for r in eachrow(mydata[\"shiftinginfo\"])\n",
    "    for c in cols\n",
    "        DRSd[c][r[:t], r[:n], r[:k]] = r[c]\n",
    "    end\n",
    "end\n",
    "max_rec = 2.0"
   ]
  },
  {
   "cell_type": "code",
   "execution_count": 84,
   "metadata": {},
   "outputs": [],
   "source": [
    "#curtailmentinfo\n",
    "cols = names(mydata[\"curtailmentinfo\"][:, Not([\"t\", \"n\", \"k\"])])\n",
    "\n",
    "DRCd = Dict(c => AxisArray(zeros(NT, NN, NK), t=T, n=N, k=K) for c in cols)\n",
    "\n",
    "for r in eachrow(mydata[\"curtailmentinfo\"])\n",
    "    for c in cols\n",
    "        DRCd[c][r[:t], r[:n], r[:k]] = r[c]\n",
    "    end\n",
    "end\n"
   ]
  },
  {
   "cell_type": "code",
   "execution_count": 85,
   "metadata": {},
   "outputs": [
    {
     "data": {
      "text/plain": [
       "1-dimensional AxisArray{Vector{String},1,...} with axes:\n",
       "    :n, [\"n1\", \"n2\", \"n3\", \"n4\", \"n5\", \"n6\", \"n7\", \"n8\", \"n9\", \"n10\"  …  \"n15\", \"n16\", \"n17\", \"n18\", \"n19\", \"n20\", \"n21\", \"n22\", \"n23\", \"n24\"]\n",
       "And data, a 24-element Vector{Vector{String}}:\n",
       " [\"g1\"]\n",
       " [\"g2\"]\n",
       " []\n",
       " []\n",
       " []\n",
       " []\n",
       " [\"g3\"]\n",
       " []\n",
       " []\n",
       " []\n",
       " ⋮\n",
       " [\"g7\"]\n",
       " []\n",
       " [\"g8\"]\n",
       " []\n",
       " []\n",
       " [\"g9\"]\n",
       " [\"g10\"]\n",
       " [\"g11\", \"g12\"]\n",
       " []"
      ]
     },
     "metadata": {},
     "output_type": "display_data"
    }
   ],
   "source": [
    "#location\n",
    "ng = AxisArray(\n",
    "    [[g for g in G if gd[\"location\"][g] == idn] for (idn, n) in enumerate(N)],\n",
    "    n = N\n",
    ")"
   ]
  },
  {
   "cell_type": "code",
   "execution_count": 87,
   "metadata": {},
   "outputs": [],
   "source": [
    "#node\n",
    "nl = AxisArray(zeros(Int, NN, NL), n=N, l=L)\n",
    "for l in L\n",
    "    nl[N[ld[\"from\"][l]], l] = 1\n",
    "    nl[N[ld[\"to \"][l]], l] = -1\n",
    "end"
   ]
  },
  {
   "cell_type": "code",
   "execution_count": 88,
   "metadata": {},
   "outputs": [
    {
     "data": {
      "text/plain": [
       "20.0"
      ]
     },
     "metadata": {},
     "output_type": "display_data"
    }
   ],
   "source": [
    "wind_cap = AxisArray(zeros(NN), n=N)\n",
    "wind_cap[\"n3\"] = 500.0\n",
    "wind_cap[\"n5\"] = 500.0\n",
    "wind_cap[\"n16\"] = 300.0\n",
    "wind_cap[\"n21\"] = 300.0\n",
    "\n",
    "pi = AxisArray(ones(NS)/NS, s=S)\n",
    "\n",
    "wind = AxisArray(zeros(NS, NN, NT), s=S, n=N, t=T)\n",
    "for r in eachrow(mydata[\"windscenarios\"])\n",
    "    for t in T\n",
    "        wind[r[:scenario], r[:node], t] = r[t]*wind_cap[r[:node]]\n",
    "    end\n",
    "end\n",
    "\n",
    "ewind = mean(wind, dims=1)[1, :, :]\n",
    "stdwind = std(wind, dims=1)[1, :, :]\n",
    "cost_ws = 20.0"
   ]
  },
  {
   "cell_type": "code",
   "execution_count": 89,
   "metadata": {},
   "outputs": [
    {
     "data": {
      "text/plain": [
       "1-dimensional AxisArray{Float64,1,...} with axes:\n",
       "    :s, [\"s0\", \"s1\", \"s2\", \"s3\", \"s4\", \"s5\", \"s6\", \"s7\", \"s8\", \"s9\"]\n",
       "And data, a 10-element Vector{Float64}:\n",
       " 0.1\n",
       " 0.1\n",
       " 0.1\n",
       " 0.1\n",
       " 0.1\n",
       " 0.1\n",
       " 0.1\n",
       " 0.1\n",
       " 0.1\n",
       " 0.1"
      ]
     },
     "metadata": {},
     "output_type": "display_data"
    }
   ],
   "source": [
    "pi"
   ]
  },
  {
   "cell_type": "markdown",
   "metadata": {},
   "source": [
    "# Model"
   ]
  },
  {
   "cell_type": "code",
   "execution_count": 91,
   "metadata": {
    "scrolled": false
   },
   "outputs": [
    {
     "data": {
      "text/plain": [
       "A JuMP Model\n",
       "Minimization problem with:\n",
       "Variables: 74016\n",
       "Objective function type: AffExpr\n",
       "`AffExpr`-in-`MathOptInterface.EqualTo{Float64}`: 9793 constraints\n",
       "`AffExpr`-in-`MathOptInterface.GreaterThan{Float64}`: 26256 constraints\n",
       "`AffExpr`-in-`MathOptInterface.LessThan{Float64}`: 38640 constraints\n",
       "`VariableRef`-in-`MathOptInterface.EqualTo{Float64}`: 264 constraints\n",
       "`VariableRef`-in-`MathOptInterface.GreaterThan{Float64}`: 50112 constraints\n",
       "`VariableRef`-in-`MathOptInterface.ZeroOne`: 17568 constraints\n",
       "Model mode: AUTOMATIC\n",
       "CachingOptimizer state: EMPTY_OPTIMIZER\n",
       "Solver name: CPLEX\n",
       "Names registered in the model: A1, B1, D1, DBC, DBCK, DBC_SU, DBS, DBSK, DBSRK, DRC, DRCK, DRC_SU, DRS, DRSK, DRSRK, E1, F1, H1, I1, K1, L1, Lshed, M1, Wsc, Wspill, bal0, bals, conAB, conDE, conHI, conKL, dbbbal, dbcmax, dbcmin, dbcst1, dbcst2, dbcst3, dbsmax, dbsmin, dbsmxr, dbsorr, drbbal, drcmax, drcmin, drcst1, drcst2, drcst3, drsmax, drsmin, drsmxr, drsorr, pflow0, pflow1, pfmax0, pfmax1, pfmin0, pfmin1, pgen, pup, r_down, r_downs, r_up, r_ups, res_dn, res_up, resdn, resup, strong_duality, suc, totalcost, u, uDBC, uDBS, uDBSR, uDRC, uDRS, uDRSR, windspill, yDB, yDR, zDB, zDR, θ0, θ1"
      ]
     },
     "metadata": {},
     "output_type": "display_data"
    }
   ],
   "source": [
    "bdr = Model(CPLEX.Optimizer)\n",
    "\n",
    "@variables(bdr, begin\n",
    "    pgen[G, T] >= 0 # scheduled gen. output\n",
    "    u[G, T], Bin # state of generator\n",
    "    θ0[N, T] # phase angles in scheduling phase\n",
    "    θ1[N, S, T] # phase angles in balancing phase\n",
    "    Wsc[N, T] >= 0# scheduled wind power\n",
    "    r_up[G, T] >= 0 # up regulation\n",
    "    r_down[G, T] >= 0 # down regulation\n",
    "    r_ups[S, G, T] >= 0 # actual up regulation\n",
    "    r_downs[S, G, T] >= 0 # actual down regulation \n",
    "    Lshed[S, N, T] >= 0 # load shedding\n",
    "    Wspill[S, N, T] >= 0 # wind spillage\n",
    "    suc[1:NT, G] >= 0 # generator start-up/shut-down cost\n",
    "    # DR agg <> ISO contract parameters\n",
    "    DRCK[T, N, K] >= 0 # DR curtailment blocks\n",
    "    DRSK[T, N, K] >= 0 # DR shifting blocks\n",
    "    DRC_SU[T, N, K] >= 0 # DRC startup cost\n",
    "    DRSRK[T, N, K] >= 0 # DR recovery blocks\n",
    "    uDRC[T, N, K], Bin # DR curtailment active\n",
    "    uDRS[T, N, K], Bin # DR shifting activate\n",
    "    yDR[T, N, K], Bin # DRC activated\n",
    "    zDR[T, N, K], Bin # DRC de-activated\n",
    "    uDRSR[T, N, K], Bin # DRS recovery active\n",
    "    # same for DR agg <> cust. contracts\n",
    "    DBCK[T, N, K] >= 0\n",
    "    DBSK[T, N, K] >= 0\n",
    "    DBC_SU[T, N, K] >= 0 \n",
    "    DBSRK[T, N, K] >= 0\n",
    "    uDBC[T, N, K], Bin\n",
    "    uDBS[T, N, K], Bin\n",
    "    yDB[T, N, K], Bin\n",
    "    zDB[T, N, K], Bin\n",
    "    uDBSR[T, N, K], Bin\n",
    "    # Dual multipliers/linearization variables for KKT formulation\n",
    "    A1[T,N,K] >= 0 \n",
    "    B1[T,N,K] >= 0\n",
    "    D1[T,N,K] >= 0\n",
    "    E1[T,N,K] >= 0\n",
    "    F1[T,N,K] >= 0\n",
    "    H1[T,N,K] >= 0\n",
    "    I1[T,N,K] >= 0\n",
    "    K1[T,N,K] >= 0\n",
    "    L1[T,N,K] >= 0\n",
    "    M1[T,N,K] >= 0\n",
    "end)\n",
    "\n",
    "# fix slack bus\n",
    "fix.(θ0[\"n1\", :], 0);\n",
    "fix.(θ1[\"n1\", :, :], 0);\n",
    "\n",
    "@expressions(bdr, begin\n",
    "    # DR costs/profits\n",
    "    DRC[t in T, n in N], sum(DRCd[\"cost\"][t,n,k]*DRCK[t, n, k]+DRC_SU[t,n,k] for k in K)\n",
    "    DRS[t in T, n in N], sum(DRSd[\"cost\"][t,n,k]*DRSK[t, n, k] for k in K)\n",
    "    DBC[t in T, n in N], sum(DRCd[\"costb\"][t,n,k]*DBCK[t, n, k] for k in K)\n",
    "    DBS[t in T, n in N], sum(DRSd[\"costb\"][t,n,k]*DBSK[t, n, k] for k in K)\n",
    "    pflow0[l in L, t in T], sum(B[l,n]*θ0[n,t] for n in N)\n",
    "    pflow1[l in L, s in S, t in T], sum(B[l,n]*θ1[n,s,t] for n in N)\n",
    "    totalcost, \n",
    "        sum(\n",
    "            sum(\n",
    "                pgen[g,t] * gd[\"cost\"][g] +\n",
    "                r_up[g,t] * gd[\"upresercost\"][g] +\n",
    "                r_down[g,t] * gd[\"dnresercost\"][g] +\n",
    "                suc[findfirst(isequal(t), T),g]\n",
    "            for g in G) +\n",
    "            sum(DRC[t, n] + DRS[t, n] for n in N) +\n",
    "            sum(\n",
    "                pi[s] * (\n",
    "                    sum(gd[\"cost\"][g] * (r_ups[s,g,t]-r_downs[s,g,t]) for g in G) +\n",
    "                    sum(cost_ws * Wspill[s,n,t] + cost_ls * Lshed[s,n,t] for n in N)\n",
    "                    )\n",
    "            for s in S)\n",
    "        for t in T)\n",
    "end)\n",
    "\n",
    "@constraints(bdr, begin\n",
    "    # generator limits\n",
    "    pup[g in G, t in T], pgen[g, t] + r_up[g, t] <= gd[\"cap\"][g] * u[g,t]\n",
    "    #pdn[g in G, t in T], pgen[g, t] - r_down[g, t] >= gd[\"mincap\"][g] * u[g,t]\n",
    "    res_up[g in G, t in T], r_up[g, t] <= gd[\"maxupresercap\"][g]\n",
    "    res_dn[g in G, t in T], r_down[g, t] <= gd[\"maxdnresercap\"][g]\n",
    "    #startcost[g in G, τ in 1:NT], suc[τ,g] >= gd[\"startup\"][g] * (u[g,T[τ]] - u[g,T[max(τ-1,1)]]) \n",
    "    #shutcost[g in G, τ in 1:NT], suc[τ,g] >= gd[\"shutdown\"][g] * (u[g,T[max(τ-1,1)]] - u[g,T[τ]])\n",
    "    #rampup[g in G, τ in 2:NT], pgen[g, T[τ]] - pgen[g, T[τ-1]] <= gd[\"ramp\"][g]    \n",
    "    bal0[n in N, t in T], \n",
    "        sum(pgen[g,t] for g in ng[n]) + \n",
    "        Wsc[n,t] + \n",
    "        sum(DRCK[t,n,k] + DRSK[t,n,k] - DRSRK[t,n,k] for k in K) == \n",
    "        load[t,n] + sum(pflow0[l, t]*nl[n,l] for l in L)\n",
    "    pfmax0[l in L, t in T], pflow0[l, t] <= ld[\"flowcap\"][l]\n",
    "    pfmin0[l in L, t in T], pflow0[l, t] >= -ld[\"flowcap\"][l]\n",
    "    # limit on wind scheduling --> i dont have one -> explain in paper!\n",
    "    # windcap[n in N, t in T], Wsc[n, t] <= ewind[n, t]\n",
    "    # DR curtailment constraints (ISO <> DR agg.)\n",
    "    drcmax[t in T, n in N, k in K], DRCK[t,n,k] <= uDRC[t,n,k] * DRCd[\"max\"][t,n,k]\n",
    "    drcmin[t in T, n in N, k in K], DRCK[t,n,k] >= uDRC[t,n,k] * DRCd[\"min\"][t,n,k]\n",
    "    drcst1[τ in 2:NT, n in N, k in K], yDR[T[τ],n,k] - zDR[T[τ],n,k] == uDRC[T[τ],n,k] - uDRC[T[τ-1],n,k]\n",
    "    drcst2[t in T, n in N, k in K], yDR[t,n,k] + zDR[t,n,k] <= 1\n",
    "    drcst3[t in T, n in N, k in K], DRC_SU[t,n,k] >= DRCd[\"SUC\"][t,n,k] * yDR[t,n,k]\n",
    "    # DR shifting constraints (ISO <> DR agg.)\n",
    "    drsmax[t in T, n in N, k in K], DRSK[t,n,k] <= uDRS[t,n,k] * DRSd[\"max\"][t,n,k]\n",
    "    drsmin[t in T, n in N, k in K], DRSK[t,n,k] >= uDRS[t,n,k] * DRSd[\"min\"][t,n,k]\n",
    "    drsmxr[t in T, n in N, k in K], DRSRK[t,n,k] <= max_rec*uDRSR[t,n,k]\n",
    "    drsorr[t in T, n in N, k in K], uDRS[t,n,k] + uDRSR[t,n,k] <= 1\n",
    "    drbbal[n in N, k in K], sum(DRSRK[t,n,k] for t in T) == sum(DRSK[t,n,k] for t in T)\n",
    "    # DR curt. cons (DR agg. <> cust.)\n",
    "    dbcmax[t in T, n in N, k in K], DBCK[t,n,k] <= uDRC[t,n,k] * DRCd[\"max\"][t,n,k]\n",
    "    dbcmin[t in T, n in N, k in K], DBCK[t,n,k] >= uDRC[t,n,k] * DRCd[\"min\"][t,n,k]\n",
    "    dbcst1[τ in 2:NT, n in N, k in K], yDB[T[τ],n,k] - zDB[T[τ],n,k] == uDBC[T[τ],n,k] - uDBC[T[τ-1],n,k]\n",
    "    dbcst2[t in T, n in N, k in K], yDB[t,n,k] + zDB[t,n,k] <= 1\n",
    "    dbcst3[t in T, n in N, k in K], DBC_SU[t,n,k] >= DRCd[\"SUCb\"][t,n,k] * yDB[t,n,k]\n",
    "    # DR shift. cons (DR agg. <> cust.)\n",
    "    dbsmax[t in T, n in N, k in K], DBSK[t,n,k] <= uDBS[t,n,k] * DRSd[\"max\"][t,n,k]\n",
    "    dbsmin[t in T, n in N, k in K], DBSK[t,n,k] >= uDBS[t,n,k] * DRSd[\"min\"][t,n,k]\n",
    "    dbsmxr[t in T, n in N, k in K], DBSRK[t,n,k] <= max_rec*uDBSR[t,n,k]\n",
    "    dbsorr[t in T, n in N, k in K], uDBS[t,n,k] + uDBSR[t,n,k] <= 1\n",
    "    dbbbal[n in N, k in K], sum(DBSRK[t,n,k] for t in T) == sum(DBSK[t,n,k] for t in T)\n",
    "    # Dual multipliers/linearization constraints\n",
    "    conAB[t in T, n in N, k in K], A1[t,n,k]-B1[t,n,k] >= DRCd[\"cost\"][t,n,k]\n",
    "    conDE[t in T, n in N, k in K], D1[t,n,k]-E1[t,n,k] >= DRSd[\"cost\"][t,n,k]\n",
    "    conHI[t in T, n in N, k in K], H1[t,n,k]-I1[t,n,k] >= -DRCd[\"costb\"][t,n,k]\n",
    "    conKL[t in T, n in N, k in K], K1[t,n,k]-L1[t,n,k] >= -DRSd[\"costb\"][t,n,k]\n",
    "    strong_duality, \n",
    "        sum(\n",
    "            A1[t,n,k]*DRCd[\"max\"][t,n,k] - B1[t,n,k]*DRCd[\"min\"][t,n,k] +\n",
    "            D1[t,n,k]*DRSd[\"max\"][t,n,k] - E1[t,n,k]*DRSd[\"min\"][t,n,k] +\n",
    "            F1[t,n,k]*max_rec +\n",
    "            H1[t,n,k]*DRCd[\"max\"][t,n,k] - I1[t,n,k]*DRCd[\"min\"][t,n,k] +\n",
    "            K1[t,n,k]*DRSd[\"max\"][t,n,k] - L1[t,n,k]*DRSd[\"min\"][t,n,k] +\n",
    "            M1[t,n,k]*max_rec\n",
    "        for t in T for n in N for k in K) ==\n",
    "        sum(\n",
    "            DRCd[\"cost\"][t,n,k] * DRCK[t,n,k] +\n",
    "            DRSd[\"cost\"][t,n,k] * DRSK[t,n,k] - \n",
    "            DRCd[\"costb\"][t,n,k] * DBCK[t,n,k] - \n",
    "            DRSd[\"costb\"][t,n,k] * DBSK[t,n,k]    \n",
    "        for t in T for n in N for k in K)\n",
    "    # second stage (after wind realizes)\n",
    "    resup[s in S, g in G, t in T], r_ups[s,g,t] <= r_up[g,t]\n",
    "    resdn[s in S, g in G, t in T], r_downs[s,g,t] <= r_down[g,t]\n",
    "    bals[s in S, n in N, t in T], \n",
    "        sum(r_ups[s,g,t]-r_downs[s,g,t] for g in ng[n]) + \n",
    "        wind[s,n,t] - Wsc[n,t] - Wspill[s,n,t] + Lshed[s,n,t] == \n",
    "        -sum((pflow1[l,s,t] - pflow0[l,t])*nl[n,l] for l in L)\n",
    "    windspill[s in S, n in N, t in T], Wspill[s,n,t] <= wind[s,n,t]\n",
    "    pfmax1[l in L, s in S, t in T], pflow1[l,s,t] <= ld[\"flowcap\"][l]\n",
    "    pfmin1[l in L, s in S, t in T], pflow1[l,s,t] >= -ld[\"flowcap\"][l]\n",
    "end)\n",
    "    \n",
    "@objective(bdr, Min, totalcost)\n",
    "\n",
    "bdr"
   ]
  },
  {
   "cell_type": "markdown",
   "metadata": {},
   "source": []
  },
  {
   "attachments": {},
   "cell_type": "markdown",
   "metadata": {},
   "source": [
    "# Model"
   ]
  },
  {
   "cell_type": "code",
   "execution_count": 92,
   "metadata": {
    "scrolled": false
   },
   "outputs": [
    {
     "name": "stdout",
     "output_type": "stream",
     "text": [
      "Version identifier: 22.1.1.0 | 2022-11-28 | 9160aff4d\n",
      "Tried aggregator 3 times.\n",
      "MIP Presolve eliminated 53994 rows and 47918 columns.\n",
      "MIP Presolve modified 459 coefficients.\n",
      "Aggregator did 3000 substitutions.\n",
      "Reduced MIP has 17695 rows, 22690 columns, and 52804 nonzeros.\n",
      "Reduced MIP has 10998 binaries, 0 generals, 0 SOSs, and 0 indicators.\n",
      "Presolve time = 0.31 sec. (142.28 ticks)\n",
      "Probing time = 0.06 sec. (2.37 ticks)\n",
      "Tried aggregator 1 time.\n",
      "MIP Presolve eliminated 5228 rows and 7536 columns.\n",
      "Reduced MIP has 12467 rows, 15154 columns, and 37500 nonzeros.\n",
      "Reduced MIP has 4488 binaries, 0 generals, 0 SOSs, and 0 indicators.\n",
      "Presolve time = 0.09 sec. (18.09 ticks)\n",
      "Probing time = 0.03 sec. (1.46 ticks)\n",
      "Tried aggregator 1 time.\n",
      "Detecting symmetries...\n",
      "MIP Presolve eliminated 5387 rows and 6373 columns.\n",
      "Reduced MIP has 7080 rows, 8781 columns, and 21770 nonzeros.\n",
      "Reduced MIP has 4488 binaries, 0 generals, 0 SOSs, and 0 indicators.\n",
      "Presolve time = 0.46 sec. (266.26 ticks)\n",
      "Probing time = 0.02 sec. (1.27 ticks)\n",
      "Clique table members: 8109.\n",
      "MIP emphasis: balance optimality and feasibility.\n",
      "MIP search method: dynamic search.\n",
      "Parallel mode: deterministic, using up to 4 threads.\n",
      "Root relaxation solution time = 0.06 sec. (21.50 ticks)\n",
      "\n",
      "        Nodes                                         Cuts/\n",
      "   Node  Left     Objective  IInf  Best Integer    Best Bound    ItCnt     Gap\n",
      "\n",
      "      0     0  2437509.7797     4                2437509.7797      844         \n",
      "*     0+    0                      2437509.7797  2437509.7797             0.00%\n",
      "      0     0        cutoff        2437509.7797  2437509.7797      844    0.00%\n",
      "Elapsed time = 1.86 sec. (776.22 ticks, tree = 0.01 MB, solutions = 1)\n",
      "\n",
      "Root node processing (before b&c):\n",
      "  Real time             =    1.87 sec. (778.38 ticks)\n",
      "Parallel b&c, 4 threads:\n",
      "  Real time             =    0.00 sec. (0.00 ticks)\n",
      "  Sync time (average)   =    0.00 sec.\n",
      "  Wait time (average)   =    0.00 sec.\n",
      "                          ------------\n",
      "Total (root+branch&cut) =    1.87 sec. (778.38 ticks)\n"
     ]
    }
   ],
   "source": [
    "optimize!(bdr)"
   ]
  },
  {
   "cell_type": "code",
   "execution_count": 93,
   "metadata": {},
   "outputs": [
    {
     "data": {
      "text/plain": [
       "OPTIMAL::TerminationStatusCode = 1"
      ]
     },
     "metadata": {},
     "output_type": "display_data"
    }
   ],
   "source": [
    "termination_status(bdr)"
   ]
  },
  {
   "cell_type": "code",
   "execution_count": 94,
   "metadata": {},
   "outputs": [
    {
     "data": {
      "text/plain": [
       "2.4375097796975374e6"
      ]
     },
     "metadata": {},
     "output_type": "display_data"
    }
   ],
   "source": [
    "objective_value(bdr)"
   ]
  },
  {
   "cell_type": "code",
   "execution_count": 95,
   "metadata": {},
   "outputs": [
    {
     "data": {
      "text/plain": [
       "2-dimensional DenseAxisArray{Float64,2,...} with index sets:\n",
       "    Dimension 1, [\"g1\", \"g2\", \"g3\", \"g4\", \"g5\", \"g6\", \"g7\", \"g8\", \"g9\", \"g10\", \"g11\", \"g12\"]\n",
       "    Dimension 2, [\"t1\", \"t2\", \"t3\", \"t4\", \"t5\", \"t6\", \"t7\", \"t8\", \"t9\", \"t10\"  …  \"t15\", \"t16\", \"t17\", \"t18\", \"t19\", \"t20\", \"t21\", \"t22\", \"t23\", \"t24\"]\n",
       "And data, a 12×24 Matrix{Float64}:\n",
       "  54.768   52.332   52.92   48.72  …   71.4    65.77     60.9     54.6\n",
       "  48.9     46.725   47.25   43.5       63.75   58.7636   54.375   48.75\n",
       "  63.244   60.431   63.11   56.26      82.45   76.64     70.325   63.05\n",
       " 133.66   127.715  129.15  118.9      174.25  161.9     148.625  133.25\n",
       "  42.0     42.0     42.0    39.6       42.0    42.0      42.0     42.0\n",
       " 108.5    108.5    108.5   108.5   …  108.5   108.5     108.5    108.5\n",
       "   0.0      0.0      0.0     0.0        0.0     0.0       0.0      0.0\n",
       " 168.216  160.734  162.54  151.64     219.3   203.24    187.05   167.7\n",
       "   0.0      0.0      0.0     0.0        0.0     0.0       0.0      0.0\n",
       "   0.0      0.0      0.0     0.0        0.0     0.0       0.0      0.0\n",
       "   0.0      0.0      0.0     0.0   …    0.0     0.0       0.0      0.0\n",
       "   0.0      0.0      0.0     0.0        0.0     0.0       0.0      0.0"
      ]
     },
     "metadata": {},
     "output_type": "display_data"
    }
   ],
   "source": [
    "value.(pgen)"
   ]
  },
  {
   "cell_type": "code",
   "execution_count": 96,
   "metadata": {},
   "outputs": [
    {
     "data": {
      "text/plain": [
       "2-dimensional DenseAxisArray{Float64,2,...} with index sets:\n",
       "    Dimension 1, [\"g1\", \"g2\", \"g3\", \"g4\", \"g5\", \"g6\", \"g7\", \"g8\", \"g9\", \"g10\", \"g11\", \"g12\"]\n",
       "    Dimension 2, [\"t1\", \"t2\", \"t3\", \"t4\", \"t5\", \"t6\", \"t7\", \"t8\", \"t9\", \"t10\"  …  \"t15\", \"t16\", \"t17\", \"t18\", \"t19\", \"t20\", \"t21\", \"t22\", \"t23\", \"t24\"]\n",
       "And data, a 12×24 Matrix{Float64}:\n",
       " 1.0  1.0  1.0  1.0  1.0  1.0  1.0  1.0  …  1.0  1.0  1.0  1.0  1.0  1.0  1.0\n",
       " 1.0  1.0  1.0  1.0  1.0  1.0  1.0  1.0     1.0  1.0  1.0  1.0  1.0  1.0  1.0\n",
       " 1.0  1.0  1.0  1.0  1.0  1.0  1.0  1.0     1.0  1.0  1.0  1.0  1.0  1.0  1.0\n",
       " 1.0  1.0  1.0  1.0  1.0  1.0  1.0  1.0     1.0  1.0  1.0  1.0  1.0  1.0  1.0\n",
       " 1.0  1.0  1.0  1.0  1.0  1.0  1.0  1.0     1.0  1.0  1.0  1.0  1.0  1.0  1.0\n",
       " 1.0  1.0  1.0  1.0  1.0  1.0  1.0  1.0  …  1.0  1.0  1.0  1.0  1.0  1.0  1.0\n",
       " 1.0  1.0  1.0  1.0  1.0  1.0  1.0  1.0     1.0  1.0  1.0  1.0  1.0  1.0  1.0\n",
       " 1.0  1.0  1.0  1.0  1.0  1.0  1.0  1.0     1.0  1.0  1.0  1.0  1.0  1.0  1.0\n",
       " 1.0  1.0  1.0  1.0  1.0  1.0  1.0  1.0     1.0  1.0  1.0  1.0  1.0  1.0  1.0\n",
       " 1.0  1.0  1.0  1.0  1.0  1.0  1.0  1.0     1.0  1.0  1.0  1.0  1.0  1.0  1.0\n",
       " 1.0  1.0  1.0  1.0  1.0  1.0  1.0  1.0  …  1.0  1.0  1.0  1.0  1.0  1.0  1.0\n",
       " 1.0  1.0  1.0  1.0  1.0  1.0  1.0  1.0     1.0  1.0  1.0  1.0  1.0  1.0  1.0"
      ]
     },
     "metadata": {},
     "output_type": "display_data"
    }
   ],
   "source": [
    "value.(u)"
   ]
  },
  {
   "cell_type": "code",
   "execution_count": 100,
   "metadata": {},
   "outputs": [
    {
     "data": {
      "text/plain": [
       "1-dimensional AxisArray{Float64,1,...} with axes:\n",
       "    :t, [\"t1\", \"t2\", \"t3\", \"t4\", \"t5\", \"t6\", \"t7\", \"t8\", \"t9\", \"t10\"  …  \"t15\", \"t16\", \"t17\", \"t18\", \"t19\", \"t20\", \"t21\", \"t22\", \"t23\", \"t24\"]\n",
       "And data, a 24-element Vector{Float64}:\n",
       " 1438.964\n",
       " 1374.961\n",
       " 1390.4099999999999\n",
       " 1280.06\n",
       " 1213.8500000000001\n",
       " 1213.8500000000001\n",
       " 1324.1999999999998\n",
       " 1412.4799999999998\n",
       " 1566.97\n",
       " 1721.4599999999998\n",
       "    ⋮\n",
       " 1931.125\n",
       " 2162.86\n",
       " 2207.0\n",
       " 2118.7200000000003\n",
       " 2008.37\n",
       " 1875.9499999999998\n",
       " 1721.4599999999998\n",
       " 1600.0749999999998\n",
       " 1434.5500000000002"
      ]
     },
     "metadata": {},
     "output_type": "display_data"
    }
   ],
   "source": [
    "B = sum(load, dims=2)[:, 1]\n",
    "B"
   ]
  },
  {
   "cell_type": "code",
   "execution_count": null,
   "metadata": {},
   "outputs": [],
   "source": []
  },
  {
   "cell_type": "code",
   "execution_count": 99,
   "metadata": {},
   "outputs": [
    {
     "data": {
      "text/plain": [
       "24-element Vector{Float64}:\n",
       " 1452.714\n",
       " 1381.801\n",
       " 1399.36\n",
       " 1292.06\n",
       " 1224.96\n",
       " 1221.2500000000002\n",
       " 1330.5499999999997\n",
       " 1422.4800000000002\n",
       " 1574.9699999999998\n",
       " 1728.9535714285719\n",
       "    ⋮\n",
       " 1884.055\n",
       " 2114.7\n",
       " 2161.05\n",
       " 2069.68\n",
       " 1961.5428571428563\n",
       " 1877.95\n",
       " 1728.9535714285719\n",
       " 1602.0749999999998\n",
       " 1436.5500000000002"
      ]
     },
     "metadata": {},
     "output_type": "display_data"
    }
   ],
   "source": [
    "A = [sum(load[t,:]) - sum(value.(DRCK[t,:,:]) .+ value.(DRSK[t,:,:]) .- value.(DRSRK[t,:,:])) for t in T]\n",
    "A"
   ]
  },
  {
   "cell_type": "code",
   "execution_count": null,
   "metadata": {},
   "outputs": [],
   "source": []
  },
  {
   "cell_type": "code",
   "execution_count": null,
   "metadata": {},
   "outputs": [],
   "source": [
    "plot(\n",
    "    sum(load, dims=2)[:, 1], \n",
    "    label=\"Load before DR\",\n",
    "    xlims=(1,24),\n",
    "    xticks=6:6:24,\n",
    "    )\n",
    "\n",
    "plot!(\n",
    "    [sum(load[t,:]) - sum(value.(DRCK[t,:,:]) .+ value.(DRSK[t,:,:]) .- value.(DRSRK[t,:,:])) for t in T], \n",
    "    label=\"Load after DR\"\n",
    "    )"
   ]
  },
  {
   "cell_type": "code",
   "execution_count": null,
   "metadata": {},
   "outputs": [],
   "source": [
    "plot(\n",
    "    ewind[\"n6\", :], \n",
    "    ribbon = stdwind[\"n6\", :],\n",
    "    label=\"μw +- σw\",\n",
    "    xlims=(1,24),\n",
    "    xticks=6:6:24,\n",
    "    )"
   ]
  }
 ],
 "metadata": {
  "kernelspec": {
   "display_name": "Julia 1.8.5",
   "language": "julia",
   "name": "julia-1.8"
  },
  "language_info": {
   "file_extension": ".jl",
   "mimetype": "application/julia",
   "name": "julia",
   "version": "1.8.5"
  }
 },
 "nbformat": 4,
 "nbformat_minor": 4
}
