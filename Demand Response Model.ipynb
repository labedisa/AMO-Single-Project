{
 "cells": [
  {
   "cell_type": "code",
   "execution_count": null,
   "metadata": {},
   "outputs": [],
   "source": [
    "using Pkg\n",
    "Pkg.activate(\".\"); Pkg.instantiate()"
   ]
  },
  {
   "cell_type": "code",
   "execution_count": null,
   "metadata": {},
   "outputs": [],
   "source": [
    "#import Pkg\n",
    "Pkg.add(\"AxisArrays\")\n",
    "Pkg.add(\"JuMP\")\n",
    "Pkg.add(\"XLSX\")\n",
    "Pkg.add(\"DataFrames\")\n",
    "Pkg.add(\"Plots\")\n",
    "Pkg.add(\"AxisArrays\")\n",
    "Pkg.add(\"Statistics\")\n",
    "Pkg.add(\"PGFPlotsX\")\n",
    "Pkg.add(\"AxisArrays\")\n",
    "Pkg.add(\"CPLEX\")\n",
    "Pkg.add(\"HiGHS\")"
   ]
  },
  {
   "cell_type": "code",
   "execution_count": null,
   "metadata": {},
   "outputs": [],
   "source": [
    "using JuMP, XLSX, DataFrames, Plots, AxisArrays, Statistics, PGFPlotsX, CPLEX, HiGHS"
   ]
  },
  {
   "cell_type": "code",
   "execution_count": null,
   "metadata": {},
   "outputs": [],
   "source": [
    "pgfplotsx()"
   ]
  },
  {
   "attachments": {},
   "cell_type": "markdown",
   "metadata": {},
   "source": [
    "# Read In And Prepare Data "
   ]
  },
  {
   "cell_type": "code",
   "execution_count": null,
   "metadata": {},
   "outputs": [],
   "source": [
    "mydata = Dict{String, DataFrame}()"
   ]
  },
  {
   "cell_type": "code",
   "execution_count": null,
   "metadata": {},
   "outputs": [],
   "source": [
    "xl = XLSX.readxlsx(\"data/curtailmentinfo.xlsx\")\n",
    "mydata[\"curtailmentinfo\"] = DataFrame(XLSX.gettable(xl[\"curtailmentinfo\"]; infer_eltypes=true))\n",
    "print(\"curtailment data read in successfully\")"
   ]
  },
  {
   "cell_type": "code",
   "execution_count": null,
   "metadata": {},
   "outputs": [],
   "source": [
    "mydata[\"curtailmentinfo\"]"
   ]
  },
  {
   "cell_type": "code",
   "execution_count": null,
   "metadata": {},
   "outputs": [],
   "source": [
    "xl = XLSX.readxlsx(\"data/generatorinfo.xlsx\")\n",
    "generatorinfo = XLSX.sheetnames(xl)\n",
    "mydata[\"generatorinfo\"] = DataFrame(XLSX.gettable(xl[\"generatorinfo\"]; infer_eltypes=true))\n",
    "print(\"generator data read in successfully\")"
   ]
  },
  {
   "cell_type": "code",
   "execution_count": null,
   "metadata": {},
   "outputs": [],
   "source": [
    "mydata[\"generatorinfo\"]"
   ]
  },
  {
   "cell_type": "code",
   "execution_count": null,
   "metadata": {},
   "outputs": [],
   "source": [
    "xl = XLSX.readxlsx(\"data/initdemand.xlsx\")\n",
    "initdemand = XLSX.sheetnames(xl)\n",
    "mydata[\"initdemand\"] = DataFrame(XLSX.gettable(xl[\"initdemand\"]; infer_eltypes=true))\n",
    "print(\"demand data read in successfully\")"
   ]
  },
  {
   "cell_type": "code",
   "execution_count": null,
   "metadata": {},
   "outputs": [],
   "source": [
    "mydata[\"initdemand\"]"
   ]
  },
  {
   "cell_type": "code",
   "execution_count": null,
   "metadata": {},
   "outputs": [],
   "source": [
    "xl = XLSX.readxlsx(\"data/lineconstraints.xlsx\")\n",
    "linecontraints = XLSX.sheetnames(xl)\n",
    "mydata[\"lineconstraints\"] = DataFrame(XLSX.gettable(xl[\"lineconstraints\"]; infer_eltypes=true))\n",
    "print(\"line constraint data read in successfully\")"
   ]
  },
  {
   "cell_type": "code",
   "execution_count": null,
   "metadata": {},
   "outputs": [],
   "source": [
    "mydata[\"lineconstraints\"]"
   ]
  },
  {
   "cell_type": "code",
   "execution_count": null,
   "metadata": {},
   "outputs": [],
   "source": [
    "xl = XLSX.readxlsx(\"data/nodeinfo.xlsx\")\n",
    "nodeinfo = XLSX.sheetnames(xl)\n",
    "mydata[\"nodeinfo\"] = DataFrame(XLSX.gettable(xl[\"nodeinfo\"]; infer_eltypes=true))\n",
    "print(\"node data read in successfully\")"
   ]
  },
  {
   "cell_type": "code",
   "execution_count": null,
   "metadata": {},
   "outputs": [],
   "source": [
    "mydata[\"nodeinfo\"]"
   ]
  },
  {
   "cell_type": "code",
   "execution_count": null,
   "metadata": {},
   "outputs": [],
   "source": [
    "xl = XLSX.readxlsx(\"data/shiftinginfo.xlsx\")\n",
    "shiftinginfo = XLSX.sheetnames(xl)\n",
    "mydata[\"shiftinginfo\"] = DataFrame(XLSX.gettable(xl[\"shiftinginfo\"]; infer_eltypes=true))\n",
    "print(\"shifting information read in successfully\")"
   ]
  },
  {
   "cell_type": "code",
   "execution_count": null,
   "metadata": {},
   "outputs": [],
   "source": [
    "mydata[\"shiftinginfo\"]"
   ]
  },
  {
   "cell_type": "code",
   "execution_count": null,
   "metadata": {},
   "outputs": [],
   "source": [
    "xl = XLSX.readxlsx(\"data/windfarminfo.xlsx\")\n",
    "windfarminfo = XLSX.sheetnames(xl)\n",
    "mydata[\"windfarminfo\"] = DataFrame(XLSX.gettable(xl[\"windfarminfo\"]; infer_eltypes=true))\n",
    "print(\"windfarm data read in successfully\")"
   ]
  },
  {
   "cell_type": "code",
   "execution_count": null,
   "metadata": {},
   "outputs": [],
   "source": [
    "mydata[\"windfarminfo\"]"
   ]
  },
  {
   "cell_type": "code",
   "execution_count": null,
   "metadata": {},
   "outputs": [],
   "source": [
    "xl = XLSX.readxlsx(\"data/windscenarios.xlsx\")\n",
    "windscenarios = XLSX.sheetnames(xl)\n",
    "mydata[\"windscenarios\"] = DataFrame(XLSX.gettable(xl[\"windscenarios\"]; infer_eltypes=true))\n",
    "print(\"wind scenario data read in successfully\")\n"
   ]
  },
  {
   "cell_type": "code",
   "execution_count": null,
   "metadata": {},
   "outputs": [],
   "source": [
    "mydata[\"windscenarios\"]"
   ]
  },
  {
   "attachments": {},
   "cell_type": "markdown",
   "metadata": {},
   "source": [
    "### Set generation"
   ]
  },
  {
   "cell_type": "code",
   "execution_count": null,
   "metadata": {},
   "outputs": [],
   "source": [
    "G = mydata[\"generatorinfo\"][:, :ID]\n",
    "L = mydata[\"lineconstraints\"][:, :ID]\n",
    "T = mydata[\"initdemand\"][:, :t]          #times\n",
    "N = mydata[\"nodeinfo\"][:, :ID]\n",
    "S = unique(mydata[\"windscenarios\"][:, :scenario])\n",
    "K = unique(mydata[\"curtailmentinfo\"][:, :k])\n",
    "\n",
    "NG = length(G)\n",
    "NL = length(L)\n",
    "NT = length(T)\n",
    "NN = length(N)\n",
    "NS = length(S)\n",
    "NK = length(K)"
   ]
  },
  {
   "attachments": {},
   "cell_type": "markdown",
   "metadata": {},
   "source": [
    "# Prepare data"
   ]
  },
  {
   "attachments": {},
   "cell_type": "markdown",
   "metadata": {},
   "source": [
    "Prepare the generator information"
   ]
  },
  {
   "cell_type": "code",
   "execution_count": null,
   "metadata": {},
   "outputs": [],
   "source": [
    "#generatorinfo\n",
    "generators = Dict()\n",
    "for c in names(mydata[\"generatorinfo\"])\n",
    "    arr = AxisArray(mydata[\"generatorinfo\"][:, c], g=G)\n",
    "    generators[c] = arr\n",
    "end\n",
    "\n",
    "#other version\n",
    "generators = Dict{String, AxisArray}()\n",
    "for c in names(mydata[\"generatorinfo\"])\n",
    "    arr = AxisArray(mydata[\"generatorinfo\"][:, c], g=G)\n",
    "    generators[c] = arr\n",
    "end"
   ]
  },
  {
   "cell_type": "code",
   "execution_count": null,
   "metadata": {},
   "outputs": [],
   "source": [
    "#new code for generator dict\n",
    "generators = {c => AxisArray(mydata[\"generatorinfo\"][:, c], g=G) for c in names(mydata[\"generatorinfo\"])}\n"
   ]
  },
  {
   "attachments": {},
   "cell_type": "markdown",
   "metadata": {},
   "source": [
    "Prepare all of the line constraints"
   ]
  },
  {
   "cell_type": "code",
   "execution_count": null,
   "metadata": {},
   "outputs": [],
   "source": [
    "#lineconstraints\n",
    "lines = Dict(c => AxisArray(mydata[\"lineconstraints\"][:, c], l=L) for c in names(mydata[\"lineconstraints\"]));\n",
    "B = AxisArray(zeros(NL, NN), l=L, n=N)\n",
    "\n",
    "# new version\n",
    "# # create AxisArray of line constraints\n",
    "# lines = Dict()\n",
    "# for c in names(mydata[\"lineconstraints\"])\n",
    "#     lines[c] = AxisArray(mydata[\"lineconstraints\"][:, c], l=L)\n",
    "\n",
    "# # initialize B matrix\n",
    "# B = AxisArray(zeros(NL, NN), l=L, n=N)\n",
    "\n",
    "for l in L\n",
    "    from_node = lines[\"from\"][l]\n",
    "    to_node = lines[\"to \"][l]\n",
    "    X = lines[\"X\"][l]\n",
    "    for (idn, node) in enumerate(N)\n",
    "        if node == from_node\n",
    "            B[l, idn] = -1/X\n",
    "        elseif node == to_node\n",
    "            B[l, idn] = 1/X\n",
    "        end\n",
    "    end\n",
    "end \n"
   ]
  },
  {
   "attachments": {},
   "cell_type": "markdown",
   "metadata": {},
   "source": [
    "Prepare the data of the initial demand (demand before DR)"
   ]
  },
  {
   "cell_type": "code",
   "execution_count": null,
   "metadata": {},
   "outputs": [],
   "source": [
    "#initdemand\n",
    "load = AxisArray(Matrix(mydata[\"initdemand\"][:, Not(:t)]), t=T, n=N)\n",
    "cost_ls = 100.0"
   ]
  },
  {
   "cell_type": "code",
   "execution_count": null,
   "metadata": {},
   "outputs": [],
   "source": []
  },
  {
   "cell_type": "markdown",
   "metadata": {},
   "source": [
    "Prepare the load shifiting information"
   ]
  },
  {
   "cell_type": "code",
   "execution_count": null,
   "metadata": {},
   "outputs": [],
   "source": [
    "#shiftinginfo\n",
    "cols = names(mydata[\"shiftinginfo\"][:, Not([\"t\", \"n\", \"k\"])])\n",
    "DRSd = Dict(c => AxisArray(zeros(NT, NN, NK), t=T, n=N, k=K) for c in cols)\n",
    "\n",
    "# # Create a dictionary DRSd with keys from cols\n",
    "# DRSd = Dict()\n",
    "# for c in cols\n",
    "#     # Create an AxisArray filled with zeros with dimensions NT x NN x NK\n",
    "#     arr = AxisArray(zeros(NT, NN, NK), t=T, n=N, k=K)\n",
    "#     # Add the AxisArray to the dictionary using the key c\n",
    "#     DRSd[c] = arr\n",
    "# end\n",
    "\n",
    "\n",
    "\n",
    "for r in eachrow(mydata[\"shiftinginfo\"])\n",
    "    for c in cols\n",
    "        DRSd[c][r[:t], r[:n], r[:k]] = r[c]\n",
    "    end\n",
    "end\n",
    "max_rec = 2.0"
   ]
  },
  {
   "cell_type": "code",
   "execution_count": null,
   "metadata": {},
   "outputs": [],
   "source": []
  },
  {
   "attachments": {},
   "cell_type": "markdown",
   "metadata": {},
   "source": [
    "Prepare the load curtailment information"
   ]
  },
  {
   "cell_type": "code",
   "execution_count": null,
   "metadata": {},
   "outputs": [],
   "source": [
    "#curtailmentinfo\n",
    "cols = names(mydata[\"curtailmentinfo\"][:, Not([\"t\", \"n\", \"k\"])])\n",
    "\n",
    "DRCd = Dict(c => AxisArray(zeros(NT, NN, NK), t=T, n=N, k=K) for c in cols)\n",
    "\n",
    "for r in eachrow(mydata[\"curtailmentinfo\"])\n",
    "    for c in cols\n",
    "        DRCd[c][r[:t], r[:n], r[:k]] = r[c]\n",
    "    end\n",
    "end\n"
   ]
  },
  {
   "cell_type": "code",
   "execution_count": null,
   "metadata": {},
   "outputs": [],
   "source": []
  },
  {
   "cell_type": "code",
   "execution_count": null,
   "metadata": {},
   "outputs": [],
   "source": [
    "DRCd"
   ]
  },
  {
   "attachments": {},
   "cell_type": "markdown",
   "metadata": {},
   "source": [
    "Prepare the information of the location of the nodes and generators"
   ]
  },
  {
   "cell_type": "code",
   "execution_count": null,
   "metadata": {},
   "outputs": [],
   "source": [
    "#location\n",
    "ng = AxisArray(\n",
    "    [[g for g in G if generators[\"location\"][g] == idn] for (idn, n) in enumerate(N)],\n",
    "    n = N\n",
    ")\n",
    "\n",
    "#node\n",
    "nl = AxisArray(zeros(Int, NN, NL), n=N, l=L)\n",
    "for l in L\n",
    "    nl[N[lines[\"from\"][l]], l] = 1\n",
    "    nl[N[lines[\"to \"][l]], l] = -1\n",
    "end"
   ]
  },
  {
   "cell_type": "code",
   "execution_count": null,
   "metadata": {},
   "outputs": [],
   "source": [
    "wind_cap = AxisArray(zeros(NN), n=N)\n",
    "wind_cap[\"n3\"] = 500.0\n",
    "wind_cap[\"n5\"] = 500.0\n",
    "wind_cap[\"n16\"] = 300.0\n",
    "wind_cap[\"n21\"] = 300.0\n",
    "\n",
    "pi = AxisArray(ones(NS)/NS, s=S)\n",
    "\n",
    "wind = AxisArray(zeros(NS, NN, NT), s=S, n=N, t=T)\n",
    "for r in eachrow(mydata[\"windscenarios\"])\n",
    "    for t in T\n",
    "        wind[r[:scenario], r[:node], t] = r[t]*wind_cap[r[:node]]\n",
    "    end\n",
    "end\n",
    "\n",
    "ewind = mean(wind, dims=1)[1, :, :]\n",
    "stdwind = std(wind, dims=1)[1, :, :]\n",
    "cost_ws = 20.0"
   ]
  },
  {
   "cell_type": "code",
   "execution_count": null,
   "metadata": {},
   "outputs": [],
   "source": [
    "pi"
   ]
  },
  {
   "cell_type": "markdown",
   "metadata": {},
   "source": [
    "# Model"
   ]
  },
  {
   "attachments": {},
   "cell_type": "markdown",
   "metadata": {},
   "source": [
    "The model is intended to represent an electric power system with wind power and demand response (DR) programs.\n",
    "\n"
   ]
  },
  {
   "cell_type": "code",
   "execution_count": null,
   "metadata": {
    "scrolled": false
   },
   "outputs": [],
   "source": [
    "bdr = Model(CPLEX.Optimizer)\n",
    "\n",
    "@variables(bdr, begin\n",
    "    pgen[G, T] >= 0 # scheduled gen. output\n",
    "    u[G, T], Bin # state of generator\n",
    "    θ0[N, T] # phase angles in scheduling phase\n",
    "    θ1[N, S, T] # phase angles in balancing phase\n",
    "    Wsc[N, T] >= 0# scheduled wind power\n",
    "    r_up[G, T] >= 0 # up regulation\n",
    "    r_down[G, T] >= 0 # down regulation\n",
    "    r_ups[S, G, T] >= 0 # actual up regulation\n",
    "    r_downs[S, G, T] >= 0 # actual down regulation \n",
    "    Lshed[S, N, T] >= 0 # load shedding\n",
    "    Wspill[S, N, T] >= 0 # wind spillage\n",
    "    suc[1:NT, G] >= 0 # generator start-up/shut-down cost\n",
    "\n",
    "    # DR contracts\n",
    "    # DR agg <> ISO contract parameters\n",
    "    DRCK[T, N, K] >= 0 # DR curtailment blocks\n",
    "    DRSK[T, N, K] >= 0 # DR shifting blocks\n",
    "    DRC_SU[T, N, K] >= 0 # DRC startup cost\n",
    "    DRSRK[T, N, K] >= 0 # DR recovery blocks\n",
    "    uDRC[T, N, K], Bin # DR curtailment active\n",
    "    uDRS[T, N, K], Bin # DR shifting activate\n",
    "    yDR[T, N, K], Bin # DRC activated\n",
    "    zDR[T, N, K], Bin # DRC de-activated\n",
    "    uDRSR[T, N, K], Bin # DRS recovery active\n",
    "    # same for DR agg <> cust. contracts\n",
    "    DBCK[T, N, K] >= 0\n",
    "    DBSK[T, N, K] >= 0\n",
    "    DBC_SU[T, N, K] >= 0 \n",
    "    DBSRK[T, N, K] >= 0\n",
    "    uDBC[T, N, K], Bin\n",
    "    uDBS[T, N, K], Bin\n",
    "    yDB[T, N, K], Bin\n",
    "    zDB[T, N, K], Bin\n",
    "    uDBSR[T, N, K], Bin\n",
    "    # Dual multipliers/linearization variables for KKT formulation\n",
    "    A1[T,N,K] >= 0 \n",
    "    B1[T,N,K] >= 0\n",
    "    D1[T,N,K] >= 0\n",
    "    E1[T,N,K] >= 0\n",
    "    F1[T,N,K] >= 0\n",
    "    H1[T,N,K] >= 0\n",
    "    I1[T,N,K] >= 0\n",
    "    K1[T,N,K] >= 0\n",
    "    L1[T,N,K] >= 0\n",
    "    M1[T,N,K] >= 0\n",
    "end)\n",
    "\n",
    "# fix slack bus\n",
    "fix.(θ0[\"n1\", :], 0);\n",
    "fix.(θ1[\"n1\", :, :], 0);\n",
    "\n",
    "@expressions(bdr, begin\n",
    "    # DR costs/profits\n",
    "    DRC[t in T, n in N], sum(DRCd[\"cost\"][t,n,k]*DRCK[t, n, k]+DRC_SU[t,n,k] for k in K)\n",
    "    DRS[t in T, n in N], sum(DRSd[\"cost\"][t,n,k]*DRSK[t, n, k] for k in K)\n",
    "    DBC[t in T, n in N], sum(DRCd[\"costb\"][t,n,k]*DBCK[t, n, k] for k in K)\n",
    "    DBS[t in T, n in N], sum(DRSd[\"costb\"][t,n,k]*DBSK[t, n, k] for k in K)\n",
    "    pflow0[l in L, t in T], sum(B[l,n]*θ0[n,t] for n in N)\n",
    "    pflow1[l in L, s in S, t in T], sum(B[l,n]*θ1[n,s,t] for n in N)\n",
    "    totalcost, \n",
    "        sum(\n",
    "            sum(\n",
    "                pgen[g,t] * generators[\"cost\"][g] +\n",
    "                r_up[g,t] * generators[\"upresercost\"][g] +\n",
    "                r_down[g,t] * generators[\"dnresercost\"][g] +\n",
    "                suc[findfirst(isequal(t), T),g]\n",
    "            for g in G) +\n",
    "            sum(DRC[t, n] + DRS[t, n] for n in N) +\n",
    "            sum(\n",
    "                pi[s] * (\n",
    "                    sum(generators[\"cost\"][g] * (r_ups[s,g,t]-r_downs[s,g,t]) for g in G) +\n",
    "                    sum(cost_ws * Wspill[s,n,t] + cost_ls * Lshed[s,n,t] for n in N)\n",
    "                    )\n",
    "            for s in S)\n",
    "        for t in T)\n",
    "end)\n",
    "\n",
    "# more understandable version of this loop \n",
    "# total_cost = 0.0\n",
    "# for t in T\n",
    "#     generator_cost = 0.0\n",
    "#     reserve_cost = 0.0\n",
    "#     start_cost = 0.0\n",
    "    \n",
    "#     # Generator cost\n",
    "#     for g in G\n",
    "#         generator_cost += pgen[g,t] * generators[\"cost\"][g] +\n",
    "#                             r_up[g,t] * generators[\"upresercost\"][g] +\n",
    "#                             r_down[g,t] * generators[\"dnresercost\"][g] +\n",
    "#                             suc[findfirst(isequal(t), T),g]\n",
    "#     end\n",
    "    \n",
    "#     # Reserve cost\n",
    "#     for n in N\n",
    "#         reserve_cost += DRC[t, n] + DRS[t, n]\n",
    "#     end\n",
    "    \n",
    "#     # Startup cost\n",
    "#     for s in S\n",
    "#         startup_cost = 0.0\n",
    "#         for g in G\n",
    "#             startup_cost += generators[\"cost\"][g] * (r_ups[s,g,t]-r_downs[s,g,t])\n",
    "#         end\n",
    "#         start_cost += pi[s] * (startup_cost + sum(cost_ws * Wspill[s,n,t] + cost_ls * Lshed[s,n,t] for n in N))\n",
    "#     end\n",
    "    \n",
    "#     # Total cost\n",
    "#     total_cost += generator_cost + reserve_cost + start_cost\n",
    "# end\n",
    "\n",
    "\n",
    "\n",
    "\n",
    "@constraints(bdr, begin\n",
    "    # generator limits\n",
    "    pup[g in G, t in T], pgen[g, t] + r_up[g, t] <= generators[\"cap\"][g] * u[g,t]\n",
    "    res_up[g in G, t in T], r_up[g, t] <= generators[\"maxupresercap\"][g]\n",
    "    res_dn[g in G, t in T], r_down[g, t] <= generators[\"maxdnresercap\"][g]\n",
    "    # reserve limits  \n",
    "    bal0[n in N, t in T], \n",
    "        sum(pgen[g,t] for g in ng[n]) + \n",
    "        Wsc[n,t] + \n",
    "        sum(DRCK[t,n,k] + DRSK[t,n,k] - DRSRK[t,n,k] for k in K) == \n",
    "        load[t,n] + sum(pflow0[l, t]*nl[n,l] for l in L)\n",
    "    pfmax0[l in L, t in T], pflow0[l, t] <= lines[\"flowcap\"][l]\n",
    "    pfmin0[l in L, t in T], pflow0[l, t] >= -lines[\"flowcap\"][l]\n",
    "    # DR curtailment constraints (ISO <> DR agg.)\n",
    "    drcmax[t in T, n in N, k in K], DRCK[t,n,k] <= uDRC[t,n,k] * DRCd[\"max\"][t,n,k]\n",
    "    drcmin[t in T, n in N, k in K], DRCK[t,n,k] >= uDRC[t,n,k] * DRCd[\"min\"][t,n,k]\n",
    "    drcst1[τ in 2:NT, n in N, k in K], yDR[T[τ],n,k] - zDR[T[τ],n,k] == uDRC[T[τ],n,k] - uDRC[T[τ-1],n,k]\n",
    "    drcst2[t in T, n in N, k in K], yDR[t,n,k] + zDR[t,n,k] <= 1\n",
    "    drcst3[t in T, n in N, k in K], DRC_SU[t,n,k] >= DRCd[\"SUC\"][t,n,k] * yDR[t,n,k]\n",
    "    # DR shifting constraints (ISO <> DR agg.)\n",
    "    drsmax[t in T, n in N, k in K], DRSK[t,n,k] <= uDRS[t,n,k] * DRSd[\"max\"][t,n,k]\n",
    "    drsmin[t in T, n in N, k in K], DRSK[t,n,k] >= uDRS[t,n,k] * DRSd[\"min\"][t,n,k]\n",
    "    drsmxr[t in T, n in N, k in K], DRSRK[t,n,k] <= max_rec*uDRSR[t,n,k]\n",
    "    drsorr[t in T, n in N, k in K], uDRS[t,n,k] + uDRSR[t,n,k] <= 1\n",
    "    drbbal[n in N, k in K], sum(DRSRK[t,n,k] for t in T) == sum(DRSK[t,n,k] for t in T)\n",
    "    # DR curt. cons (DR agg. <> cust.)\n",
    "    dbcmax[t in T, n in N, k in K], DBCK[t,n,k] <= uDRC[t,n,k] * DRCd[\"max\"][t,n,k]\n",
    "    dbcmin[t in T, n in N, k in K], DBCK[t,n,k] >= uDRC[t,n,k] * DRCd[\"min\"][t,n,k]\n",
    "    dbcst1[τ in 2:NT, n in N, k in K], yDB[T[τ],n,k] - zDB[T[τ],n,k] == uDBC[T[τ],n,k] - uDBC[T[τ-1],n,k]\n",
    "    dbcst2[t in T, n in N, k in K], yDB[t,n,k] + zDB[t,n,k] <= 1\n",
    "    dbcst3[t in T, n in N, k in K], DBC_SU[t,n,k] >= DRCd[\"SUCb\"][t,n,k] * yDB[t,n,k]\n",
    "    # DR shift. cons (DR agg. <> cust.)\n",
    "    dbsmax[t in T, n in N, k in K], DBSK[t,n,k] <= uDBS[t,n,k] * DRSd[\"max\"][t,n,k]\n",
    "    dbsmin[t in T, n in N, k in K], DBSK[t,n,k] >= uDBS[t,n,k] * DRSd[\"min\"][t,n,k]\n",
    "    dbsmxr[t in T, n in N, k in K], DBSRK[t,n,k] <= max_rec*uDBSR[t,n,k]\n",
    "    dbsorr[t in T, n in N, k in K], uDBS[t,n,k] + uDBSR[t,n,k] <= 1\n",
    "    dbbbal[n in N, k in K], sum(DBSRK[t,n,k] for t in T) == sum(DBSK[t,n,k] for t in T)\n",
    "    # Dual multipliers/linearization constraints\n",
    "    conAB[t in T, n in N, k in K], A1[t,n,k]-B1[t,n,k] >= DRCd[\"cost\"][t,n,k]\n",
    "    conDE[t in T, n in N, k in K], D1[t,n,k]-E1[t,n,k] >= DRSd[\"cost\"][t,n,k]\n",
    "    conHI[t in T, n in N, k in K], H1[t,n,k]-I1[t,n,k] >= -DRCd[\"costb\"][t,n,k]\n",
    "    conKL[t in T, n in N, k in K], K1[t,n,k]-L1[t,n,k] >= -DRSd[\"costb\"][t,n,k]\n",
    "    strong_duality, \n",
    "        sum(\n",
    "            A1[t,n,k]*DRCd[\"max\"][t,n,k] - B1[t,n,k]*DRCd[\"min\"][t,n,k] +\n",
    "            D1[t,n,k]*DRSd[\"max\"][t,n,k] - E1[t,n,k]*DRSd[\"min\"][t,n,k] +\n",
    "            F1[t,n,k]*max_rec +\n",
    "            H1[t,n,k]*DRCd[\"max\"][t,n,k] - I1[t,n,k]*DRCd[\"min\"][t,n,k] +\n",
    "            K1[t,n,k]*DRSd[\"max\"][t,n,k] - L1[t,n,k]*DRSd[\"min\"][t,n,k] +\n",
    "            M1[t,n,k]*max_rec\n",
    "        for t in T for n in N for k in K) ==\n",
    "        sum(\n",
    "            DRCd[\"cost\"][t,n,k] * DRCK[t,n,k] +\n",
    "            DRSd[\"cost\"][t,n,k] * DRSK[t,n,k] - \n",
    "            DRCd[\"costb\"][t,n,k] * DBCK[t,n,k] - \n",
    "            DRSd[\"costb\"][t,n,k] * DBSK[t,n,k]    \n",
    "        for t in T for n in N for k in K)\n",
    "    # second stage (after wind realizes)\n",
    "    resup[s in S, g in G, t in T], r_ups[s,g,t] <= r_up[g,t]\n",
    "    resdn[s in S, g in G, t in T], r_downs[s,g,t] <= r_down[g,t]\n",
    "    bals[s in S, n in N, t in T], \n",
    "        sum(r_ups[s,g,t]-r_downs[s,g,t] for g in ng[n]) + \n",
    "        wind[s,n,t] - Wsc[n,t] - Wspill[s,n,t] + Lshed[s,n,t] == \n",
    "        -sum((pflow1[l,s,t] - pflow0[l,t])*nl[n,l] for l in L)\n",
    "    windspill[s in S, n in N, t in T], Wspill[s,n,t] <= wind[s,n,t]\n",
    "    pfmax1[l in L, s in S, t in T], pflow1[l,s,t] <= lines[\"flowcap\"][l]\n",
    "    pfmin1[l in L, s in S, t in T], pflow1[l,s,t] >= -lines[\"flowcap\"][l]\n",
    "end)\n",
    "    \n",
    "@objective(bdr, Min, totalcost)\n",
    "\n",
    "bdr"
   ]
  },
  {
   "cell_type": "markdown",
   "metadata": {},
   "source": []
  },
  {
   "attachments": {},
   "cell_type": "markdown",
   "metadata": {},
   "source": [
    "# Model"
   ]
  },
  {
   "cell_type": "code",
   "execution_count": null,
   "metadata": {
    "scrolled": false
   },
   "outputs": [],
   "source": [
    "optimize!(bdr)"
   ]
  },
  {
   "cell_type": "code",
   "execution_count": null,
   "metadata": {},
   "outputs": [],
   "source": [
    "termination_status(bdr)"
   ]
  },
  {
   "cell_type": "code",
   "execution_count": null,
   "metadata": {},
   "outputs": [],
   "source": [
    "objective_value(bdr)"
   ]
  },
  {
   "cell_type": "code",
   "execution_count": null,
   "metadata": {},
   "outputs": [],
   "source": [
    "value.(pgen)"
   ]
  },
  {
   "cell_type": "code",
   "execution_count": null,
   "metadata": {},
   "outputs": [],
   "source": [
    "value.(u)"
   ]
  },
  {
   "cell_type": "code",
   "execution_count": null,
   "metadata": {},
   "outputs": [],
   "source": [
    "B = sum(load, dims=2)[:, 1]\n",
    "B"
   ]
  },
  {
   "cell_type": "code",
   "execution_count": null,
   "metadata": {},
   "outputs": [],
   "source": []
  },
  {
   "cell_type": "code",
   "execution_count": null,
   "metadata": {},
   "outputs": [],
   "source": [
    "A = [sum(load[t,:]) - sum(value.(DRCK[t,:,:]) .+ value.(DRSK[t,:,:]) .- value.(DRSRK[t,:,:])) for t in T]\n",
    "A"
   ]
  },
  {
   "cell_type": "code",
   "execution_count": null,
   "metadata": {},
   "outputs": [],
   "source": [
    "A \n",
    "B \n",
    "using XLSX\n",
    "\n",
    "# Create a new workbook and add a worksheet\n",
    "wb = XLSX.Workbook()\n",
    "wb = XLSX.writeworkbook(\"BilevelResponseData.xlsx\")\n",
    "ws = XLSX.addworksheet(wb, \"Sheet1\")\n",
    "\n",
    "# Write the data to the worksheet\n",
    "XLSX.writetable(ws, [A B])\n",
    "\n",
    "# Save the workbook\n",
    "XLSX.closexlsx(wb)\n"
   ]
  },
  {
   "cell_type": "code",
   "execution_count": null,
   "metadata": {},
   "outputs": [],
   "source": []
  },
  {
   "cell_type": "code",
   "execution_count": null,
   "metadata": {},
   "outputs": [],
   "source": [
    "plot!(\n",
    "    sum(load, dims=2)[:, 1], \n",
    "    label=\"Load before DR\",\n",
    "    xlims=(1,24),\n",
    "    xticks=6:6:24,\n",
    "    )\n",
    "\n",
    "plot!(\n",
    "    [sum(load[t,:]) - sum(value.(DRCK[t,:,:]) .+ value.(DRSK[t,:,:]) .- value.(DRSRK[t,:,:])) for t in T], \n",
    "    label=\"Load after DR\"\n",
    "    )\n",
    "\n",
    "print(\"test\")"
   ]
  },
  {
   "cell_type": "code",
   "execution_count": null,
   "metadata": {},
   "outputs": [],
   "source": [
    "plot(\n",
    "    ewind[\"n6\", :], \n",
    "    ribbon = stdwind[\"n6\", :],\n",
    "    label=\"μw +- σw\",\n",
    "    xlims=(1,24),\n",
    "    xticks=6:6:24,\n",
    "    )"
   ]
  }
 ],
 "metadata": {
  "kernelspec": {
   "display_name": "Julia 1.8.5",
   "language": "julia",
   "name": "julia-1.8"
  },
  "language_info": {
   "file_extension": ".jl",
   "mimetype": "application/julia",
   "name": "julia",
   "version": "1.8.5"
  }
 },
 "nbformat": 4,
 "nbformat_minor": 4
}
