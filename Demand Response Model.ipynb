{
 "cells": [
  {
   "cell_type": "code",
   "execution_count": null,
   "metadata": {},
   "outputs": [],
   "source": [
    "using Pkg\n",
    "Pkg.activate(\".\"); Pkg.instantiate()"
   ]
  },
  {
   "cell_type": "code",
   "execution_count": null,
   "metadata": {},
   "outputs": [],
   "source": [
    "using Pkg\n",
    "Pkg.update()\n"
   ]
  },
  {
   "cell_type": "code",
   "execution_count": null,
   "metadata": {},
   "outputs": [],
   "source": [
    "#import Pkg\n",
    "Pkg.add(\"AxisArrays\")\n",
    "Pkg.add(\"JuMP\")\n",
    "Pkg.add(\"XLSX\")\n",
    "Pkg.add(\"DataFrames\")\n",
    "Pkg.add(\"Plots\")\n",
    "Pkg.add(\"AxisArrays\")\n",
    "Pkg.add(\"Statistics\")\n",
    "Pkg.add(\"PGFPlotsX\")\n",
    "Pkg.add(\"AxisArrays\")\n",
    "Pkg.add(\"CPLEX\")\n",
    "Pkg.add(\"HiGHS\")\n",
    "Pkg.add(\"CSV\")\n",
    "Pkg.add(\"Tables\")"
   ]
  },
  {
   "cell_type": "code",
   "execution_count": 4,
   "metadata": {},
   "outputs": [],
   "source": [
    "using JuMP, XLSX, DataFrames, Plots, AxisArrays, Statistics, PGFPlotsX, CPLEX, HiGHS, CSV, Tables"
   ]
  },
  {
   "cell_type": "code",
   "execution_count": 5,
   "metadata": {},
   "outputs": [
    {
     "data": {
      "text/plain": [
       "Plots.PGFPlotsXBackend()"
      ]
     },
     "metadata": {},
     "output_type": "display_data"
    }
   ],
   "source": [
    "pgfplotsx()"
   ]
  },
  {
   "attachments": {},
   "cell_type": "markdown",
   "metadata": {},
   "source": [
    "# Read In And Prepare Data "
   ]
  },
  {
   "cell_type": "code",
   "execution_count": 6,
   "metadata": {},
   "outputs": [
    {
     "data": {
      "text/plain": [
       "Dict{String, DataFrame}()"
      ]
     },
     "metadata": {},
     "output_type": "display_data"
    }
   ],
   "source": [
    "mydata = Dict{String, DataFrame}()"
   ]
  },
  {
   "cell_type": "code",
   "execution_count": 7,
   "metadata": {},
   "outputs": [
    {
     "name": "stdout",
     "output_type": "stream",
     "text": [
      "curtailment data read in successfully"
     ]
    }
   ],
   "source": [
    "xl = XLSX.readxlsx(\"data/curtailmentinfonew.xlsx\")\n",
    "mydata[\"curtailmentinfo\"] = DataFrame(XLSX.gettable(xl[\"curtailmentinfo\"]; infer_eltypes=true))\n",
    "print(\"curtailment data read in successfully\")"
   ]
  },
  {
   "cell_type": "code",
   "execution_count": 8,
   "metadata": {},
   "outputs": [
    {
     "data": {
      "text/html": [
       "<div><div style = \"float: left;\"><span>648×9 DataFrame</span></div><div style = \"float: right;\"><span style = \"font-style: italic;\">623 rows omitted</span></div><div style = \"clear: both;\"></div></div><div class = \"data-frame\" style = \"overflow-x: scroll;\"><table class = \"data-frame\" style = \"margin-bottom: 6px;\"><thead><tr class = \"header\"><th class = \"rowNumber\" style = \"font-weight: bold; text-align: right;\">Row</th><th style = \"text-align: left;\">t</th><th style = \"text-align: left;\">n</th><th style = \"text-align: left;\">k</th><th style = \"text-align: left;\">cost</th><th style = \"text-align: left;\">min</th><th style = \"text-align: left;\">max</th><th style = \"text-align: left;\">SUC</th><th style = \"text-align: left;\">costb</th><th style = \"text-align: left;\">SUCb</th></tr><tr class = \"subheader headerLastRow\"><th class = \"rowNumber\" style = \"font-weight: bold; text-align: right;\"></th><th title = \"String\" style = \"text-align: left;\">String</th><th title = \"String\" style = \"text-align: left;\">String</th><th title = \"String\" style = \"text-align: left;\">String</th><th title = \"Int64\" style = \"text-align: left;\">Int64</th><th title = \"Float64\" style = \"text-align: left;\">Float64</th><th title = \"Float64\" style = \"text-align: left;\">Float64</th><th title = \"Int64\" style = \"text-align: left;\">Int64</th><th title = \"Int64\" style = \"text-align: left;\">Int64</th><th title = \"Int64\" style = \"text-align: left;\">Int64</th></tr></thead><tbody><tr><td class = \"rowNumber\" style = \"font-weight: bold; text-align: right;\">1</td><td style = \"text-align: left;\">t12</td><td style = \"text-align: left;\">n1</td><td style = \"text-align: left;\">k1</td><td style = \"text-align: right;\">15</td><td style = \"text-align: right;\">0.51</td><td style = \"text-align: right;\">0.56</td><td style = \"text-align: right;\">20</td><td style = \"text-align: right;\">10</td><td style = \"text-align: right;\">15</td></tr><tr><td class = \"rowNumber\" style = \"font-weight: bold; text-align: right;\">2</td><td style = \"text-align: left;\">t12</td><td style = \"text-align: left;\">n1</td><td style = \"text-align: left;\">k2</td><td style = \"text-align: right;\">17</td><td style = \"text-align: right;\">0.51</td><td style = \"text-align: right;\">0.56</td><td style = \"text-align: right;\">20</td><td style = \"text-align: right;\">12</td><td style = \"text-align: right;\">15</td></tr><tr><td class = \"rowNumber\" style = \"font-weight: bold; text-align: right;\">3</td><td style = \"text-align: left;\">t12</td><td style = \"text-align: left;\">n1</td><td style = \"text-align: left;\">k3</td><td style = \"text-align: right;\">19</td><td style = \"text-align: right;\">0.51</td><td style = \"text-align: right;\">0.56</td><td style = \"text-align: right;\">20</td><td style = \"text-align: right;\">14</td><td style = \"text-align: right;\">15</td></tr><tr><td class = \"rowNumber\" style = \"font-weight: bold; text-align: right;\">4</td><td style = \"text-align: left;\">t12</td><td style = \"text-align: left;\">n2</td><td style = \"text-align: left;\">k1</td><td style = \"text-align: right;\">15</td><td style = \"text-align: right;\">0.51</td><td style = \"text-align: right;\">0.56</td><td style = \"text-align: right;\">20</td><td style = \"text-align: right;\">10</td><td style = \"text-align: right;\">15</td></tr><tr><td class = \"rowNumber\" style = \"font-weight: bold; text-align: right;\">5</td><td style = \"text-align: left;\">t12</td><td style = \"text-align: left;\">n2</td><td style = \"text-align: left;\">k2</td><td style = \"text-align: right;\">17</td><td style = \"text-align: right;\">0.51</td><td style = \"text-align: right;\">0.56</td><td style = \"text-align: right;\">20</td><td style = \"text-align: right;\">12</td><td style = \"text-align: right;\">15</td></tr><tr><td class = \"rowNumber\" style = \"font-weight: bold; text-align: right;\">6</td><td style = \"text-align: left;\">t12</td><td style = \"text-align: left;\">n2</td><td style = \"text-align: left;\">k3</td><td style = \"text-align: right;\">19</td><td style = \"text-align: right;\">0.51</td><td style = \"text-align: right;\">0.56</td><td style = \"text-align: right;\">20</td><td style = \"text-align: right;\">14</td><td style = \"text-align: right;\">15</td></tr><tr><td class = \"rowNumber\" style = \"font-weight: bold; text-align: right;\">7</td><td style = \"text-align: left;\">t12</td><td style = \"text-align: left;\">n3</td><td style = \"text-align: left;\">k1</td><td style = \"text-align: right;\">15</td><td style = \"text-align: right;\">0.51</td><td style = \"text-align: right;\">0.56</td><td style = \"text-align: right;\">20</td><td style = \"text-align: right;\">10</td><td style = \"text-align: right;\">15</td></tr><tr><td class = \"rowNumber\" style = \"font-weight: bold; text-align: right;\">8</td><td style = \"text-align: left;\">t12</td><td style = \"text-align: left;\">n3</td><td style = \"text-align: left;\">k2</td><td style = \"text-align: right;\">17</td><td style = \"text-align: right;\">0.51</td><td style = \"text-align: right;\">0.56</td><td style = \"text-align: right;\">20</td><td style = \"text-align: right;\">12</td><td style = \"text-align: right;\">15</td></tr><tr><td class = \"rowNumber\" style = \"font-weight: bold; text-align: right;\">9</td><td style = \"text-align: left;\">t12</td><td style = \"text-align: left;\">n3</td><td style = \"text-align: left;\">k3</td><td style = \"text-align: right;\">19</td><td style = \"text-align: right;\">0.51</td><td style = \"text-align: right;\">0.56</td><td style = \"text-align: right;\">20</td><td style = \"text-align: right;\">14</td><td style = \"text-align: right;\">15</td></tr><tr><td class = \"rowNumber\" style = \"font-weight: bold; text-align: right;\">10</td><td style = \"text-align: left;\">t12</td><td style = \"text-align: left;\">n4</td><td style = \"text-align: left;\">k1</td><td style = \"text-align: right;\">15</td><td style = \"text-align: right;\">0.51</td><td style = \"text-align: right;\">0.56</td><td style = \"text-align: right;\">20</td><td style = \"text-align: right;\">10</td><td style = \"text-align: right;\">15</td></tr><tr><td class = \"rowNumber\" style = \"font-weight: bold; text-align: right;\">11</td><td style = \"text-align: left;\">t12</td><td style = \"text-align: left;\">n4</td><td style = \"text-align: left;\">k2</td><td style = \"text-align: right;\">17</td><td style = \"text-align: right;\">0.51</td><td style = \"text-align: right;\">0.56</td><td style = \"text-align: right;\">20</td><td style = \"text-align: right;\">12</td><td style = \"text-align: right;\">15</td></tr><tr><td class = \"rowNumber\" style = \"font-weight: bold; text-align: right;\">12</td><td style = \"text-align: left;\">t12</td><td style = \"text-align: left;\">n4</td><td style = \"text-align: left;\">k3</td><td style = \"text-align: right;\">19</td><td style = \"text-align: right;\">0.51</td><td style = \"text-align: right;\">0.56</td><td style = \"text-align: right;\">20</td><td style = \"text-align: right;\">14</td><td style = \"text-align: right;\">15</td></tr><tr><td class = \"rowNumber\" style = \"font-weight: bold; text-align: right;\">13</td><td style = \"text-align: left;\">t12</td><td style = \"text-align: left;\">n5</td><td style = \"text-align: left;\">k1</td><td style = \"text-align: right;\">15</td><td style = \"text-align: right;\">0.51</td><td style = \"text-align: right;\">0.56</td><td style = \"text-align: right;\">20</td><td style = \"text-align: right;\">10</td><td style = \"text-align: right;\">15</td></tr><tr><td style = \"text-align: right;\">&vellip;</td><td style = \"text-align: right;\">&vellip;</td><td style = \"text-align: right;\">&vellip;</td><td style = \"text-align: right;\">&vellip;</td><td style = \"text-align: right;\">&vellip;</td><td style = \"text-align: right;\">&vellip;</td><td style = \"text-align: right;\">&vellip;</td><td style = \"text-align: right;\">&vellip;</td><td style = \"text-align: right;\">&vellip;</td><td style = \"text-align: right;\">&vellip;</td></tr><tr><td class = \"rowNumber\" style = \"font-weight: bold; text-align: right;\">637</td><td style = \"text-align: left;\">t20</td><td style = \"text-align: left;\">n21</td><td style = \"text-align: left;\">k1</td><td style = \"text-align: right;\">15</td><td style = \"text-align: right;\">1.05</td><td style = \"text-align: right;\">1.11</td><td style = \"text-align: right;\">20</td><td style = \"text-align: right;\">10</td><td style = \"text-align: right;\">15</td></tr><tr><td class = \"rowNumber\" style = \"font-weight: bold; text-align: right;\">638</td><td style = \"text-align: left;\">t20</td><td style = \"text-align: left;\">n21</td><td style = \"text-align: left;\">k2</td><td style = \"text-align: right;\">17</td><td style = \"text-align: right;\">1.05</td><td style = \"text-align: right;\">1.11</td><td style = \"text-align: right;\">20</td><td style = \"text-align: right;\">12</td><td style = \"text-align: right;\">15</td></tr><tr><td class = \"rowNumber\" style = \"font-weight: bold; text-align: right;\">639</td><td style = \"text-align: left;\">t20</td><td style = \"text-align: left;\">n21</td><td style = \"text-align: left;\">k3</td><td style = \"text-align: right;\">19</td><td style = \"text-align: right;\">1.05</td><td style = \"text-align: right;\">1.11</td><td style = \"text-align: right;\">20</td><td style = \"text-align: right;\">14</td><td style = \"text-align: right;\">15</td></tr><tr><td class = \"rowNumber\" style = \"font-weight: bold; text-align: right;\">640</td><td style = \"text-align: left;\">t20</td><td style = \"text-align: left;\">n22</td><td style = \"text-align: left;\">k1</td><td style = \"text-align: right;\">15</td><td style = \"text-align: right;\">1.05</td><td style = \"text-align: right;\">1.11</td><td style = \"text-align: right;\">20</td><td style = \"text-align: right;\">10</td><td style = \"text-align: right;\">15</td></tr><tr><td class = \"rowNumber\" style = \"font-weight: bold; text-align: right;\">641</td><td style = \"text-align: left;\">t20</td><td style = \"text-align: left;\">n22</td><td style = \"text-align: left;\">k2</td><td style = \"text-align: right;\">17</td><td style = \"text-align: right;\">1.05</td><td style = \"text-align: right;\">1.11</td><td style = \"text-align: right;\">20</td><td style = \"text-align: right;\">12</td><td style = \"text-align: right;\">15</td></tr><tr><td class = \"rowNumber\" style = \"font-weight: bold; text-align: right;\">642</td><td style = \"text-align: left;\">t20</td><td style = \"text-align: left;\">n22</td><td style = \"text-align: left;\">k3</td><td style = \"text-align: right;\">19</td><td style = \"text-align: right;\">1.05</td><td style = \"text-align: right;\">1.11</td><td style = \"text-align: right;\">20</td><td style = \"text-align: right;\">14</td><td style = \"text-align: right;\">15</td></tr><tr><td class = \"rowNumber\" style = \"font-weight: bold; text-align: right;\">643</td><td style = \"text-align: left;\">t20</td><td style = \"text-align: left;\">n23</td><td style = \"text-align: left;\">k1</td><td style = \"text-align: right;\">15</td><td style = \"text-align: right;\">1.05</td><td style = \"text-align: right;\">1.11</td><td style = \"text-align: right;\">20</td><td style = \"text-align: right;\">10</td><td style = \"text-align: right;\">15</td></tr><tr><td class = \"rowNumber\" style = \"font-weight: bold; text-align: right;\">644</td><td style = \"text-align: left;\">t20</td><td style = \"text-align: left;\">n23</td><td style = \"text-align: left;\">k2</td><td style = \"text-align: right;\">17</td><td style = \"text-align: right;\">1.05</td><td style = \"text-align: right;\">1.11</td><td style = \"text-align: right;\">20</td><td style = \"text-align: right;\">12</td><td style = \"text-align: right;\">15</td></tr><tr><td class = \"rowNumber\" style = \"font-weight: bold; text-align: right;\">645</td><td style = \"text-align: left;\">t20</td><td style = \"text-align: left;\">n23</td><td style = \"text-align: left;\">k3</td><td style = \"text-align: right;\">19</td><td style = \"text-align: right;\">1.05</td><td style = \"text-align: right;\">1.11</td><td style = \"text-align: right;\">20</td><td style = \"text-align: right;\">14</td><td style = \"text-align: right;\">15</td></tr><tr><td class = \"rowNumber\" style = \"font-weight: bold; text-align: right;\">646</td><td style = \"text-align: left;\">t20</td><td style = \"text-align: left;\">n24</td><td style = \"text-align: left;\">k1</td><td style = \"text-align: right;\">15</td><td style = \"text-align: right;\">1.05</td><td style = \"text-align: right;\">1.11</td><td style = \"text-align: right;\">20</td><td style = \"text-align: right;\">10</td><td style = \"text-align: right;\">15</td></tr><tr><td class = \"rowNumber\" style = \"font-weight: bold; text-align: right;\">647</td><td style = \"text-align: left;\">t20</td><td style = \"text-align: left;\">n24</td><td style = \"text-align: left;\">k2</td><td style = \"text-align: right;\">17</td><td style = \"text-align: right;\">1.05</td><td style = \"text-align: right;\">1.11</td><td style = \"text-align: right;\">20</td><td style = \"text-align: right;\">12</td><td style = \"text-align: right;\">15</td></tr><tr><td class = \"rowNumber\" style = \"font-weight: bold; text-align: right;\">648</td><td style = \"text-align: left;\">t20</td><td style = \"text-align: left;\">n24</td><td style = \"text-align: left;\">k3</td><td style = \"text-align: right;\">19</td><td style = \"text-align: right;\">1.05</td><td style = \"text-align: right;\">1.11</td><td style = \"text-align: right;\">20</td><td style = \"text-align: right;\">14</td><td style = \"text-align: right;\">15</td></tr></tbody></table></div>"
      ],
      "text/latex": [
       "\\begin{tabular}{r|ccccccccc}\n",
       "\t& t & n & k & cost & min & max & SUC & costb & SUCb\\\\\n",
       "\t\\hline\n",
       "\t& String & String & String & Int64 & Float64 & Float64 & Int64 & Int64 & Int64\\\\\n",
       "\t\\hline\n",
       "\t1 & t12 & n1 & k1 & 15 & 0.51 & 0.56 & 20 & 10 & 15 \\\\\n",
       "\t2 & t12 & n1 & k2 & 17 & 0.51 & 0.56 & 20 & 12 & 15 \\\\\n",
       "\t3 & t12 & n1 & k3 & 19 & 0.51 & 0.56 & 20 & 14 & 15 \\\\\n",
       "\t4 & t12 & n2 & k1 & 15 & 0.51 & 0.56 & 20 & 10 & 15 \\\\\n",
       "\t5 & t12 & n2 & k2 & 17 & 0.51 & 0.56 & 20 & 12 & 15 \\\\\n",
       "\t6 & t12 & n2 & k3 & 19 & 0.51 & 0.56 & 20 & 14 & 15 \\\\\n",
       "\t7 & t12 & n3 & k1 & 15 & 0.51 & 0.56 & 20 & 10 & 15 \\\\\n",
       "\t8 & t12 & n3 & k2 & 17 & 0.51 & 0.56 & 20 & 12 & 15 \\\\\n",
       "\t9 & t12 & n3 & k3 & 19 & 0.51 & 0.56 & 20 & 14 & 15 \\\\\n",
       "\t10 & t12 & n4 & k1 & 15 & 0.51 & 0.56 & 20 & 10 & 15 \\\\\n",
       "\t11 & t12 & n4 & k2 & 17 & 0.51 & 0.56 & 20 & 12 & 15 \\\\\n",
       "\t12 & t12 & n4 & k3 & 19 & 0.51 & 0.56 & 20 & 14 & 15 \\\\\n",
       "\t13 & t12 & n5 & k1 & 15 & 0.51 & 0.56 & 20 & 10 & 15 \\\\\n",
       "\t14 & t12 & n5 & k2 & 17 & 0.51 & 0.56 & 20 & 12 & 15 \\\\\n",
       "\t15 & t12 & n5 & k3 & 19 & 0.51 & 0.56 & 20 & 14 & 15 \\\\\n",
       "\t16 & t12 & n6 & k1 & 15 & 0.51 & 0.56 & 20 & 10 & 15 \\\\\n",
       "\t17 & t12 & n6 & k2 & 17 & 0.51 & 0.56 & 20 & 12 & 15 \\\\\n",
       "\t18 & t12 & n6 & k3 & 19 & 0.51 & 0.56 & 20 & 14 & 15 \\\\\n",
       "\t19 & t12 & n7 & k1 & 15 & 0.51 & 0.56 & 20 & 10 & 15 \\\\\n",
       "\t20 & t12 & n7 & k2 & 17 & 0.51 & 0.56 & 20 & 12 & 15 \\\\\n",
       "\t21 & t12 & n7 & k3 & 19 & 0.51 & 0.56 & 20 & 14 & 15 \\\\\n",
       "\t22 & t12 & n8 & k1 & 15 & 0.51 & 0.56 & 20 & 10 & 15 \\\\\n",
       "\t23 & t12 & n8 & k2 & 17 & 0.51 & 0.56 & 20 & 12 & 15 \\\\\n",
       "\t24 & t12 & n8 & k3 & 19 & 0.51 & 0.56 & 20 & 14 & 15 \\\\\n",
       "\t$\\dots$ & $\\dots$ & $\\dots$ & $\\dots$ & $\\dots$ & $\\dots$ & $\\dots$ & $\\dots$ & $\\dots$ & $\\dots$ \\\\\n",
       "\\end{tabular}\n"
      ],
      "text/plain": [
       "\u001b[1m648×9 DataFrame\u001b[0m\n",
       "\u001b[1m Row \u001b[0m│\u001b[1m t      \u001b[0m\u001b[1m n      \u001b[0m\u001b[1m k      \u001b[0m\u001b[1m cost  \u001b[0m\u001b[1m min     \u001b[0m\u001b[1m max     \u001b[0m\u001b[1m SUC   \u001b[0m\u001b[1m costb \u001b[0m\u001b[1m SUCb  \u001b[0m\n",
       "     │\u001b[90m String \u001b[0m\u001b[90m String \u001b[0m\u001b[90m String \u001b[0m\u001b[90m Int64 \u001b[0m\u001b[90m Float64 \u001b[0m\u001b[90m Float64 \u001b[0m\u001b[90m Int64 \u001b[0m\u001b[90m Int64 \u001b[0m\u001b[90m Int64 \u001b[0m\n",
       "─────┼──────────────────────────────────────────────────────────────────────\n",
       "   1 │ t12     n1      k1         15     0.51     0.56     20     10     15\n",
       "   2 │ t12     n1      k2         17     0.51     0.56     20     12     15\n",
       "   3 │ t12     n1      k3         19     0.51     0.56     20     14     15\n",
       "   4 │ t12     n2      k1         15     0.51     0.56     20     10     15\n",
       "   5 │ t12     n2      k2         17     0.51     0.56     20     12     15\n",
       "   6 │ t12     n2      k3         19     0.51     0.56     20     14     15\n",
       "   7 │ t12     n3      k1         15     0.51     0.56     20     10     15\n",
       "   8 │ t12     n3      k2         17     0.51     0.56     20     12     15\n",
       "  ⋮  │   ⋮       ⋮       ⋮       ⋮       ⋮        ⋮       ⋮      ⋮      ⋮\n",
       " 642 │ t20     n22     k3         19     1.05     1.11     20     14     15\n",
       " 643 │ t20     n23     k1         15     1.05     1.11     20     10     15\n",
       " 644 │ t20     n23     k2         17     1.05     1.11     20     12     15\n",
       " 645 │ t20     n23     k3         19     1.05     1.11     20     14     15\n",
       " 646 │ t20     n24     k1         15     1.05     1.11     20     10     15\n",
       " 647 │ t20     n24     k2         17     1.05     1.11     20     12     15\n",
       " 648 │ t20     n24     k3         19     1.05     1.11     20     14     15\n",
       "\u001b[36m                                                            633 rows omitted\u001b[0m"
      ]
     },
     "metadata": {},
     "output_type": "display_data"
    }
   ],
   "source": [
    "mydata[\"curtailmentinfo\"]"
   ]
  },
  {
   "cell_type": "code",
   "execution_count": 9,
   "metadata": {},
   "outputs": [
    {
     "name": "stdout",
     "output_type": "stream",
     "text": [
      "generator data read in successfully"
     ]
    }
   ],
   "source": [
    "xl = XLSX.readxlsx(\"data/generatorinfo.xlsx\")\n",
    "generatorinfo = XLSX.sheetnames(xl)\n",
    "mydata[\"generatorinfo\"] = DataFrame(XLSX.gettable(xl[\"generatorinfo\"]; infer_eltypes=true))\n",
    "print(\"generator data read in successfully\")"
   ]
  },
  {
   "cell_type": "code",
   "execution_count": 10,
   "metadata": {},
   "outputs": [
    {
     "data": {
      "text/html": [
       "<div><div style = \"float: left;\"><span>12×8 DataFrame</span></div><div style = \"clear: both;\"></div></div><div class = \"data-frame\" style = \"overflow-x: scroll;\"><table class = \"data-frame\" style = \"margin-bottom: 6px;\"><thead><tr class = \"header\"><th class = \"rowNumber\" style = \"font-weight: bold; text-align: right;\">Row</th><th style = \"text-align: left;\">ID</th><th style = \"text-align: left;\">location</th><th style = \"text-align: left;\">cost</th><th style = \"text-align: left;\">upresercost</th><th style = \"text-align: left;\">dnresercost</th><th style = \"text-align: left;\">cap</th><th style = \"text-align: left;\">maxupresercap</th><th style = \"text-align: left;\">maxdnresercap</th></tr><tr class = \"subheader headerLastRow\"><th class = \"rowNumber\" style = \"font-weight: bold; text-align: right;\"></th><th title = \"String\" style = \"text-align: left;\">String</th><th title = \"Int64\" style = \"text-align: left;\">Int64</th><th title = \"Float64\" style = \"text-align: left;\">Float64</th><th title = \"Float64\" style = \"text-align: left;\">Float64</th><th title = \"Float64\" style = \"text-align: left;\">Float64</th><th title = \"Float64\" style = \"text-align: left;\">Float64</th><th title = \"Float64\" style = \"text-align: left;\">Float64</th><th title = \"Float64\" style = \"text-align: left;\">Float64</th></tr></thead><tbody><tr><td class = \"rowNumber\" style = \"font-weight: bold; text-align: right;\">1</td><td style = \"text-align: left;\">g1</td><td style = \"text-align: right;\">1</td><td style = \"text-align: right;\">13.32</td><td style = \"text-align: right;\">1.68</td><td style = \"text-align: right;\">2.32</td><td style = \"text-align: right;\">106.4</td><td style = \"text-align: right;\">48.0</td><td style = \"text-align: right;\">48.0</td></tr><tr><td class = \"rowNumber\" style = \"font-weight: bold; text-align: right;\">2</td><td style = \"text-align: left;\">g2</td><td style = \"text-align: right;\">2</td><td style = \"text-align: right;\">13.32</td><td style = \"text-align: right;\">1.68</td><td style = \"text-align: right;\">2.32</td><td style = \"text-align: right;\">106.4</td><td style = \"text-align: right;\">48.0</td><td style = \"text-align: right;\">48.0</td></tr><tr><td class = \"rowNumber\" style = \"font-weight: bold; text-align: right;\">3</td><td style = \"text-align: left;\">g3</td><td style = \"text-align: right;\">7</td><td style = \"text-align: right;\">20.7</td><td style = \"text-align: right;\">3.3</td><td style = \"text-align: right;\">4.67</td><td style = \"text-align: right;\">245.0</td><td style = \"text-align: right;\">84.0</td><td style = \"text-align: right;\">84.0</td></tr><tr><td class = \"rowNumber\" style = \"font-weight: bold; text-align: right;\">4</td><td style = \"text-align: left;\">g4</td><td style = \"text-align: right;\">13</td><td style = \"text-align: right;\">20.93</td><td style = \"text-align: right;\">4.07</td><td style = \"text-align: right;\">3.93</td><td style = \"text-align: right;\">413.7</td><td style = \"text-align: right;\">216.0</td><td style = \"text-align: right;\">216.0</td></tr><tr><td class = \"rowNumber\" style = \"font-weight: bold; text-align: right;\">5</td><td style = \"text-align: left;\">g5</td><td style = \"text-align: right;\">15</td><td style = \"text-align: right;\">26.11</td><td style = \"text-align: right;\">1.89</td><td style = \"text-align: right;\">3.11</td><td style = \"text-align: right;\">42.0</td><td style = \"text-align: right;\">42.0</td><td style = \"text-align: right;\">42.0</td></tr><tr><td class = \"rowNumber\" style = \"font-weight: bold; text-align: right;\">6</td><td style = \"text-align: left;\">g6</td><td style = \"text-align: right;\">15</td><td style = \"text-align: right;\">10.52</td><td style = \"text-align: right;\">5.48</td><td style = \"text-align: right;\">3.52</td><td style = \"text-align: right;\">108.5</td><td style = \"text-align: right;\">36.0</td><td style = \"text-align: right;\">36.0</td></tr><tr><td class = \"rowNumber\" style = \"font-weight: bold; text-align: right;\">7</td><td style = \"text-align: left;\">g7</td><td style = \"text-align: right;\">16</td><td style = \"text-align: right;\">10.52</td><td style = \"text-align: right;\">5.48</td><td style = \"text-align: right;\">3.52</td><td style = \"text-align: right;\">108.5</td><td style = \"text-align: right;\">36.0</td><td style = \"text-align: right;\">36.0</td></tr><tr><td class = \"rowNumber\" style = \"font-weight: bold; text-align: right;\">8</td><td style = \"text-align: left;\">g8</td><td style = \"text-align: right;\">18</td><td style = \"text-align: right;\">6.02</td><td style = \"text-align: right;\">4.98</td><td style = \"text-align: right;\">5.02</td><td style = \"text-align: right;\">280.0</td><td style = \"text-align: right;\">60.0</td><td style = \"text-align: right;\">60.0</td></tr><tr><td class = \"rowNumber\" style = \"font-weight: bold; text-align: right;\">9</td><td style = \"text-align: left;\">g9</td><td style = \"text-align: right;\">21</td><td style = \"text-align: right;\">5.47</td><td style = \"text-align: right;\">5.53</td><td style = \"text-align: right;\">4.97</td><td style = \"text-align: right;\">280.0</td><td style = \"text-align: right;\">60.0</td><td style = \"text-align: right;\">60.0</td></tr><tr><td class = \"rowNumber\" style = \"font-weight: bold; text-align: right;\">10</td><td style = \"text-align: left;\">g10</td><td style = \"text-align: right;\">22</td><td style = \"text-align: right;\">7.0</td><td style = \"text-align: right;\">8.0</td><td style = \"text-align: right;\">6.0</td><td style = \"text-align: right;\">210.0</td><td style = \"text-align: right;\">48.0</td><td style = \"text-align: right;\">48.0</td></tr><tr><td class = \"rowNumber\" style = \"font-weight: bold; text-align: right;\">11</td><td style = \"text-align: left;\">g11</td><td style = \"text-align: right;\">23</td><td style = \"text-align: right;\">10.52</td><td style = \"text-align: right;\">3.45</td><td style = \"text-align: right;\">2.52</td><td style = \"text-align: right;\">217.0</td><td style = \"text-align: right;\">72.0</td><td style = \"text-align: right;\">72.0</td></tr><tr><td class = \"rowNumber\" style = \"font-weight: bold; text-align: right;\">12</td><td style = \"text-align: left;\">g12</td><td style = \"text-align: right;\">23</td><td style = \"text-align: right;\">10.89</td><td style = \"text-align: right;\">5.11</td><td style = \"text-align: right;\">2.89</td><td style = \"text-align: right;\">245.0</td><td style = \"text-align: right;\">48.0</td><td style = \"text-align: right;\">48.0</td></tr></tbody></table></div>"
      ],
      "text/latex": [
       "\\begin{tabular}{r|cccccccc}\n",
       "\t& ID & location & cost & upresercost & dnresercost & cap & maxupresercap & maxdnresercap\\\\\n",
       "\t\\hline\n",
       "\t& String & Int64 & Float64 & Float64 & Float64 & Float64 & Float64 & Float64\\\\\n",
       "\t\\hline\n",
       "\t1 & g1 & 1 & 13.32 & 1.68 & 2.32 & 106.4 & 48.0 & 48.0 \\\\\n",
       "\t2 & g2 & 2 & 13.32 & 1.68 & 2.32 & 106.4 & 48.0 & 48.0 \\\\\n",
       "\t3 & g3 & 7 & 20.7 & 3.3 & 4.67 & 245.0 & 84.0 & 84.0 \\\\\n",
       "\t4 & g4 & 13 & 20.93 & 4.07 & 3.93 & 413.7 & 216.0 & 216.0 \\\\\n",
       "\t5 & g5 & 15 & 26.11 & 1.89 & 3.11 & 42.0 & 42.0 & 42.0 \\\\\n",
       "\t6 & g6 & 15 & 10.52 & 5.48 & 3.52 & 108.5 & 36.0 & 36.0 \\\\\n",
       "\t7 & g7 & 16 & 10.52 & 5.48 & 3.52 & 108.5 & 36.0 & 36.0 \\\\\n",
       "\t8 & g8 & 18 & 6.02 & 4.98 & 5.02 & 280.0 & 60.0 & 60.0 \\\\\n",
       "\t9 & g9 & 21 & 5.47 & 5.53 & 4.97 & 280.0 & 60.0 & 60.0 \\\\\n",
       "\t10 & g10 & 22 & 7.0 & 8.0 & 6.0 & 210.0 & 48.0 & 48.0 \\\\\n",
       "\t11 & g11 & 23 & 10.52 & 3.45 & 2.52 & 217.0 & 72.0 & 72.0 \\\\\n",
       "\t12 & g12 & 23 & 10.89 & 5.11 & 2.89 & 245.0 & 48.0 & 48.0 \\\\\n",
       "\\end{tabular}\n"
      ],
      "text/plain": [
       "\u001b[1m12×8 DataFrame\u001b[0m\n",
       "\u001b[1m Row \u001b[0m│\u001b[1m ID     \u001b[0m\u001b[1m location \u001b[0m\u001b[1m cost    \u001b[0m\u001b[1m upresercost \u001b[0m\u001b[1m dnresercost \u001b[0m\u001b[1m cap     \u001b[0m\u001b[1m maxuprese\u001b[0m ⋯\n",
       "     │\u001b[90m String \u001b[0m\u001b[90m Int64    \u001b[0m\u001b[90m Float64 \u001b[0m\u001b[90m Float64     \u001b[0m\u001b[90m Float64     \u001b[0m\u001b[90m Float64 \u001b[0m\u001b[90m Float64  \u001b[0m ⋯\n",
       "─────┼──────────────────────────────────────────────────────────────────────────\n",
       "   1 │ g1             1    13.32         1.68         2.32    106.4            ⋯\n",
       "   2 │ g2             2    13.32         1.68         2.32    106.4\n",
       "   3 │ g3             7    20.7          3.3          4.67    245.0\n",
       "   4 │ g4            13    20.93         4.07         3.93    413.7          2\n",
       "   5 │ g5            15    26.11         1.89         3.11     42.0            ⋯\n",
       "   6 │ g6            15    10.52         5.48         3.52    108.5\n",
       "   7 │ g7            16    10.52         5.48         3.52    108.5\n",
       "   8 │ g8            18     6.02         4.98         5.02    280.0\n",
       "   9 │ g9            21     5.47         5.53         4.97    280.0            ⋯\n",
       "  10 │ g10           22     7.0          8.0          6.0     210.0\n",
       "  11 │ g11           23    10.52         3.45         2.52    217.0\n",
       "  12 │ g12           23    10.89         5.11         2.89    245.0\n",
       "\u001b[36m                                                               2 columns omitted\u001b[0m"
      ]
     },
     "metadata": {},
     "output_type": "display_data"
    }
   ],
   "source": [
    "mydata[\"generatorinfo\"]"
   ]
  },
  {
   "cell_type": "code",
   "execution_count": 11,
   "metadata": {},
   "outputs": [
    {
     "name": "stdout",
     "output_type": "stream",
     "text": [
      "demand data read in successfully"
     ]
    }
   ],
   "source": [
    "xl = XLSX.readxlsx(\"data/initdemand.xlsx\")\n",
    "initdemand = XLSX.sheetnames(xl)\n",
    "mydata[\"initdemand\"] = DataFrame(XLSX.gettable(xl[\"initdemand\"]; infer_eltypes=true))\n",
    "print(\"demand data read in successfully\")"
   ]
  },
  {
   "cell_type": "code",
   "execution_count": 12,
   "metadata": {},
   "outputs": [
    {
     "data": {
      "text/html": [
       "<div><div style = \"float: left;\"><span>24×25 DataFrame</span></div><div style = \"clear: both;\"></div></div><div class = \"data-frame\" style = \"overflow-x: scroll;\"><table class = \"data-frame\" style = \"margin-bottom: 6px;\"><thead><tr class = \"header\"><th class = \"rowNumber\" style = \"font-weight: bold; text-align: right;\">Row</th><th style = \"text-align: left;\">t</th><th style = \"text-align: left;\">n1</th><th style = \"text-align: left;\">n2</th><th style = \"text-align: left;\">n3</th><th style = \"text-align: left;\">n4</th><th style = \"text-align: left;\">n5</th><th style = \"text-align: left;\">n6</th><th style = \"text-align: left;\">n7</th><th style = \"text-align: left;\">n8</th><th style = \"text-align: left;\">n9</th><th style = \"text-align: left;\">n10</th><th style = \"text-align: left;\">n11</th><th style = \"text-align: left;\">n12</th><th style = \"text-align: left;\">n13</th><th style = \"text-align: left;\">n14</th><th style = \"text-align: left;\">n15</th><th style = \"text-align: left;\">n16</th><th style = \"text-align: left;\">n17</th><th style = \"text-align: left;\">n18</th><th style = \"text-align: left;\">n19</th><th style = \"text-align: left;\">n20</th><th style = \"text-align: left;\">n21</th><th style = \"text-align: left;\">n22</th><th style = \"text-align: left;\">n23</th><th style = \"text-align: left;\">n24</th></tr><tr class = \"subheader headerLastRow\"><th class = \"rowNumber\" style = \"font-weight: bold; text-align: right;\"></th><th title = \"String\" style = \"text-align: left;\">String</th><th title = \"Float64\" style = \"text-align: left;\">Float64</th><th title = \"Float64\" style = \"text-align: left;\">Float64</th><th title = \"Float64\" style = \"text-align: left;\">Float64</th><th title = \"Float64\" style = \"text-align: left;\">Float64</th><th title = \"Float64\" style = \"text-align: left;\">Float64</th><th title = \"Float64\" style = \"text-align: left;\">Float64</th><th title = \"Float64\" style = \"text-align: left;\">Float64</th><th title = \"Float64\" style = \"text-align: left;\">Float64</th><th title = \"Float64\" style = \"text-align: left;\">Float64</th><th title = \"Float64\" style = \"text-align: left;\">Float64</th><th title = \"Float64\" style = \"text-align: left;\">Float64</th><th title = \"Float64\" style = \"text-align: left;\">Float64</th><th title = \"Float64\" style = \"text-align: left;\">Float64</th><th title = \"Float64\" style = \"text-align: left;\">Float64</th><th title = \"Float64\" style = \"text-align: left;\">Float64</th><th title = \"Float64\" style = \"text-align: left;\">Float64</th><th title = \"Float64\" style = \"text-align: left;\">Float64</th><th title = \"Float64\" style = \"text-align: left;\">Float64</th><th title = \"Float64\" style = \"text-align: left;\">Float64</th><th title = \"Float64\" style = \"text-align: left;\">Float64</th><th title = \"Float64\" style = \"text-align: left;\">Float64</th><th title = \"Float64\" style = \"text-align: left;\">Float64</th><th title = \"Float64\" style = \"text-align: left;\">Float64</th><th title = \"Float64\" style = \"text-align: left;\">Float64</th></tr></thead><tbody><tr><td class = \"rowNumber\" style = \"font-weight: bold; text-align: right;\">1</td><td style = \"text-align: left;\">t1</td><td style = \"text-align: right;\">54.768</td><td style = \"text-align: right;\">48.9</td><td style = \"text-align: right;\">90.628</td><td style = \"text-align: right;\">37.816</td><td style = \"text-align: right;\">35.86</td><td style = \"text-align: right;\">69.112</td><td style = \"text-align: right;\">63.244</td><td style = \"text-align: right;\">86.064</td><td style = \"text-align: right;\">88.02</td><td style = \"text-align: right;\">97.8</td><td style = \"text-align: right;\">0.0</td><td style = \"text-align: right;\">0.0</td><td style = \"text-align: right;\">133.66</td><td style = \"text-align: right;\">97.8</td><td style = \"text-align: right;\">159.74</td><td style = \"text-align: right;\">50.204</td><td style = \"text-align: right;\">0.0</td><td style = \"text-align: right;\">168.216</td><td style = \"text-align: right;\">91.932</td><td style = \"text-align: right;\">65.2</td><td style = \"text-align: right;\">0.0</td><td style = \"text-align: right;\">0.0</td><td style = \"text-align: right;\">0.0</td><td style = \"text-align: right;\">0.0</td></tr><tr><td class = \"rowNumber\" style = \"font-weight: bold; text-align: right;\">2</td><td style = \"text-align: left;\">t2</td><td style = \"text-align: right;\">52.332</td><td style = \"text-align: right;\">46.725</td><td style = \"text-align: right;\">86.597</td><td style = \"text-align: right;\">36.134</td><td style = \"text-align: right;\">34.265</td><td style = \"text-align: right;\">66.038</td><td style = \"text-align: right;\">60.431</td><td style = \"text-align: right;\">82.236</td><td style = \"text-align: right;\">84.105</td><td style = \"text-align: right;\">93.45</td><td style = \"text-align: right;\">0.0</td><td style = \"text-align: right;\">0.0</td><td style = \"text-align: right;\">127.715</td><td style = \"text-align: right;\">93.45</td><td style = \"text-align: right;\">152.635</td><td style = \"text-align: right;\">47.971</td><td style = \"text-align: right;\">0.0</td><td style = \"text-align: right;\">160.734</td><td style = \"text-align: right;\">87.843</td><td style = \"text-align: right;\">62.3</td><td style = \"text-align: right;\">0.0</td><td style = \"text-align: right;\">0.0</td><td style = \"text-align: right;\">0.0</td><td style = \"text-align: right;\">0.0</td></tr><tr><td class = \"rowNumber\" style = \"font-weight: bold; text-align: right;\">3</td><td style = \"text-align: left;\">t3</td><td style = \"text-align: right;\">52.92</td><td style = \"text-align: right;\">47.25</td><td style = \"text-align: right;\">87.57</td><td style = \"text-align: right;\">36.54</td><td style = \"text-align: right;\">34.65</td><td style = \"text-align: right;\">66.78</td><td style = \"text-align: right;\">61.11</td><td style = \"text-align: right;\">83.16</td><td style = \"text-align: right;\">85.05</td><td style = \"text-align: right;\">94.5</td><td style = \"text-align: right;\">0.0</td><td style = \"text-align: right;\">0.0</td><td style = \"text-align: right;\">129.15</td><td style = \"text-align: right;\">94.5</td><td style = \"text-align: right;\">154.35</td><td style = \"text-align: right;\">48.51</td><td style = \"text-align: right;\">0.0</td><td style = \"text-align: right;\">162.54</td><td style = \"text-align: right;\">88.83</td><td style = \"text-align: right;\">63.0</td><td style = \"text-align: right;\">0.0</td><td style = \"text-align: right;\">0.0</td><td style = \"text-align: right;\">0.0</td><td style = \"text-align: right;\">0.0</td></tr><tr><td class = \"rowNumber\" style = \"font-weight: bold; text-align: right;\">4</td><td style = \"text-align: left;\">t4</td><td style = \"text-align: right;\">48.72</td><td style = \"text-align: right;\">43.5</td><td style = \"text-align: right;\">80.62</td><td style = \"text-align: right;\">33.64</td><td style = \"text-align: right;\">31.9</td><td style = \"text-align: right;\">61.48</td><td style = \"text-align: right;\">56.26</td><td style = \"text-align: right;\">76.56</td><td style = \"text-align: right;\">78.3</td><td style = \"text-align: right;\">87.0</td><td style = \"text-align: right;\">0.0</td><td style = \"text-align: right;\">0.0</td><td style = \"text-align: right;\">118.9</td><td style = \"text-align: right;\">87.0</td><td style = \"text-align: right;\">142.1</td><td style = \"text-align: right;\">44.66</td><td style = \"text-align: right;\">0.0</td><td style = \"text-align: right;\">149.64</td><td style = \"text-align: right;\">81.78</td><td style = \"text-align: right;\">58.0</td><td style = \"text-align: right;\">0.0</td><td style = \"text-align: right;\">0.0</td><td style = \"text-align: right;\">0.0</td><td style = \"text-align: right;\">0.0</td></tr><tr><td class = \"rowNumber\" style = \"font-weight: bold; text-align: right;\">5</td><td style = \"text-align: left;\">t5</td><td style = \"text-align: right;\">46.2</td><td style = \"text-align: right;\">41.25</td><td style = \"text-align: right;\">76.45</td><td style = \"text-align: right;\">31.9</td><td style = \"text-align: right;\">30.25</td><td style = \"text-align: right;\">58.3</td><td style = \"text-align: right;\">53.35</td><td style = \"text-align: right;\">72.6</td><td style = \"text-align: right;\">74.25</td><td style = \"text-align: right;\">82.5</td><td style = \"text-align: right;\">0.0</td><td style = \"text-align: right;\">0.0</td><td style = \"text-align: right;\">112.75</td><td style = \"text-align: right;\">82.5</td><td style = \"text-align: right;\">134.75</td><td style = \"text-align: right;\">42.35</td><td style = \"text-align: right;\">0.0</td><td style = \"text-align: right;\">141.9</td><td style = \"text-align: right;\">77.55</td><td style = \"text-align: right;\">55.0</td><td style = \"text-align: right;\">0.0</td><td style = \"text-align: right;\">0.0</td><td style = \"text-align: right;\">0.0</td><td style = \"text-align: right;\">0.0</td></tr><tr><td class = \"rowNumber\" style = \"font-weight: bold; text-align: right;\">6</td><td style = \"text-align: left;\">t6</td><td style = \"text-align: right;\">46.2</td><td style = \"text-align: right;\">41.25</td><td style = \"text-align: right;\">76.45</td><td style = \"text-align: right;\">31.9</td><td style = \"text-align: right;\">30.25</td><td style = \"text-align: right;\">58.3</td><td style = \"text-align: right;\">53.35</td><td style = \"text-align: right;\">72.6</td><td style = \"text-align: right;\">74.25</td><td style = \"text-align: right;\">82.5</td><td style = \"text-align: right;\">0.0</td><td style = \"text-align: right;\">0.0</td><td style = \"text-align: right;\">112.75</td><td style = \"text-align: right;\">82.5</td><td style = \"text-align: right;\">134.75</td><td style = \"text-align: right;\">42.35</td><td style = \"text-align: right;\">0.0</td><td style = \"text-align: right;\">141.9</td><td style = \"text-align: right;\">77.55</td><td style = \"text-align: right;\">55.0</td><td style = \"text-align: right;\">0.0</td><td style = \"text-align: right;\">0.0</td><td style = \"text-align: right;\">0.0</td><td style = \"text-align: right;\">0.0</td></tr><tr><td class = \"rowNumber\" style = \"font-weight: bold; text-align: right;\">7</td><td style = \"text-align: left;\">t7</td><td style = \"text-align: right;\">50.4</td><td style = \"text-align: right;\">45.0</td><td style = \"text-align: right;\">83.4</td><td style = \"text-align: right;\">34.8</td><td style = \"text-align: right;\">33.0</td><td style = \"text-align: right;\">63.6</td><td style = \"text-align: right;\">58.2</td><td style = \"text-align: right;\">79.2</td><td style = \"text-align: right;\">81.0</td><td style = \"text-align: right;\">90.0</td><td style = \"text-align: right;\">0.0</td><td style = \"text-align: right;\">0.0</td><td style = \"text-align: right;\">123.0</td><td style = \"text-align: right;\">90.0</td><td style = \"text-align: right;\">147.0</td><td style = \"text-align: right;\">46.2</td><td style = \"text-align: right;\">0.0</td><td style = \"text-align: right;\">154.8</td><td style = \"text-align: right;\">84.6</td><td style = \"text-align: right;\">60.0</td><td style = \"text-align: right;\">0.0</td><td style = \"text-align: right;\">0.0</td><td style = \"text-align: right;\">0.0</td><td style = \"text-align: right;\">0.0</td></tr><tr><td class = \"rowNumber\" style = \"font-weight: bold; text-align: right;\">8</td><td style = \"text-align: left;\">t8</td><td style = \"text-align: right;\">53.76</td><td style = \"text-align: right;\">48.0</td><td style = \"text-align: right;\">88.96</td><td style = \"text-align: right;\">37.12</td><td style = \"text-align: right;\">35.2</td><td style = \"text-align: right;\">67.84</td><td style = \"text-align: right;\">62.08</td><td style = \"text-align: right;\">84.48</td><td style = \"text-align: right;\">86.4</td><td style = \"text-align: right;\">96.0</td><td style = \"text-align: right;\">0.0</td><td style = \"text-align: right;\">0.0</td><td style = \"text-align: right;\">131.2</td><td style = \"text-align: right;\">96.0</td><td style = \"text-align: right;\">156.8</td><td style = \"text-align: right;\">49.28</td><td style = \"text-align: right;\">0.0</td><td style = \"text-align: right;\">165.12</td><td style = \"text-align: right;\">90.24</td><td style = \"text-align: right;\">64.0</td><td style = \"text-align: right;\">0.0</td><td style = \"text-align: right;\">0.0</td><td style = \"text-align: right;\">0.0</td><td style = \"text-align: right;\">0.0</td></tr><tr><td class = \"rowNumber\" style = \"font-weight: bold; text-align: right;\">9</td><td style = \"text-align: left;\">t9</td><td style = \"text-align: right;\">59.64</td><td style = \"text-align: right;\">53.25</td><td style = \"text-align: right;\">98.69</td><td style = \"text-align: right;\">41.18</td><td style = \"text-align: right;\">39.05</td><td style = \"text-align: right;\">75.26</td><td style = \"text-align: right;\">68.87</td><td style = \"text-align: right;\">93.72</td><td style = \"text-align: right;\">95.85</td><td style = \"text-align: right;\">106.5</td><td style = \"text-align: right;\">0.0</td><td style = \"text-align: right;\">0.0</td><td style = \"text-align: right;\">145.55</td><td style = \"text-align: right;\">106.5</td><td style = \"text-align: right;\">173.95</td><td style = \"text-align: right;\">54.67</td><td style = \"text-align: right;\">0.0</td><td style = \"text-align: right;\">183.18</td><td style = \"text-align: right;\">100.11</td><td style = \"text-align: right;\">71.0</td><td style = \"text-align: right;\">0.0</td><td style = \"text-align: right;\">0.0</td><td style = \"text-align: right;\">0.0</td><td style = \"text-align: right;\">0.0</td></tr><tr><td class = \"rowNumber\" style = \"font-weight: bold; text-align: right;\">10</td><td style = \"text-align: left;\">t10</td><td style = \"text-align: right;\">65.52</td><td style = \"text-align: right;\">58.5</td><td style = \"text-align: right;\">108.42</td><td style = \"text-align: right;\">45.24</td><td style = \"text-align: right;\">42.9</td><td style = \"text-align: right;\">82.68</td><td style = \"text-align: right;\">75.66</td><td style = \"text-align: right;\">102.96</td><td style = \"text-align: right;\">105.3</td><td style = \"text-align: right;\">117.0</td><td style = \"text-align: right;\">0.0</td><td style = \"text-align: right;\">0.0</td><td style = \"text-align: right;\">159.9</td><td style = \"text-align: right;\">117.0</td><td style = \"text-align: right;\">191.1</td><td style = \"text-align: right;\">60.06</td><td style = \"text-align: right;\">0.0</td><td style = \"text-align: right;\">201.24</td><td style = \"text-align: right;\">109.98</td><td style = \"text-align: right;\">78.0</td><td style = \"text-align: right;\">0.0</td><td style = \"text-align: right;\">0.0</td><td style = \"text-align: right;\">0.0</td><td style = \"text-align: right;\">0.0</td></tr><tr><td class = \"rowNumber\" style = \"font-weight: bold; text-align: right;\">11</td><td style = \"text-align: left;\">t11</td><td style = \"text-align: right;\">68.04</td><td style = \"text-align: right;\">60.75</td><td style = \"text-align: right;\">112.59</td><td style = \"text-align: right;\">46.98</td><td style = \"text-align: right;\">44.55</td><td style = \"text-align: right;\">85.86</td><td style = \"text-align: right;\">78.57</td><td style = \"text-align: right;\">106.92</td><td style = \"text-align: right;\">109.35</td><td style = \"text-align: right;\">121.5</td><td style = \"text-align: right;\">0.0</td><td style = \"text-align: right;\">0.0</td><td style = \"text-align: right;\">166.05</td><td style = \"text-align: right;\">121.5</td><td style = \"text-align: right;\">198.45</td><td style = \"text-align: right;\">62.37</td><td style = \"text-align: right;\">0.0</td><td style = \"text-align: right;\">208.98</td><td style = \"text-align: right;\">114.21</td><td style = \"text-align: right;\">81.0</td><td style = \"text-align: right;\">0.0</td><td style = \"text-align: right;\">0.0</td><td style = \"text-align: right;\">0.0</td><td style = \"text-align: right;\">0.0</td></tr><tr><td class = \"rowNumber\" style = \"font-weight: bold; text-align: right;\">12</td><td style = \"text-align: left;\">t12</td><td style = \"text-align: right;\">68.88</td><td style = \"text-align: right;\">61.5</td><td style = \"text-align: right;\">113.98</td><td style = \"text-align: right;\">47.56</td><td style = \"text-align: right;\">45.1</td><td style = \"text-align: right;\">86.92</td><td style = \"text-align: right;\">79.54</td><td style = \"text-align: right;\">108.24</td><td style = \"text-align: right;\">110.7</td><td style = \"text-align: right;\">123.0</td><td style = \"text-align: right;\">0.0</td><td style = \"text-align: right;\">0.0</td><td style = \"text-align: right;\">168.1</td><td style = \"text-align: right;\">123.0</td><td style = \"text-align: right;\">200.9</td><td style = \"text-align: right;\">63.14</td><td style = \"text-align: right;\">0.0</td><td style = \"text-align: right;\">211.56</td><td style = \"text-align: right;\">115.62</td><td style = \"text-align: right;\">82.0</td><td style = \"text-align: right;\">0.0</td><td style = \"text-align: right;\">0.0</td><td style = \"text-align: right;\">0.0</td><td style = \"text-align: right;\">0.0</td></tr><tr><td class = \"rowNumber\" style = \"font-weight: bold; text-align: right;\">13</td><td style = \"text-align: left;\">t13</td><td style = \"text-align: right;\">71.4</td><td style = \"text-align: right;\">63.75</td><td style = \"text-align: right;\">118.15</td><td style = \"text-align: right;\">49.3</td><td style = \"text-align: right;\">46.75</td><td style = \"text-align: right;\">90.1</td><td style = \"text-align: right;\">82.45</td><td style = \"text-align: right;\">112.2</td><td style = \"text-align: right;\">114.75</td><td style = \"text-align: right;\">127.5</td><td style = \"text-align: right;\">0.0</td><td style = \"text-align: right;\">0.0</td><td style = \"text-align: right;\">174.25</td><td style = \"text-align: right;\">127.5</td><td style = \"text-align: right;\">208.25</td><td style = \"text-align: right;\">65.45</td><td style = \"text-align: right;\">0.0</td><td style = \"text-align: right;\">219.3</td><td style = \"text-align: right;\">119.85</td><td style = \"text-align: right;\">85.0</td><td style = \"text-align: right;\">0.0</td><td style = \"text-align: right;\">0.0</td><td style = \"text-align: right;\">0.0</td><td style = \"text-align: right;\">0.0</td></tr><tr><td class = \"rowNumber\" style = \"font-weight: bold; text-align: right;\">14</td><td style = \"text-align: left;\">t14</td><td style = \"text-align: right;\">69.72</td><td style = \"text-align: right;\">62.25</td><td style = \"text-align: right;\">115.37</td><td style = \"text-align: right;\">48.14</td><td style = \"text-align: right;\">45.65</td><td style = \"text-align: right;\">87.98</td><td style = \"text-align: right;\">80.51</td><td style = \"text-align: right;\">109.56</td><td style = \"text-align: right;\">112.05</td><td style = \"text-align: right;\">124.5</td><td style = \"text-align: right;\">0.0</td><td style = \"text-align: right;\">0.0</td><td style = \"text-align: right;\">170.15</td><td style = \"text-align: right;\">124.5</td><td style = \"text-align: right;\">203.35</td><td style = \"text-align: right;\">63.91</td><td style = \"text-align: right;\">0.0</td><td style = \"text-align: right;\">214.14</td><td style = \"text-align: right;\">117.03</td><td style = \"text-align: right;\">83.0</td><td style = \"text-align: right;\">0.0</td><td style = \"text-align: right;\">0.0</td><td style = \"text-align: right;\">0.0</td><td style = \"text-align: right;\">0.0</td></tr><tr><td class = \"rowNumber\" style = \"font-weight: bold; text-align: right;\">15</td><td style = \"text-align: left;\">t15</td><td style = \"text-align: right;\">70.98</td><td style = \"text-align: right;\">63.375</td><td style = \"text-align: right;\">117.455</td><td style = \"text-align: right;\">49.01</td><td style = \"text-align: right;\">46.475</td><td style = \"text-align: right;\">89.57</td><td style = \"text-align: right;\">81.965</td><td style = \"text-align: right;\">111.54</td><td style = \"text-align: right;\">114.075</td><td style = \"text-align: right;\">126.75</td><td style = \"text-align: right;\">0.0</td><td style = \"text-align: right;\">0.0</td><td style = \"text-align: right;\">173.225</td><td style = \"text-align: right;\">126.75</td><td style = \"text-align: right;\">207.025</td><td style = \"text-align: right;\">65.065</td><td style = \"text-align: right;\">0.0</td><td style = \"text-align: right;\">218.01</td><td style = \"text-align: right;\">119.145</td><td style = \"text-align: right;\">84.5</td><td style = \"text-align: right;\">0.0</td><td style = \"text-align: right;\">0.0</td><td style = \"text-align: right;\">0.0</td><td style = \"text-align: right;\">0.0</td></tr><tr><td class = \"rowNumber\" style = \"font-weight: bold; text-align: right;\">16</td><td style = \"text-align: left;\">t16</td><td style = \"text-align: right;\">73.5</td><td style = \"text-align: right;\">65.625</td><td style = \"text-align: right;\">121.625</td><td style = \"text-align: right;\">50.75</td><td style = \"text-align: right;\">48.125</td><td style = \"text-align: right;\">92.75</td><td style = \"text-align: right;\">84.875</td><td style = \"text-align: right;\">115.5</td><td style = \"text-align: right;\">118.125</td><td style = \"text-align: right;\">131.25</td><td style = \"text-align: right;\">0.0</td><td style = \"text-align: right;\">0.0</td><td style = \"text-align: right;\">179.375</td><td style = \"text-align: right;\">131.25</td><td style = \"text-align: right;\">214.375</td><td style = \"text-align: right;\">67.375</td><td style = \"text-align: right;\">0.0</td><td style = \"text-align: right;\">225.75</td><td style = \"text-align: right;\">123.375</td><td style = \"text-align: right;\">87.5</td><td style = \"text-align: right;\">0.0</td><td style = \"text-align: right;\">0.0</td><td style = \"text-align: right;\">0.0</td><td style = \"text-align: right;\">0.0</td></tr><tr><td class = \"rowNumber\" style = \"font-weight: bold; text-align: right;\">17</td><td style = \"text-align: left;\">t17</td><td style = \"text-align: right;\">82.32</td><td style = \"text-align: right;\">73.5</td><td style = \"text-align: right;\">136.22</td><td style = \"text-align: right;\">56.84</td><td style = \"text-align: right;\">53.9</td><td style = \"text-align: right;\">103.88</td><td style = \"text-align: right;\">95.06</td><td style = \"text-align: right;\">129.36</td><td style = \"text-align: right;\">132.3</td><td style = \"text-align: right;\">147.0</td><td style = \"text-align: right;\">0.0</td><td style = \"text-align: right;\">0.0</td><td style = \"text-align: right;\">200.9</td><td style = \"text-align: right;\">147.0</td><td style = \"text-align: right;\">240.1</td><td style = \"text-align: right;\">75.46</td><td style = \"text-align: right;\">0.0</td><td style = \"text-align: right;\">252.84</td><td style = \"text-align: right;\">138.18</td><td style = \"text-align: right;\">98.0</td><td style = \"text-align: right;\">0.0</td><td style = \"text-align: right;\">0.0</td><td style = \"text-align: right;\">0.0</td><td style = \"text-align: right;\">0.0</td></tr><tr><td class = \"rowNumber\" style = \"font-weight: bold; text-align: right;\">18</td><td style = \"text-align: left;\">t18</td><td style = \"text-align: right;\">84.0</td><td style = \"text-align: right;\">75.0</td><td style = \"text-align: right;\">139.0</td><td style = \"text-align: right;\">58.0</td><td style = \"text-align: right;\">55.0</td><td style = \"text-align: right;\">106.0</td><td style = \"text-align: right;\">97.0</td><td style = \"text-align: right;\">132.0</td><td style = \"text-align: right;\">135.0</td><td style = \"text-align: right;\">150.0</td><td style = \"text-align: right;\">0.0</td><td style = \"text-align: right;\">0.0</td><td style = \"text-align: right;\">205.0</td><td style = \"text-align: right;\">150.0</td><td style = \"text-align: right;\">245.0</td><td style = \"text-align: right;\">77.0</td><td style = \"text-align: right;\">0.0</td><td style = \"text-align: right;\">258.0</td><td style = \"text-align: right;\">141.0</td><td style = \"text-align: right;\">100.0</td><td style = \"text-align: right;\">0.0</td><td style = \"text-align: right;\">0.0</td><td style = \"text-align: right;\">0.0</td><td style = \"text-align: right;\">0.0</td></tr><tr><td class = \"rowNumber\" style = \"font-weight: bold; text-align: right;\">19</td><td style = \"text-align: left;\">t19</td><td style = \"text-align: right;\">80.64</td><td style = \"text-align: right;\">72.0</td><td style = \"text-align: right;\">133.44</td><td style = \"text-align: right;\">55.68</td><td style = \"text-align: right;\">52.8</td><td style = \"text-align: right;\">101.76</td><td style = \"text-align: right;\">93.12</td><td style = \"text-align: right;\">126.72</td><td style = \"text-align: right;\">129.6</td><td style = \"text-align: right;\">144.0</td><td style = \"text-align: right;\">0.0</td><td style = \"text-align: right;\">0.0</td><td style = \"text-align: right;\">196.8</td><td style = \"text-align: right;\">144.0</td><td style = \"text-align: right;\">235.2</td><td style = \"text-align: right;\">73.92</td><td style = \"text-align: right;\">0.0</td><td style = \"text-align: right;\">247.68</td><td style = \"text-align: right;\">135.36</td><td style = \"text-align: right;\">96.0</td><td style = \"text-align: right;\">0.0</td><td style = \"text-align: right;\">0.0</td><td style = \"text-align: right;\">0.0</td><td style = \"text-align: right;\">0.0</td></tr><tr><td class = \"rowNumber\" style = \"font-weight: bold; text-align: right;\">20</td><td style = \"text-align: left;\">t20</td><td style = \"text-align: right;\">76.44</td><td style = \"text-align: right;\">68.25</td><td style = \"text-align: right;\">126.49</td><td style = \"text-align: right;\">52.78</td><td style = \"text-align: right;\">50.05</td><td style = \"text-align: right;\">96.46</td><td style = \"text-align: right;\">88.27</td><td style = \"text-align: right;\">120.12</td><td style = \"text-align: right;\">122.85</td><td style = \"text-align: right;\">136.5</td><td style = \"text-align: right;\">0.0</td><td style = \"text-align: right;\">0.0</td><td style = \"text-align: right;\">186.55</td><td style = \"text-align: right;\">136.5</td><td style = \"text-align: right;\">222.95</td><td style = \"text-align: right;\">70.07</td><td style = \"text-align: right;\">0.0</td><td style = \"text-align: right;\">234.78</td><td style = \"text-align: right;\">128.31</td><td style = \"text-align: right;\">91.0</td><td style = \"text-align: right;\">0.0</td><td style = \"text-align: right;\">0.0</td><td style = \"text-align: right;\">0.0</td><td style = \"text-align: right;\">0.0</td></tr><tr><td class = \"rowNumber\" style = \"font-weight: bold; text-align: right;\">21</td><td style = \"text-align: left;\">t21</td><td style = \"text-align: right;\">71.4</td><td style = \"text-align: right;\">63.75</td><td style = \"text-align: right;\">118.15</td><td style = \"text-align: right;\">49.3</td><td style = \"text-align: right;\">46.75</td><td style = \"text-align: right;\">90.1</td><td style = \"text-align: right;\">82.45</td><td style = \"text-align: right;\">112.2</td><td style = \"text-align: right;\">114.75</td><td style = \"text-align: right;\">127.5</td><td style = \"text-align: right;\">0.0</td><td style = \"text-align: right;\">0.0</td><td style = \"text-align: right;\">174.25</td><td style = \"text-align: right;\">127.5</td><td style = \"text-align: right;\">208.25</td><td style = \"text-align: right;\">65.45</td><td style = \"text-align: right;\">0.0</td><td style = \"text-align: right;\">219.3</td><td style = \"text-align: right;\">119.85</td><td style = \"text-align: right;\">85.0</td><td style = \"text-align: right;\">0.0</td><td style = \"text-align: right;\">0.0</td><td style = \"text-align: right;\">0.0</td><td style = \"text-align: right;\">0.0</td></tr><tr><td class = \"rowNumber\" style = \"font-weight: bold; text-align: right;\">22</td><td style = \"text-align: left;\">t22</td><td style = \"text-align: right;\">65.52</td><td style = \"text-align: right;\">58.5</td><td style = \"text-align: right;\">108.42</td><td style = \"text-align: right;\">45.24</td><td style = \"text-align: right;\">42.9</td><td style = \"text-align: right;\">82.68</td><td style = \"text-align: right;\">75.66</td><td style = \"text-align: right;\">102.96</td><td style = \"text-align: right;\">105.3</td><td style = \"text-align: right;\">117.0</td><td style = \"text-align: right;\">0.0</td><td style = \"text-align: right;\">0.0</td><td style = \"text-align: right;\">159.9</td><td style = \"text-align: right;\">117.0</td><td style = \"text-align: right;\">191.1</td><td style = \"text-align: right;\">60.06</td><td style = \"text-align: right;\">0.0</td><td style = \"text-align: right;\">201.24</td><td style = \"text-align: right;\">109.98</td><td style = \"text-align: right;\">78.0</td><td style = \"text-align: right;\">0.0</td><td style = \"text-align: right;\">0.0</td><td style = \"text-align: right;\">0.0</td><td style = \"text-align: right;\">0.0</td></tr><tr><td class = \"rowNumber\" style = \"font-weight: bold; text-align: right;\">23</td><td style = \"text-align: left;\">t23</td><td style = \"text-align: right;\">60.9</td><td style = \"text-align: right;\">54.375</td><td style = \"text-align: right;\">100.775</td><td style = \"text-align: right;\">42.05</td><td style = \"text-align: right;\">39.875</td><td style = \"text-align: right;\">76.85</td><td style = \"text-align: right;\">70.325</td><td style = \"text-align: right;\">95.7</td><td style = \"text-align: right;\">97.875</td><td style = \"text-align: right;\">108.75</td><td style = \"text-align: right;\">0.0</td><td style = \"text-align: right;\">0.0</td><td style = \"text-align: right;\">148.625</td><td style = \"text-align: right;\">108.75</td><td style = \"text-align: right;\">177.625</td><td style = \"text-align: right;\">55.825</td><td style = \"text-align: right;\">0.0</td><td style = \"text-align: right;\">187.05</td><td style = \"text-align: right;\">102.225</td><td style = \"text-align: right;\">72.5</td><td style = \"text-align: right;\">0.0</td><td style = \"text-align: right;\">0.0</td><td style = \"text-align: right;\">0.0</td><td style = \"text-align: right;\">0.0</td></tr><tr><td class = \"rowNumber\" style = \"font-weight: bold; text-align: right;\">24</td><td style = \"text-align: left;\">t24</td><td style = \"text-align: right;\">54.6</td><td style = \"text-align: right;\">48.75</td><td style = \"text-align: right;\">90.35</td><td style = \"text-align: right;\">37.7</td><td style = \"text-align: right;\">35.75</td><td style = \"text-align: right;\">68.9</td><td style = \"text-align: right;\">63.05</td><td style = \"text-align: right;\">85.8</td><td style = \"text-align: right;\">87.75</td><td style = \"text-align: right;\">97.5</td><td style = \"text-align: right;\">0.0</td><td style = \"text-align: right;\">0.0</td><td style = \"text-align: right;\">133.25</td><td style = \"text-align: right;\">97.5</td><td style = \"text-align: right;\">159.25</td><td style = \"text-align: right;\">50.05</td><td style = \"text-align: right;\">0.0</td><td style = \"text-align: right;\">167.7</td><td style = \"text-align: right;\">91.65</td><td style = \"text-align: right;\">65.0</td><td style = \"text-align: right;\">0.0</td><td style = \"text-align: right;\">0.0</td><td style = \"text-align: right;\">0.0</td><td style = \"text-align: right;\">0.0</td></tr></tbody></table></div>"
      ],
      "text/latex": [
       "\\begin{tabular}{r|cccccccccc}\n",
       "\t& t & n1 & n2 & n3 & n4 & n5 & n6 & n7 & n8 & \\\\\n",
       "\t\\hline\n",
       "\t& String & Float64 & Float64 & Float64 & Float64 & Float64 & Float64 & Float64 & Float64 & \\\\\n",
       "\t\\hline\n",
       "\t1 & t1 & 54.768 & 48.9 & 90.628 & 37.816 & 35.86 & 69.112 & 63.244 & 86.064 & $\\dots$ \\\\\n",
       "\t2 & t2 & 52.332 & 46.725 & 86.597 & 36.134 & 34.265 & 66.038 & 60.431 & 82.236 & $\\dots$ \\\\\n",
       "\t3 & t3 & 52.92 & 47.25 & 87.57 & 36.54 & 34.65 & 66.78 & 61.11 & 83.16 & $\\dots$ \\\\\n",
       "\t4 & t4 & 48.72 & 43.5 & 80.62 & 33.64 & 31.9 & 61.48 & 56.26 & 76.56 & $\\dots$ \\\\\n",
       "\t5 & t5 & 46.2 & 41.25 & 76.45 & 31.9 & 30.25 & 58.3 & 53.35 & 72.6 & $\\dots$ \\\\\n",
       "\t6 & t6 & 46.2 & 41.25 & 76.45 & 31.9 & 30.25 & 58.3 & 53.35 & 72.6 & $\\dots$ \\\\\n",
       "\t7 & t7 & 50.4 & 45.0 & 83.4 & 34.8 & 33.0 & 63.6 & 58.2 & 79.2 & $\\dots$ \\\\\n",
       "\t8 & t8 & 53.76 & 48.0 & 88.96 & 37.12 & 35.2 & 67.84 & 62.08 & 84.48 & $\\dots$ \\\\\n",
       "\t9 & t9 & 59.64 & 53.25 & 98.69 & 41.18 & 39.05 & 75.26 & 68.87 & 93.72 & $\\dots$ \\\\\n",
       "\t10 & t10 & 65.52 & 58.5 & 108.42 & 45.24 & 42.9 & 82.68 & 75.66 & 102.96 & $\\dots$ \\\\\n",
       "\t11 & t11 & 68.04 & 60.75 & 112.59 & 46.98 & 44.55 & 85.86 & 78.57 & 106.92 & $\\dots$ \\\\\n",
       "\t12 & t12 & 68.88 & 61.5 & 113.98 & 47.56 & 45.1 & 86.92 & 79.54 & 108.24 & $\\dots$ \\\\\n",
       "\t13 & t13 & 71.4 & 63.75 & 118.15 & 49.3 & 46.75 & 90.1 & 82.45 & 112.2 & $\\dots$ \\\\\n",
       "\t14 & t14 & 69.72 & 62.25 & 115.37 & 48.14 & 45.65 & 87.98 & 80.51 & 109.56 & $\\dots$ \\\\\n",
       "\t15 & t15 & 70.98 & 63.375 & 117.455 & 49.01 & 46.475 & 89.57 & 81.965 & 111.54 & $\\dots$ \\\\\n",
       "\t16 & t16 & 73.5 & 65.625 & 121.625 & 50.75 & 48.125 & 92.75 & 84.875 & 115.5 & $\\dots$ \\\\\n",
       "\t17 & t17 & 82.32 & 73.5 & 136.22 & 56.84 & 53.9 & 103.88 & 95.06 & 129.36 & $\\dots$ \\\\\n",
       "\t18 & t18 & 84.0 & 75.0 & 139.0 & 58.0 & 55.0 & 106.0 & 97.0 & 132.0 & $\\dots$ \\\\\n",
       "\t19 & t19 & 80.64 & 72.0 & 133.44 & 55.68 & 52.8 & 101.76 & 93.12 & 126.72 & $\\dots$ \\\\\n",
       "\t20 & t20 & 76.44 & 68.25 & 126.49 & 52.78 & 50.05 & 96.46 & 88.27 & 120.12 & $\\dots$ \\\\\n",
       "\t21 & t21 & 71.4 & 63.75 & 118.15 & 49.3 & 46.75 & 90.1 & 82.45 & 112.2 & $\\dots$ \\\\\n",
       "\t22 & t22 & 65.52 & 58.5 & 108.42 & 45.24 & 42.9 & 82.68 & 75.66 & 102.96 & $\\dots$ \\\\\n",
       "\t23 & t23 & 60.9 & 54.375 & 100.775 & 42.05 & 39.875 & 76.85 & 70.325 & 95.7 & $\\dots$ \\\\\n",
       "\t24 & t24 & 54.6 & 48.75 & 90.35 & 37.7 & 35.75 & 68.9 & 63.05 & 85.8 & $\\dots$ \\\\\n",
       "\\end{tabular}\n"
      ],
      "text/plain": [
       "\u001b[1m24×25 DataFrame\u001b[0m\n",
       "\u001b[1m Row \u001b[0m│\u001b[1m t      \u001b[0m\u001b[1m n1      \u001b[0m\u001b[1m n2      \u001b[0m\u001b[1m n3      \u001b[0m\u001b[1m n4      \u001b[0m\u001b[1m n5      \u001b[0m\u001b[1m n6      \u001b[0m\u001b[1m n7      \u001b[0m\u001b[1m \u001b[0m ⋯\n",
       "     │\u001b[90m String \u001b[0m\u001b[90m Float64 \u001b[0m\u001b[90m Float64 \u001b[0m\u001b[90m Float64 \u001b[0m\u001b[90m Float64 \u001b[0m\u001b[90m Float64 \u001b[0m\u001b[90m Float64 \u001b[0m\u001b[90m Float64 \u001b[0m\u001b[90m \u001b[0m ⋯\n",
       "─────┼──────────────────────────────────────────────────────────────────────────\n",
       "   1 │ t1       54.768   48.9     90.628   37.816   35.86    69.112   63.244   ⋯\n",
       "   2 │ t2       52.332   46.725   86.597   36.134   34.265   66.038   60.431\n",
       "   3 │ t3       52.92    47.25    87.57    36.54    34.65    66.78    61.11\n",
       "   4 │ t4       48.72    43.5     80.62    33.64    31.9     61.48    56.26\n",
       "   5 │ t5       46.2     41.25    76.45    31.9     30.25    58.3     53.35    ⋯\n",
       "   6 │ t6       46.2     41.25    76.45    31.9     30.25    58.3     53.35\n",
       "   7 │ t7       50.4     45.0     83.4     34.8     33.0     63.6     58.2\n",
       "   8 │ t8       53.76    48.0     88.96    37.12    35.2     67.84    62.08\n",
       "  ⋮  │   ⋮        ⋮        ⋮        ⋮        ⋮        ⋮        ⋮        ⋮      ⋱\n",
       "  18 │ t18      84.0     75.0    139.0     58.0     55.0    106.0     97.0     ⋯\n",
       "  19 │ t19      80.64    72.0    133.44    55.68    52.8    101.76    93.12\n",
       "  20 │ t20      76.44    68.25   126.49    52.78    50.05    96.46    88.27\n",
       "  21 │ t21      71.4     63.75   118.15    49.3     46.75    90.1     82.45\n",
       "  22 │ t22      65.52    58.5    108.42    45.24    42.9     82.68    75.66    ⋯\n",
       "  23 │ t23      60.9     54.375  100.775   42.05    39.875   76.85    70.325\n",
       "  24 │ t24      54.6     48.75    90.35    37.7     35.75    68.9     63.05\n",
       "\u001b[36m                                                   17 columns and 9 rows omitted\u001b[0m"
      ]
     },
     "metadata": {},
     "output_type": "display_data"
    }
   ],
   "source": [
    "mydata[\"initdemand\"]"
   ]
  },
  {
   "cell_type": "code",
   "execution_count": 13,
   "metadata": {},
   "outputs": [
    {
     "name": "stdout",
     "output_type": "stream",
     "text": [
      "line constraint data read in successfully"
     ]
    }
   ],
   "source": [
    "xl = XLSX.readxlsx(\"data/lineconstraints.xlsx\")\n",
    "linecontraints = XLSX.sheetnames(xl)\n",
    "mydata[\"lineconstraints\"] = DataFrame(XLSX.gettable(xl[\"lineconstraints\"]; infer_eltypes=true))\n",
    "print(\"line constraint data read in successfully\")"
   ]
  },
  {
   "cell_type": "code",
   "execution_count": 14,
   "metadata": {},
   "outputs": [
    {
     "data": {
      "text/html": [
       "<div><div style = \"float: left;\"><span>34×5 DataFrame</span></div><div style = \"float: right;\"><span style = \"font-style: italic;\">9 rows omitted</span></div><div style = \"clear: both;\"></div></div><div class = \"data-frame\" style = \"overflow-x: scroll;\"><table class = \"data-frame\" style = \"margin-bottom: 6px;\"><thead><tr class = \"header\"><th class = \"rowNumber\" style = \"font-weight: bold; text-align: right;\">Row</th><th style = \"text-align: left;\">ID</th><th style = \"text-align: left;\">from</th><th style = \"text-align: left;\">to </th><th style = \"text-align: left;\">X</th><th style = \"text-align: left;\">flowcap</th></tr><tr class = \"subheader headerLastRow\"><th class = \"rowNumber\" style = \"font-weight: bold; text-align: right;\"></th><th title = \"String\" style = \"text-align: left;\">String</th><th title = \"Int64\" style = \"text-align: left;\">Int64</th><th title = \"Int64\" style = \"text-align: left;\">Int64</th><th title = \"Float64\" style = \"text-align: left;\">Float64</th><th title = \"Int64\" style = \"text-align: left;\">Int64</th></tr></thead><tbody><tr><td class = \"rowNumber\" style = \"font-weight: bold; text-align: right;\">1</td><td style = \"text-align: left;\">l1</td><td style = \"text-align: right;\">1</td><td style = \"text-align: right;\">2</td><td style = \"text-align: right;\">0.0146</td><td style = \"text-align: right;\">175</td></tr><tr><td class = \"rowNumber\" style = \"font-weight: bold; text-align: right;\">2</td><td style = \"text-align: left;\">l2</td><td style = \"text-align: right;\">1</td><td style = \"text-align: right;\">3</td><td style = \"text-align: right;\">0.2253</td><td style = \"text-align: right;\">175</td></tr><tr><td class = \"rowNumber\" style = \"font-weight: bold; text-align: right;\">3</td><td style = \"text-align: left;\">l3</td><td style = \"text-align: right;\">1</td><td style = \"text-align: right;\">5</td><td style = \"text-align: right;\">0.907</td><td style = \"text-align: right;\">350</td></tr><tr><td class = \"rowNumber\" style = \"font-weight: bold; text-align: right;\">4</td><td style = \"text-align: left;\">l4</td><td style = \"text-align: right;\">2</td><td style = \"text-align: right;\">4</td><td style = \"text-align: right;\">0.1356</td><td style = \"text-align: right;\">175</td></tr><tr><td class = \"rowNumber\" style = \"font-weight: bold; text-align: right;\">5</td><td style = \"text-align: left;\">l5</td><td style = \"text-align: right;\">2</td><td style = \"text-align: right;\">6</td><td style = \"text-align: right;\">0.205</td><td style = \"text-align: right;\">175</td></tr><tr><td class = \"rowNumber\" style = \"font-weight: bold; text-align: right;\">6</td><td style = \"text-align: left;\">l6</td><td style = \"text-align: right;\">3</td><td style = \"text-align: right;\">9</td><td style = \"text-align: right;\">0.1271</td><td style = \"text-align: right;\">175</td></tr><tr><td class = \"rowNumber\" style = \"font-weight: bold; text-align: right;\">7</td><td style = \"text-align: left;\">l7</td><td style = \"text-align: right;\">3</td><td style = \"text-align: right;\">24</td><td style = \"text-align: right;\">0.084</td><td style = \"text-align: right;\">400</td></tr><tr><td class = \"rowNumber\" style = \"font-weight: bold; text-align: right;\">8</td><td style = \"text-align: left;\">l8</td><td style = \"text-align: right;\">4</td><td style = \"text-align: right;\">9</td><td style = \"text-align: right;\">0.111</td><td style = \"text-align: right;\">175</td></tr><tr><td class = \"rowNumber\" style = \"font-weight: bold; text-align: right;\">9</td><td style = \"text-align: left;\">l9</td><td style = \"text-align: right;\">5</td><td style = \"text-align: right;\">10</td><td style = \"text-align: right;\">0.094</td><td style = \"text-align: right;\">350</td></tr><tr><td class = \"rowNumber\" style = \"font-weight: bold; text-align: right;\">10</td><td style = \"text-align: left;\">l10</td><td style = \"text-align: right;\">6</td><td style = \"text-align: right;\">10</td><td style = \"text-align: right;\">0.0642</td><td style = \"text-align: right;\">175</td></tr><tr><td class = \"rowNumber\" style = \"font-weight: bold; text-align: right;\">11</td><td style = \"text-align: left;\">l11</td><td style = \"text-align: right;\">7</td><td style = \"text-align: right;\">8</td><td style = \"text-align: right;\">0.0652</td><td style = \"text-align: right;\">350</td></tr><tr><td class = \"rowNumber\" style = \"font-weight: bold; text-align: right;\">12</td><td style = \"text-align: left;\">l12</td><td style = \"text-align: right;\">8</td><td style = \"text-align: right;\">9</td><td style = \"text-align: right;\">0.1762</td><td style = \"text-align: right;\">175</td></tr><tr><td class = \"rowNumber\" style = \"font-weight: bold; text-align: right;\">13</td><td style = \"text-align: left;\">l13</td><td style = \"text-align: right;\">8</td><td style = \"text-align: right;\">10</td><td style = \"text-align: right;\">0.1762</td><td style = \"text-align: right;\">175</td></tr><tr><td style = \"text-align: right;\">&vellip;</td><td style = \"text-align: right;\">&vellip;</td><td style = \"text-align: right;\">&vellip;</td><td style = \"text-align: right;\">&vellip;</td><td style = \"text-align: right;\">&vellip;</td><td style = \"text-align: right;\">&vellip;</td></tr><tr><td class = \"rowNumber\" style = \"font-weight: bold; text-align: right;\">23</td><td style = \"text-align: left;\">l23</td><td style = \"text-align: right;\">14</td><td style = \"text-align: right;\">16</td><td style = \"text-align: right;\">0.0598</td><td style = \"text-align: right;\">250</td></tr><tr><td class = \"rowNumber\" style = \"font-weight: bold; text-align: right;\">24</td><td style = \"text-align: left;\">l24</td><td style = \"text-align: right;\">15</td><td style = \"text-align: right;\">16</td><td style = \"text-align: right;\">0.0172</td><td style = \"text-align: right;\">500</td></tr><tr><td class = \"rowNumber\" style = \"font-weight: bold; text-align: right;\">25</td><td style = \"text-align: left;\">l26</td><td style = \"text-align: right;\">15</td><td style = \"text-align: right;\">21</td><td style = \"text-align: right;\">0.0249</td><td style = \"text-align: right;\">400</td></tr><tr><td class = \"rowNumber\" style = \"font-weight: bold; text-align: right;\">26</td><td style = \"text-align: left;\">l27</td><td style = \"text-align: right;\">15</td><td style = \"text-align: right;\">24</td><td style = \"text-align: right;\">0.0529</td><td style = \"text-align: right;\">500</td></tr><tr><td class = \"rowNumber\" style = \"font-weight: bold; text-align: right;\">27</td><td style = \"text-align: left;\">l28</td><td style = \"text-align: right;\">16</td><td style = \"text-align: right;\">17</td><td style = \"text-align: right;\">0.0263</td><td style = \"text-align: right;\">500</td></tr><tr><td class = \"rowNumber\" style = \"font-weight: bold; text-align: right;\">28</td><td style = \"text-align: left;\">l29</td><td style = \"text-align: right;\">16</td><td style = \"text-align: right;\">19</td><td style = \"text-align: right;\">0.0234</td><td style = \"text-align: right;\">500</td></tr><tr><td class = \"rowNumber\" style = \"font-weight: bold; text-align: right;\">29</td><td style = \"text-align: left;\">l30</td><td style = \"text-align: right;\">17</td><td style = \"text-align: right;\">18</td><td style = \"text-align: right;\">0.0143</td><td style = \"text-align: right;\">500</td></tr><tr><td class = \"rowNumber\" style = \"font-weight: bold; text-align: right;\">30</td><td style = \"text-align: left;\">l31</td><td style = \"text-align: right;\">17</td><td style = \"text-align: right;\">22</td><td style = \"text-align: right;\">0.1096</td><td style = \"text-align: right;\">500</td></tr><tr><td class = \"rowNumber\" style = \"font-weight: bold; text-align: right;\">31</td><td style = \"text-align: left;\">l32</td><td style = \"text-align: right;\">18</td><td style = \"text-align: right;\">21</td><td style = \"text-align: right;\">0.0132</td><td style = \"text-align: right;\">1000</td></tr><tr><td class = \"rowNumber\" style = \"font-weight: bold; text-align: right;\">32</td><td style = \"text-align: left;\">l33</td><td style = \"text-align: right;\">19</td><td style = \"text-align: right;\">20</td><td style = \"text-align: right;\">0.0203</td><td style = \"text-align: right;\">1000</td></tr><tr><td class = \"rowNumber\" style = \"font-weight: bold; text-align: right;\">33</td><td style = \"text-align: left;\">l34</td><td style = \"text-align: right;\">20</td><td style = \"text-align: right;\">23</td><td style = \"text-align: right;\">0.0112</td><td style = \"text-align: right;\">1000</td></tr><tr><td class = \"rowNumber\" style = \"font-weight: bold; text-align: right;\">34</td><td style = \"text-align: left;\">l35</td><td style = \"text-align: right;\">21</td><td style = \"text-align: right;\">22</td><td style = \"text-align: right;\">0.0692</td><td style = \"text-align: right;\">500</td></tr></tbody></table></div>"
      ],
      "text/latex": [
       "\\begin{tabular}{r|ccccc}\n",
       "\t& ID & from & to  & X & flowcap\\\\\n",
       "\t\\hline\n",
       "\t& String & Int64 & Int64 & Float64 & Int64\\\\\n",
       "\t\\hline\n",
       "\t1 & l1 & 1 & 2 & 0.0146 & 175 \\\\\n",
       "\t2 & l2 & 1 & 3 & 0.2253 & 175 \\\\\n",
       "\t3 & l3 & 1 & 5 & 0.907 & 350 \\\\\n",
       "\t4 & l4 & 2 & 4 & 0.1356 & 175 \\\\\n",
       "\t5 & l5 & 2 & 6 & 0.205 & 175 \\\\\n",
       "\t6 & l6 & 3 & 9 & 0.1271 & 175 \\\\\n",
       "\t7 & l7 & 3 & 24 & 0.084 & 400 \\\\\n",
       "\t8 & l8 & 4 & 9 & 0.111 & 175 \\\\\n",
       "\t9 & l9 & 5 & 10 & 0.094 & 350 \\\\\n",
       "\t10 & l10 & 6 & 10 & 0.0642 & 175 \\\\\n",
       "\t11 & l11 & 7 & 8 & 0.0652 & 350 \\\\\n",
       "\t12 & l12 & 8 & 9 & 0.1762 & 175 \\\\\n",
       "\t13 & l13 & 8 & 10 & 0.1762 & 175 \\\\\n",
       "\t14 & l14 & 9 & 11 & 0.084 & 400 \\\\\n",
       "\t15 & l15 & 9 & 12 & 0.084 & 400 \\\\\n",
       "\t16 & l16 & 10 & 11 & 0.084 & 400 \\\\\n",
       "\t17 & l17 & 10 & 12 & 0.084 & 400 \\\\\n",
       "\t18 & l18 & 11 & 13 & 0.0488 & 500 \\\\\n",
       "\t19 & l19 & 11 & 14 & 0.0426 & 500 \\\\\n",
       "\t20 & l20 & 12 & 13 & 0.0488 & 500 \\\\\n",
       "\t21 & l21 & 12 & 23 & 0.0985 & 500 \\\\\n",
       "\t22 & l22 & 13 & 23 & 0.0884 & 250 \\\\\n",
       "\t23 & l23 & 14 & 16 & 0.0598 & 250 \\\\\n",
       "\t24 & l24 & 15 & 16 & 0.0172 & 500 \\\\\n",
       "\t$\\dots$ & $\\dots$ & $\\dots$ & $\\dots$ & $\\dots$ & $\\dots$ \\\\\n",
       "\\end{tabular}\n"
      ],
      "text/plain": [
       "\u001b[1m34×5 DataFrame\u001b[0m\n",
       "\u001b[1m Row \u001b[0m│\u001b[1m ID     \u001b[0m\u001b[1m from  \u001b[0m\u001b[1m to    \u001b[0m\u001b[1m X       \u001b[0m\u001b[1m flowcap \u001b[0m\n",
       "     │\u001b[90m String \u001b[0m\u001b[90m Int64 \u001b[0m\u001b[90m Int64 \u001b[0m\u001b[90m Float64 \u001b[0m\u001b[90m Int64   \u001b[0m\n",
       "─────┼────────────────────────────────────────\n",
       "   1 │ l1          1      2   0.0146      175\n",
       "   2 │ l2          1      3   0.2253      175\n",
       "   3 │ l3          1      5   0.907       350\n",
       "   4 │ l4          2      4   0.1356      175\n",
       "   5 │ l5          2      6   0.205       175\n",
       "   6 │ l6          3      9   0.1271      175\n",
       "   7 │ l7          3     24   0.084       400\n",
       "   8 │ l8          4      9   0.111       175\n",
       "  ⋮  │   ⋮       ⋮      ⋮       ⋮        ⋮\n",
       "  28 │ l29        16     19   0.0234      500\n",
       "  29 │ l30        17     18   0.0143      500\n",
       "  30 │ l31        17     22   0.1096      500\n",
       "  31 │ l32        18     21   0.0132     1000\n",
       "  32 │ l33        19     20   0.0203     1000\n",
       "  33 │ l34        20     23   0.0112     1000\n",
       "  34 │ l35        21     22   0.0692      500\n",
       "\u001b[36m                               19 rows omitted\u001b[0m"
      ]
     },
     "metadata": {},
     "output_type": "display_data"
    }
   ],
   "source": [
    "mydata[\"lineconstraints\"]"
   ]
  },
  {
   "cell_type": "code",
   "execution_count": 15,
   "metadata": {},
   "outputs": [
    {
     "name": "stdout",
     "output_type": "stream",
     "text": [
      "node data read in successfully"
     ]
    }
   ],
   "source": [
    "xl = XLSX.readxlsx(\"data/nodeinfo.xlsx\")\n",
    "nodeinfo = XLSX.sheetnames(xl)\n",
    "mydata[\"nodeinfo\"] = DataFrame(XLSX.gettable(xl[\"nodeinfo\"]; infer_eltypes=true))\n",
    "print(\"node data read in successfully\")"
   ]
  },
  {
   "cell_type": "code",
   "execution_count": 16,
   "metadata": {},
   "outputs": [
    {
     "data": {
      "text/html": [
       "<div><div style = \"float: left;\"><span>24×2 DataFrame</span></div><div style = \"clear: both;\"></div></div><div class = \"data-frame\" style = \"overflow-x: scroll;\"><table class = \"data-frame\" style = \"margin-bottom: 6px;\"><thead><tr class = \"header\"><th class = \"rowNumber\" style = \"font-weight: bold; text-align: right;\">Row</th><th style = \"text-align: left;\">ID</th><th style = \"text-align: left;\">Num</th></tr><tr class = \"subheader headerLastRow\"><th class = \"rowNumber\" style = \"font-weight: bold; text-align: right;\"></th><th title = \"String\" style = \"text-align: left;\">String</th><th title = \"Int64\" style = \"text-align: left;\">Int64</th></tr></thead><tbody><tr><td class = \"rowNumber\" style = \"font-weight: bold; text-align: right;\">1</td><td style = \"text-align: left;\">n1</td><td style = \"text-align: right;\">1</td></tr><tr><td class = \"rowNumber\" style = \"font-weight: bold; text-align: right;\">2</td><td style = \"text-align: left;\">n2</td><td style = \"text-align: right;\">2</td></tr><tr><td class = \"rowNumber\" style = \"font-weight: bold; text-align: right;\">3</td><td style = \"text-align: left;\">n3</td><td style = \"text-align: right;\">3</td></tr><tr><td class = \"rowNumber\" style = \"font-weight: bold; text-align: right;\">4</td><td style = \"text-align: left;\">n4</td><td style = \"text-align: right;\">4</td></tr><tr><td class = \"rowNumber\" style = \"font-weight: bold; text-align: right;\">5</td><td style = \"text-align: left;\">n5</td><td style = \"text-align: right;\">5</td></tr><tr><td class = \"rowNumber\" style = \"font-weight: bold; text-align: right;\">6</td><td style = \"text-align: left;\">n6</td><td style = \"text-align: right;\">6</td></tr><tr><td class = \"rowNumber\" style = \"font-weight: bold; text-align: right;\">7</td><td style = \"text-align: left;\">n7</td><td style = \"text-align: right;\">7</td></tr><tr><td class = \"rowNumber\" style = \"font-weight: bold; text-align: right;\">8</td><td style = \"text-align: left;\">n8</td><td style = \"text-align: right;\">8</td></tr><tr><td class = \"rowNumber\" style = \"font-weight: bold; text-align: right;\">9</td><td style = \"text-align: left;\">n9</td><td style = \"text-align: right;\">9</td></tr><tr><td class = \"rowNumber\" style = \"font-weight: bold; text-align: right;\">10</td><td style = \"text-align: left;\">n10</td><td style = \"text-align: right;\">10</td></tr><tr><td class = \"rowNumber\" style = \"font-weight: bold; text-align: right;\">11</td><td style = \"text-align: left;\">n11</td><td style = \"text-align: right;\">11</td></tr><tr><td class = \"rowNumber\" style = \"font-weight: bold; text-align: right;\">12</td><td style = \"text-align: left;\">n12</td><td style = \"text-align: right;\">12</td></tr><tr><td class = \"rowNumber\" style = \"font-weight: bold; text-align: right;\">13</td><td style = \"text-align: left;\">n13</td><td style = \"text-align: right;\">13</td></tr><tr><td class = \"rowNumber\" style = \"font-weight: bold; text-align: right;\">14</td><td style = \"text-align: left;\">n14</td><td style = \"text-align: right;\">14</td></tr><tr><td class = \"rowNumber\" style = \"font-weight: bold; text-align: right;\">15</td><td style = \"text-align: left;\">n15</td><td style = \"text-align: right;\">15</td></tr><tr><td class = \"rowNumber\" style = \"font-weight: bold; text-align: right;\">16</td><td style = \"text-align: left;\">n16</td><td style = \"text-align: right;\">16</td></tr><tr><td class = \"rowNumber\" style = \"font-weight: bold; text-align: right;\">17</td><td style = \"text-align: left;\">n17</td><td style = \"text-align: right;\">17</td></tr><tr><td class = \"rowNumber\" style = \"font-weight: bold; text-align: right;\">18</td><td style = \"text-align: left;\">n18</td><td style = \"text-align: right;\">18</td></tr><tr><td class = \"rowNumber\" style = \"font-weight: bold; text-align: right;\">19</td><td style = \"text-align: left;\">n19</td><td style = \"text-align: right;\">19</td></tr><tr><td class = \"rowNumber\" style = \"font-weight: bold; text-align: right;\">20</td><td style = \"text-align: left;\">n20</td><td style = \"text-align: right;\">20</td></tr><tr><td class = \"rowNumber\" style = \"font-weight: bold; text-align: right;\">21</td><td style = \"text-align: left;\">n21</td><td style = \"text-align: right;\">21</td></tr><tr><td class = \"rowNumber\" style = \"font-weight: bold; text-align: right;\">22</td><td style = \"text-align: left;\">n22</td><td style = \"text-align: right;\">22</td></tr><tr><td class = \"rowNumber\" style = \"font-weight: bold; text-align: right;\">23</td><td style = \"text-align: left;\">n23</td><td style = \"text-align: right;\">23</td></tr><tr><td class = \"rowNumber\" style = \"font-weight: bold; text-align: right;\">24</td><td style = \"text-align: left;\">n24</td><td style = \"text-align: right;\">24</td></tr></tbody></table></div>"
      ],
      "text/latex": [
       "\\begin{tabular}{r|cc}\n",
       "\t& ID & Num\\\\\n",
       "\t\\hline\n",
       "\t& String & Int64\\\\\n",
       "\t\\hline\n",
       "\t1 & n1 & 1 \\\\\n",
       "\t2 & n2 & 2 \\\\\n",
       "\t3 & n3 & 3 \\\\\n",
       "\t4 & n4 & 4 \\\\\n",
       "\t5 & n5 & 5 \\\\\n",
       "\t6 & n6 & 6 \\\\\n",
       "\t7 & n7 & 7 \\\\\n",
       "\t8 & n8 & 8 \\\\\n",
       "\t9 & n9 & 9 \\\\\n",
       "\t10 & n10 & 10 \\\\\n",
       "\t11 & n11 & 11 \\\\\n",
       "\t12 & n12 & 12 \\\\\n",
       "\t13 & n13 & 13 \\\\\n",
       "\t14 & n14 & 14 \\\\\n",
       "\t15 & n15 & 15 \\\\\n",
       "\t16 & n16 & 16 \\\\\n",
       "\t17 & n17 & 17 \\\\\n",
       "\t18 & n18 & 18 \\\\\n",
       "\t19 & n19 & 19 \\\\\n",
       "\t20 & n20 & 20 \\\\\n",
       "\t21 & n21 & 21 \\\\\n",
       "\t22 & n22 & 22 \\\\\n",
       "\t23 & n23 & 23 \\\\\n",
       "\t24 & n24 & 24 \\\\\n",
       "\\end{tabular}\n"
      ],
      "text/plain": [
       "\u001b[1m24×2 DataFrame\u001b[0m\n",
       "\u001b[1m Row \u001b[0m│\u001b[1m ID     \u001b[0m\u001b[1m Num   \u001b[0m\n",
       "     │\u001b[90m String \u001b[0m\u001b[90m Int64 \u001b[0m\n",
       "─────┼───────────────\n",
       "   1 │ n1          1\n",
       "   2 │ n2          2\n",
       "   3 │ n3          3\n",
       "   4 │ n4          4\n",
       "   5 │ n5          5\n",
       "   6 │ n6          6\n",
       "   7 │ n7          7\n",
       "   8 │ n8          8\n",
       "  ⋮  │   ⋮       ⋮\n",
       "  18 │ n18        18\n",
       "  19 │ n19        19\n",
       "  20 │ n20        20\n",
       "  21 │ n21        21\n",
       "  22 │ n22        22\n",
       "  23 │ n23        23\n",
       "  24 │ n24        24\n",
       "\u001b[36m       9 rows omitted\u001b[0m"
      ]
     },
     "metadata": {},
     "output_type": "display_data"
    }
   ],
   "source": [
    "mydata[\"nodeinfo\"]"
   ]
  },
  {
   "cell_type": "code",
   "execution_count": 17,
   "metadata": {},
   "outputs": [
    {
     "name": "stdout",
     "output_type": "stream",
     "text": [
      "shifting information read in successfully"
     ]
    }
   ],
   "source": [
    "xl = XLSX.readxlsx(\"data/shiftinginfonew.xlsx\")\n",
    "shiftinginfo = XLSX.sheetnames(xl)\n",
    "mydata[\"shiftinginfo\"] = DataFrame(XLSX.gettable(xl[\"shiftinginfo\"]; infer_eltypes=true))\n",
    "print(\"shifting information read in successfully\")"
   ]
  },
  {
   "cell_type": "code",
   "execution_count": 18,
   "metadata": {},
   "outputs": [
    {
     "data": {
      "text/html": [
       "<div><div style = \"float: left;\"><span>648×7 DataFrame</span></div><div style = \"float: right;\"><span style = \"font-style: italic;\">623 rows omitted</span></div><div style = \"clear: both;\"></div></div><div class = \"data-frame\" style = \"overflow-x: scroll;\"><table class = \"data-frame\" style = \"margin-bottom: 6px;\"><thead><tr class = \"header\"><th class = \"rowNumber\" style = \"font-weight: bold; text-align: right;\">Row</th><th style = \"text-align: left;\">t</th><th style = \"text-align: left;\">n</th><th style = \"text-align: left;\">k</th><th style = \"text-align: left;\">cost</th><th style = \"text-align: left;\">min</th><th style = \"text-align: left;\">max</th><th style = \"text-align: left;\">costb</th></tr><tr class = \"subheader headerLastRow\"><th class = \"rowNumber\" style = \"font-weight: bold; text-align: right;\"></th><th title = \"String\" style = \"text-align: left;\">String</th><th title = \"String\" style = \"text-align: left;\">String</th><th title = \"String\" style = \"text-align: left;\">String</th><th title = \"Int64\" style = \"text-align: left;\">Int64</th><th title = \"Float64\" style = \"text-align: left;\">Float64</th><th title = \"Float64\" style = \"text-align: left;\">Float64</th><th title = \"Int64\" style = \"text-align: left;\">Int64</th></tr></thead><tbody><tr><td class = \"rowNumber\" style = \"font-weight: bold; text-align: right;\">1</td><td style = \"text-align: left;\">t12</td><td style = \"text-align: left;\">n1</td><td style = \"text-align: left;\">k1</td><td style = \"text-align: right;\">10</td><td style = \"text-align: right;\">0.51</td><td style = \"text-align: right;\">0.56</td><td style = \"text-align: right;\">8</td></tr><tr><td class = \"rowNumber\" style = \"font-weight: bold; text-align: right;\">2</td><td style = \"text-align: left;\">t12</td><td style = \"text-align: left;\">n1</td><td style = \"text-align: left;\">k2</td><td style = \"text-align: right;\">12</td><td style = \"text-align: right;\">0.51</td><td style = \"text-align: right;\">0.56</td><td style = \"text-align: right;\">10</td></tr><tr><td class = \"rowNumber\" style = \"font-weight: bold; text-align: right;\">3</td><td style = \"text-align: left;\">t12</td><td style = \"text-align: left;\">n1</td><td style = \"text-align: left;\">k3</td><td style = \"text-align: right;\">14</td><td style = \"text-align: right;\">0.51</td><td style = \"text-align: right;\">0.56</td><td style = \"text-align: right;\">12</td></tr><tr><td class = \"rowNumber\" style = \"font-weight: bold; text-align: right;\">4</td><td style = \"text-align: left;\">t12</td><td style = \"text-align: left;\">n2</td><td style = \"text-align: left;\">k1</td><td style = \"text-align: right;\">10</td><td style = \"text-align: right;\">0.51</td><td style = \"text-align: right;\">0.56</td><td style = \"text-align: right;\">8</td></tr><tr><td class = \"rowNumber\" style = \"font-weight: bold; text-align: right;\">5</td><td style = \"text-align: left;\">t12</td><td style = \"text-align: left;\">n2</td><td style = \"text-align: left;\">k2</td><td style = \"text-align: right;\">12</td><td style = \"text-align: right;\">0.51</td><td style = \"text-align: right;\">0.56</td><td style = \"text-align: right;\">10</td></tr><tr><td class = \"rowNumber\" style = \"font-weight: bold; text-align: right;\">6</td><td style = \"text-align: left;\">t12</td><td style = \"text-align: left;\">n2</td><td style = \"text-align: left;\">k3</td><td style = \"text-align: right;\">14</td><td style = \"text-align: right;\">0.51</td><td style = \"text-align: right;\">0.56</td><td style = \"text-align: right;\">12</td></tr><tr><td class = \"rowNumber\" style = \"font-weight: bold; text-align: right;\">7</td><td style = \"text-align: left;\">t12</td><td style = \"text-align: left;\">n3</td><td style = \"text-align: left;\">k1</td><td style = \"text-align: right;\">10</td><td style = \"text-align: right;\">0.51</td><td style = \"text-align: right;\">0.56</td><td style = \"text-align: right;\">8</td></tr><tr><td class = \"rowNumber\" style = \"font-weight: bold; text-align: right;\">8</td><td style = \"text-align: left;\">t12</td><td style = \"text-align: left;\">n3</td><td style = \"text-align: left;\">k2</td><td style = \"text-align: right;\">12</td><td style = \"text-align: right;\">0.51</td><td style = \"text-align: right;\">0.56</td><td style = \"text-align: right;\">10</td></tr><tr><td class = \"rowNumber\" style = \"font-weight: bold; text-align: right;\">9</td><td style = \"text-align: left;\">t12</td><td style = \"text-align: left;\">n3</td><td style = \"text-align: left;\">k3</td><td style = \"text-align: right;\">14</td><td style = \"text-align: right;\">0.51</td><td style = \"text-align: right;\">0.56</td><td style = \"text-align: right;\">12</td></tr><tr><td class = \"rowNumber\" style = \"font-weight: bold; text-align: right;\">10</td><td style = \"text-align: left;\">t12</td><td style = \"text-align: left;\">n4</td><td style = \"text-align: left;\">k1</td><td style = \"text-align: right;\">10</td><td style = \"text-align: right;\">0.51</td><td style = \"text-align: right;\">0.56</td><td style = \"text-align: right;\">8</td></tr><tr><td class = \"rowNumber\" style = \"font-weight: bold; text-align: right;\">11</td><td style = \"text-align: left;\">t12</td><td style = \"text-align: left;\">n4</td><td style = \"text-align: left;\">k2</td><td style = \"text-align: right;\">12</td><td style = \"text-align: right;\">0.51</td><td style = \"text-align: right;\">0.56</td><td style = \"text-align: right;\">10</td></tr><tr><td class = \"rowNumber\" style = \"font-weight: bold; text-align: right;\">12</td><td style = \"text-align: left;\">t12</td><td style = \"text-align: left;\">n4</td><td style = \"text-align: left;\">k3</td><td style = \"text-align: right;\">14</td><td style = \"text-align: right;\">0.51</td><td style = \"text-align: right;\">0.56</td><td style = \"text-align: right;\">12</td></tr><tr><td class = \"rowNumber\" style = \"font-weight: bold; text-align: right;\">13</td><td style = \"text-align: left;\">t12</td><td style = \"text-align: left;\">n5</td><td style = \"text-align: left;\">k1</td><td style = \"text-align: right;\">10</td><td style = \"text-align: right;\">0.51</td><td style = \"text-align: right;\">0.56</td><td style = \"text-align: right;\">8</td></tr><tr><td style = \"text-align: right;\">&vellip;</td><td style = \"text-align: right;\">&vellip;</td><td style = \"text-align: right;\">&vellip;</td><td style = \"text-align: right;\">&vellip;</td><td style = \"text-align: right;\">&vellip;</td><td style = \"text-align: right;\">&vellip;</td><td style = \"text-align: right;\">&vellip;</td><td style = \"text-align: right;\">&vellip;</td></tr><tr><td class = \"rowNumber\" style = \"font-weight: bold; text-align: right;\">637</td><td style = \"text-align: left;\">t20</td><td style = \"text-align: left;\">n21</td><td style = \"text-align: left;\">k1</td><td style = \"text-align: right;\">10</td><td style = \"text-align: right;\">1.05</td><td style = \"text-align: right;\">1.11</td><td style = \"text-align: right;\">8</td></tr><tr><td class = \"rowNumber\" style = \"font-weight: bold; text-align: right;\">638</td><td style = \"text-align: left;\">t20</td><td style = \"text-align: left;\">n21</td><td style = \"text-align: left;\">k2</td><td style = \"text-align: right;\">12</td><td style = \"text-align: right;\">1.05</td><td style = \"text-align: right;\">1.11</td><td style = \"text-align: right;\">10</td></tr><tr><td class = \"rowNumber\" style = \"font-weight: bold; text-align: right;\">639</td><td style = \"text-align: left;\">t20</td><td style = \"text-align: left;\">n21</td><td style = \"text-align: left;\">k3</td><td style = \"text-align: right;\">14</td><td style = \"text-align: right;\">1.05</td><td style = \"text-align: right;\">1.11</td><td style = \"text-align: right;\">12</td></tr><tr><td class = \"rowNumber\" style = \"font-weight: bold; text-align: right;\">640</td><td style = \"text-align: left;\">t20</td><td style = \"text-align: left;\">n22</td><td style = \"text-align: left;\">k1</td><td style = \"text-align: right;\">10</td><td style = \"text-align: right;\">1.05</td><td style = \"text-align: right;\">1.11</td><td style = \"text-align: right;\">8</td></tr><tr><td class = \"rowNumber\" style = \"font-weight: bold; text-align: right;\">641</td><td style = \"text-align: left;\">t20</td><td style = \"text-align: left;\">n22</td><td style = \"text-align: left;\">k2</td><td style = \"text-align: right;\">12</td><td style = \"text-align: right;\">1.05</td><td style = \"text-align: right;\">1.11</td><td style = \"text-align: right;\">10</td></tr><tr><td class = \"rowNumber\" style = \"font-weight: bold; text-align: right;\">642</td><td style = \"text-align: left;\">t20</td><td style = \"text-align: left;\">n22</td><td style = \"text-align: left;\">k3</td><td style = \"text-align: right;\">14</td><td style = \"text-align: right;\">1.05</td><td style = \"text-align: right;\">1.11</td><td style = \"text-align: right;\">12</td></tr><tr><td class = \"rowNumber\" style = \"font-weight: bold; text-align: right;\">643</td><td style = \"text-align: left;\">t20</td><td style = \"text-align: left;\">n23</td><td style = \"text-align: left;\">k1</td><td style = \"text-align: right;\">10</td><td style = \"text-align: right;\">1.05</td><td style = \"text-align: right;\">1.11</td><td style = \"text-align: right;\">8</td></tr><tr><td class = \"rowNumber\" style = \"font-weight: bold; text-align: right;\">644</td><td style = \"text-align: left;\">t20</td><td style = \"text-align: left;\">n23</td><td style = \"text-align: left;\">k2</td><td style = \"text-align: right;\">12</td><td style = \"text-align: right;\">1.05</td><td style = \"text-align: right;\">1.11</td><td style = \"text-align: right;\">10</td></tr><tr><td class = \"rowNumber\" style = \"font-weight: bold; text-align: right;\">645</td><td style = \"text-align: left;\">t20</td><td style = \"text-align: left;\">n23</td><td style = \"text-align: left;\">k3</td><td style = \"text-align: right;\">14</td><td style = \"text-align: right;\">1.05</td><td style = \"text-align: right;\">1.11</td><td style = \"text-align: right;\">12</td></tr><tr><td class = \"rowNumber\" style = \"font-weight: bold; text-align: right;\">646</td><td style = \"text-align: left;\">t20</td><td style = \"text-align: left;\">n24</td><td style = \"text-align: left;\">k1</td><td style = \"text-align: right;\">10</td><td style = \"text-align: right;\">1.05</td><td style = \"text-align: right;\">1.11</td><td style = \"text-align: right;\">8</td></tr><tr><td class = \"rowNumber\" style = \"font-weight: bold; text-align: right;\">647</td><td style = \"text-align: left;\">t20</td><td style = \"text-align: left;\">n24</td><td style = \"text-align: left;\">k2</td><td style = \"text-align: right;\">12</td><td style = \"text-align: right;\">1.05</td><td style = \"text-align: right;\">1.11</td><td style = \"text-align: right;\">10</td></tr><tr><td class = \"rowNumber\" style = \"font-weight: bold; text-align: right;\">648</td><td style = \"text-align: left;\">t20</td><td style = \"text-align: left;\">n24</td><td style = \"text-align: left;\">k3</td><td style = \"text-align: right;\">14</td><td style = \"text-align: right;\">1.05</td><td style = \"text-align: right;\">1.11</td><td style = \"text-align: right;\">12</td></tr></tbody></table></div>"
      ],
      "text/latex": [
       "\\begin{tabular}{r|ccccccc}\n",
       "\t& t & n & k & cost & min & max & costb\\\\\n",
       "\t\\hline\n",
       "\t& String & String & String & Int64 & Float64 & Float64 & Int64\\\\\n",
       "\t\\hline\n",
       "\t1 & t12 & n1 & k1 & 10 & 0.51 & 0.56 & 8 \\\\\n",
       "\t2 & t12 & n1 & k2 & 12 & 0.51 & 0.56 & 10 \\\\\n",
       "\t3 & t12 & n1 & k3 & 14 & 0.51 & 0.56 & 12 \\\\\n",
       "\t4 & t12 & n2 & k1 & 10 & 0.51 & 0.56 & 8 \\\\\n",
       "\t5 & t12 & n2 & k2 & 12 & 0.51 & 0.56 & 10 \\\\\n",
       "\t6 & t12 & n2 & k3 & 14 & 0.51 & 0.56 & 12 \\\\\n",
       "\t7 & t12 & n3 & k1 & 10 & 0.51 & 0.56 & 8 \\\\\n",
       "\t8 & t12 & n3 & k2 & 12 & 0.51 & 0.56 & 10 \\\\\n",
       "\t9 & t12 & n3 & k3 & 14 & 0.51 & 0.56 & 12 \\\\\n",
       "\t10 & t12 & n4 & k1 & 10 & 0.51 & 0.56 & 8 \\\\\n",
       "\t11 & t12 & n4 & k2 & 12 & 0.51 & 0.56 & 10 \\\\\n",
       "\t12 & t12 & n4 & k3 & 14 & 0.51 & 0.56 & 12 \\\\\n",
       "\t13 & t12 & n5 & k1 & 10 & 0.51 & 0.56 & 8 \\\\\n",
       "\t14 & t12 & n5 & k2 & 12 & 0.51 & 0.56 & 10 \\\\\n",
       "\t15 & t12 & n5 & k3 & 14 & 0.51 & 0.56 & 12 \\\\\n",
       "\t16 & t12 & n6 & k1 & 10 & 0.51 & 0.56 & 8 \\\\\n",
       "\t17 & t12 & n6 & k2 & 12 & 0.51 & 0.56 & 10 \\\\\n",
       "\t18 & t12 & n6 & k3 & 14 & 0.51 & 0.56 & 12 \\\\\n",
       "\t19 & t12 & n7 & k1 & 10 & 0.51 & 0.56 & 8 \\\\\n",
       "\t20 & t12 & n7 & k2 & 12 & 0.51 & 0.56 & 10 \\\\\n",
       "\t21 & t12 & n7 & k3 & 14 & 0.51 & 0.56 & 12 \\\\\n",
       "\t22 & t12 & n8 & k1 & 10 & 0.51 & 0.56 & 8 \\\\\n",
       "\t23 & t12 & n8 & k2 & 12 & 0.51 & 0.56 & 10 \\\\\n",
       "\t24 & t12 & n8 & k3 & 14 & 0.51 & 0.56 & 12 \\\\\n",
       "\t$\\dots$ & $\\dots$ & $\\dots$ & $\\dots$ & $\\dots$ & $\\dots$ & $\\dots$ & $\\dots$ \\\\\n",
       "\\end{tabular}\n"
      ],
      "text/plain": [
       "\u001b[1m648×7 DataFrame\u001b[0m\n",
       "\u001b[1m Row \u001b[0m│\u001b[1m t      \u001b[0m\u001b[1m n      \u001b[0m\u001b[1m k      \u001b[0m\u001b[1m cost  \u001b[0m\u001b[1m min     \u001b[0m\u001b[1m max     \u001b[0m\u001b[1m costb \u001b[0m\n",
       "     │\u001b[90m String \u001b[0m\u001b[90m String \u001b[0m\u001b[90m String \u001b[0m\u001b[90m Int64 \u001b[0m\u001b[90m Float64 \u001b[0m\u001b[90m Float64 \u001b[0m\u001b[90m Int64 \u001b[0m\n",
       "─────┼────────────────────────────────────────────────────────\n",
       "   1 │ t12     n1      k1         10     0.51     0.56      8\n",
       "   2 │ t12     n1      k2         12     0.51     0.56     10\n",
       "   3 │ t12     n1      k3         14     0.51     0.56     12\n",
       "   4 │ t12     n2      k1         10     0.51     0.56      8\n",
       "   5 │ t12     n2      k2         12     0.51     0.56     10\n",
       "   6 │ t12     n2      k3         14     0.51     0.56     12\n",
       "   7 │ t12     n3      k1         10     0.51     0.56      8\n",
       "   8 │ t12     n3      k2         12     0.51     0.56     10\n",
       "  ⋮  │   ⋮       ⋮       ⋮       ⋮       ⋮        ⋮       ⋮\n",
       " 642 │ t20     n22     k3         14     1.05     1.11     12\n",
       " 643 │ t20     n23     k1         10     1.05     1.11      8\n",
       " 644 │ t20     n23     k2         12     1.05     1.11     10\n",
       " 645 │ t20     n23     k3         14     1.05     1.11     12\n",
       " 646 │ t20     n24     k1         10     1.05     1.11      8\n",
       " 647 │ t20     n24     k2         12     1.05     1.11     10\n",
       " 648 │ t20     n24     k3         14     1.05     1.11     12\n",
       "\u001b[36m                                              633 rows omitted\u001b[0m"
      ]
     },
     "metadata": {},
     "output_type": "display_data"
    }
   ],
   "source": [
    "mydata[\"shiftinginfo\"]"
   ]
  },
  {
   "cell_type": "code",
   "execution_count": 19,
   "metadata": {},
   "outputs": [
    {
     "name": "stdout",
     "output_type": "stream",
     "text": [
      "windfarm data read in successfully"
     ]
    }
   ],
   "source": [
    "xl = XLSX.readxlsx(\"data/windfarminfo.xlsx\")\n",
    "windfarminfo = XLSX.sheetnames(xl)\n",
    "mydata[\"windfarminfo\"] = DataFrame(XLSX.gettable(xl[\"windfarminfo\"]; infer_eltypes=true))\n",
    "print(\"windfarm data read in successfully\")"
   ]
  },
  {
   "cell_type": "code",
   "execution_count": 20,
   "metadata": {},
   "outputs": [
    {
     "data": {
      "text/html": [
       "<div><div style = \"float: left;\"><span>4×4 DataFrame</span></div><div style = \"clear: both;\"></div></div><div class = \"data-frame\" style = \"overflow-x: scroll;\"><table class = \"data-frame\" style = \"margin-bottom: 6px;\"><thead><tr class = \"header\"><th class = \"rowNumber\" style = \"font-weight: bold; text-align: right;\">Row</th><th style = \"text-align: left;\">ID</th><th style = \"text-align: left;\">location</th><th style = \"text-align: left;\">cap</th><th style = \"text-align: left;\">forecast</th></tr><tr class = \"subheader headerLastRow\"><th class = \"rowNumber\" style = \"font-weight: bold; text-align: right;\"></th><th title = \"String\" style = \"text-align: left;\">String</th><th title = \"Int64\" style = \"text-align: left;\">Int64</th><th title = \"Int64\" style = \"text-align: left;\">Int64</th><th title = \"Float64\" style = \"text-align: left;\">Float64</th></tr></thead><tbody><tr><td class = \"rowNumber\" style = \"font-weight: bold; text-align: right;\">1</td><td style = \"text-align: left;\">wf1</td><td style = \"text-align: right;\">3</td><td style = \"text-align: right;\">500</td><td style = \"text-align: right;\">120.54</td></tr><tr><td class = \"rowNumber\" style = \"font-weight: bold; text-align: right;\">2</td><td style = \"text-align: left;\">wf2</td><td style = \"text-align: right;\">5</td><td style = \"text-align: right;\">500</td><td style = \"text-align: right;\">115.52</td></tr><tr><td class = \"rowNumber\" style = \"font-weight: bold; text-align: right;\">3</td><td style = \"text-align: left;\">wf3</td><td style = \"text-align: right;\">16</td><td style = \"text-align: right;\">300</td><td style = \"text-align: right;\">53.34</td></tr><tr><td class = \"rowNumber\" style = \"font-weight: bold; text-align: right;\">4</td><td style = \"text-align: left;\">wf4</td><td style = \"text-align: right;\">21</td><td style = \"text-align: right;\">300</td><td style = \"text-align: right;\">38.16</td></tr></tbody></table></div>"
      ],
      "text/latex": [
       "\\begin{tabular}{r|cccc}\n",
       "\t& ID & location & cap & forecast\\\\\n",
       "\t\\hline\n",
       "\t& String & Int64 & Int64 & Float64\\\\\n",
       "\t\\hline\n",
       "\t1 & wf1 & 3 & 500 & 120.54 \\\\\n",
       "\t2 & wf2 & 5 & 500 & 115.52 \\\\\n",
       "\t3 & wf3 & 16 & 300 & 53.34 \\\\\n",
       "\t4 & wf4 & 21 & 300 & 38.16 \\\\\n",
       "\\end{tabular}\n"
      ],
      "text/plain": [
       "\u001b[1m4×4 DataFrame\u001b[0m\n",
       "\u001b[1m Row \u001b[0m│\u001b[1m ID     \u001b[0m\u001b[1m location \u001b[0m\u001b[1m cap   \u001b[0m\u001b[1m forecast \u001b[0m\n",
       "     │\u001b[90m String \u001b[0m\u001b[90m Int64    \u001b[0m\u001b[90m Int64 \u001b[0m\u001b[90m Float64  \u001b[0m\n",
       "─────┼───────────────────────────────────\n",
       "   1 │ wf1            3    500    120.54\n",
       "   2 │ wf2            5    500    115.52\n",
       "   3 │ wf3           16    300     53.34\n",
       "   4 │ wf4           21    300     38.16"
      ]
     },
     "metadata": {},
     "output_type": "display_data"
    }
   ],
   "source": [
    "mydata[\"windfarminfo\"]"
   ]
  },
  {
   "cell_type": "code",
   "execution_count": 21,
   "metadata": {},
   "outputs": [
    {
     "name": "stdout",
     "output_type": "stream",
     "text": [
      "wind scenario data read in successfully"
     ]
    }
   ],
   "source": [
    "xl = XLSX.readxlsx(\"data/windscenarios.xlsx\")\n",
    "windscenarios = XLSX.sheetnames(xl)\n",
    "mydata[\"windscenarios\"] = DataFrame(XLSX.gettable(xl[\"windscenarios\"]; infer_eltypes=true))\n",
    "print(\"wind scenario data read in successfully\")\n"
   ]
  },
  {
   "cell_type": "code",
   "execution_count": 22,
   "metadata": {},
   "outputs": [
    {
     "data": {
      "text/html": [
       "<div><div style = \"float: left;\"><span>40×28 DataFrame</span></div><div style = \"float: right;\"><span style = \"font-style: italic;\">15 rows omitted</span></div><div style = \"clear: both;\"></div></div><div class = \"data-frame\" style = \"overflow-x: scroll;\"><table class = \"data-frame\" style = \"margin-bottom: 6px;\"><thead><tr class = \"header\"><th class = \"rowNumber\" style = \"font-weight: bold; text-align: right;\">Row</th><th style = \"text-align: left;\">scenario</th><th style = \"text-align: left;\">windfarm</th><th style = \"text-align: left;\">wflocation</th><th style = \"text-align: left;\">node</th><th style = \"text-align: left;\">t1</th><th style = \"text-align: left;\">t2</th><th style = \"text-align: left;\">t3</th><th style = \"text-align: left;\">t4</th><th style = \"text-align: left;\">t5</th><th style = \"text-align: left;\">t6</th><th style = \"text-align: left;\">t7</th><th style = \"text-align: left;\">t8</th><th style = \"text-align: left;\">t9</th><th style = \"text-align: left;\">t10</th><th style = \"text-align: left;\">t11</th><th style = \"text-align: left;\">t12</th><th style = \"text-align: left;\">t13</th><th style = \"text-align: left;\">t14</th><th style = \"text-align: left;\">t15</th><th style = \"text-align: left;\">t16</th><th style = \"text-align: left;\">t17</th><th style = \"text-align: left;\">t18</th><th style = \"text-align: left;\">t19</th><th style = \"text-align: left;\">t20</th><th style = \"text-align: left;\">t21</th><th style = \"text-align: left;\">t22</th><th style = \"text-align: left;\">t23</th><th style = \"text-align: left;\">t24</th></tr><tr class = \"subheader headerLastRow\"><th class = \"rowNumber\" style = \"font-weight: bold; text-align: right;\"></th><th title = \"String\" style = \"text-align: left;\">String</th><th title = \"String\" style = \"text-align: left;\">String</th><th title = \"Int64\" style = \"text-align: left;\">Int64</th><th title = \"String\" style = \"text-align: left;\">String</th><th title = \"Float64\" style = \"text-align: left;\">Float64</th><th title = \"Float64\" style = \"text-align: left;\">Float64</th><th title = \"Float64\" style = \"text-align: left;\">Float64</th><th title = \"Float64\" style = \"text-align: left;\">Float64</th><th title = \"Float64\" style = \"text-align: left;\">Float64</th><th title = \"Float64\" style = \"text-align: left;\">Float64</th><th title = \"Float64\" style = \"text-align: left;\">Float64</th><th title = \"Float64\" style = \"text-align: left;\">Float64</th><th title = \"Float64\" style = \"text-align: left;\">Float64</th><th title = \"Float64\" style = \"text-align: left;\">Float64</th><th title = \"Float64\" style = \"text-align: left;\">Float64</th><th title = \"Float64\" style = \"text-align: left;\">Float64</th><th title = \"Float64\" style = \"text-align: left;\">Float64</th><th title = \"Float64\" style = \"text-align: left;\">Float64</th><th title = \"Float64\" style = \"text-align: left;\">Float64</th><th title = \"Float64\" style = \"text-align: left;\">Float64</th><th title = \"Float64\" style = \"text-align: left;\">Float64</th><th title = \"Float64\" style = \"text-align: left;\">Float64</th><th title = \"Float64\" style = \"text-align: left;\">Float64</th><th title = \"Float64\" style = \"text-align: left;\">Float64</th><th title = \"Float64\" style = \"text-align: left;\">Float64</th><th title = \"Float64\" style = \"text-align: left;\">Float64</th><th title = \"Float64\" style = \"text-align: left;\">Float64</th><th title = \"Float64\" style = \"text-align: left;\">Float64</th></tr></thead><tbody><tr><td class = \"rowNumber\" style = \"font-weight: bold; text-align: right;\">1</td><td style = \"text-align: left;\">s0</td><td style = \"text-align: left;\">wf1</td><td style = \"text-align: right;\">3</td><td style = \"text-align: left;\">n3</td><td style = \"text-align: right;\">0.563373</td><td style = \"text-align: right;\">0.556427</td><td style = \"text-align: right;\">0.620064</td><td style = \"text-align: right;\">0.565905</td><td style = \"text-align: right;\">0.662963</td><td style = \"text-align: right;\">0.672048</td><td style = \"text-align: right;\">0.683556</td><td style = \"text-align: right;\">0.690681</td><td style = \"text-align: right;\">0.706195</td><td style = \"text-align: right;\">0.655941</td><td style = \"text-align: right;\">0.684012</td><td style = \"text-align: right;\">0.701909</td><td style = \"text-align: right;\">0.707423</td><td style = \"text-align: right;\">0.705134</td><td style = \"text-align: right;\">0.744796</td><td style = \"text-align: right;\">0.763055</td><td style = \"text-align: right;\">0.727549</td><td style = \"text-align: right;\">0.695863</td><td style = \"text-align: right;\">0.724753</td><td style = \"text-align: right;\">0.771747</td><td style = \"text-align: right;\">0.824357</td><td style = \"text-align: right;\">0.782885</td><td style = \"text-align: right;\">0.815081</td><td style = \"text-align: right;\">0.751977</td></tr><tr><td class = \"rowNumber\" style = \"font-weight: bold; text-align: right;\">2</td><td style = \"text-align: left;\">s0</td><td style = \"text-align: left;\">wf2</td><td style = \"text-align: right;\">5</td><td style = \"text-align: left;\">n5</td><td style = \"text-align: right;\">0.762555</td><td style = \"text-align: right;\">0.816471</td><td style = \"text-align: right;\">0.768671</td><td style = \"text-align: right;\">0.767531</td><td style = \"text-align: right;\">0.709601</td><td style = \"text-align: right;\">0.733432</td><td style = \"text-align: right;\">0.713545</td><td style = \"text-align: right;\">0.755083</td><td style = \"text-align: right;\">0.752244</td><td style = \"text-align: right;\">0.716899</td><td style = \"text-align: right;\">0.712946</td><td style = \"text-align: right;\">0.729969</td><td style = \"text-align: right;\">0.716462</td><td style = \"text-align: right;\">0.738711</td><td style = \"text-align: right;\">0.76327</td><td style = \"text-align: right;\">0.758781</td><td style = \"text-align: right;\">0.776659</td><td style = \"text-align: right;\">0.736785</td><td style = \"text-align: right;\">0.776178</td><td style = \"text-align: right;\">0.794342</td><td style = \"text-align: right;\">0.816367</td><td style = \"text-align: right;\">0.899832</td><td style = \"text-align: right;\">0.813165</td><td style = \"text-align: right;\">0.778895</td></tr><tr><td class = \"rowNumber\" style = \"font-weight: bold; text-align: right;\">3</td><td style = \"text-align: left;\">s0</td><td style = \"text-align: left;\">wf3</td><td style = \"text-align: right;\">16</td><td style = \"text-align: left;\">n16</td><td style = \"text-align: right;\">0.641406</td><td style = \"text-align: right;\">0.714133</td><td style = \"text-align: right;\">0.734266</td><td style = \"text-align: right;\">0.784352</td><td style = \"text-align: right;\">0.767632</td><td style = \"text-align: right;\">0.740445</td><td style = \"text-align: right;\">0.72134</td><td style = \"text-align: right;\">0.693765</td><td style = \"text-align: right;\">0.745427</td><td style = \"text-align: right;\">0.760809</td><td style = \"text-align: right;\">0.73836</td><td style = \"text-align: right;\">0.757315</td><td style = \"text-align: right;\">0.719177</td><td style = \"text-align: right;\">0.753422</td><td style = \"text-align: right;\">0.672017</td><td style = \"text-align: right;\">0.704182</td><td style = \"text-align: right;\">0.734911</td><td style = \"text-align: right;\">0.763352</td><td style = \"text-align: right;\">0.730289</td><td style = \"text-align: right;\">0.765579</td><td style = \"text-align: right;\">0.763751</td><td style = \"text-align: right;\">0.729876</td><td style = \"text-align: right;\">0.619155</td><td style = \"text-align: right;\">0.58149</td></tr><tr><td class = \"rowNumber\" style = \"font-weight: bold; text-align: right;\">4</td><td style = \"text-align: left;\">s0</td><td style = \"text-align: left;\">wf4</td><td style = \"text-align: right;\">21</td><td style = \"text-align: left;\">n21</td><td style = \"text-align: right;\">0.396813</td><td style = \"text-align: right;\">0.393274</td><td style = \"text-align: right;\">0.314061</td><td style = \"text-align: right;\">0.400584</td><td style = \"text-align: right;\">0.43328</td><td style = \"text-align: right;\">0.372218</td><td style = \"text-align: right;\">0.377994</td><td style = \"text-align: right;\">0.418362</td><td style = \"text-align: right;\">0.419582</td><td style = \"text-align: right;\">0.39794</td><td style = \"text-align: right;\">0.439299</td><td style = \"text-align: right;\">0.410468</td><td style = \"text-align: right;\">0.397242</td><td style = \"text-align: right;\">0.40059</td><td style = \"text-align: right;\">0.459773</td><td style = \"text-align: right;\">0.410965</td><td style = \"text-align: right;\">0.330264</td><td style = \"text-align: right;\">0.446894</td><td style = \"text-align: right;\">0.394118</td><td style = \"text-align: right;\">0.393985</td><td style = \"text-align: right;\">0.353184</td><td style = \"text-align: right;\">0.408784</td><td style = \"text-align: right;\">0.410033</td><td style = \"text-align: right;\">0.391545</td></tr><tr><td class = \"rowNumber\" style = \"font-weight: bold; text-align: right;\">5</td><td style = \"text-align: left;\">s0</td><td style = \"text-align: left;\">wf1</td><td style = \"text-align: right;\">3</td><td style = \"text-align: left;\">n3</td><td style = \"text-align: right;\">0.721771</td><td style = \"text-align: right;\">0.732247</td><td style = \"text-align: right;\">0.759537</td><td style = \"text-align: right;\">0.788805</td><td style = \"text-align: right;\">0.777572</td><td style = \"text-align: right;\">0.745138</td><td style = \"text-align: right;\">0.769833</td><td style = \"text-align: right;\">0.773408</td><td style = \"text-align: right;\">0.792901</td><td style = \"text-align: right;\">0.784215</td><td style = \"text-align: right;\">0.785262</td><td style = \"text-align: right;\">0.757621</td><td style = \"text-align: right;\">0.754372</td><td style = \"text-align: right;\">0.777557</td><td style = \"text-align: right;\">0.884843</td><td style = \"text-align: right;\">0.790911</td><td style = \"text-align: right;\">0.821157</td><td style = \"text-align: right;\">0.80645</td><td style = \"text-align: right;\">0.783256</td><td style = \"text-align: right;\">0.777365</td><td style = \"text-align: right;\">0.745908</td><td style = \"text-align: right;\">0.751001</td><td style = \"text-align: right;\">0.736325</td><td style = \"text-align: right;\">0.683659</td></tr><tr><td class = \"rowNumber\" style = \"font-weight: bold; text-align: right;\">6</td><td style = \"text-align: left;\">s1</td><td style = \"text-align: left;\">wf2</td><td style = \"text-align: right;\">5</td><td style = \"text-align: left;\">n5</td><td style = \"text-align: right;\">0.631953</td><td style = \"text-align: right;\">0.703686</td><td style = \"text-align: right;\">0.712237</td><td style = \"text-align: right;\">0.754201</td><td style = \"text-align: right;\">0.72398</td><td style = \"text-align: right;\">0.693296</td><td style = \"text-align: right;\">0.731701</td><td style = \"text-align: right;\">0.74784</td><td style = \"text-align: right;\">0.762398</td><td style = \"text-align: right;\">0.780623</td><td style = \"text-align: right;\">0.788395</td><td style = \"text-align: right;\">0.748318</td><td style = \"text-align: right;\">0.692081</td><td style = \"text-align: right;\">0.721727</td><td style = \"text-align: right;\">0.73404</td><td style = \"text-align: right;\">0.706162</td><td style = \"text-align: right;\">0.735412</td><td style = \"text-align: right;\">0.717774</td><td style = \"text-align: right;\">0.739614</td><td style = \"text-align: right;\">0.739728</td><td style = \"text-align: right;\">0.765892</td><td style = \"text-align: right;\">0.750332</td><td style = \"text-align: right;\">0.724517</td><td style = \"text-align: right;\">0.687544</td></tr><tr><td class = \"rowNumber\" style = \"font-weight: bold; text-align: right;\">7</td><td style = \"text-align: left;\">s1</td><td style = \"text-align: left;\">wf3</td><td style = \"text-align: right;\">16</td><td style = \"text-align: left;\">n16</td><td style = \"text-align: right;\">0.684535</td><td style = \"text-align: right;\">0.719795</td><td style = \"text-align: right;\">0.707353</td><td style = \"text-align: right;\">0.746384</td><td style = \"text-align: right;\">0.769346</td><td style = \"text-align: right;\">0.766678</td><td style = \"text-align: right;\">0.755131</td><td style = \"text-align: right;\">0.769916</td><td style = \"text-align: right;\">0.781495</td><td style = \"text-align: right;\">0.766914</td><td style = \"text-align: right;\">0.798253</td><td style = \"text-align: right;\">0.782118</td><td style = \"text-align: right;\">0.765404</td><td style = \"text-align: right;\">0.780281</td><td style = \"text-align: right;\">0.793258</td><td style = \"text-align: right;\">0.824724</td><td style = \"text-align: right;\">0.796428</td><td style = \"text-align: right;\">0.768123</td><td style = \"text-align: right;\">0.814361</td><td style = \"text-align: right;\">0.827403</td><td style = \"text-align: right;\">0.815508</td><td style = \"text-align: right;\">0.838825</td><td style = \"text-align: right;\">0.837876</td><td style = \"text-align: right;\">0.700156</td></tr><tr><td class = \"rowNumber\" style = \"font-weight: bold; text-align: right;\">8</td><td style = \"text-align: left;\">s1</td><td style = \"text-align: left;\">wf4</td><td style = \"text-align: right;\">21</td><td style = \"text-align: left;\">n21</td><td style = \"text-align: right;\">0.419462</td><td style = \"text-align: right;\">0.431244</td><td style = \"text-align: right;\">0.415342</td><td style = \"text-align: right;\">0.397957</td><td style = \"text-align: right;\">0.367345</td><td style = \"text-align: right;\">0.385439</td><td style = \"text-align: right;\">0.414496</td><td style = \"text-align: right;\">0.398673</td><td style = \"text-align: right;\">0.412223</td><td style = \"text-align: right;\">0.417866</td><td style = \"text-align: right;\">0.394065</td><td style = \"text-align: right;\">0.444695</td><td style = \"text-align: right;\">0.379643</td><td style = \"text-align: right;\">0.372682</td><td style = \"text-align: right;\">0.400285</td><td style = \"text-align: right;\">0.423048</td><td style = \"text-align: right;\">0.433025</td><td style = \"text-align: right;\">0.380977</td><td style = \"text-align: right;\">0.388475</td><td style = \"text-align: right;\">0.407569</td><td style = \"text-align: right;\">0.414777</td><td style = \"text-align: right;\">0.439608</td><td style = \"text-align: right;\">0.329721</td><td style = \"text-align: right;\">0.398004</td></tr><tr><td class = \"rowNumber\" style = \"font-weight: bold; text-align: right;\">9</td><td style = \"text-align: left;\">s2</td><td style = \"text-align: left;\">wf1</td><td style = \"text-align: right;\">3</td><td style = \"text-align: left;\">n3</td><td style = \"text-align: right;\">0.654747</td><td style = \"text-align: right;\">0.695253</td><td style = \"text-align: right;\">0.707639</td><td style = \"text-align: right;\">0.712095</td><td style = \"text-align: right;\">0.717151</td><td style = \"text-align: right;\">0.729282</td><td style = \"text-align: right;\">0.728227</td><td style = \"text-align: right;\">0.748557</td><td style = \"text-align: right;\">0.718312</td><td style = \"text-align: right;\">0.760617</td><td style = \"text-align: right;\">0.724435</td><td style = \"text-align: right;\">0.691638</td><td style = \"text-align: right;\">0.709339</td><td style = \"text-align: right;\">0.684289</td><td style = \"text-align: right;\">0.703084</td><td style = \"text-align: right;\">0.718626</td><td style = \"text-align: right;\">0.697616</td><td style = \"text-align: right;\">0.722929</td><td style = \"text-align: right;\">0.707437</td><td style = \"text-align: right;\">0.776908</td><td style = \"text-align: right;\">0.744131</td><td style = \"text-align: right;\">0.766961</td><td style = \"text-align: right;\">0.750614</td><td style = \"text-align: right;\">0.744668</td></tr><tr><td class = \"rowNumber\" style = \"font-weight: bold; text-align: right;\">10</td><td style = \"text-align: left;\">s2</td><td style = \"text-align: left;\">wf2</td><td style = \"text-align: right;\">5</td><td style = \"text-align: left;\">n5</td><td style = \"text-align: right;\">0.669501</td><td style = \"text-align: right;\">0.679998</td><td style = \"text-align: right;\">0.709508</td><td style = \"text-align: right;\">0.703933</td><td style = \"text-align: right;\">0.725911</td><td style = \"text-align: right;\">0.701759</td><td style = \"text-align: right;\">0.737025</td><td style = \"text-align: right;\">0.722396</td><td style = \"text-align: right;\">0.700948</td><td style = \"text-align: right;\">0.729702</td><td style = \"text-align: right;\">0.729827</td><td style = \"text-align: right;\">0.729833</td><td style = \"text-align: right;\">0.707072</td><td style = \"text-align: right;\">0.673238</td><td style = \"text-align: right;\">0.589951</td><td style = \"text-align: right;\">0.596286</td><td style = \"text-align: right;\">0.631222</td><td style = \"text-align: right;\">0.49795</td><td style = \"text-align: right;\">0.547815</td><td style = \"text-align: right;\">0.549881</td><td style = \"text-align: right;\">0.451177</td><td style = \"text-align: right;\">0.425566</td><td style = \"text-align: right;\">0.621963</td><td style = \"text-align: right;\">0.584625</td></tr><tr><td class = \"rowNumber\" style = \"font-weight: bold; text-align: right;\">11</td><td style = \"text-align: left;\">s2</td><td style = \"text-align: left;\">wf3</td><td style = \"text-align: right;\">16</td><td style = \"text-align: left;\">n16</td><td style = \"text-align: right;\">0.650979</td><td style = \"text-align: right;\">0.608782</td><td style = \"text-align: right;\">0.647574</td><td style = \"text-align: right;\">0.634247</td><td style = \"text-align: right;\">0.689003</td><td style = \"text-align: right;\">0.746928</td><td style = \"text-align: right;\">0.757703</td><td style = \"text-align: right;\">0.752354</td><td style = \"text-align: right;\">0.7987</td><td style = \"text-align: right;\">0.845968</td><td style = \"text-align: right;\">0.805062</td><td style = \"text-align: right;\">0.806153</td><td style = \"text-align: right;\">0.776453</td><td style = \"text-align: right;\">0.734395</td><td style = \"text-align: right;\">0.743173</td><td style = \"text-align: right;\">0.686695</td><td style = \"text-align: right;\">0.750975</td><td style = \"text-align: right;\">0.744485</td><td style = \"text-align: right;\">0.719201</td><td style = \"text-align: right;\">0.683216</td><td style = \"text-align: right;\">0.761718</td><td style = \"text-align: right;\">0.808736</td><td style = \"text-align: right;\">0.790275</td><td style = \"text-align: right;\">0.789693</td></tr><tr><td class = \"rowNumber\" style = \"font-weight: bold; text-align: right;\">12</td><td style = \"text-align: left;\">s2</td><td style = \"text-align: left;\">wf4</td><td style = \"text-align: right;\">21</td><td style = \"text-align: left;\">n21</td><td style = \"text-align: right;\">0.396892</td><td style = \"text-align: right;\">0.400184</td><td style = \"text-align: right;\">0.420849</td><td style = \"text-align: right;\">0.421209</td><td style = \"text-align: right;\">0.385594</td><td style = \"text-align: right;\">0.374872</td><td style = \"text-align: right;\">0.418734</td><td style = \"text-align: right;\">0.45897</td><td style = \"text-align: right;\">0.427673</td><td style = \"text-align: right;\">0.441798</td><td style = \"text-align: right;\">0.459594</td><td style = \"text-align: right;\">0.410313</td><td style = \"text-align: right;\">0.428063</td><td style = \"text-align: right;\">0.376404</td><td style = \"text-align: right;\">0.424571</td><td style = \"text-align: right;\">0.385441</td><td style = \"text-align: right;\">0.404911</td><td style = \"text-align: right;\">0.429235</td><td style = \"text-align: right;\">0.388961</td><td style = \"text-align: right;\">0.406339</td><td style = \"text-align: right;\">0.465755</td><td style = \"text-align: right;\">0.438376</td><td style = \"text-align: right;\">0.405073</td><td style = \"text-align: right;\">0.430494</td></tr><tr><td class = \"rowNumber\" style = \"font-weight: bold; text-align: right;\">13</td><td style = \"text-align: left;\">s3</td><td style = \"text-align: left;\">wf1</td><td style = \"text-align: right;\">3</td><td style = \"text-align: left;\">n3</td><td style = \"text-align: right;\">0.437419</td><td style = \"text-align: right;\">0.572467</td><td style = \"text-align: right;\">0.475922</td><td style = \"text-align: right;\">0.602778</td><td style = \"text-align: right;\">0.669969</td><td style = \"text-align: right;\">0.608807</td><td style = \"text-align: right;\">0.60291</td><td style = \"text-align: right;\">0.614329</td><td style = \"text-align: right;\">0.67411</td><td style = \"text-align: right;\">0.735031</td><td style = \"text-align: right;\">0.75724</td><td style = \"text-align: right;\">0.794126</td><td style = \"text-align: right;\">0.77345</td><td style = \"text-align: right;\">0.7869</td><td style = \"text-align: right;\">0.894519</td><td style = \"text-align: right;\">0.914621</td><td style = \"text-align: right;\">0.866489</td><td style = \"text-align: right;\">0.844222</td><td style = \"text-align: right;\">0.857532</td><td style = \"text-align: right;\">0.994223</td><td style = \"text-align: right;\">0.938597</td><td style = \"text-align: right;\">0.989301</td><td style = \"text-align: right;\">0.833348</td><td style = \"text-align: right;\">0.778343</td></tr><tr><td style = \"text-align: right;\">&vellip;</td><td style = \"text-align: right;\">&vellip;</td><td style = \"text-align: right;\">&vellip;</td><td style = \"text-align: right;\">&vellip;</td><td style = \"text-align: right;\">&vellip;</td><td style = \"text-align: right;\">&vellip;</td><td style = \"text-align: right;\">&vellip;</td><td style = \"text-align: right;\">&vellip;</td><td style = \"text-align: right;\">&vellip;</td><td style = \"text-align: right;\">&vellip;</td><td style = \"text-align: right;\">&vellip;</td><td style = \"text-align: right;\">&vellip;</td><td style = \"text-align: right;\">&vellip;</td><td style = \"text-align: right;\">&vellip;</td><td style = \"text-align: right;\">&vellip;</td><td style = \"text-align: right;\">&vellip;</td><td style = \"text-align: right;\">&vellip;</td><td style = \"text-align: right;\">&vellip;</td><td style = \"text-align: right;\">&vellip;</td><td style = \"text-align: right;\">&vellip;</td><td style = \"text-align: right;\">&vellip;</td><td style = \"text-align: right;\">&vellip;</td><td style = \"text-align: right;\">&vellip;</td><td style = \"text-align: right;\">&vellip;</td><td style = \"text-align: right;\">&vellip;</td><td style = \"text-align: right;\">&vellip;</td><td style = \"text-align: right;\">&vellip;</td><td style = \"text-align: right;\">&vellip;</td><td style = \"text-align: right;\">&vellip;</td></tr><tr><td class = \"rowNumber\" style = \"font-weight: bold; text-align: right;\">29</td><td style = \"text-align: left;\">s7</td><td style = \"text-align: left;\">wf1</td><td style = \"text-align: right;\">3</td><td style = \"text-align: left;\">n3</td><td style = \"text-align: right;\">0.763808</td><td style = \"text-align: right;\">0.749164</td><td style = \"text-align: right;\">0.773865</td><td style = \"text-align: right;\">0.751312</td><td style = \"text-align: right;\">0.718254</td><td style = \"text-align: right;\">0.715855</td><td style = \"text-align: right;\">0.75349</td><td style = \"text-align: right;\">0.748317</td><td style = \"text-align: right;\">0.682933</td><td style = \"text-align: right;\">0.706994</td><td style = \"text-align: right;\">0.725756</td><td style = \"text-align: right;\">0.743923</td><td style = \"text-align: right;\">0.738675</td><td style = \"text-align: right;\">0.712109</td><td style = \"text-align: right;\">0.744053</td><td style = \"text-align: right;\">0.746922</td><td style = \"text-align: right;\">0.743058</td><td style = \"text-align: right;\">0.751856</td><td style = \"text-align: right;\">0.787692</td><td style = \"text-align: right;\">0.786015</td><td style = \"text-align: right;\">0.765804</td><td style = \"text-align: right;\">0.806819</td><td style = \"text-align: right;\">0.668378</td><td style = \"text-align: right;\">0.659845</td></tr><tr><td class = \"rowNumber\" style = \"font-weight: bold; text-align: right;\">30</td><td style = \"text-align: left;\">s7</td><td style = \"text-align: left;\">wf2</td><td style = \"text-align: right;\">5</td><td style = \"text-align: left;\">n5</td><td style = \"text-align: right;\">0.771601</td><td style = \"text-align: right;\">0.774086</td><td style = \"text-align: right;\">0.774616</td><td style = \"text-align: right;\">0.76687</td><td style = \"text-align: right;\">0.761392</td><td style = \"text-align: right;\">0.792197</td><td style = \"text-align: right;\">0.76207</td><td style = \"text-align: right;\">0.762648</td><td style = \"text-align: right;\">0.730452</td><td style = \"text-align: right;\">0.706974</td><td style = \"text-align: right;\">0.704091</td><td style = \"text-align: right;\">0.662348</td><td style = \"text-align: right;\">0.645775</td><td style = \"text-align: right;\">0.682728</td><td style = \"text-align: right;\">0.630181</td><td style = \"text-align: right;\">0.60747</td><td style = \"text-align: right;\">0.598813</td><td style = \"text-align: right;\">0.635601</td><td style = \"text-align: right;\">0.441915</td><td style = \"text-align: right;\">0.397011</td><td style = \"text-align: right;\">0.445594</td><td style = \"text-align: right;\">0.587237</td><td style = \"text-align: right;\">0.468005</td><td style = \"text-align: right;\">0.406791</td></tr><tr><td class = \"rowNumber\" style = \"font-weight: bold; text-align: right;\">31</td><td style = \"text-align: left;\">s7</td><td style = \"text-align: left;\">wf3</td><td style = \"text-align: right;\">16</td><td style = \"text-align: left;\">n16</td><td style = \"text-align: right;\">0.41441</td><td style = \"text-align: right;\">0.613477</td><td style = \"text-align: right;\">0.706347</td><td style = \"text-align: right;\">0.677527</td><td style = \"text-align: right;\">0.722702</td><td style = \"text-align: right;\">0.688078</td><td style = \"text-align: right;\">0.610682</td><td style = \"text-align: right;\">0.641763</td><td style = \"text-align: right;\">0.527889</td><td style = \"text-align: right;\">0.531369</td><td style = \"text-align: right;\">0.61884</td><td style = \"text-align: right;\">0.65589</td><td style = \"text-align: right;\">0.646445</td><td style = \"text-align: right;\">0.677498</td><td style = \"text-align: right;\">0.520771</td><td style = \"text-align: right;\">0.624767</td><td style = \"text-align: right;\">0.671033</td><td style = \"text-align: right;\">0.682627</td><td style = \"text-align: right;\">0.637894</td><td style = \"text-align: right;\">0.692968</td><td style = \"text-align: right;\">0.762964</td><td style = \"text-align: right;\">0.759042</td><td style = \"text-align: right;\">0.720815</td><td style = \"text-align: right;\">0.687644</td></tr><tr><td class = \"rowNumber\" style = \"font-weight: bold; text-align: right;\">32</td><td style = \"text-align: left;\">s7</td><td style = \"text-align: left;\">wf4</td><td style = \"text-align: right;\">21</td><td style = \"text-align: left;\">n21</td><td style = \"text-align: right;\">0.297965</td><td style = \"text-align: right;\">0.313271</td><td style = \"text-align: right;\">0.397876</td><td style = \"text-align: right;\">0.359094</td><td style = \"text-align: right;\">0.365251</td><td style = \"text-align: right;\">0.302329</td><td style = \"text-align: right;\">0.387729</td><td style = \"text-align: right;\">0.330958</td><td style = \"text-align: right;\">0.264812</td><td style = \"text-align: right;\">0.175119</td><td style = \"text-align: right;\">0.348188</td><td style = \"text-align: right;\">0.440284</td><td style = \"text-align: right;\">0.360486</td><td style = \"text-align: right;\">0.33324</td><td style = \"text-align: right;\">0.385023</td><td style = \"text-align: right;\">0.328173</td><td style = \"text-align: right;\">0.35086</td><td style = \"text-align: right;\">0.287161</td><td style = \"text-align: right;\">0.135803</td><td style = \"text-align: right;\">0.355</td><td style = \"text-align: right;\">0.305812</td><td style = \"text-align: right;\">0.344194</td><td style = \"text-align: right;\">0.264298</td><td style = \"text-align: right;\">0.395497</td></tr><tr><td class = \"rowNumber\" style = \"font-weight: bold; text-align: right;\">33</td><td style = \"text-align: left;\">s8</td><td style = \"text-align: left;\">wf1</td><td style = \"text-align: right;\">3</td><td style = \"text-align: left;\">n3</td><td style = \"text-align: right;\">0.7149</td><td style = \"text-align: right;\">0.717698</td><td style = \"text-align: right;\">0.736736</td><td style = \"text-align: right;\">0.730213</td><td style = \"text-align: right;\">0.685445</td><td style = \"text-align: right;\">0.66206</td><td style = \"text-align: right;\">0.685709</td><td style = \"text-align: right;\">0.687185</td><td style = \"text-align: right;\">0.725352</td><td style = \"text-align: right;\">0.755098</td><td style = \"text-align: right;\">0.802191</td><td style = \"text-align: right;\">0.811332</td><td style = \"text-align: right;\">0.781775</td><td style = \"text-align: right;\">0.772843</td><td style = \"text-align: right;\">0.902238</td><td style = \"text-align: right;\">0.870489</td><td style = \"text-align: right;\">0.822757</td><td style = \"text-align: right;\">0.831346</td><td style = \"text-align: right;\">0.825488</td><td style = \"text-align: right;\">0.866338</td><td style = \"text-align: right;\">0.829212</td><td style = \"text-align: right;\">0.941128</td><td style = \"text-align: right;\">0.945614</td><td style = \"text-align: right;\">0.8564</td></tr><tr><td class = \"rowNumber\" style = \"font-weight: bold; text-align: right;\">34</td><td style = \"text-align: left;\">s8</td><td style = \"text-align: left;\">wf2</td><td style = \"text-align: right;\">5</td><td style = \"text-align: left;\">n5</td><td style = \"text-align: right;\">0.697012</td><td style = \"text-align: right;\">0.698228</td><td style = \"text-align: right;\">0.701996</td><td style = \"text-align: right;\">0.705913</td><td style = \"text-align: right;\">0.735304</td><td style = \"text-align: right;\">0.753633</td><td style = \"text-align: right;\">0.739492</td><td style = \"text-align: right;\">0.707495</td><td style = \"text-align: right;\">0.721559</td><td style = \"text-align: right;\">0.761217</td><td style = \"text-align: right;\">0.752349</td><td style = \"text-align: right;\">0.75701</td><td style = \"text-align: right;\">0.718455</td><td style = \"text-align: right;\">0.617524</td><td style = \"text-align: right;\">0.635195</td><td style = \"text-align: right;\">0.671883</td><td style = \"text-align: right;\">0.639819</td><td style = \"text-align: right;\">0.744779</td><td style = \"text-align: right;\">0.745151</td><td style = \"text-align: right;\">0.754303</td><td style = \"text-align: right;\">0.739979</td><td style = \"text-align: right;\">0.696505</td><td style = \"text-align: right;\">0.665348</td><td style = \"text-align: right;\">0.58405</td></tr><tr><td class = \"rowNumber\" style = \"font-weight: bold; text-align: right;\">35</td><td style = \"text-align: left;\">s8</td><td style = \"text-align: left;\">wf3</td><td style = \"text-align: right;\">16</td><td style = \"text-align: left;\">n16</td><td style = \"text-align: right;\">0.626779</td><td style = \"text-align: right;\">0.709826</td><td style = \"text-align: right;\">0.753671</td><td style = \"text-align: right;\">0.794651</td><td style = \"text-align: right;\">0.745755</td><td style = \"text-align: right;\">0.701268</td><td style = \"text-align: right;\">0.695186</td><td style = \"text-align: right;\">0.756005</td><td style = \"text-align: right;\">0.722318</td><td style = \"text-align: right;\">0.7036</td><td style = \"text-align: right;\">0.682804</td><td style = \"text-align: right;\">0.685067</td><td style = \"text-align: right;\">0.649565</td><td style = \"text-align: right;\">0.554908</td><td style = \"text-align: right;\">0.645369</td><td style = \"text-align: right;\">0.664053</td><td style = \"text-align: right;\">0.679811</td><td style = \"text-align: right;\">0.694704</td><td style = \"text-align: right;\">0.693752</td><td style = \"text-align: right;\">0.640096</td><td style = \"text-align: right;\">0.521112</td><td style = \"text-align: right;\">0.695668</td><td style = \"text-align: right;\">0.633936</td><td style = \"text-align: right;\">0.625749</td></tr><tr><td class = \"rowNumber\" style = \"font-weight: bold; text-align: right;\">36</td><td style = \"text-align: left;\">s8</td><td style = \"text-align: left;\">wf4</td><td style = \"text-align: right;\">21</td><td style = \"text-align: left;\">n21</td><td style = \"text-align: right;\">0.273598</td><td style = \"text-align: right;\">0.336493</td><td style = \"text-align: right;\">0.310517</td><td style = \"text-align: right;\">0.390193</td><td style = \"text-align: right;\">0.354214</td><td style = \"text-align: right;\">0.461026</td><td style = \"text-align: right;\">0.435612</td><td style = \"text-align: right;\">0.4087</td><td style = \"text-align: right;\">0.441654</td><td style = \"text-align: right;\">0.3818</td><td style = \"text-align: right;\">0.437474</td><td style = \"text-align: right;\">0.387153</td><td style = \"text-align: right;\">0.415722</td><td style = \"text-align: right;\">0.440853</td><td style = \"text-align: right;\">0.406561</td><td style = \"text-align: right;\">0.437256</td><td style = \"text-align: right;\">0.51056</td><td style = \"text-align: right;\">0.460461</td><td style = \"text-align: right;\">0.384219</td><td style = \"text-align: right;\">0.430062</td><td style = \"text-align: right;\">0.384435</td><td style = \"text-align: right;\">0.395736</td><td style = \"text-align: right;\">0.431777</td><td style = \"text-align: right;\">0.438023</td></tr><tr><td class = \"rowNumber\" style = \"font-weight: bold; text-align: right;\">37</td><td style = \"text-align: left;\">s9</td><td style = \"text-align: left;\">wf1</td><td style = \"text-align: right;\">3</td><td style = \"text-align: left;\">n3</td><td style = \"text-align: right;\">0.672679</td><td style = \"text-align: right;\">0.695848</td><td style = \"text-align: right;\">0.713614</td><td style = \"text-align: right;\">0.695983</td><td style = \"text-align: right;\">0.716372</td><td style = \"text-align: right;\">0.709934</td><td style = \"text-align: right;\">0.643194</td><td style = \"text-align: right;\">0.688681</td><td style = \"text-align: right;\">0.723001</td><td style = \"text-align: right;\">0.723322</td><td style = \"text-align: right;\">0.698692</td><td style = \"text-align: right;\">0.719021</td><td style = \"text-align: right;\">0.695347</td><td style = \"text-align: right;\">0.719044</td><td style = \"text-align: right;\">0.745751</td><td style = \"text-align: right;\">0.697552</td><td style = \"text-align: right;\">0.689862</td><td style = \"text-align: right;\">0.492614</td><td style = \"text-align: right;\">0.569206</td><td style = \"text-align: right;\">0.416492</td><td style = \"text-align: right;\">0.596366</td><td style = \"text-align: right;\">0.721616</td><td style = \"text-align: right;\">0.5657</td><td style = \"text-align: right;\">0.60945</td></tr><tr><td class = \"rowNumber\" style = \"font-weight: bold; text-align: right;\">38</td><td style = \"text-align: left;\">s9</td><td style = \"text-align: left;\">wf2</td><td style = \"text-align: right;\">5</td><td style = \"text-align: left;\">n5</td><td style = \"text-align: right;\">0.64115</td><td style = \"text-align: right;\">0.689363</td><td style = \"text-align: right;\">0.741996</td><td style = \"text-align: right;\">0.761919</td><td style = \"text-align: right;\">0.778571</td><td style = \"text-align: right;\">0.776006</td><td style = \"text-align: right;\">0.7875</td><td style = \"text-align: right;\">0.785385</td><td style = \"text-align: right;\">0.776949</td><td style = \"text-align: right;\">0.800884</td><td style = \"text-align: right;\">0.804957</td><td style = \"text-align: right;\">0.762482</td><td style = \"text-align: right;\">0.717285</td><td style = \"text-align: right;\">0.772738</td><td style = \"text-align: right;\">0.778488</td><td style = \"text-align: right;\">0.77363</td><td style = \"text-align: right;\">0.781399</td><td style = \"text-align: right;\">0.791125</td><td style = \"text-align: right;\">0.815152</td><td style = \"text-align: right;\">0.820081</td><td style = \"text-align: right;\">0.831663</td><td style = \"text-align: right;\">0.789445</td><td style = \"text-align: right;\">0.76749</td><td style = \"text-align: right;\">0.733613</td></tr><tr><td class = \"rowNumber\" style = \"font-weight: bold; text-align: right;\">39</td><td style = \"text-align: left;\">s9</td><td style = \"text-align: left;\">wf3</td><td style = \"text-align: right;\">16</td><td style = \"text-align: left;\">n16</td><td style = \"text-align: right;\">0.731051</td><td style = \"text-align: right;\">0.783566</td><td style = \"text-align: right;\">0.808027</td><td style = \"text-align: right;\">0.782682</td><td style = \"text-align: right;\">0.776292</td><td style = \"text-align: right;\">0.798347</td><td style = \"text-align: right;\">0.849155</td><td style = \"text-align: right;\">0.796759</td><td style = \"text-align: right;\">0.776354</td><td style = \"text-align: right;\">0.765797</td><td style = \"text-align: right;\">0.791527</td><td style = \"text-align: right;\">0.75986</td><td style = \"text-align: right;\">0.705375</td><td style = \"text-align: right;\">0.670298</td><td style = \"text-align: right;\">0.732962</td><td style = \"text-align: right;\">0.748511</td><td style = \"text-align: right;\">0.703346</td><td style = \"text-align: right;\">0.615591</td><td style = \"text-align: right;\">0.647895</td><td style = \"text-align: right;\">0.676571</td><td style = \"text-align: right;\">0.635606</td><td style = \"text-align: right;\">0.650445</td><td style = \"text-align: right;\">0.493316</td><td style = \"text-align: right;\">0.431065</td></tr><tr><td class = \"rowNumber\" style = \"font-weight: bold; text-align: right;\">40</td><td style = \"text-align: left;\">s9</td><td style = \"text-align: left;\">wf4</td><td style = \"text-align: right;\">21</td><td style = \"text-align: left;\">n21</td><td style = \"text-align: right;\">0.45714</td><td style = \"text-align: right;\">0.433878</td><td style = \"text-align: right;\">0.413726</td><td style = \"text-align: right;\">0.514829</td><td style = \"text-align: right;\">0.436098</td><td style = \"text-align: right;\">0.401694</td><td style = \"text-align: right;\">0.458032</td><td style = \"text-align: right;\">0.395088</td><td style = \"text-align: right;\">0.444971</td><td style = \"text-align: right;\">0.400833</td><td style = \"text-align: right;\">0.400595</td><td style = \"text-align: right;\">0.421291</td><td style = \"text-align: right;\">0.372585</td><td style = \"text-align: right;\">0.421331</td><td style = \"text-align: right;\">0.464967</td><td style = \"text-align: right;\">0.390398</td><td style = \"text-align: right;\">0.455128</td><td style = \"text-align: right;\">0.325386</td><td style = \"text-align: right;\">0.54601</td><td style = \"text-align: right;\">0.417286</td><td style = \"text-align: right;\">0.409826</td><td style = \"text-align: right;\">0.44635</td><td style = \"text-align: right;\">0.443103</td><td style = \"text-align: right;\">0.518875</td></tr></tbody></table></div>"
      ],
      "text/latex": [
       "\\begin{tabular}{r|ccccccccc}\n",
       "\t& scenario & windfarm & wflocation & node & t1 & t2 & t3 & t4 & \\\\\n",
       "\t\\hline\n",
       "\t& String & String & Int64 & String & Float64 & Float64 & Float64 & Float64 & \\\\\n",
       "\t\\hline\n",
       "\t1 & s0 & wf1 & 3 & n3 & 0.563373 & 0.556427 & 0.620064 & 0.565905 & $\\dots$ \\\\\n",
       "\t2 & s0 & wf2 & 5 & n5 & 0.762555 & 0.816471 & 0.768671 & 0.767531 & $\\dots$ \\\\\n",
       "\t3 & s0 & wf3 & 16 & n16 & 0.641406 & 0.714133 & 0.734266 & 0.784352 & $\\dots$ \\\\\n",
       "\t4 & s0 & wf4 & 21 & n21 & 0.396813 & 0.393274 & 0.314061 & 0.400584 & $\\dots$ \\\\\n",
       "\t5 & s0 & wf1 & 3 & n3 & 0.721771 & 0.732247 & 0.759537 & 0.788805 & $\\dots$ \\\\\n",
       "\t6 & s1 & wf2 & 5 & n5 & 0.631953 & 0.703686 & 0.712237 & 0.754201 & $\\dots$ \\\\\n",
       "\t7 & s1 & wf3 & 16 & n16 & 0.684535 & 0.719795 & 0.707353 & 0.746384 & $\\dots$ \\\\\n",
       "\t8 & s1 & wf4 & 21 & n21 & 0.419462 & 0.431244 & 0.415342 & 0.397957 & $\\dots$ \\\\\n",
       "\t9 & s2 & wf1 & 3 & n3 & 0.654747 & 0.695253 & 0.707639 & 0.712095 & $\\dots$ \\\\\n",
       "\t10 & s2 & wf2 & 5 & n5 & 0.669501 & 0.679998 & 0.709508 & 0.703933 & $\\dots$ \\\\\n",
       "\t11 & s2 & wf3 & 16 & n16 & 0.650979 & 0.608782 & 0.647574 & 0.634247 & $\\dots$ \\\\\n",
       "\t12 & s2 & wf4 & 21 & n21 & 0.396892 & 0.400184 & 0.420849 & 0.421209 & $\\dots$ \\\\\n",
       "\t13 & s3 & wf1 & 3 & n3 & 0.437419 & 0.572467 & 0.475922 & 0.602778 & $\\dots$ \\\\\n",
       "\t14 & s3 & wf2 & 5 & n5 & 0.59403 & 0.553256 & 0.585861 & 0.695725 & $\\dots$ \\\\\n",
       "\t15 & s3 & wf3 & 16 & n16 & 0.614708 & 0.656003 & 0.739733 & 0.730932 & $\\dots$ \\\\\n",
       "\t16 & s3 & wf4 & 21 & n21 & 0.38033 & 0.441975 & 0.430516 & 0.433046 & $\\dots$ \\\\\n",
       "\t17 & s4 & wf1 & 3 & n3 & 0.75643 & 0.81587 & 0.772151 & 0.776008 & $\\dots$ \\\\\n",
       "\t18 & s4 & wf2 & 5 & n5 & 0.552968 & 0.681915 & 0.730305 & 0.71739 & $\\dots$ \\\\\n",
       "\t19 & s4 & wf3 & 16 & n16 & 0.564107 & 0.568392 & 0.684018 & 0.702407 & $\\dots$ \\\\\n",
       "\t20 & s4 & wf4 & 21 & n21 & 0.348276 & 0.238661 & 0.354214 & 0.435968 & $\\dots$ \\\\\n",
       "\t21 & s5 & wf1 & 3 & n3 & 0.277299 & 0.511616 & 0.367242 & 0.591637 & $\\dots$ \\\\\n",
       "\t22 & s5 & wf2 & 5 & n5 & 0.564107 & 0.568392 & 0.684018 & 0.702407 & $\\dots$ \\\\\n",
       "\t23 & s5 & wf3 & 16 & n16 & 0.693192 & 0.71887 & 0.704807 & 0.761736 & $\\dots$ \\\\\n",
       "\t24 & s5 & wf4 & 21 & n21 & 0.448626 & 0.341372 & 0.396997 & 0.340075 & $\\dots$ \\\\\n",
       "\t$\\dots$ & $\\dots$ & $\\dots$ & $\\dots$ & $\\dots$ & $\\dots$ & $\\dots$ & $\\dots$ & $\\dots$ &  \\\\\n",
       "\\end{tabular}\n"
      ],
      "text/plain": [
       "\u001b[1m40×28 DataFrame\u001b[0m\n",
       "\u001b[1m Row \u001b[0m│\u001b[1m scenario \u001b[0m\u001b[1m windfarm \u001b[0m\u001b[1m wflocation \u001b[0m\u001b[1m node   \u001b[0m\u001b[1m t1       \u001b[0m\u001b[1m t2       \u001b[0m\u001b[1m t3       \u001b[0m\u001b[1m t\u001b[0m ⋯\n",
       "     │\u001b[90m String   \u001b[0m\u001b[90m String   \u001b[0m\u001b[90m Int64      \u001b[0m\u001b[90m String \u001b[0m\u001b[90m Float64  \u001b[0m\u001b[90m Float64  \u001b[0m\u001b[90m Float64  \u001b[0m\u001b[90m F\u001b[0m ⋯\n",
       "─────┼──────────────────────────────────────────────────────────────────────────\n",
       "   1 │ s0        wf1                3  n3      0.563373  0.556427  0.620064  0 ⋯\n",
       "   2 │ s0        wf2                5  n5      0.762555  0.816471  0.768671  0\n",
       "   3 │ s0        wf3               16  n16     0.641406  0.714133  0.734266  0\n",
       "   4 │ s0        wf4               21  n21     0.396813  0.393274  0.314061  0\n",
       "   5 │ s0        wf1                3  n3      0.721771  0.732247  0.759537  0 ⋯\n",
       "   6 │ s1        wf2                5  n5      0.631953  0.703686  0.712237  0\n",
       "   7 │ s1        wf3               16  n16     0.684535  0.719795  0.707353  0\n",
       "   8 │ s1        wf4               21  n21     0.419462  0.431244  0.415342  0\n",
       "  ⋮  │    ⋮         ⋮          ⋮         ⋮        ⋮         ⋮         ⋮        ⋱\n",
       "  34 │ s8        wf2                5  n5      0.697012  0.698228  0.701996  0 ⋯\n",
       "  35 │ s8        wf3               16  n16     0.626779  0.709826  0.753671  0\n",
       "  36 │ s8        wf4               21  n21     0.273598  0.336493  0.310517  0\n",
       "  37 │ s9        wf1                3  n3      0.672679  0.695848  0.713614  0\n",
       "  38 │ s9        wf2                5  n5      0.64115   0.689363  0.741996  0 ⋯\n",
       "  39 │ s9        wf3               16  n16     0.731051  0.783566  0.808027  0\n",
       "  40 │ s9        wf4               21  n21     0.45714   0.433878  0.413726  0\n",
       "\u001b[36m                                                  21 columns and 25 rows omitted\u001b[0m"
      ]
     },
     "metadata": {},
     "output_type": "display_data"
    }
   ],
   "source": [
    "mydata[\"windscenarios\"]"
   ]
  },
  {
   "attachments": {},
   "cell_type": "markdown",
   "metadata": {},
   "source": [
    "### Set generation"
   ]
  },
  {
   "cell_type": "code",
   "execution_count": 23,
   "metadata": {},
   "outputs": [
    {
     "data": {
      "text/plain": [
       "3"
      ]
     },
     "metadata": {},
     "output_type": "display_data"
    }
   ],
   "source": [
    "G = mydata[\"generatorinfo\"][:, :ID]\n",
    "L = mydata[\"lineconstraints\"][:, :ID]\n",
    "T = mydata[\"initdemand\"][:, :t]          #times\n",
    "N = mydata[\"nodeinfo\"][:, :ID]\n",
    "S = unique(mydata[\"windscenarios\"][:, :scenario])\n",
    "K = unique(mydata[\"curtailmentinfo\"][:, :k])\n",
    "\n",
    "NG = length(G)\n",
    "NL = length(L)\n",
    "NT = length(T)\n",
    "NN = length(N)\n",
    "NS = length(S)\n",
    "NK = length(K)"
   ]
  },
  {
   "attachments": {},
   "cell_type": "markdown",
   "metadata": {},
   "source": [
    "# Prepare data"
   ]
  },
  {
   "attachments": {},
   "cell_type": "markdown",
   "metadata": {},
   "source": [
    "Prepare the generator information"
   ]
  },
  {
   "cell_type": "code",
   "execution_count": 24,
   "metadata": {},
   "outputs": [],
   "source": [
    "#generatorinfo\n",
    "generators = Dict{String, AxisArray}()\n",
    "for c in names(mydata[\"generatorinfo\"])\n",
    "    help_array1 = AxisArray(mydata[\"generatorinfo\"][:, c], g=G)\n",
    "    # Assign the 'help_array1' AxisArray to the 'c' key in the 'generators' dictionary\n",
    "    generators[c] = help_array1\n",
    "end"
   ]
  },
  {
   "attachments": {},
   "cell_type": "markdown",
   "metadata": {},
   "source": [
    "Prepare all of the line constraints"
   ]
  },
  {
   "cell_type": "code",
   "execution_count": 25,
   "metadata": {},
   "outputs": [],
   "source": [
    "#lineconstraints\n",
    "#lines = Dict(c => AxisArray(mydata[\"lineconstraints\"][:, c], l=L) for c in names(mydata[\"lineconstraints\"]));\n",
    "lines = Dict{String, AxisArray}()\n",
    "for c in names(mydata[\"lineconstraints\"])\n",
    "    help_array2 = AxisArray(mydata[\"lineconstraints\"][:, c], l=L)\n",
    "    lines[c] = help_array2\n",
    "end\n",
    "B = AxisArray(zeros(NL, NN), l=L, n=N)\n",
    "for l in L\n",
    "    from_node = lines[\"from\"][l]\n",
    "    to_node = lines[\"to \"][l]\n",
    "    X = lines[\"X\"][l]\n",
    "    # Loop through each node.\n",
    "    for (idn, node) in enumerate(N)\n",
    "        if node == from_node\n",
    "            B[l, idn] = -1/X\n",
    "        elseif node == to_node\n",
    "            B[l, idn] = 1/X\n",
    "        end\n",
    "    end\n",
    "end \n"
   ]
  },
  {
   "attachments": {},
   "cell_type": "markdown",
   "metadata": {},
   "source": [
    "Prepare the data of the initial demand (demand before DR)"
   ]
  },
  {
   "cell_type": "code",
   "execution_count": 26,
   "metadata": {},
   "outputs": [
    {
     "data": {
      "text/plain": [
       "100.0"
      ]
     },
     "metadata": {},
     "output_type": "display_data"
    }
   ],
   "source": [
    "#initdemand\n",
    "load = AxisArray(Matrix(mydata[\"initdemand\"][:, Not(:t)]), t=T, n=N)\n",
    "cost_ls = 100.0"
   ]
  },
  {
   "cell_type": "code",
   "execution_count": null,
   "metadata": {},
   "outputs": [],
   "source": []
  },
  {
   "cell_type": "markdown",
   "metadata": {},
   "source": [
    "Prepare the load shifiting information"
   ]
  },
  {
   "cell_type": "code",
   "execution_count": 27,
   "metadata": {},
   "outputs": [],
   "source": [
    "#shiftinginfo\n",
    "cols = names(mydata[\"shiftinginfo\"][:, Not([\"t\", \"n\", \"k\"])])\n",
    "#DRSd = Dict(c => AxisArray(zeros(NT, NN, NK), t=T, n=N, k=K) for c in cols)\n",
    "\n",
    "DRSd = Dict{String, AxisArray}()\n",
    "for c in cols\n",
    "# Loop through the column names and create a new AxisArray for each column\n",
    "    help_array3 = AxisArray(zeros(NT, NN, NK), t=T, n=N, k=K)\n",
    "    DRSd[c] = help_array3\n",
    "end\n",
    "# Loop through each row in \"shiftinginfo\" and assign the values to the corresponding AxisArray in DRSd\n",
    "for r in eachrow(mydata[\"shiftinginfo\"])\n",
    "    for c in cols\n",
    "        DRSd[c][r[:t], r[:n], r[:k]] = r[c]\n",
    "    end\n",
    "end"
   ]
  },
  {
   "cell_type": "code",
   "execution_count": null,
   "metadata": {},
   "outputs": [],
   "source": []
  },
  {
   "attachments": {},
   "cell_type": "markdown",
   "metadata": {},
   "source": [
    "Prepare the load curtailment information"
   ]
  },
  {
   "cell_type": "code",
   "execution_count": 28,
   "metadata": {},
   "outputs": [],
   "source": [
    "#curtailmentinfo\n",
    "cols = names(mydata[\"curtailmentinfo\"][:, Not([\"t\", \"n\", \"k\"])])\n",
    "\n",
    "#DRCd = Dict(c => AxisArray(zeros(NT, NN, NK), t=T, n=N, k=K) for c in cols)\n",
    "DRCd = Dict{String, AxisArray}()\n",
    "for c in cols\n",
    "    help_array4 = AxisArray(zeros(NT, NN, NK), t=T, n=N, k=K)\n",
    "    DRCd[c] = help_array4\n",
    "end\n",
    "# Iterate over each row in the curtailmentinfo data\n",
    "for r in eachrow(mydata[\"curtailmentinfo\"])\n",
    "    for c in cols\n",
    "        DRCd[c][r[:t], r[:n], r[:k]] = r[c]\n",
    "    end\n",
    "end\n"
   ]
  },
  {
   "cell_type": "code",
   "execution_count": null,
   "metadata": {},
   "outputs": [],
   "source": []
  },
  {
   "cell_type": "code",
   "execution_count": 29,
   "metadata": {},
   "outputs": [
    {
     "data": {
      "text/plain": [
       "Dict{String, AxisArray} with 6 entries:\n",
       "  \"cost\"  => [0.0 0.0 … 0.0 0.0; 0.0 0.0 … 0.0 0.0; … ; 0.0 0.0 … 0.0 0.0; 0.0 …\n",
       "  \"SUC\"   => [0.0 0.0 … 0.0 0.0; 0.0 0.0 … 0.0 0.0; … ; 0.0 0.0 … 0.0 0.0; 0.0 …\n",
       "  \"max\"   => [0.0 0.0 … 0.0 0.0; 0.0 0.0 … 0.0 0.0; … ; 0.0 0.0 … 0.0 0.0; 0.0 …\n",
       "  \"min\"   => [0.0 0.0 … 0.0 0.0; 0.0 0.0 … 0.0 0.0; … ; 0.0 0.0 … 0.0 0.0; 0.0 …\n",
       "  \"costb\" => [0.0 0.0 … 0.0 0.0; 0.0 0.0 … 0.0 0.0; … ; 0.0 0.0 … 0.0 0.0; 0.0 …\n",
       "  \"SUCb\"  => [0.0 0.0 … 0.0 0.0; 0.0 0.0 … 0.0 0.0; … ; 0.0 0.0 … 0.0 0.0; 0.0 …"
      ]
     },
     "metadata": {},
     "output_type": "display_data"
    }
   ],
   "source": [
    "DRCd"
   ]
  },
  {
   "attachments": {},
   "cell_type": "markdown",
   "metadata": {},
   "source": [
    "Prepare the information of the location of the nodes and generators"
   ]
  },
  {
   "cell_type": "code",
   "execution_count": 30,
   "metadata": {},
   "outputs": [],
   "source": [
    "#location\n",
    "\n",
    "# Create an AxisArray where ng[n,g] = 1 if generator g is located at node n, and 0 otherwise\n",
    "ng = AxisArray(\n",
    "    [[g for g in G if generators[\"location\"][g] == idn] for (idn, n) in enumerate(N)],\n",
    "    n = N\n",
    ")\n",
    "#node\n",
    "\n",
    "# Create an AxisArray where nl[n,l] = 1 if line l originates at node n, -1 if it terminates at node n, and 0 otherwise\n",
    "nl = AxisArray(zeros(Int, NN, NL), n=N, l=L)\n",
    "for l in L\n",
    "    nl[N[lines[\"from\"][l]], l] = 1\n",
    "    nl[N[lines[\"to \"][l]], l] = -1\n",
    "end"
   ]
  },
  {
   "cell_type": "code",
   "execution_count": 31,
   "metadata": {},
   "outputs": [
    {
     "data": {
      "text/plain": [
       "20.0"
      ]
     },
     "metadata": {},
     "output_type": "display_data"
    }
   ],
   "source": [
    "windCap = AxisArray(zeros(NN), n=N)\n",
    "windCapDict = Dict(\"n3\" => 500.0, \"n5\" => 500.0, \"n16\" => 300.0, \"n21\" => 300.0)\n",
    "\n",
    "# populate the windCap AxisArray with the capacities \n",
    "windCap[\"n3\"] = 500.0\n",
    "windCap[\"n5\"] = 500.0\n",
    "windCap[\"n16\"] = 300.0\n",
    "windCap[\"n21\"] = 300.0\n",
    "\n",
    "pi = AxisArray(ones(NS)/NS, s=S)\n",
    "\n",
    "wind = AxisArray(zeros(NS, NN, NT), s=S, n=N, t=T)\n",
    "# populate the wind array with the wind power generation data from the input data, scale\n",
    "for r in eachrow(mydata[\"windscenarios\"])\n",
    "    for t in T\n",
    "        wind[r[:scenario], r[:node], t] = r[t]*windCap[r[:node]]\n",
    "    end\n",
    "end\n",
    "\n",
    "estwind = mean(wind, dims=1)[1, :, :]\n",
    "stdwind = std(wind, dims=1)[1, :, :]\n",
    "cost_ws = 20.0\n"
   ]
  },
  {
   "cell_type": "code",
   "execution_count": 32,
   "metadata": {},
   "outputs": [
    {
     "data": {
      "text/plain": [
       "1-dimensional AxisArray{Float64,1,...} with axes:\n",
       "    :s, [\"s0\", \"s1\", \"s2\", \"s3\", \"s4\", \"s5\", \"s6\", \"s7\", \"s8\", \"s9\"]\n",
       "And data, a 10-element Vector{Float64}:\n",
       " 0.1\n",
       " 0.1\n",
       " 0.1\n",
       " 0.1\n",
       " 0.1\n",
       " 0.1\n",
       " 0.1\n",
       " 0.1\n",
       " 0.1\n",
       " 0.1"
      ]
     },
     "metadata": {},
     "output_type": "display_data"
    }
   ],
   "source": [
    "pi"
   ]
  },
  {
   "cell_type": "code",
   "execution_count": null,
   "metadata": {},
   "outputs": [],
   "source": [
    "# total_cost = 0.0\n",
    "# for t in T\n",
    "#     generator_cost = 0.0\n",
    "#     reserve_cost = 0.0\n",
    "#     start_cost = 0.0\n",
    "    \n",
    "#     # Generator cost\n",
    "#     for g in G\n",
    "#         generator_cost += PGen[g,t] * generators[\"cost\"][g] +\n",
    "#                             r_up[g,t] * generators[\"upresercost\"][g] +\n",
    "#                             r_down[g,t] * generators[\"dnresercost\"][g] +\n",
    "#                             suc[findfirst(isequal(t), T),g]\n",
    "#     end\n",
    "    \n",
    "#     # Reserve cost\n",
    "#     for n in N\n",
    "#         reserve_cost += DRC[t, n] + DRS[t, n]\n",
    "#     end\n",
    "    \n",
    "#     # Startup cost\n",
    "#     for s in S\n",
    "#         startup_cost = 0.0\n",
    "#         for g in G\n",
    "#             startup_cost += generators[\"cost\"][g] * (r_ups[s,g,t]-r_downs[s,g,t])\n",
    "#         end\n",
    "#         start_cost += pi[s] * (startup_cost + sum(cost_ws * Wspill[s,n,t] + cost_ls * Lshed[s,n,t] for n in N))\n",
    "#     end\n",
    "    \n",
    "#     # Total cost\n",
    "#     total_cost += generator_cost + reserve_cost + start_cost\n",
    "# end\n"
   ]
  },
  {
   "cell_type": "markdown",
   "metadata": {},
   "source": [
    "# Model"
   ]
  },
  {
   "attachments": {},
   "cell_type": "markdown",
   "metadata": {},
   "source": [
    "Variables: \n",
    "\n",
    "pgen: the scheduled generation output for each generator g at each time t\n",
    "\n",
    "u: the state of each generator g (on or off) at each time t\n",
    "\n",
    "θ0: the phase angles for each node n in the power network during the scheduling phase\n",
    "\n",
    "θ1: the phase angles for each node n during the balancing phase and each scenario s\n",
    "\n",
    "Wsc: the scheduled wind power for each node n at each time t\n",
    "\n",
    "r_up and r_down: the up and down regulation reserves for each generator g at each time t\n",
    "\n",
    "r_ups and r_downs: the actual up and down regulation provided by each generator g at each time t\n",
    "\n",
    "Lshed: the amount of load shedding at each node n during each scenario s and time t\n",
    "\n",
    "Wspill: the amount of wind spillage at each node n during each scenario s and time t\n",
    "\n",
    "suc: the start-up/shut-down costs for each generator g at each time t\n",
    "\n",
    "\n",
    "Expressions: \n",
    "DRC, DRS, DBC, DBS: the costs/profits associated with demand response contracts\n",
    "pflow0: the power flow on each transmission line during the scheduling phase\n",
    "pflow1: the power flow on each transmission line during the balancing phase and each scenario s\n",
    "\n",
    "\n",
    "Objective is to minimize totalcost\n",
    "totalcost: the total cost of the system, including the cost of generation, reserves, start-up/shut-down, load shedding, wind spillage, and demand response"
   ]
  },
  {
   "attachments": {},
   "cell_type": "markdown",
   "metadata": {},
   "source": [
    "The model is intended to represent an electric power system with wind power and demand response (DR) programs.\n",
    "\n"
   ]
  },
  {
   "attachments": {},
   "cell_type": "markdown",
   "metadata": {},
   "source": [
    "Generator Limits:\n",
    "a. The power generated by a generator at time t, plus any upward regulation, should be less than or equal to the generator's capacity times its availability.\n",
    "b. The upward regulation should be less than or equal to the generator's maximum upward reserve capacity.\n",
    "c. The downward regulation should be less than or equal to the generator's maximum downward reserve capacity.\n",
    "\n",
    "Reserve Limits:\n",
    "The net power generation from all generators connected to a node, plus the power injection from any energy storage system connected to the node, plus the scheduled curtailment of any DR resource, should be equal to the total demand at that node plus any power flow into the node from transmission lines.\n",
    "\n",
    "Transmission Line Limits:\n",
    "The power flow through a transmission line at time t should be less than or equal to the line's capacity, and greater than or equal to the negative of the line's capacity.\n",
    "\n"
   ]
  },
  {
   "attachments": {},
   "cell_type": "markdown",
   "metadata": {},
   "source": [
    "DR Curtailment Constraints (between ISO and DR aggregator):\n",
    "a. The scheduled curtailment of a DR resource at time t should be less than or equal to the maximum curtailment allowed for that resource multiplied by its availability.\n",
    "b. The scheduled curtailment of a DR resource at time t should be greater than or equal to the minimum curtailment allowed for that resource multiplied by its availability.\n",
    "\n",
    "\n",
    "DR Shifting Constraints (between ISO and DR aggregator):\n",
    "a. The scheduled shifting of a DR resource at time t should be less than or equal to the maximum shifting allowed for that resource multiplied by its availability.\n",
    "b. The scheduled shifting of a DR resource at time t should be greater than or equal to the minimum shifting allowed for that resource multiplied by its availability.\n",
    "c. The scheduled reverse shifting of a DR resource at time t should be less than or equal to the maximum reverse shifting allowed for that resource multiplied by its availability.\n",
    "\n",
    "\n",
    "DR Curtailment Constraints (between DR aggregator and customer):\n",
    "a. The scheduled curtailment of a DR resource at time t should be less than or equal to the maximum curtailment allowed for that resource multiplied by its availability.\n",
    "b. The scheduled curtailment of a DR resource at time t should be greater than or equal to the minimum curtailment allowed for that resource multiplied by its availability.\n",
    "\n",
    "\n",
    "DR Shifting Constraints (between DR aggregator and customer):\n",
    "a. The scheduled shifting of a DR resource at time t should be less than or equal to the maximum shifting allowed for that resource multiplied by its availability.\n",
    "b. The scheduled shifting of a DR resource at time t should be greater than or equal to the minimum shifting allowed for that resource multiplied by"
   ]
  },
  {
   "cell_type": "code",
   "execution_count": 33,
   "metadata": {
    "scrolled": false
   },
   "outputs": [
    {
     "data": {
      "text/plain": [
       "A JuMP Model\n",
       "Minimization problem with:\n",
       "Variables: 74016\n",
       "Objective function type: AffExpr\n",
       "`AffExpr`-in-`MathOptInterface.EqualTo{Float64}`: 9793 constraints\n",
       "`AffExpr`-in-`MathOptInterface.GreaterThan{Float64}`: 26256 constraints\n",
       "`AffExpr`-in-`MathOptInterface.LessThan{Float64}`: 38640 constraints\n",
       "`VariableRef`-in-`MathOptInterface.EqualTo{Float64}`: 264 constraints\n",
       "`VariableRef`-in-`MathOptInterface.GreaterThan{Float64}`: 50112 constraints\n",
       "`VariableRef`-in-`MathOptInterface.ZeroOne`: 17568 constraints\n",
       "Model mode: AUTOMATIC\n",
       "CachingOptimizer state: EMPTY_OPTIMIZER\n",
       "Solver name: CPLEX\n",
       "Names registered in the model: DBC, DBCK, DBC_SU, DBS, DBSK, DBSRK, DRC, DRCK, DRC_SU, DRS, DRSK, DRSRK, Lshed, PGen, Wsc, Wspill, bal0, bals, conAB, conDE, conHI, conKL, dbbbal, dbcmax, dbcmin, dbcst1, dbcst2, dbcst3, dbsmax, dbsmin, dbsmxr, dbsorr, drbbal, drcmax, drcmin, drcst1, drcst2, drcst3, drsmax, drsmin, drsmxr, drsorr, pflow0, pflow1, pfmax0, pfmax1, pfmin0, pfmin1, pup, r_down, r_downs, r_up, r_ups, res_dn, res_up, resdn, resup, strong_duality, suc, u, uDBC, uDBS, uDBSR, uDRC, uDRS, uDRSR, windspill, yDB, yDR, zDB, zDR, Α, Β, Δ, Ε, Ζ, Η, Ι, Κ, Λ, Μ, θ0, θ1"
      ]
     },
     "metadata": {},
     "output_type": "display_data"
    }
   ],
   "source": [
    "bdr = Model(CPLEX.Optimizer)\n",
    "set_silent(bdr)\n",
    "\n",
    "@variable(bdr, PGen[G, T] >= 0) # scheduled generator output for each generator g at each time t\n",
    "@variable(bdr, u[G, T], Bin) # state of each generator g (on or off) at each time \n",
    "@variable(bdr, θ0[N, T]) # the phase angles for each node n in the power network during the scheduling phase\n",
    "@variable(bdr, θ1[N, S, T]) # the phase angles for each node n in the power network during the balancing phase and each scenario s\n",
    "@variable(bdr, Wsc[N, T] >= 0)# the scheduled wind power for each node n at each time t \n",
    "@variable(bdr, r_up[G, T] >= 0) # up regulation reserves for each generator g at each time t\n",
    "@variable(bdr, r_down[G, T] >= 0) # down regulation reserves for each generator g at each time t\n",
    "@variable(bdr, r_ups[S, G, T] >= 0) # actual up regulation provided by each generator g at each time t\n",
    "@variable(bdr, r_downs[S, G, T] >= 0) # actual down regulation provided by each generator g at each time t\n",
    "@variable(bdr, Lshed[S, N, T] >= 0) # amount of load shedding at each node n at each time t\n",
    "@variable(bdr, Wspill[S, N, T] >= 0) # the amount of wind power spilled at each node n at each time t\n",
    "@variable(bdr, suc[1:NT, G] >= 0) # start-up/shut-down cost for each generator g at each time t\n",
    "\n",
    "    # DR contracts\n",
    "    # DR agg <> ISO contract parameters\n",
    "@variable(bdr, DRCK[T, N, K] >= 0) # DR curtailment blocks\n",
    "@variable(bdr, DRSK[T, N, K] >= 0) # DR shifting blocks\n",
    "@variable(bdr, DRC_SU[T, N, K] >= 0) # DRC startup cost\n",
    "@variable(bdr, DRSRK[T, N, K] >= 0) # DR recovery blocks\n",
    "@variable(bdr, uDRC[T, N, K], Bin) # DR curtailment active\n",
    "@variable(bdr, uDRS[T, N, K], Bin) # DR shifting activate\n",
    "@variable(bdr, yDR[T, N, K], Bin) # DRC activated\n",
    "@variable(bdr, zDR[T, N, K], Bin) # DRC de-activated\n",
    "@variable(bdr, uDRSR[T, N, K], Bin) # DRS recovery active\n",
    "    # same for DR agg <> cust. contracts\n",
    "@variable(bdr, DBCK[T, N, K] >= 0)\n",
    "@variable(bdr, DBSK[T, N, K] >= 0)\n",
    "@variable(bdr, DBC_SU[T, N, K] >= 0) \n",
    "@variable(bdr, DBSRK[T, N, K] >= 0)\n",
    "@variable(bdr, uDBC[T, N, K], Bin)\n",
    "@variable(bdr, uDBS[T, N, K], Bin)\n",
    "@variable(bdr, yDB[T, N, K], Bin)\n",
    "@variable(bdr, zDB[T, N, K], Bin)\n",
    "@variable(bdr, uDBSR[T, N, K], Bin)\n",
    "    # Dual multipliers/linearization variables for the Karush-Kuhn-Tucker conditions\n",
    "@variable(bdr, Α[T,N,K] >= 0)\n",
    "@variable(bdr, Β[T,N,K] >= 0)\n",
    "@variable(bdr, Δ[T,N,K] >= 0)\n",
    "@variable(bdr, Ε[T,N,K] >= 0)\n",
    "@variable(bdr, Ζ[T,N,K] >= 0)\n",
    "@variable(bdr, Η[T,N,K] >= 0)\n",
    "@variable(bdr, Ι[T,N,K] >= 0)\n",
    "@variable(bdr, Κ[T,N,K] >= 0)\n",
    "@variable(bdr, Λ[T,N,K] >= 0)\n",
    "@variable(bdr, Μ[T,N,K] >= 0)\n",
    "\n",
    "\n",
    "# fix slack bus\n",
    "fix.(θ0[\"n1\", :], 0);\n",
    "fix.(θ1[\"n1\", :, :], 0);\n",
    "\n",
    "\n",
    "@expression(bdr, DRC[t in T, n in N], sum(DRCd[\"cost\"][t,n,k]*DRCK[t, n, k]+DRC_SU[t,n,k] for k in K))\n",
    "@expression(bdr, DRS[t in T, n in N], sum(DRSd[\"cost\"][t,n,k]*DRSK[t, n, k] for k in K))\n",
    "@expression(bdr, DBC[t in T, n in N], sum(DRCd[\"costb\"][t,n,k]*DBCK[t, n, k] for k in K))\n",
    "@expression(bdr, DBS[t in T, n in N], sum(DRSd[\"costb\"][t,n,k]*DBSK[t, n, k] for k in K))\n",
    "@expression(bdr, pflow0[l in L, t in T], sum(B[l,n]*θ0[n,t] for n in N))\n",
    "@expression(bdr, pflow1[l in L, s in S, t in T], sum(B[l,n]*θ1[n,s,t] for n in N))\n",
    "\n",
    "# Generator Limits \n",
    "\n",
    "@constraint(bdr, pup[g in G, t in T], PGen[g, t] + r_up[g, t] <= generators[\"cap\"][g] * u[g,t])\n",
    "\n",
    "@constraint(bdr, res_up[g in G, t in T], r_up[g, t] <= generators[\"maxupresercap\"][g])\n",
    "\n",
    "@constraint(bdr, res_dn[g in G, t in T], r_down[g, t] <= generators[\"maxdnresercap\"][g])\n",
    "\n",
    "# Equality constraint\n",
    "\n",
    "@constraint(bdr, bal0[n in N, t in T], sum(PGen[g,t] for g in ng[n]) + Wsc[n,t] + sum(DRCK[t,n,k] + DRSK[t,n,k] - DRSRK[t,n,k] for k in K) == load[t,n] + sum(pflow0[l, t]*nl[n,l] for l in L))\n",
    "\n",
    "# Transmission Line Limits\n",
    "\n",
    "@constraint(bdr, pfmax0[l in L, t in T], pflow0[l, t] <= lines[\"flowcap\"][l])\n",
    "\n",
    "@constraint(bdr, pfmin0[l in L, t in T], pflow0[l, t] >= -lines[\"flowcap\"][l])\n",
    "\n",
    "# DR curtailment constraints between ISO and Aggregator\n",
    "\n",
    "@constraint(bdr, drcmax[t in T, n in N, k in K], DRCK[t,n,k] <= uDRC[t,n,k] * DRCd[\"max\"][t,n,k]  )\n",
    "\n",
    "@constraint(bdr, drcmin[t in T, n in N, k in K], DRCK[t,n,k] >= uDRC[t,n,k] * DRCd[\"min\"][t,n,k])\n",
    "\n",
    "@constraint(bdr, drcst1[τ in 2:NT, n in N, k in K], yDR[T[τ],n,k] - zDR[T[τ],n,k] == uDRC[T[τ],n,k] - uDRC[T[τ-1],n,k])\n",
    "\n",
    "@constraint(bdr, drcst2[t in T, n in N, k in K], yDR[t,n,k] + zDR[t,n,k] <= 1)\n",
    "\n",
    "@constraint(bdr, drcst3[t in T, n in N, k in K], DRC_SU[t,n,k] >= DRCd[\"SUC\"][t,n,k] * yDR[t,n,k])\n",
    "\n",
    "# DR shifting constraints between ISO and Aggregator\n",
    "\n",
    "@constraint(bdr, drsmax[t in T, n in N, k in K], DRSK[t,n,k] <= uDRS[t,n,k] * DRSd[\"max\"][t,n,k])\n",
    "\n",
    "@constraint(bdr, drsmin[t in T, n in N, k in K], DRSK[t,n,k] >= uDRS[t,n,k] * DRSd[\"min\"][t,n,k])\n",
    "\n",
    "@constraint(bdr, drsmxr[t in T, n in N, k in K], DRSRK[t,n,k] <= 2*uDRSR[t,n,k])\n",
    "\n",
    "@constraint(bdr, drsorr[t in T, n in N, k in K], uDRS[t,n,k] + uDRSR[t,n,k] <= 1)\n",
    "\n",
    "@constraint(bdr, drbbal[n in N, k in K], sum(DRSRK[t,n,k] for t in T) == sum(DRSK[t,n,k] for t in T))\n",
    "\n",
    "# DR curtailment constraints between Aggregator and Customer\n",
    "\n",
    "@constraint(bdr, dbcmax[t in T, n in N, k in K], DBCK[t,n,k] <= uDRC[t,n,k] * DRCd[\"max\"][t,n,k])\n",
    "\n",
    "@constraint(bdr, dbcmin[t in T, n in N, k in K], DBCK[t,n,k] >= uDRC[t,n,k] * DRCd[\"min\"][t,n,k])\n",
    "\n",
    "@constraint(bdr, dbcst1[τ in 2:NT, n in N, k in K], yDB[T[τ],n,k] - zDB[T[τ],n,k] == uDBC[T[τ],n,k] - uDBC[T[τ-1],n,k])\n",
    "\n",
    "@constraint(bdr, dbcst2[t in T, n in N, k in K], yDB[t,n,k] + zDB[t,n,k] <= 1)\n",
    "\n",
    "@constraint(bdr, dbcst3[t in T, n in N, k in K], DBC_SU[t,n,k] >= DRCd[\"SUCb\"][t,n,k] * yDB[t,n,k])\n",
    "\n",
    "# DR shifting constraints between Aggregator and Customer\n",
    "\n",
    "@constraint(bdr, dbsmax[t in T, n in N, k in K], DBSK[t,n,k] <= uDBS[t,n,k] * DRSd[\"max\"][t,n,k])\n",
    "\n",
    "@constraint(bdr, dbsmin[t in T, n in N, k in K], DBSK[t,n,k] >= uDBS[t,n,k] * DRSd[\"min\"][t,n,k])\n",
    "\n",
    "@constraint(bdr, dbsmxr[t in T, n in N, k in K], DBSRK[t,n,k] <= 2*uDBSR[t,n,k])\n",
    "\n",
    "@constraint(bdr, dbsorr[t in T, n in N, k in K], uDBS[t,n,k] + uDBSR[t,n,k] <= 1)\n",
    "\n",
    "@constraint(bdr, dbbbal[n in N, k in K], sum(DBSRK[t,n,k] for t in T) == sum(DBSK[t,n,k] for t in T))\n",
    "\n",
    "# linearization constraints\n",
    "\n",
    "@constraint(bdr, conAB[t in T, n in N, k in K], Α[t,n,k]-Β[t,n,k] >= DRCd[\"cost\"][t,n,k])\n",
    "\n",
    "@constraint(bdr, conDE[t in T, n in N, k in K], Δ[t,n,k]-Ε[t,n,k] >= DRSd[\"cost\"][t,n,k])\n",
    "\n",
    "@constraint(bdr, conHI[t in T, n in N, k in K], Η[t,n,k]-Ι[t,n,k] >= -DRCd[\"costb\"][t,n,k])\n",
    "\n",
    "@constraint(bdr, conKL[t in T, n in N, k in K], Κ[t,n,k]-Λ[t,n,k] >= -DRSd[\"costb\"][t,n,k])\n",
    "\n",
    "@constraint(bdr, strong_duality, \n",
    "    sum(\n",
    "        Α[t,n,k]*DRCd[\"max\"][t,n,k] - Β[t,n,k]*DRCd[\"min\"][t,n,k] +\n",
    "        Δ[t,n,k]*DRSd[\"max\"][t,n,k] - Ε[t,n,k]*DRSd[\"min\"][t,n,k] +\n",
    "        Ζ[t,n,k]*2 +\n",
    "        Η[t,n,k]*DRCd[\"max\"][t,n,k] - Ι[t,n,k]*DRCd[\"min\"][t,n,k] +\n",
    "        Κ[t,n,k]*DRSd[\"max\"][t,n,k] - Λ[t,n,k]*DRSd[\"min\"][t,n,k] +\n",
    "        Μ[t,n,k]*2\n",
    "    for t in T for n in N for k in K) ==\n",
    "    sum(\n",
    "        DRCd[\"cost\"][t,n,k] * DRCK[t,n,k] +\n",
    "        DRSd[\"cost\"][t,n,k] * DRSK[t,n,k] - \n",
    "        DRCd[\"costb\"][t,n,k] * DBCK[t,n,k] - \n",
    "        DRSd[\"costb\"][t,n,k] * DBSK[t,n,k]    \n",
    "    for t in T for n in N for k in K))\n",
    "\n",
    "# wind \n",
    "\n",
    "@constraint(bdr, resup[s in S, g in G, t in T], r_ups[s,g,t] <= r_up[g,t])\n",
    "\n",
    "@constraint(bdr, resdn[s in S, g in G, t in T], r_downs[s,g,t] <= r_down[g,t])\n",
    "\n",
    "@constraint(bdr, bals[s in S, n in N, t in T], \n",
    "    sum(r_ups[s,g,t]-r_downs[s,g,t] for g in ng[n]) + \n",
    "    wind[s,n,t] - Wsc[n,t] - Wspill[s,n,t] + Lshed[s,n,t] == \n",
    "    -sum((pflow1[l,s,t] - pflow0[l,t])*nl[n,l] for l in L))\n",
    "\n",
    "@constraint(bdr, windspill[s in S, n in N, t in T], Wspill[s,n,t] <= wind[s,n,t])\n",
    "\n",
    "@constraint(bdr, pfmax1[l in L, s in S, t in T], pflow1[l,s,t] <= lines[\"flowcap\"][l])\n",
    "\n",
    "@constraint(bdr, pfmin1[l in L, s in S, t in T], pflow1[l,s,t] >= -lines[\"flowcap\"][l])\n",
    "\n",
    "\n",
    "    \n",
    "@objective(bdr, Min, \n",
    "sum(\n",
    "    sum(\n",
    "        PGen[g,t] * generators[\"cost\"][g] +\n",
    "        r_up[g,t] * generators[\"upresercost\"][g] +\n",
    "        r_down[g,t] * generators[\"dnresercost\"][g] +\n",
    "        suc[findfirst(isequal(t), T),g]\n",
    "    for g in G) +\n",
    "    sum(DRC[t, n] + DRS[t, n] for n in N) +\n",
    "    sum(\n",
    "        pi[s] * (\n",
    "            sum(generators[\"cost\"][g] * (r_ups[s,g,t]-r_downs[s,g,t]) for g in G) +\n",
    "            sum(cost_ws * Wspill[s,n,t] + cost_ls * Lshed[s,n,t] for n in N)\n",
    "            )\n",
    "    for s in S)\n",
    "for t in T)\n",
    ")\n",
    "\n",
    "bdr"
   ]
  },
  {
   "cell_type": "code",
   "execution_count": 34,
   "metadata": {},
   "outputs": [
    {
     "data": {
      "image/png": "[encoded data removed]"
     },
     "metadata": {},
     "output_type": "display_data"
    }
   ],
   "source": [
    "display(\"image/png\", read(\"data/Objective Function.png\"))"
   ]
  },
  {
   "cell_type": "markdown",
   "metadata": {},
   "source": []
  },
  {
   "attachments": {},
   "cell_type": "markdown",
   "metadata": {},
   "source": [
    "# Model"
   ]
  },
  {
   "cell_type": "code",
   "execution_count": 35,
   "metadata": {
    "scrolled": false
   },
   "outputs": [],
   "source": [
    "optimize!(bdr)"
   ]
  },
  {
   "cell_type": "code",
   "execution_count": 36,
   "metadata": {},
   "outputs": [
    {
     "data": {
      "text/plain": [
       "OPTIMAL::TerminationStatusCode = 1"
      ]
     },
     "metadata": {},
     "output_type": "display_data"
    }
   ],
   "source": [
    "termination_status(bdr)"
   ]
  },
  {
   "cell_type": "code",
   "execution_count": 37,
   "metadata": {},
   "outputs": [
    {
     "data": {
      "text/plain": [
       "2.4404489006975368e6"
      ]
     },
     "metadata": {},
     "output_type": "display_data"
    }
   ],
   "source": [
    "objective_value(bdr)"
   ]
  },
  {
   "cell_type": "code",
   "execution_count": 38,
   "metadata": {},
   "outputs": [
    {
     "name": "stdout",
     "output_type": "stream",
     "text": [
      "[1438.964]\n",
      "[1374.961]\n",
      "[1390.4099999999999]\n",
      "[1280.06]\n",
      "[1213.8500000000001]\n",
      "[1213.8500000000001]\n",
      "[1324.1999999999998]\n",
      "[1412.4799999999998]\n",
      "[1566.97]\n",
      "[1721.4599999999998]\n",
      "[1787.67]\n",
      "[1809.7400000000002]\n",
      "[1875.9499999999998]\n",
      "[1831.8099999999997]\n",
      "[1864.9150000000002]\n",
      "[1931.125]\n",
      "[2162.86]\n",
      "[2207.0]\n",
      "[2118.7200000000003]\n",
      "[2008.37]\n",
      "[1875.9499999999998]\n",
      "[1721.4599999999998]\n",
      "[1600.0749999999998]\n",
      "[1434.5500000000002]\n"
     ]
    }
   ],
   "source": [
    "LoadBeforeDR = sum(load, dims=2)[:, 1]\n",
    "for i=1:size(LoadBeforeDR,1)            \n",
    "    println(LoadBeforeDR[i,:])        \n",
    "end"
   ]
  },
  {
   "cell_type": "code",
   "execution_count": 39,
   "metadata": {},
   "outputs": [
    {
     "name": "stdout",
     "output_type": "stream",
     "text": [
      "[1497.634]\n",
      "[1411.5810000000001]\n",
      "[1412.8899999999999]\n",
      "[1301.1799999999998]\n",
      "[1233.2700000000002]\n",
      "[1221.8100000000002]\n",
      "[1329.6999999999998]\n",
      "[1421.3800000010003]\n",
      "[1573.383333332331]\n",
      "[1728.0900000000001]\n",
      "[1792.15]\n",
      "[1751.8366666666686]\n",
      "[1822.53]\n",
      "[1770.4099999999999]\n",
      "[1803.365]\n",
      "[1877.485]\n",
      "[2108.6699999999996]\n",
      "[2152.21]\n",
      "[2063.0299999999997]\n",
      "[1953.2399999999998]\n",
      "[1879.95]\n",
      "[1724.0900000000001]\n",
      "[1603.1949999999997]\n",
      "[1436.0600000000002]\n"
     ]
    }
   ],
   "source": [
    "LoadAfterDR = [sum(load[t,:]) - sum(value.(DRCK[t,:,:]) .+ value.(DRSK[t,:,:]) .- value.(DRSRK[t,:,:])) for t in T]\n",
    "LoadAfterDR\n",
    "for i=1:size(LoadAfterDR,1)            \n",
    "    println(LoadAfterDR[i,:])        \n",
    "end"
   ]
  },
  {
   "cell_type": "code",
   "execution_count": 164,
   "metadata": {},
   "outputs": [],
   "source": [
    "plot(\n",
    "    LoadBeforeDR,\n",
    "    label = \"Load Before DR\",\n",
    "    xlabel = \"Time\",\n",
    "    ylabel = \"Load\",\n",
    "    xlims = (1, 24),\n",
    "    xticks = 1:24,\n",
    ")\n",
    "\n",
    "plot!(\n",
    "    LoadAfterDR,\n",
    "    label = \"Load After DR\",\n",
    "    xlabel = \"Time\",\n",
    "    ylabel = \"Load\",\n",
    "    xlims = (1, 24),\n",
    "    xticks = 1:24,\n",
    ")"
   ]
  },
  {
   "cell_type": "code",
   "execution_count": null,
   "metadata": {},
   "outputs": [],
   "source": []
  }
 ],
 "metadata": {
  "kernelspec": {
   "display_name": "Julia 1.8.5",
   "language": "julia",
   "name": "julia-1.8"
  },
  "language_info": {
   "file_extension": ".jl",
   "mimetype": "application/julia",
   "name": "julia",
   "version": "1.8.5"
  }
 },
 "nbformat": 4,
 "nbformat_minor": 4
}
